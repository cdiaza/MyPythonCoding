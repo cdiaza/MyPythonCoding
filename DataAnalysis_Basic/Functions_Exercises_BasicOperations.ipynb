{
 "cells": [
  {
   "cell_type": "code",
   "execution_count": null,
   "metadata": {},
   "outputs": [],
   "source": [
    "# Hacer una calculadora"
   ]
  },
  {
   "cell_type": "code",
   "execution_count": 2,
   "metadata": {},
   "outputs": [
    {
     "name": "stdout",
     "output_type": "stream",
     "text": [
      "270\n"
     ]
    }
   ],
   "source": [
    "number=(90,3)\n",
    "\n",
    "def multiply(lista):\n",
    "    inicio=lista[0]\n",
    "    if inicio in lista:\n",
    "        mult=[]\n",
    "        mult.append(inicio)\n",
    "    for i in range(lista[1]-1):\n",
    "        mult.append(inicio)\n",
    "        \n",
    "    result=sum(mult)\n",
    "    print(result)\n",
    "    \n",
    "multiply(number)"
   ]
  },
  {
   "cell_type": "code",
   "execution_count": 3,
   "metadata": {},
   "outputs": [
    {
     "name": "stdout",
     "output_type": "stream",
     "text": [
      "6\n"
     ]
    }
   ],
   "source": [
    "number=(30,5)\n",
    "\n",
    "def divide(lista):\n",
    "    i=int(lista[0])\n",
    "    j=int(lista[1])\n",
    "    k= i-j\n",
    "    counter=1\n",
    "    \n",
    "    while k != 0:\n",
    "        i=k\n",
    "        k=i-j\n",
    "        counter+=1\n",
    "\n",
    "    print(counter)\n",
    "\n",
    "divide(number)"
   ]
  }
 ],
 "metadata": {
  "kernelspec": {
   "display_name": "Python 3",
   "language": "python",
   "name": "python3"
  },
  "language_info": {
   "codemirror_mode": {
    "name": "ipython",
    "version": 3
   },
   "file_extension": ".py",
   "mimetype": "text/x-python",
   "name": "python",
   "nbconvert_exporter": "python",
   "pygments_lexer": "ipython3",
   "version": "3.7.4"
  }
 },
 "nbformat": 4,
 "nbformat_minor": 2
}
