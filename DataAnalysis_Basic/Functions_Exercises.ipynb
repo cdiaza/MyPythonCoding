{
 "cells": [
  {
   "cell_type": "code",
   "execution_count": null,
   "metadata": {},
   "outputs": [],
   "source": [
    "arrivals = ['Adela', 'Fleda', 'Owen', 'May', 'Mona', 'Gilbert', 'Ford']\n",
    "def fashionably_late(arrivals, name): \n",
    "    j = int(len(arrivals)/2)+1\n",
    "    \n",
    "    if name in arrivals[j:-1]:\n",
    "        return True\n",
    "    else:\n",
    "        return False\n",
    "            \n",
    "fashionably_late(arrivals,'May')"
   ]
  },
  {
   "cell_type": "code",
   "execution_count": null,
   "metadata": {},
   "outputs": [],
   "source": [
    "arrivals = ['Adela', 'Fleda', 'Owen', 'May', 'Mona', 'Gilbert', 'Ford']\n",
    "def fashionably_late(arrivals, name): \n",
    "    j = int(len(arrivals)/2)+1\n",
    "    \n",
    "    if name in arrivals[j:-1]:\n",
    "        \n",
    "        if len(arrivals)/2==0:\n",
    "            return True\n",
    "        elif len(arrivals)/2!=0:\n",
    "            j+1\n",
    "            return True\n",
    "    else:\n",
    "        pass\n",
    "    \n",
    "fashionably_late(arrivals,'May')"
   ]
  },
  {
   "cell_type": "code",
   "execution_count": null,
   "metadata": {},
   "outputs": [],
   "source": [
    "arrivals = ['Adela', 'Fleda', 'Owen', 'May', 'Mona', 'Gilbert', 'Ford']\n",
    "def fashionably_late(arrivals, name): \n",
    "\n",
    "    for name in arrivals:\n",
    "        if len(arrivals)/2==0:\n",
    "            print(\"arrivals is even\")\n",
    "            j = int(len(arrivals)/2)\n",
    "            if name in arrivals[j:-1]:\n",
    "                return True\n",
    "            else:\n",
    "                return False\n",
    "\n",
    "        elif len(arrivals)/2!=0:\n",
    "            print(\"arrivals is odd\")\n",
    "            k = int((len(arrivals)/2)+1)\n",
    "            print(k)\n",
    "            \n",
    "            if name in arrivals[k:-1]:\n",
    "                return True\n",
    "            else:\n",
    "                return False   \n",
    "        \n",
    "fashionably_late(arrivals,'Mona')"
   ]
  },
  {
   "cell_type": "code",
   "execution_count": null,
   "metadata": {},
   "outputs": [],
   "source": [
    "arrivals = ['Adela', 'Fleda', 'Owen', 'May', 'Mona', 'Gilbert', 'Ford']\n",
    "def fashionably_late(arrivals, name): \n",
    "\n",
    "    while len(arrivals)/2!=0:\n",
    "            print(\"arrivals is even\")\n",
    "            j = int(len(arrivals)/2)\n",
    "            if name in arrivals[j:-1]:\n",
    "                return True\n",
    "            else:\n",
    "                return False\n",
    "\n",
    "    while len(arrivals)/2==0:\n",
    "            print(\"arrivals is odd\")\n",
    "            k = int((len(arrivals)/2)+1)\n",
    "            print(k)\n",
    "            \n",
    "            if name in arrivals[k:-1]:\n",
    "                return True\n",
    "            else:\n",
    "                return False   \n",
    "        \n",
    "fashionably_late(arrivals,'May')"
   ]
  },
  {
   "cell_type": "code",
   "execution_count": null,
   "metadata": {},
   "outputs": [],
   "source": [
    "arrivals = ['Adela', 'Fleda', 'Owen', 'May', 'Mona', 'Gilbert', 'Ford']\n",
    "def fashionably_late(arrivals, name):\n",
    "    order = arrivals.index(name)\n",
    "    return order >= len(arrivals) / 2 and order != len(arrivals) - 1\n",
    "fashionably_late(arrivals,'Mona')"
   ]
  },
  {
   "cell_type": "code",
   "execution_count": null,
   "metadata": {},
   "outputs": [],
   "source": []
  }
 ],
 "metadata": {
  "kernelspec": {
   "display_name": "Python 3",
   "language": "python",
   "name": "python3"
  },
  "language_info": {
   "codemirror_mode": {
    "name": "ipython",
    "version": 3
   },
   "file_extension": ".py",
   "mimetype": "text/x-python",
   "name": "python",
   "nbconvert_exporter": "python",
   "pygments_lexer": "ipython3",
   "version": "3.7.4"
  }
 },
 "nbformat": 4,
 "nbformat_minor": 2
}
