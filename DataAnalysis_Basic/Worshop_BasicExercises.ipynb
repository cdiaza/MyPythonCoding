{
 "cells": [
  {
   "cell_type": "markdown",
   "metadata": {},
   "source": [
    "# Actividad 1\n"
   ]
  },
  {
   "cell_type": "markdown",
   "metadata": {},
   "source": [
    "## 1. Tipos de datos:\n",
    "\n",
    "Para las siguientes palabras:"
   ]
  },
  {
   "cell_type": "markdown",
   "metadata": {},
   "source": [
    "Escriba un for que imprima la última letra de cada nombre"
   ]
  },
  {
   "cell_type": "code",
   "execution_count": 2,
   "metadata": {},
   "outputs": [
    {
     "name": "stdout",
     "output_type": "stream",
     "text": [
      "a\n",
      "o\n",
      "o\n"
     ]
    }
   ],
   "source": [
    "nombres=['Ana','Franciso','Pedro']\n",
    "for i in nombres:\n",
    "    print (i[:][-1])"
   ]
  },
  {
   "cell_type": "markdown",
   "metadata": {},
   "source": [
    "## 2. Escriba una función para obtener (sin utilizar la función max o alguna función prediseñada)el valor máximo de la siguiente lista de los elementos que sean int o float"
   ]
  },
  {
   "cell_type": "code",
   "execution_count": 3,
   "metadata": {},
   "outputs": [
    {
     "name": "stdout",
     "output_type": "stream",
     "text": [
      "[425, 1255, 6134.0, 4223.5]\n",
      "[1255]\n",
      "[1255, 6134.0]\n",
      "[1255, 6134.0, 4223.5]\n",
      "[6134.0]\n",
      "[6134.0, 4223.5]\n",
      "[6134.0, 4223.5, 1255]\n",
      "[6134.0, 4223.5, 1255, 425]\n",
      "El máximo elemento en 'lista' es: 6134.0\n"
     ]
    }
   ],
   "source": [
    "# La forma larga a continuación:\n",
    "\n",
    "lista=[425,1255,6134.0,4223.5,\"10000\"]\n",
    "\n",
    "ok=[int,float]\n",
    "lista2=[]\n",
    "for i in lista:\n",
    "    if type(i) in ok:\n",
    "        lista2.append(i)\n",
    "print(lista2)\n",
    "\n",
    "lista3=[]\n",
    "if lista2[0]>lista2[1]:\n",
    "    print(lista2[0])\n",
    "else:\n",
    "    lista3.append(lista2[1])\n",
    "    print(lista3)\n",
    "\n",
    "if lista2[0]>lista2[2]:\n",
    "    print(lista2[0])\n",
    "else:\n",
    "    lista3.append(lista2[2])\n",
    "    print(lista3)\n",
    "\n",
    "if lista2[0]>lista2[3]:\n",
    "    print(lista2[0])\n",
    "else:\n",
    "    lista3.append(lista2[3])\n",
    "    print(lista3)\n",
    "\n",
    "lista4=[]\n",
    "if lista3[0]>lista3[1]:\n",
    "    print(lista3[0])\n",
    "else:\n",
    "    lista4.append(lista3[1])\n",
    "    print(lista4)\n",
    "\n",
    "if lista3[0]>lista3[2]:\n",
    "    print(lista3[0])\n",
    "else:\n",
    "    lista4.append(lista3[2])\n",
    "    print(lista4)\n",
    "\n",
    "if lista3[0]<lista4[-1]:\n",
    "    lista4.append(lista3[0])\n",
    "    print(lista4)\n",
    "    \n",
    "if lista2[0]<lista4[-1]:\n",
    "    lista4.append(lista2[0])\n",
    "    print(lista4)\n",
    "    \n",
    "if lista4[0]>lista4[1]:\n",
    "    print(\"El máximo elemento en 'lista' es:\", lista4[0])\n"
   ]
  },
  {
   "cell_type": "code",
   "execution_count": 4,
   "metadata": {},
   "outputs": [
    {
     "name": "stdout",
     "output_type": "stream",
     "text": [
      "El máximo elemento en 'lista' es: 6134.0\n"
     ]
    }
   ],
   "source": [
    "# La forma compacta a continuación:\n",
    "\n",
    "lista=[425,1255,6134.0,4223.5,\"10000\"]\n",
    "\n",
    "ok=[int,float]\n",
    "inicio=0\n",
    "for i in lista:\n",
    "    if type(i) in ok:\n",
    "        if i > inicio:\n",
    "            inicio=i\n",
    "            \n",
    "print(\"El máximo elemento en 'lista' es:\", inicio)"
   ]
  },
  {
   "cell_type": "markdown",
   "metadata": {},
   "source": [
    "## 3. Escriba un código que guarde en un diccionario la frecuencia con la que sale cada letra en el siguiente texto"
   ]
  },
  {
   "cell_type": "code",
   "execution_count": 5,
   "metadata": {},
   "outputs": [
    {
     "name": "stdout",
     "output_type": "stream",
     "text": [
      "{'h': 1, 'o': 6, 'l': 3, 'a': 4, ' ': 13, 'm': 2, 'i': 2, 'n': 1, 'b': 1, 'r': 5, 'e': 8, 's': 5, 'D': 1, 'v': 1, 'd': 3, 'y': 2, 'p': 2, 'f': 1, 't': 2, 'c': 1, 'u': 1}\n"
     ]
    }
   ],
   "source": [
    "texto='hola mi nombre es David y soy el profesor de esta parte del curso'\n",
    "dicc={}\n",
    "for i in texto:\n",
    "    if i in dicc.keys():\n",
    "        dicc[i]+=1\n",
    "    else:\n",
    "        dicc[i]=1\n",
    "print(dicc)"
   ]
  },
  {
   "cell_type": "markdown",
   "metadata": {},
   "source": [
    "## 4. Cree un programa que recorra las llaves y los elementos del diccionario anterior y los guarde como tuplas en una lista."
   ]
  },
  {
   "cell_type": "code",
   "execution_count": 6,
   "metadata": {},
   "outputs": [
    {
     "data": {
      "text/plain": [
       "(('h', 1),\n",
       " ('o', 6),\n",
       " ('l', 3),\n",
       " ('a', 4),\n",
       " (' ', 13),\n",
       " ('m', 2),\n",
       " ('i', 2),\n",
       " ('n', 1),\n",
       " ('b', 1),\n",
       " ('r', 5),\n",
       " ('e', 8),\n",
       " ('s', 5),\n",
       " ('D', 1),\n",
       " ('v', 1),\n",
       " ('d', 3),\n",
       " ('y', 2),\n",
       " ('p', 2),\n",
       " ('f', 1),\n",
       " ('t', 2),\n",
       " ('c', 1),\n",
       " ('u', 1))"
      ]
     },
     "execution_count": 6,
     "metadata": {},
     "output_type": "execute_result"
    }
   ],
   "source": [
    "lista1=[]\n",
    "\n",
    "for i in dicc:\n",
    "    if i in dicc:\n",
    "        lista1.append((i,dicc[i]))\n",
    "\n",
    "tuple(lista1)"
   ]
  },
  {
   "cell_type": "markdown",
   "metadata": {},
   "source": [
    "## 5. Cree un código en python que revierta el orden de las siguientes listas únicamente si empiezan en minúsculas"
   ]
  },
  {
   "cell_type": "code",
   "execution_count": 7,
   "metadata": {},
   "outputs": [],
   "source": [
    "l1=['hola','Hi','Hello','Halo','Da','svidanya','spasiva']"
   ]
  },
  {
   "cell_type": "code",
   "execution_count": 8,
   "metadata": {},
   "outputs": [
    {
     "name": "stdout",
     "output_type": "stream",
     "text": [
      "aloh\n",
      "Hi\n",
      "Hello\n",
      "Halo\n",
      "Da\n",
      "aynadivs\n",
      "avisaps\n"
     ]
    }
   ],
   "source": [
    "for i in range(len(l1)):\n",
    "    if l1[i][0].isupper() == True:\n",
    "        print(l1[i])\n",
    "    else:\n",
    "        print(l1[i][::-1])"
   ]
  },
  {
   "cell_type": "markdown",
   "metadata": {},
   "source": [
    "## 6. Haga un programa que ordene de manera descendente los elementos de un diccionario en una lista donde sus elementos sean tuplas."
   ]
  },
  {
   "cell_type": "code",
   "execution_count": 9,
   "metadata": {},
   "outputs": [],
   "source": [
    "d1={0:0,1:1,2:2,3:3,4:4,5:5}"
   ]
  },
  {
   "cell_type": "code",
   "execution_count": 10,
   "metadata": {},
   "outputs": [
    {
     "name": "stdout",
     "output_type": "stream",
     "text": [
      "[0, 1, 2, 3, 4, 5]\n",
      "(5, 4, 3, 2, 1, 0)\n"
     ]
    }
   ],
   "source": [
    "lista_d1=[]\n",
    "for i in d1:\n",
    "    lista_d1.append(i)\n",
    "print(lista_d1)\n",
    "\n",
    "tuple_d1=tuple((lista_d1[::-1]))\n",
    "print(tuple_d1)"
   ]
  },
  {
   "cell_type": "markdown",
   "metadata": {},
   "source": [
    "En esta actividad deberá:\n",
    "\n",
    "## 7. [Reto] Utilice ciclos, ifs, funciones y funciones de listas para:\n",
    "\n",
    "- Imprimir todas las veces que ALGÚN CARACTER que defina el usuario como parámetro, se encuentre en la siguiente lista:\n",
    "\n",
    "- Nota: Puede utilizar try y except pero no completamente es necesario.\n"
   ]
  },
  {
   "cell_type": "code",
   "execution_count": 11,
   "metadata": {},
   "outputs": [],
   "source": [
    "lista=[['Angel es una persona.',\\\n",
    "        'El solia utilizar sus palabras como '\\\n",
    "        ,'un arma'],[66341,1445,65624,\\\n",
    "                     [['ihHolsiSHCir sD',['H','Ha'],'sdf']],[145,124545,\\\n",
    "                                          \"Bislaoq\",\"FGASCsdfq\"],[\"A\",\"B\",\"c\",\"d\"]]]"
   ]
  },
  {
   "cell_type": "code",
   "execution_count": 12,
   "metadata": {},
   "outputs": [
    {
     "name": "stdout",
     "output_type": "stream",
     "text": [
      "Angel es una persona.\n",
      "El solia utilizar sus palabras como \n",
      "un arma\n",
      "66341\n",
      "1445\n",
      "65624\n",
      "ihHolsiSHCir sD\n",
      "H\n",
      "Ha\n",
      "sdf\n",
      "145\n",
      "124545\n",
      "Bislaoq\n",
      "FGASCsdfq\n",
      "A\n",
      "B\n",
      "c\n",
      "d\n"
     ]
    }
   ],
   "source": [
    "a,b,c,d,e,f,g1,g2a,g2b,g3,h0,h1,h2,h3,k0,k1,k2,k3=\\\n",
    "(lista[0][0]),(lista[0][1]),(lista[0][2]),\\\n",
    "(lista[1][0]),(lista[1][1]),(lista[1][2]),\\\n",
    "(lista[1][3][0][0]),\\\n",
    "(lista[1][3][0][1][0]),(lista[1][3][0][1][1]),\\\n",
    "(lista[1][3][0][2]),\\\n",
    "(lista[1][4][0]),(lista[1][4][1]),(lista[1][4][2]),(lista[1][4][3]),\\\n",
    "(lista[1][5][0]),(lista[1][5][1]),(lista[1][5][2]),(lista[1][5][3])\n",
    "\n",
    "print(a,b,c,d,e,f,g1,g2a,g2b,g3,h0,h1,h2,h3,k0,k1,k2,k3, sep='\\n')"
   ]
  },
  {
   "cell_type": "code",
   "execution_count": 13,
   "metadata": {
    "scrolled": true
   },
   "outputs": [
    {
     "name": "stdout",
     "output_type": "stream",
     "text": [
      "Angel es una persona.El solia utilizar sus palabras como un armaihHolsiSHCir sDHHasdfBislaoqFGASCsdfqABcd\n",
      "<class 'str'>\n"
     ]
    },
    {
     "data": {
      "text/plain": [
       "105"
      ]
     },
     "execution_count": 13,
     "metadata": {},
     "output_type": "execute_result"
    }
   ],
   "source": [
    "x = (a+b+c+g1+g2a+g2b+g3+h2+h3+k0+k1+k2+k3)\n",
    "print(x)\n",
    "print(type(x))\n",
    "len(x)"
   ]
  },
  {
   "cell_type": "code",
   "execution_count": 14,
   "metadata": {},
   "outputs": [
    {
     "data": {
      "text/plain": [
       "7"
      ]
     },
     "execution_count": 14,
     "metadata": {},
     "output_type": "execute_result"
    }
   ],
   "source": [
    "def count(c,s):\n",
    "    count = 0\n",
    "    for ch in s:\n",
    "        if ch == c:\n",
    "            count = count +1\n",
    "    return count\n",
    "        \n",
    "count(\"i\", x)"
   ]
  },
  {
   "cell_type": "markdown",
   "metadata": {},
   "source": [
    "## 8. [Reto 2] Realice un algoritmo que pueda ordenar listas. El código debe ser una función que reciba una lista y devuelva una lista ordenada."
   ]
  },
  {
   "cell_type": "code",
   "execution_count": 37,
   "metadata": {},
   "outputs": [],
   "source": [
    "myList=['of','do','exercises','python','omics','can','on','I']"
   ]
  },
  {
   "cell_type": "code",
   "execution_count": 39,
   "metadata": {},
   "outputs": [
    {
     "name": "stdout",
     "output_type": "stream",
     "text": [
      "of\t0\n",
      "do\t1\n",
      "exercises\t2\n",
      "python\t3\n",
      "omics\t4\n",
      "can\t5\n",
      "on\t6\n",
      "I\t7\n"
     ]
    }
   ],
   "source": [
    "i=1\n",
    "idx=[0,1,2,3,4,5,6,7]\n",
    "for i in idx:\n",
    "    print(myList[i], i, sep='\\t')"
   ]
  },
  {
   "cell_type": "code",
   "execution_count": 25,
   "metadata": {},
   "outputs": [
    {
     "name": "stdout",
     "output_type": "stream",
     "text": [
      "['I', 'can', 'do', 'exercises', 'of', 'omics', 'on', 'python']\n"
     ]
    }
   ],
   "source": [
    "#Because I know the order in which I want the list\n",
    "orden=[7,5,1,2,0,4,6,3]\n",
    "myList=[myList[i] for i in orden]\n",
    "print(myList)"
   ]
  },
  {
   "cell_type": "code",
   "execution_count": 31,
   "metadata": {},
   "outputs": [],
   "source": [
    "#If I were to unknow the list-elements but I want them in a predefined order, for example alphabetic.\n",
    "listaOrdenada=[]\n",
    "unorganized=[]\n",
    "alphabeticOrder=[\"a\",\"b\",\"c\",\"d\",\"e\",\"f\",\"g\",\"h\",\"i\",\"j\",\"k\",\"l\",\"m\",\"n\",\"o\",\"p\",\"k\",\"r\",\"s\",\"t\",\"u\",\"v\",\"w\",\"x\",\"y\",\"z\"]\n",
    "\n",
    "def alphabeticSorting(lista):\n",
    "    for i in orden:\n",
    "            if lista[i] == alphabeticOrder[i]:\n",
    "                unorganized.append(lista[i])\n",
    "            else:\n",
    "                listaOrdenada.append(lista[i])"
   ]
  },
  {
   "cell_type": "code",
   "execution_count": 32,
   "metadata": {},
   "outputs": [
    {
     "name": "stdout",
     "output_type": "stream",
     "text": [
      "['python', 'omics', 'can', 'do', 'I', 'of', 'on', 'exercises']\n"
     ]
    }
   ],
   "source": [
    "alphabeticSorting(myList)\n",
    "print(listaOrdenada)"
   ]
  },
  {
   "cell_type": "code",
   "execution_count": 36,
   "metadata": {},
   "outputs": [
    {
     "name": "stdout",
     "output_type": "stream",
     "text": [
      "['I', 'can', 'do', 'exercises', 'of', 'omics', 'on', 'python']\n",
      "('python', 'on', 'omics', 'of', 'exercises', 'do', 'can', 'I')\n"
     ]
    }
   ],
   "source": [
    "# Imprimir la lista al reves.\n",
    "\n",
    "ordenada=[]\n",
    "for i in myList:\n",
    "    ordenada.append(i)\n",
    "print(ordenada)\n",
    "\n",
    "t_ordenada=tuple((ordenada[::-1]))\n",
    "print(t_ordenada)"
   ]
  },
  {
   "cell_type": "code",
   "execution_count": null,
   "metadata": {},
   "outputs": [],
   "source": []
  }
 ],
 "metadata": {
  "kernelspec": {
   "display_name": "Python 3",
   "language": "python",
   "name": "python3"
  },
  "language_info": {
   "codemirror_mode": {
    "name": "ipython",
    "version": 3
   },
   "file_extension": ".py",
   "mimetype": "text/x-python",
   "name": "python",
   "nbconvert_exporter": "python",
   "pygments_lexer": "ipython3",
   "version": "3.7.4"
  }
 },
 "nbformat": 4,
 "nbformat_minor": 4
}
