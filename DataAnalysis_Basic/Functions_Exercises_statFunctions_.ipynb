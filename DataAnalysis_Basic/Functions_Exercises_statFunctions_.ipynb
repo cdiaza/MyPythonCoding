{
 "cells": [
  {
   "cell_type": "code",
   "execution_count": 1,
   "metadata": {},
   "outputs": [],
   "source": [
    "import numpy as np\n",
    "import math"
   ]
  },
  {
   "cell_type": "markdown",
   "metadata": {},
   "source": [
    "                mean = Sum of all elements / Total number of elements"
   ]
  },
  {
   "cell_type": "code",
   "execution_count": 2,
   "metadata": {},
   "outputs": [],
   "source": [
    "def promedio(array):\n",
    "    print(type(array))\n",
    "    sumatoria = 0\n",
    "    \n",
    "    for i in array:\n",
    "        sumatoria += i\n",
    "        \n",
    "    return sumatoria/len(array)"
   ]
  },
  {
   "cell_type": "code",
   "execution_count": 3,
   "metadata": {},
   "outputs": [
    {
     "name": "stdout",
     "output_type": "stream",
     "text": [
      "[0 1 2 3 4 5 6 7 8 9]\n"
     ]
    }
   ],
   "source": [
    "a = np.arange(0,10)\n",
    "print(a)"
   ]
  },
  {
   "cell_type": "code",
   "execution_count": 4,
   "metadata": {},
   "outputs": [
    {
     "name": "stdout",
     "output_type": "stream",
     "text": [
      "<class 'numpy.ndarray'>\n",
      "4.5\n"
     ]
    }
   ],
   "source": [
    "print(promedio(a))"
   ]
  },
  {
   "cell_type": "code",
   "execution_count": 5,
   "metadata": {},
   "outputs": [
    {
     "name": "stdout",
     "output_type": "stream",
     "text": [
      "[ 3  6 13 10 10  4 13 14  1 12]\n"
     ]
    }
   ],
   "source": [
    "r = np.random.randint(0,15, size=(1,10))\n",
    "print(r[0])"
   ]
  },
  {
   "cell_type": "code",
   "execution_count": 6,
   "metadata": {},
   "outputs": [
    {
     "name": "stdout",
     "output_type": "stream",
     "text": [
      "<class 'numpy.ndarray'>\n",
      "8.6\n"
     ]
    }
   ],
   "source": [
    "print(promedio(r[0]))"
   ]
  },
  {
   "cell_type": "markdown",
   "metadata": {},
   "source": [
    "               Median = Calculated after organizing the elements in the array\n",
    "                For an odd number of elements, it is the element in the middle\n",
    "       For an even number of elements, it is the mean of the two elements in the middle"
   ]
  },
  {
   "cell_type": "code",
   "execution_count": 7,
   "metadata": {},
   "outputs": [],
   "source": [
    "def mediana(array):\n",
    "    a = len(array)/2\n",
    "        \n",
    "    if a%2 != 1:\n",
    "        b = np.sort(array)\n",
    "        print(b)\n",
    "        print('The array has an odd number of elements. The median is:')\n",
    "        a = int(a)\n",
    "        return b[a]\n",
    "    \n",
    "    if a%2 == 1:\n",
    "        b = np.sort(array)\n",
    "        print(b)\n",
    "        print('The array has an even number of elements. The median is:')\n",
    "        a = int(a)\n",
    "        c = b[0:a]\n",
    "        d = b[a:]\n",
    "        print((c[-1]+d[0])/2)\n"
   ]
  },
  {
   "cell_type": "code",
   "execution_count": 8,
   "metadata": {},
   "outputs": [
    {
     "name": "stdout",
     "output_type": "stream",
     "text": [
      "[0 1 2 3 4 5 6 7 8 9]\n"
     ]
    }
   ],
   "source": [
    "array2 = np.arange(0,10)\n",
    "print(array2)"
   ]
  },
  {
   "cell_type": "code",
   "execution_count": 9,
   "metadata": {},
   "outputs": [
    {
     "name": "stdout",
     "output_type": "stream",
     "text": [
      "[0 1 2 3 4 5 6 7 8 9]\n",
      "The array has an even number of elements. The median is:\n",
      "4.5\n"
     ]
    }
   ],
   "source": [
    "mediana(array2)"
   ]
  },
  {
   "cell_type": "code",
   "execution_count": 10,
   "metadata": {},
   "outputs": [
    {
     "name": "stdout",
     "output_type": "stream",
     "text": [
      "[ 0  1  2  3  4  5  6  7  8  9 10]\n"
     ]
    }
   ],
   "source": [
    "array3 = np.arange(0,11)\n",
    "print(array3)"
   ]
  },
  {
   "cell_type": "code",
   "execution_count": 11,
   "metadata": {},
   "outputs": [
    {
     "name": "stdout",
     "output_type": "stream",
     "text": [
      "[ 0  1  2  3  4  5  6  7  8  9 10]\n",
      "The array has an odd number of elements. The median is:\n"
     ]
    },
    {
     "data": {
      "text/plain": [
       "5"
      ]
     },
     "execution_count": 11,
     "metadata": {},
     "output_type": "execute_result"
    }
   ],
   "source": [
    "mediana(array3)"
   ]
  },
  {
   "cell_type": "code",
   "execution_count": 12,
   "metadata": {},
   "outputs": [
    {
     "name": "stdout",
     "output_type": "stream",
     "text": [
      "[ 2  1 13  3 14  2  1  1  1  5 14]\n"
     ]
    }
   ],
   "source": [
    "r = np.random.randint(0,15, size=(1,11))\n",
    "print(r[0])"
   ]
  },
  {
   "cell_type": "code",
   "execution_count": 13,
   "metadata": {},
   "outputs": [
    {
     "name": "stdout",
     "output_type": "stream",
     "text": [
      "[ 1  1  1  1  2  2  3  5 13 14 14]\n",
      "The array has an odd number of elements. The median is:\n",
      "2\n"
     ]
    }
   ],
   "source": [
    "print(mediana(r[0]))"
   ]
  },
  {
   "cell_type": "code",
   "execution_count": 14,
   "metadata": {},
   "outputs": [
    {
     "name": "stdout",
     "output_type": "stream",
     "text": [
      "[ 5  5  3  1  4 12  3  5  0  5  0  1]\n"
     ]
    }
   ],
   "source": [
    "r = np.random.randint(0,15, size=(1,12))\n",
    "print(r[0])"
   ]
  },
  {
   "cell_type": "code",
   "execution_count": 15,
   "metadata": {},
   "outputs": [
    {
     "name": "stdout",
     "output_type": "stream",
     "text": [
      "[ 0  0  1  1  3  3  4  5  5  5  5 12]\n",
      "The array has an odd number of elements. The median is:\n",
      "4\n"
     ]
    }
   ],
   "source": [
    "print(mediana(r[0]))"
   ]
  },
  {
   "cell_type": "markdown",
   "metadata": {},
   "source": [
    "                    var = (Sum (element - mean)^2 ) / (n)"
   ]
  },
  {
   "cell_type": "code",
   "execution_count": 16,
   "metadata": {},
   "outputs": [],
   "source": [
    "def varianza(array):\n",
    "    print(type(array))\n",
    "    counter = 0\n",
    "    array1 = []\n",
    "    \n",
    "    for i in array:\n",
    "        counter += i\n",
    "        a1 = float(counter/len(array))\n",
    "        \n",
    "    for i in array:\n",
    "        a2 = (i - a1)**2\n",
    "        array1.append(a2)\n",
    "        a3 = sum(array1)\n",
    "        a4 = a3/(len(array)-1)\n",
    "    \n",
    "    return (a4)\n"
   ]
  },
  {
   "cell_type": "code",
   "execution_count": 17,
   "metadata": {},
   "outputs": [
    {
     "name": "stdout",
     "output_type": "stream",
     "text": [
      "[0 1 2 3 4 5 6 7 8 9]\n"
     ]
    }
   ],
   "source": [
    "array = np.arange(0,10)\n",
    "print(array)"
   ]
  },
  {
   "cell_type": "code",
   "execution_count": 18,
   "metadata": {},
   "outputs": [
    {
     "name": "stdout",
     "output_type": "stream",
     "text": [
      "<class 'numpy.ndarray'>\n"
     ]
    },
    {
     "data": {
      "text/plain": [
       "9.166666666666666"
      ]
     },
     "execution_count": 18,
     "metadata": {},
     "output_type": "execute_result"
    }
   ],
   "source": [
    "varianza(array)"
   ]
  },
  {
   "cell_type": "code",
   "execution_count": 19,
   "metadata": {},
   "outputs": [
    {
     "name": "stdout",
     "output_type": "stream",
     "text": [
      "[ 8  7 13  8 14  4  6  5  0  1  4 14 10]\n"
     ]
    }
   ],
   "source": [
    "r = np.random.randint(0,15, size=(1,13))\n",
    "print(r[0])"
   ]
  },
  {
   "cell_type": "code",
   "execution_count": 20,
   "metadata": {},
   "outputs": [
    {
     "name": "stdout",
     "output_type": "stream",
     "text": [
      "<class 'numpy.ndarray'>\n",
      "21.025641025641022\n"
     ]
    }
   ],
   "source": [
    "print(varianza(r[0]))"
   ]
  },
  {
   "cell_type": "markdown",
   "metadata": {},
   "source": [
    "                stDev = Sqrt ((Sum (element - mean)^2 ) / (n-1))"
   ]
  },
  {
   "cell_type": "code",
   "execution_count": 21,
   "metadata": {},
   "outputs": [],
   "source": [
    "def desviacionStandard(array):\n",
    "    print(type(array))\n",
    "    counter = 0\n",
    "    array1 = []\n",
    "    \n",
    "    for i in array:\n",
    "        counter += i\n",
    "        a1 = float(counter/len(array))\n",
    "        \n",
    "    for i in array:\n",
    "        a2 = (i - a1)**2\n",
    "        array1.append(a2)\n",
    "        a3 = sum(array1)\n",
    "        a4 = a3/(len(array)-1)\n",
    "\n",
    "    return math.sqrt(a4)\n"
   ]
  },
  {
   "cell_type": "code",
   "execution_count": 22,
   "metadata": {},
   "outputs": [
    {
     "name": "stdout",
     "output_type": "stream",
     "text": [
      "[0 1 2 3 4 5 6 7 8 9]\n"
     ]
    }
   ],
   "source": [
    "array = np.arange(0,10)\n",
    "print(array)"
   ]
  },
  {
   "cell_type": "code",
   "execution_count": 23,
   "metadata": {},
   "outputs": [
    {
     "name": "stdout",
     "output_type": "stream",
     "text": [
      "<class 'numpy.ndarray'>\n"
     ]
    },
    {
     "data": {
      "text/plain": [
       "3.0276503540974917"
      ]
     },
     "execution_count": 23,
     "metadata": {},
     "output_type": "execute_result"
    }
   ],
   "source": [
    "desviacionStandard(array)"
   ]
  },
  {
   "cell_type": "code",
   "execution_count": 24,
   "metadata": {},
   "outputs": [
    {
     "name": "stdout",
     "output_type": "stream",
     "text": [
      "[12  8 12  9  2  9 14 10 10  7  3  5 12]\n"
     ]
    }
   ],
   "source": [
    "r = np.random.randint(0,15, size = (1,13))\n",
    "print(r[0])"
   ]
  },
  {
   "cell_type": "code",
   "execution_count": 25,
   "metadata": {},
   "outputs": [
    {
     "name": "stdout",
     "output_type": "stream",
     "text": [
      "<class 'numpy.ndarray'>\n",
      "3.6374124361651963\n"
     ]
    }
   ],
   "source": [
    "print(desviacionStandard(r[0]))"
   ]
  },
  {
   "cell_type": "markdown",
   "metadata": {},
   "source": [
    "                                   Standard Error of the Mean = SEM = stDev/sqRt(n)"
   ]
  },
  {
   "cell_type": "code",
   "execution_count": 26,
   "metadata": {},
   "outputs": [],
   "source": [
    "def SEM(array):\n",
    "    print(type(array))\n",
    "    counter = 0\n",
    "    array1 = []\n",
    "    \n",
    "    for i in array:\n",
    "        counter += i\n",
    "        a1 = float(counter/len(array))\n",
    "        \n",
    "    for i in array:\n",
    "        a2 = (i - a1)**2\n",
    "        array1.append(a2)\n",
    "        a3 = sum(array1)\n",
    "        a4 = a3/(len(array)-1)\n",
    "        a5 = math.sqrt(a4)\n",
    "        \n",
    "    return a5/math.sqrt(len(array))\n"
   ]
  },
  {
   "cell_type": "code",
   "execution_count": 27,
   "metadata": {},
   "outputs": [
    {
     "name": "stdout",
     "output_type": "stream",
     "text": [
      "[10  5  2  6 14 12  5 13 13  1  5  9  8]\n"
     ]
    }
   ],
   "source": [
    "r = np.random.randint(0,15, size = (1,13))\n",
    "print(r[0])\n"
   ]
  },
  {
   "cell_type": "code",
   "execution_count": 28,
   "metadata": {},
   "outputs": [
    {
     "name": "stdout",
     "output_type": "stream",
     "text": [
      "<class 'numpy.ndarray'>\n",
      "1.1954054052246195\n"
     ]
    }
   ],
   "source": [
    "print(SEM(r[0]))"
   ]
  },
  {
   "cell_type": "code",
   "execution_count": 29,
   "metadata": {},
   "outputs": [],
   "source": [
    "# The previous formula for SEM works on a single array, but the SEM has no sense when calculated on a single set."
   ]
  },
  {
   "cell_type": "code",
   "execution_count": 30,
   "metadata": {},
   "outputs": [
    {
     "data": {
      "text/plain": [
       "'Para calcular el SEM se deben tener varias muestras de la poblacion.\\nPara esto, primero voy a generar una poblacion de datos y de alli tomare 5 muestras.\\nEntre mas grande es el tamaño muestral mas pequeño sera el SEM (nivel de incertidumbre).\\nEn otras palabras entre mas muestras se toman mejor se puede conocer la media poblacional.'"
      ]
     },
     "execution_count": 30,
     "metadata": {},
     "output_type": "execute_result"
    }
   ],
   "source": [
    "\"\"\"Para calcular el SEM se deben tener varias muestras de la poblacion.\n",
    "Para esto, primero voy a generar una poblacion de datos y de alli tomare 5 muestras.\n",
    "Entre mas grande es el tamaño muestral mas pequeño sera el SEM (nivel de incertidumbre).\n",
    "En otras palabras entre mas muestras se toman mejor se puede conocer la media poblacional.\"\"\""
   ]
  },
  {
   "cell_type": "code",
   "execution_count": 51,
   "metadata": {},
   "outputs": [
    {
     "name": "stdout",
     "output_type": "stream",
     "text": [
      "[ 1  2  1  4  0 11  7 13  7 10  1  6  4]\n"
     ]
    }
   ],
   "source": [
    "# Generate an array of size 13, made of random numbers that go from 1 to 15.\n",
    "# This is, for example, the population data.\n",
    "\n",
    "test = np.random.choice(15, 13)\n",
    "print(test)"
   ]
  },
  {
   "cell_type": "code",
   "execution_count": 52,
   "metadata": {},
   "outputs": [
    {
     "name": "stdout",
     "output_type": "stream",
     "text": [
      "[1 2 7 1 1]\n"
     ]
    }
   ],
   "source": [
    "# Generate a uniform random sample from the array called test, of size 5:\n",
    "s1 = np.random.choice(test, 5)\n",
    "print(s1)"
   ]
  },
  {
   "cell_type": "code",
   "execution_count": 53,
   "metadata": {},
   "outputs": [
    {
     "name": "stdout",
     "output_type": "stream",
     "text": [
      "[10  1  1  2  1]\n"
     ]
    }
   ],
   "source": [
    "# Generate a uniform random sample from the array called test, of size 5:\n",
    "s2 = np.random.choice(test, 5)\n",
    "print(s2)"
   ]
  },
  {
   "cell_type": "code",
   "execution_count": 54,
   "metadata": {},
   "outputs": [
    {
     "name": "stdout",
     "output_type": "stream",
     "text": [
      "[10  1  0 10  0]\n"
     ]
    }
   ],
   "source": [
    "# Generate a uniform random sample from the array called test, of size 5:\n",
    "s3 = np.random.choice(test, 5)\n",
    "print(s3)"
   ]
  },
  {
   "cell_type": "code",
   "execution_count": 55,
   "metadata": {},
   "outputs": [
    {
     "name": "stdout",
     "output_type": "stream",
     "text": [
      "[7 4 1 1 0]\n"
     ]
    }
   ],
   "source": [
    "# Generate a uniform random sample from the array called test, of size 5:\n",
    "s4 = np.random.choice(test, 5)\n",
    "print(s4)"
   ]
  },
  {
   "cell_type": "code",
   "execution_count": 56,
   "metadata": {},
   "outputs": [
    {
     "name": "stdout",
     "output_type": "stream",
     "text": [
      "[ 1  1  1 13 11]\n"
     ]
    }
   ],
   "source": [
    "# Generate a non-uniform random sample from the array called test, of size 5.\n",
    "# The probability to withdraw each element from the array is given by the parameter p.\n",
    "# The total number of probabilities should add up to 1\n",
    "s5 = np.random.choice(test, 5, p=[0.2,0.1,0.15,0.1,0.1,0.15,0,0.05,0.05,0,0,0.05,0.05])\n",
    "print(s5)"
   ]
  },
  {
   "cell_type": "code",
   "execution_count": 64,
   "metadata": {},
   "outputs": [
    {
     "name": "stdout",
     "output_type": "stream",
     "text": [
      "[ 1  2  1  4  0 11  7 13  7 10  1  6  4]\n",
      "[1 2 7 1 1] \n",
      " [10  1  1  2  1] \n",
      " [10  1  0 10  0] \n",
      " [7 4 1 1 0] \n",
      " [ 1  1  1 13 11]\n",
      "<class 'numpy.ndarray'>\n"
     ]
    }
   ],
   "source": [
    "print(test)\n",
    "print(s1,'\\n',s2,'\\n',s3,'\\n',s4,'\\n',s5)\n",
    "print(type(s1))"
   ]
  },
  {
   "cell_type": "code",
   "execution_count": 57,
   "metadata": {},
   "outputs": [
    {
     "name": "stdout",
     "output_type": "stream",
     "text": [
      "[[ 1  2  7  1  1]\n",
      " [10  1  1  2  1]\n",
      " [10  1  0 10  0]\n",
      " [ 7  4  1  1  0]\n",
      " [ 1  1  1 13 11]]\n"
     ]
    }
   ],
   "source": [
    "samples = np.concatenate(([s1],[s2],[s3],[s4],[s5]))\n",
    "print(samples)"
   ]
  },
  {
   "cell_type": "code",
   "execution_count": 58,
   "metadata": {},
   "outputs": [],
   "source": [
    "# Now make a function to generate uniform random samples from a single \"population\" set."
   ]
  },
  {
   "cell_type": "code",
   "execution_count": 59,
   "metadata": {},
   "outputs": [],
   "source": [
    "def randomSamples(array):\n",
    "    samples = []\n",
    "    for i in array[1:]:\n",
    "        sample = np.random.choice(array, 5)\n",
    "        if len(samples) == 0:\n",
    "            samples = [sample]\n",
    "        else:\n",
    "            samples = np.append(samples, [sample], axis=0)\n",
    "    return samples\n"
   ]
  },
  {
   "cell_type": "code",
   "execution_count": 60,
   "metadata": {},
   "outputs": [
    {
     "name": "stdout",
     "output_type": "stream",
     "text": [
      "[[13 13 13  7 13]\n",
      " [ 3 11  7 13  7]\n",
      " [ 5 11 13  3  1]\n",
      " [ 7  3  6 13  5]\n",
      " [13 11 13  3  7]\n",
      " [11 13 13  3  1]\n",
      " [ 7 13 14  6 11]\n",
      " [ 7  7 14  7 13]\n",
      " [11  1  7  7  7]\n",
      " [ 3  7  7  5 13]\n",
      " [ 5  5 13 14  7]\n",
      " [ 6  7 11  6 14]]\n",
      "<class 'numpy.ndarray'>\n"
     ]
    }
   ],
   "source": [
    "test1 = np.random.choice(15, 13)\n",
    "sampling3 = randomSamples(test1)\n",
    "print(sampling3)\n",
    "print(type(sampling3))"
   ]
  },
  {
   "cell_type": "code",
   "execution_count": 61,
   "metadata": {},
   "outputs": [
    {
     "data": {
      "text/plain": [
       "(12, 5)"
      ]
     },
     "execution_count": 61,
     "metadata": {},
     "output_type": "execute_result"
    }
   ],
   "source": [
    "sampling3.shape"
   ]
  },
  {
   "cell_type": "code",
   "execution_count": 62,
   "metadata": {},
   "outputs": [],
   "source": [
    "# Now, improve the SEM function such that it works with an array of arrays. Esto va en proceso."
   ]
  },
  {
   "cell_type": "code",
   "execution_count": 63,
   "metadata": {},
   "outputs": [],
   "source": [
    "def SEM1(array):\n",
    "    counter = 0\n",
    "    array1 = []\n",
    "    i = 0\n",
    "    \n",
    "    array1 = array\n",
    "    a,b,c,d,e,f,g,h,j,k,l,m,n = map(list, zip(*array1))\n",
    "    print(a)\n",
    "    \n",
    "    for i in array:\n",
    "        i += 1\n",
    "        arrays = np.split(array, 12)\n",
    "        print(arrays)\n",
    "        \n",
    "        for array in arrays:\n",
    "            counter += i\n",
    "            a1 = float(counter/len(array))\n",
    "\n",
    "        for i in a[i]:\n",
    "            a2 = (i - a1)**2\n",
    "            array1.append(a2)\n",
    "            a3 = sum(array1)\n",
    "            a4 = a3/(len(array)-1)\n",
    "            a5 = math.sqrt(a4)\n",
    "\n",
    "        return a5/math.sqrt(len(array))"
   ]
  },
  {
   "cell_type": "code",
   "execution_count": 66,
   "metadata": {},
   "outputs": [
    {
     "name": "stdout",
     "output_type": "stream",
     "text": [
      "<class 'numpy.ndarray'>\n"
     ]
    },
    {
     "ename": "TypeError",
     "evalue": "only size-1 arrays can be converted to Python scalars",
     "output_type": "error",
     "traceback": [
      "\u001b[0;31m---------------------------------------------------------------------------\u001b[0m",
      "\u001b[0;31mTypeError\u001b[0m                                 Traceback (most recent call last)",
      "\u001b[0;32m<ipython-input-66-3096da2ceafd>\u001b[0m in \u001b[0;36m<module>\u001b[0;34m\u001b[0m\n\u001b[0;32m----> 1\u001b[0;31m \u001b[0mprint\u001b[0m\u001b[0;34m(\u001b[0m\u001b[0mSEM\u001b[0m\u001b[0;34m(\u001b[0m\u001b[0msampling3\u001b[0m\u001b[0;34m)\u001b[0m\u001b[0;34m)\u001b[0m\u001b[0;34m\u001b[0m\u001b[0;34m\u001b[0m\u001b[0m\n\u001b[0m",
      "\u001b[0;32m<ipython-input-26-90a8bbeb1e1a>\u001b[0m in \u001b[0;36mSEM\u001b[0;34m(array)\u001b[0m\n\u001b[1;32m      6\u001b[0m     \u001b[0;32mfor\u001b[0m \u001b[0mi\u001b[0m \u001b[0;32min\u001b[0m \u001b[0marray\u001b[0m\u001b[0;34m:\u001b[0m\u001b[0;34m\u001b[0m\u001b[0;34m\u001b[0m\u001b[0m\n\u001b[1;32m      7\u001b[0m         \u001b[0mcounter\u001b[0m \u001b[0;34m+=\u001b[0m \u001b[0mi\u001b[0m\u001b[0;34m\u001b[0m\u001b[0;34m\u001b[0m\u001b[0m\n\u001b[0;32m----> 8\u001b[0;31m         \u001b[0ma1\u001b[0m \u001b[0;34m=\u001b[0m \u001b[0mfloat\u001b[0m\u001b[0;34m(\u001b[0m\u001b[0mcounter\u001b[0m\u001b[0;34m/\u001b[0m\u001b[0mlen\u001b[0m\u001b[0;34m(\u001b[0m\u001b[0marray\u001b[0m\u001b[0;34m)\u001b[0m\u001b[0;34m)\u001b[0m\u001b[0;34m\u001b[0m\u001b[0;34m\u001b[0m\u001b[0m\n\u001b[0m\u001b[1;32m      9\u001b[0m \u001b[0;34m\u001b[0m\u001b[0m\n\u001b[1;32m     10\u001b[0m     \u001b[0;32mfor\u001b[0m \u001b[0mi\u001b[0m \u001b[0;32min\u001b[0m \u001b[0marray\u001b[0m\u001b[0;34m:\u001b[0m\u001b[0;34m\u001b[0m\u001b[0;34m\u001b[0m\u001b[0m\n",
      "\u001b[0;31mTypeError\u001b[0m: only size-1 arrays can be converted to Python scalars"
     ]
    }
   ],
   "source": [
    "print(SEM(sampling3))"
   ]
  }
 ],
 "metadata": {
  "kernelspec": {
   "display_name": "Python 3",
   "language": "python",
   "name": "python3"
  },
  "language_info": {
   "codemirror_mode": {
    "name": "ipython",
    "version": 3
   },
   "file_extension": ".py",
   "mimetype": "text/x-python",
   "name": "python",
   "nbconvert_exporter": "python",
   "pygments_lexer": "ipython3",
   "version": "3.7.4"
  }
 },
 "nbformat": 4,
 "nbformat_minor": 2
}
