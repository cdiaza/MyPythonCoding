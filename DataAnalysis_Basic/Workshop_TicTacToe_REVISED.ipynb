{
 "cells": [
  {
   "cell_type": "code",
   "execution_count": null,
   "metadata": {},
   "outputs": [],
   "source": [
    "\"\"\"Make a program that represents the Tic Tac Toe game (Triki), with user interaction:\n",
    "1) Make the array\n",
    "2) User1 interaction, choosing options from the array\n",
    "3) Print the array with options already chosen marked down\n",
    "4) User2 interaction, available choosing options from the array\n",
    "Iteration of options 2 to 4 until all available options have been chosen\n",
    "5) Validation of files, column, and diagonals, and select the winner (if there is one)\"\"\"\n",
    "# Para validar, compare 2 elementos por fila si son = triky, si no continue con columnas y con las dos diagonales.\n",
    "# If a=b, y b=c, entonces a=c"
   ]
  },
  {
   "cell_type": "code",
   "execution_count": 4,
   "metadata": {},
   "outputs": [
    {
     "name": "stdout",
     "output_type": "stream",
     "text": [
      "a1 b1 c1\n",
      "a2 b2 c2\n",
      "a3 b3 c3\n",
      "user1, choose an a, b, or c position in the board: a1\n",
      "x  b1 c1\n",
      "a2 b2 c2\n",
      "a3 b3 c3\n",
      "user2, choose an a, b, or c position in the board: b1\n",
      "x  o  c1\n",
      "a2 b2 c2\n",
      "a3 b3 c3\n",
      "user1, choose an a, b, or c position in the board: c1\n",
      "x  o  x \n",
      "a2 b2 c2\n",
      "a3 b3 c3\n",
      "user2, choose an a, b, or c position in the board: b2\n",
      "x  o  x \n",
      "a2 o  c2\n",
      "a3 b3 c3\n",
      "user1, choose an a, b, or c position in the board: b3\n",
      "x  o  x \n",
      "a2 o  c2\n",
      "a3 x  c3\n",
      "user2, choose an a, b, or c position in the board: a3\n",
      "x  o  x \n",
      "a2 o  c2\n",
      "o  x  c3\n",
      "user1, choose an a, b, or c position in the board: c3\n",
      "x  o  x \n",
      "a2 o  c2\n",
      "o  x  x \n",
      "user2, choose an a, b, or c position in the board: c2\n",
      "x  o  x \n",
      "a2 o  o \n",
      "o  x  x \n",
      "user1, choose an a, b, or c position in the board: a2\n",
      "x  o  x \n",
      "x  o  o \n",
      "o  x  x \n",
      "No winner\n"
     ]
    }
   ],
   "source": [
    "board = [\"a1\",\"b1\",\"c1\",\"a2\",\"b2\",\"c2\",\"a3\",\"b3\",\"c3\"]\n",
    "no=[]\n",
    "user1=[]\n",
    "user2=[]\n",
    "\n",
    "print(board[0],board[1],board[2]), print(board[3],board[4],board[5]), print(board[6],board[7],board[8])\n",
    "\n",
    "while len(user1) < 5:\n",
    "    userX = input(\"user1, choose an a, b, or c position in the board: \").lower()\n",
    "    user1.append(userX)\n",
    "    no.append(userX)\n",
    "    board[board.index(userX)] = 'x '\n",
    "    print(board[0],board[1],board[2]), print(board[3],board[4],board[5]), print(board[6],board[7],board[8])\n",
    "    \n",
    "    if board[0]==board[1]==board[2] or board[3]==board[4]==board[5] or board[6]==board[7]==board[8] \\\n",
    "or board[0]==board[3]==board[6] or board[1]==board[4]==board[7] or board[2]==board[5]==board[8] \\\n",
    "or board[0]==board[4]==board[8] or board[2]==board[4]==board[6]:\n",
    "        print('winner')\n",
    "        break\n",
    "        \n",
    "    if len(user1) >= 5:\n",
    "        print(\"No winner\")\n",
    "        break\n",
    "   \n",
    "\n",
    "    if len(user2) < 4: \n",
    "        userO = input(\"user2, choose an a, b, or c position in the board: \").lower()\n",
    "        user2.append(userO)\n",
    "        no.append(userO)\n",
    "        board[board.index(userO)] = 'o '\n",
    "        print(board[0],board[1],board[2]), print(board[3],board[4],board[5]), print(board[6],board[7],board[8])\n",
    "            \n",
    "        if board[0]==board[1]==board[2] or board[3]==board[4]==board[5] or board[6]==board[7]==board[8] \\\n",
    "or board[0]==board[3]==board[6] or board[1]==board[4]==board[7] or board[2]==board[5]==board[8] \\\n",
    "or board[0]==board[4]==board[7] or board[2]==board[4]==board[6]:\n",
    "            print('winner')\n",
    "            break\n",
    "                \n",
    "            if len(user2) >= 4:\n",
    "                print(\"No winner\")\n",
    "                break\n",
    "                "
   ]
  }
 ],
 "metadata": {
  "kernelspec": {
   "display_name": "Python 3",
   "language": "python",
   "name": "python3"
  },
  "language_info": {
   "codemirror_mode": {
    "name": "ipython",
    "version": 3
   },
   "file_extension": ".py",
   "mimetype": "text/x-python",
   "name": "python",
   "nbconvert_exporter": "python",
   "pygments_lexer": "ipython3",
   "version": "3.7.4"
  }
 },
 "nbformat": 4,
 "nbformat_minor": 2
}
