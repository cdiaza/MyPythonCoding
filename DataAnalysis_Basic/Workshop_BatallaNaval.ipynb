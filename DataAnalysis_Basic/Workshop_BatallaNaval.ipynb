{
 "cells": [
  {
   "cell_type": "code",
   "execution_count": 2,
   "metadata": {},
   "outputs": [],
   "source": [
    "import numpy as np"
   ]
  },
  {
   "cell_type": "code",
   "execution_count": 3,
   "metadata": {},
   "outputs": [
    {
     "name": "stdout",
     "output_type": "stream",
     "text": [
      "Welcome to Battleship\n",
      "This is a two player game\n",
      "Each player will have two boards, a fleet board and an enemy log board\n"
     ]
    }
   ],
   "source": [
    "print(\"Welcome to Battleship\")\n",
    "print(\"This is a two player game\")\n",
    "print(\"Each player will have two boards, a fleet board and an enemy log board\")"
   ]
  },
  {
   "cell_type": "code",
   "execution_count": 4,
   "metadata": {},
   "outputs": [
    {
     "name": "stdout",
     "output_type": "stream",
     "text": [
      "Player 1, please make your 2 game boards of size 7*7 each one\n",
      "\n",
      "player1, fleet board is p1_fb:\n",
      "\n",
      "[[0. 0. 0. 0. 0. 0. 0.]\n",
      " [0. 0. 0. 0. 0. 0. 0.]\n",
      " [0. 0. 0. 0. 0. 0. 0.]\n",
      " [0. 0. 0. 0. 0. 0. 0.]\n",
      " [0. 0. 0. 0. 0. 0. 0.]\n",
      " [0. 0. 0. 0. 0. 0. 0.]\n",
      " [0. 0. 0. 0. 0. 0. 0.]]\n",
      "\n",
      "player1, enemy log board is p1_eb:\n",
      "[[0. 0. 0. 0. 0. 0. 0.]\n",
      " [0. 0. 0. 0. 0. 0. 0.]\n",
      " [0. 0. 0. 0. 0. 0. 0.]\n",
      " [0. 0. 0. 0. 0. 0. 0.]\n",
      " [0. 0. 0. 0. 0. 0. 0.]\n",
      " [0. 0. 0. 0. 0. 0. 0.]\n",
      " [0. 0. 0. 0. 0. 0. 0.]]\n"
     ]
    }
   ],
   "source": [
    "print(\"Player 1, please make your 2 game boards of size 7*7 each one\")\n",
    "print()\n",
    "print(\"player1, fleet board is p1_fb:\")\n",
    "print()\n",
    "p1_fb= np.zeros((7,7))\n",
    "print(p1_fb)\n",
    "print()\n",
    "print(\"player1, enemy log board is p1_eb:\")\n",
    "p1_eb = np.zeros((7,7))\n",
    "print(p1_eb)"
   ]
  },
  {
   "cell_type": "code",
   "execution_count": 5,
   "metadata": {},
   "outputs": [
    {
     "name": "stdout",
     "output_type": "stream",
     "text": [
      "Player 1, fleet positioning\n",
      "\n",
      "Your fleet is made of 1 size-4 boat, 2 size-3 boats, and 3 size-2 boats\n",
      "Please, position your fleet on the board:\n",
      "\n",
      "Position the boat by choosing the coordinates x1:x2,y1:y2 on the p1_fb 1:5,1:2 \n",
      "Position the boat by choosing the coordinates x1:x2,y1:y2 on the p1_fb 3:6,5:6\n",
      "Position the boat by choosing the coordinates x1:x2,y1:y2 on the p1_fb 0:1,3:6\n",
      "Position the boat by choosing the coordinates x1:x2,y1:y2 on the p1_fb 5:6,3:5\n",
      "Position the boat by choosing the coordinates x1:x2,y1:y2 on the p1_fb 1:2,4:6\n",
      "Position the boat by choosing the coordinates x1:x2,y1:y2 on the p1_fb 4:5,2:4\n",
      "\n",
      "This is the player 1 fleet board (p1_fb): \n",
      "[[0. 0. 0. 1. 1. 1. 0.]\n",
      " [0. 1. 0. 0. 1. 1. 0.]\n",
      " [0. 1. 0. 0. 0. 0. 0.]\n",
      " [0. 1. 0. 0. 0. 1. 0.]\n",
      " [0. 1. 1. 1. 0. 1. 0.]\n",
      " [0. 0. 0. 1. 1. 1. 0.]\n",
      " [0. 0. 0. 0. 0. 0. 0.]]\n"
     ]
    }
   ],
   "source": [
    "print(\"Player 1, fleet positioning\")\n",
    "print()\n",
    "print(\"Your fleet is made of 1 size-4 boat, 2 size-3 boats, and 3 size-2 boats\")\n",
    "print(\"Please, position your fleet on the board:\")\n",
    "print()\n",
    "boats=[1,2,3,4,5,6,]\n",
    "for i in boats:\n",
    "    i=input(\"Position the boat by choosing the coordinates x1:x2,y1:y2 on the p1_fb \")\n",
    "    x,y = i.split(\",\")\n",
    "    x1,x2 = x.split(\":\")\n",
    "    y1,y2 = y.split(\":\")\n",
    "    x1,x2,y1,y2 = int(x1),int(x2),int(y1),int(y2)\n",
    "    p1_fb[x1:x2,y1:y2]= 1\n",
    "print()\n",
    "print(\"This is the player 1 fleet board (p1_fb): \")\n",
    "print(p1_fb)\n",
    "#    1:5,1:2       3:6,5:6      0:1,3:6       5:6,3:5       1:2,4:6       4:5,2:4"
   ]
  },
  {
   "cell_type": "code",
   "execution_count": 6,
   "metadata": {},
   "outputs": [
    {
     "name": "stdout",
     "output_type": "stream",
     "text": [
      "Player 2, please make your 2 game boards of size 7*7 each one\n",
      "player2, fleet board is p2_fb:\n",
      "[[0. 0. 0. 0. 0. 0. 0.]\n",
      " [0. 0. 0. 0. 0. 0. 0.]\n",
      " [0. 0. 0. 0. 0. 0. 0.]\n",
      " [0. 0. 0. 0. 0. 0. 0.]\n",
      " [0. 0. 0. 0. 0. 0. 0.]\n",
      " [0. 0. 0. 0. 0. 0. 0.]\n",
      " [0. 0. 0. 0. 0. 0. 0.]]\n",
      "\n",
      "player2, enemy log board is p2_eb:\n",
      "[[0. 0. 0. 0. 0. 0. 0.]\n",
      " [0. 0. 0. 0. 0. 0. 0.]\n",
      " [0. 0. 0. 0. 0. 0. 0.]\n",
      " [0. 0. 0. 0. 0. 0. 0.]\n",
      " [0. 0. 0. 0. 0. 0. 0.]\n",
      " [0. 0. 0. 0. 0. 0. 0.]\n",
      " [0. 0. 0. 0. 0. 0. 0.]]\n"
     ]
    }
   ],
   "source": [
    "print(\"Player 2, please make your 2 game boards of size 7*7 each one\")\n",
    "print(\"player2, fleet board is p2_fb:\")\n",
    "p2_fb= np.zeros((7,7))\n",
    "print(p2_fb)\n",
    "print()\n",
    "print(\"player2, enemy log board is p2_eb:\")\n",
    "p2_eb = np.zeros((7,7))\n",
    "print(p2_eb)"
   ]
  },
  {
   "cell_type": "code",
   "execution_count": 7,
   "metadata": {},
   "outputs": [
    {
     "name": "stdout",
     "output_type": "stream",
     "text": [
      "Player2, fleet positioning\n",
      "\n",
      "Your fleet is made of 1 size-4 boat, 2 size-3 boats, and 3 size-2 boats\n",
      "Please, position your fleet on the board:\n",
      "\n",
      "Position the boat by choosing a coordinate x1:x2,y1:y2 on the board p2_fb: 0:4,0:1\n",
      "Position the boat by choosing a coordinate x1:x2,y1:y2 on the board p2_fb: 5:6,0:2\n",
      "Position the boat by choosing a coordinate x1:x2,y1:y2 on the board p2_fb: 3:4,2:5\n",
      "Position the boat by choosing a coordinate x1:x2,y1:y2 on the board p2_fb: 2:3,3:6\n",
      "Position the boat by choosing a coordinate x1:x2,y1:y2 on the board p2_fb: 0:1,2:4\n",
      "Position the boat by choosing a coordinate x1:x2,y1:y2 on the board p2_fb: 0:1,4:6\n",
      "\n",
      "This is the player 2 fleet board (p2_fb): \n",
      "[[1. 0. 1. 1. 1. 1. 0.]\n",
      " [1. 0. 0. 0. 0. 0. 0.]\n",
      " [1. 0. 0. 1. 1. 1. 0.]\n",
      " [1. 0. 1. 1. 1. 0. 0.]\n",
      " [0. 0. 0. 0. 0. 0. 0.]\n",
      " [1. 1. 0. 0. 0. 0. 0.]\n",
      " [0. 0. 0. 0. 0. 0. 0.]]\n"
     ]
    }
   ],
   "source": [
    "print(\"Player2, fleet positioning\")\n",
    "print()\n",
    "print(\"Your fleet is made of 1 size-4 boat, 2 size-3 boats, and 3 size-2 boats\")\n",
    "print(\"Please, position your fleet on the board:\")\n",
    "print()\n",
    "boats=[1,2,3,4,5,6,]\n",
    "for i in boats:\n",
    "    i=input(\"Position the boat by choosing a coordinate x1:x2,y1:y2 on the board p2_fb: \")\n",
    "    x,y = i.split(\",\")\n",
    "    x1,x2 = x.split(\":\")\n",
    "    y1,y2 = y.split(\":\")\n",
    "    x1,x2,y1,y2 = int(x1),int(x2),int(y1),int(y2)\n",
    "    p2_fb[x1:x2,y1:y2]= 1\n",
    "print()\n",
    "print(\"This is the player 2 fleet board (p2_fb): \")\n",
    "print(p2_fb)\n",
    "\n",
    "#      0:4,0:1      5:6,0:2       3:4,2:5        2:3,3:6      0:1,2:4       0:1,4:6"
   ]
  },
  {
   "cell_type": "code",
   "execution_count": 8,
   "metadata": {},
   "outputs": [
    {
     "name": "stdout",
     "output_type": "stream",
     "text": [
      "[[0. 0. 0. 1. 1. 1. 0.]\n",
      " [0. 1. 0. 0. 1. 1. 0.]\n",
      " [0. 1. 0. 0. 0. 0. 0.]\n",
      " [0. 1. 0. 0. 0. 1. 0.]\n",
      " [0. 1. 1. 1. 0. 1. 0.]\n",
      " [0. 0. 0. 1. 1. 1. 0.]\n",
      " [0. 0. 0. 0. 0. 0. 0.]]\n",
      "\n",
      "[[1. 0. 1. 1. 1. 1. 0.]\n",
      " [1. 0. 0. 0. 0. 0. 0.]\n",
      " [1. 0. 0. 1. 1. 1. 0.]\n",
      " [1. 0. 1. 1. 1. 0. 0.]\n",
      " [0. 0. 0. 0. 0. 0. 0.]\n",
      " [1. 1. 0. 0. 0. 0. 0.]\n",
      " [0. 0. 0. 0. 0. 0. 0.]]\n"
     ]
    }
   ],
   "source": [
    "\"\"\"The fleet positions of player 1 and player 2\"\"\"\n",
    "print(p1_fb)\n",
    "print()\n",
    "print(p2_fb)"
   ]
  },
  {
   "cell_type": "code",
   "execution_count": 9,
   "metadata": {},
   "outputs": [
    {
     "name": "stdout",
     "output_type": "stream",
     "text": [
      "16.0 16.0\n"
     ]
    }
   ],
   "source": [
    "i = p1_fb.sum()\n",
    "j = p2_fb.sum()\n",
    "print(i,j)"
   ]
  },
  {
   "cell_type": "code",
   "execution_count": 10,
   "metadata": {},
   "outputs": [
    {
     "name": "stdout",
     "output_type": "stream",
     "text": [
      "Who's turn is this? player 1 or 2 :1\n",
      "player1, choose a coordinate x,y on the board p2_fb: 1,1\n",
      "16.0\n",
      "[[1. 0. 1. 1. 1. 1. 0.]\n",
      " [1. 0. 0. 0. 0. 0. 0.]\n",
      " [1. 0. 0. 1. 1. 1. 0.]\n",
      " [1. 0. 1. 1. 1. 0. 0.]\n",
      " [0. 0. 0. 0. 0. 0. 0.]\n",
      " [1. 1. 0. 0. 0. 0. 0.]\n",
      " [0. 0. 0. 0. 0. 0. 0.]]\n"
     ]
    },
    {
     "ename": "KeyboardInterrupt",
     "evalue": "",
     "output_type": "error",
     "traceback": [
      "\u001b[0;31m---------------------------------------------------------------------------\u001b[0m",
      "\u001b[0;31mKeyboardInterrupt\u001b[0m                         Traceback (most recent call last)",
      "\u001b[0;32m/opt/anaconda3/lib/python3.7/site-packages/ipykernel/kernelbase.py\u001b[0m in \u001b[0;36m_input_request\u001b[0;34m(self, prompt, ident, parent, password)\u001b[0m\n\u001b[1;32m    884\u001b[0m             \u001b[0;32mtry\u001b[0m\u001b[0;34m:\u001b[0m\u001b[0;34m\u001b[0m\u001b[0;34m\u001b[0m\u001b[0m\n\u001b[0;32m--> 885\u001b[0;31m                 \u001b[0mident\u001b[0m\u001b[0;34m,\u001b[0m \u001b[0mreply\u001b[0m \u001b[0;34m=\u001b[0m \u001b[0mself\u001b[0m\u001b[0;34m.\u001b[0m\u001b[0msession\u001b[0m\u001b[0;34m.\u001b[0m\u001b[0mrecv\u001b[0m\u001b[0;34m(\u001b[0m\u001b[0mself\u001b[0m\u001b[0;34m.\u001b[0m\u001b[0mstdin_socket\u001b[0m\u001b[0;34m,\u001b[0m \u001b[0;36m0\u001b[0m\u001b[0;34m)\u001b[0m\u001b[0;34m\u001b[0m\u001b[0;34m\u001b[0m\u001b[0m\n\u001b[0m\u001b[1;32m    886\u001b[0m             \u001b[0;32mexcept\u001b[0m \u001b[0mException\u001b[0m\u001b[0;34m:\u001b[0m\u001b[0;34m\u001b[0m\u001b[0;34m\u001b[0m\u001b[0m\n",
      "\u001b[0;32m/opt/anaconda3/lib/python3.7/site-packages/jupyter_client/session.py\u001b[0m in \u001b[0;36mrecv\u001b[0;34m(self, socket, mode, content, copy)\u001b[0m\n\u001b[1;32m    802\u001b[0m         \u001b[0;32mtry\u001b[0m\u001b[0;34m:\u001b[0m\u001b[0;34m\u001b[0m\u001b[0;34m\u001b[0m\u001b[0m\n\u001b[0;32m--> 803\u001b[0;31m             \u001b[0mmsg_list\u001b[0m \u001b[0;34m=\u001b[0m \u001b[0msocket\u001b[0m\u001b[0;34m.\u001b[0m\u001b[0mrecv_multipart\u001b[0m\u001b[0;34m(\u001b[0m\u001b[0mmode\u001b[0m\u001b[0;34m,\u001b[0m \u001b[0mcopy\u001b[0m\u001b[0;34m=\u001b[0m\u001b[0mcopy\u001b[0m\u001b[0;34m)\u001b[0m\u001b[0;34m\u001b[0m\u001b[0;34m\u001b[0m\u001b[0m\n\u001b[0m\u001b[1;32m    804\u001b[0m         \u001b[0;32mexcept\u001b[0m \u001b[0mzmq\u001b[0m\u001b[0;34m.\u001b[0m\u001b[0mZMQError\u001b[0m \u001b[0;32mas\u001b[0m \u001b[0me\u001b[0m\u001b[0;34m:\u001b[0m\u001b[0;34m\u001b[0m\u001b[0;34m\u001b[0m\u001b[0m\n",
      "\u001b[0;32m/opt/anaconda3/lib/python3.7/site-packages/zmq/sugar/socket.py\u001b[0m in \u001b[0;36mrecv_multipart\u001b[0;34m(self, flags, copy, track)\u001b[0m\n\u001b[1;32m    474\u001b[0m         \"\"\"\n\u001b[0;32m--> 475\u001b[0;31m         \u001b[0mparts\u001b[0m \u001b[0;34m=\u001b[0m \u001b[0;34m[\u001b[0m\u001b[0mself\u001b[0m\u001b[0;34m.\u001b[0m\u001b[0mrecv\u001b[0m\u001b[0;34m(\u001b[0m\u001b[0mflags\u001b[0m\u001b[0;34m,\u001b[0m \u001b[0mcopy\u001b[0m\u001b[0;34m=\u001b[0m\u001b[0mcopy\u001b[0m\u001b[0;34m,\u001b[0m \u001b[0mtrack\u001b[0m\u001b[0;34m=\u001b[0m\u001b[0mtrack\u001b[0m\u001b[0;34m)\u001b[0m\u001b[0;34m]\u001b[0m\u001b[0;34m\u001b[0m\u001b[0;34m\u001b[0m\u001b[0m\n\u001b[0m\u001b[1;32m    476\u001b[0m         \u001b[0;31m# have first part already, only loop while more to receive\u001b[0m\u001b[0;34m\u001b[0m\u001b[0;34m\u001b[0m\u001b[0;34m\u001b[0m\u001b[0m\n",
      "\u001b[0;32mzmq/backend/cython/socket.pyx\u001b[0m in \u001b[0;36mzmq.backend.cython.socket.Socket.recv\u001b[0;34m()\u001b[0m\n",
      "\u001b[0;32mzmq/backend/cython/socket.pyx\u001b[0m in \u001b[0;36mzmq.backend.cython.socket.Socket.recv\u001b[0;34m()\u001b[0m\n",
      "\u001b[0;32mzmq/backend/cython/socket.pyx\u001b[0m in \u001b[0;36mzmq.backend.cython.socket._recv_copy\u001b[0;34m()\u001b[0m\n",
      "\u001b[0;32m/opt/anaconda3/lib/python3.7/site-packages/zmq/backend/cython/checkrc.pxd\u001b[0m in \u001b[0;36mzmq.backend.cython.checkrc._check_rc\u001b[0;34m()\u001b[0m\n",
      "\u001b[0;31mKeyboardInterrupt\u001b[0m: ",
      "\nDuring handling of the above exception, another exception occurred:\n",
      "\u001b[0;31mKeyboardInterrupt\u001b[0m                         Traceback (most recent call last)",
      "\u001b[0;32m<ipython-input-10-a91a49cbce79>\u001b[0m in \u001b[0;36m<module>\u001b[0;34m\u001b[0m\n\u001b[1;32m      1\u001b[0m \u001b[0;32mwhile\u001b[0m \u001b[0mi\u001b[0m \u001b[0;32mor\u001b[0m \u001b[0mj\u001b[0m \u001b[0;34m!=\u001b[0m \u001b[0;36m0\u001b[0m\u001b[0;34m:\u001b[0m\u001b[0;34m\u001b[0m\u001b[0;34m\u001b[0m\u001b[0m\n\u001b[0;32m----> 2\u001b[0;31m     \u001b[0mTurn\u001b[0m \u001b[0;34m=\u001b[0m \u001b[0minput\u001b[0m\u001b[0;34m(\u001b[0m\u001b[0;34m\"Who's turn is this? player 1 or 2 :\"\u001b[0m\u001b[0;34m)\u001b[0m\u001b[0;34m\u001b[0m\u001b[0;34m\u001b[0m\u001b[0m\n\u001b[0m\u001b[1;32m      3\u001b[0m     \u001b[0mplayer\u001b[0m \u001b[0;34m=\u001b[0m \u001b[0mTurn\u001b[0m\u001b[0;34m\u001b[0m\u001b[0;34m\u001b[0m\u001b[0m\n\u001b[1;32m      4\u001b[0m \u001b[0;34m\u001b[0m\u001b[0m\n\u001b[1;32m      5\u001b[0m     \u001b[0;32mif\u001b[0m \u001b[0mplayer\u001b[0m \u001b[0;34m==\u001b[0m \u001b[0;34m'1'\u001b[0m\u001b[0;34m:\u001b[0m \u001b[0;31m# It is skipping this if and it goes directly to else, not recognizing \"player\"\u001b[0m\u001b[0;34m\u001b[0m\u001b[0;34m\u001b[0m\u001b[0m\n",
      "\u001b[0;32m/opt/anaconda3/lib/python3.7/site-packages/ipykernel/kernelbase.py\u001b[0m in \u001b[0;36mraw_input\u001b[0;34m(self, prompt)\u001b[0m\n\u001b[1;32m    858\u001b[0m             \u001b[0mself\u001b[0m\u001b[0;34m.\u001b[0m\u001b[0m_parent_ident\u001b[0m\u001b[0;34m,\u001b[0m\u001b[0;34m\u001b[0m\u001b[0;34m\u001b[0m\u001b[0m\n\u001b[1;32m    859\u001b[0m             \u001b[0mself\u001b[0m\u001b[0;34m.\u001b[0m\u001b[0m_parent_header\u001b[0m\u001b[0;34m,\u001b[0m\u001b[0;34m\u001b[0m\u001b[0;34m\u001b[0m\u001b[0m\n\u001b[0;32m--> 860\u001b[0;31m             \u001b[0mpassword\u001b[0m\u001b[0;34m=\u001b[0m\u001b[0;32mFalse\u001b[0m\u001b[0;34m,\u001b[0m\u001b[0;34m\u001b[0m\u001b[0;34m\u001b[0m\u001b[0m\n\u001b[0m\u001b[1;32m    861\u001b[0m         )\n\u001b[1;32m    862\u001b[0m \u001b[0;34m\u001b[0m\u001b[0m\n",
      "\u001b[0;32m/opt/anaconda3/lib/python3.7/site-packages/ipykernel/kernelbase.py\u001b[0m in \u001b[0;36m_input_request\u001b[0;34m(self, prompt, ident, parent, password)\u001b[0m\n\u001b[1;32m    888\u001b[0m             \u001b[0;32mexcept\u001b[0m \u001b[0mKeyboardInterrupt\u001b[0m\u001b[0;34m:\u001b[0m\u001b[0;34m\u001b[0m\u001b[0;34m\u001b[0m\u001b[0m\n\u001b[1;32m    889\u001b[0m                 \u001b[0;31m# re-raise KeyboardInterrupt, to truncate traceback\u001b[0m\u001b[0;34m\u001b[0m\u001b[0;34m\u001b[0m\u001b[0;34m\u001b[0m\u001b[0m\n\u001b[0;32m--> 890\u001b[0;31m                 \u001b[0;32mraise\u001b[0m \u001b[0mKeyboardInterrupt\u001b[0m\u001b[0;34m\u001b[0m\u001b[0;34m\u001b[0m\u001b[0m\n\u001b[0m\u001b[1;32m    891\u001b[0m             \u001b[0;32melse\u001b[0m\u001b[0;34m:\u001b[0m\u001b[0;34m\u001b[0m\u001b[0;34m\u001b[0m\u001b[0m\n\u001b[1;32m    892\u001b[0m                 \u001b[0;32mbreak\u001b[0m\u001b[0;34m\u001b[0m\u001b[0;34m\u001b[0m\u001b[0m\n",
      "\u001b[0;31mKeyboardInterrupt\u001b[0m: "
     ]
    }
   ],
   "source": [
    "while i or j != 0:\n",
    "    Turn = input(\"Who's turn is this? player 1 or 2 :\")\n",
    "    player = Turn\n",
    "\n",
    "    if player == '1': # It is skipping this if and it goes directly to else, not recognizing \"player\"\n",
    "        player1 = input(\"player1, choose a coordinate x,y on the board p2_fb: \")\n",
    "        x,y = player1.split(\",\")\n",
    "        x,y = int(x),int(y)\n",
    "        p2_fb[x,y] = 0\n",
    "        print(j)\n",
    "        if j < 16:\n",
    "            print(\"You hit a boat\")\n",
    "            j-=1     \n",
    "        print(p2_fb)\n",
    "    \n",
    "    if player == '2':\n",
    "        player2 = input(\"player2, choose a coordinate x,y on the board p1_fb: \")\n",
    "        x,y = player2.split(\",\")\n",
    "        x,y = int(x),int(y)\n",
    "        p1_fb[x,y] = 0 # If there is a 1 in player 2 fleet board, the boat would start to sink\n",
    "        j = p1_fb.sum()\n",
    "        print(j)\n",
    "        if p1_fb.sum() < 16:\n",
    "            print(\"You hit a boat\")\n",
    "            j-=1\n",
    "        print(p1_fb)"
   ]
  },
  {
   "cell_type": "code",
   "execution_count": 11,
   "metadata": {},
   "outputs": [
    {
     "name": "stdout",
     "output_type": "stream",
     "text": [
      "Game over\n"
     ]
    }
   ],
   "source": [
    "comparison=(p1_fb, p2_fb)\n",
    "for any in comparison:\n",
    "    if all in p1_fb == np.zeros(7,7):\n",
    "        print('Player 1 has won')\n",
    "        break\n",
    "                \n",
    "    elif all in p2_fb == np.zeros(7,7):\n",
    "        print(\"Player 2 has won\")\n",
    "        break\n",
    "    \n",
    "print(\"Game over\")"
   ]
  },
  {
   "cell_type": "code",
   "execution_count": null,
   "metadata": {},
   "outputs": [],
   "source": []
  }
 ],
 "metadata": {
  "kernelspec": {
   "display_name": "Python 3",
   "language": "python",
   "name": "python3"
  },
  "language_info": {
   "codemirror_mode": {
    "name": "ipython",
    "version": 3
   },
   "file_extension": ".py",
   "mimetype": "text/x-python",
   "name": "python",
   "nbconvert_exporter": "python",
   "pygments_lexer": "ipython3",
   "version": "3.7.4"
  }
 },
 "nbformat": 4,
 "nbformat_minor": 2
}
