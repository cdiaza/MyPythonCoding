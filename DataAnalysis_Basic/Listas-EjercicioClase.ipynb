{
 "cells": [
  {
   "cell_type": "code",
   "execution_count": null,
   "metadata": {},
   "outputs": [],
   "source": [
    "# Esta es una breve explicacion sobre el tema de las listas\n",
    "\n",
    "\"\"\"Una lista es un agrupamiento de elementos. Este agrupamiento tiene caracteristicas especiales:\n",
    "1) Los elementos de la lista pueden ser de cualquier tipo (integrales, strings, booleanos)\n",
    "2) Los elementos de la lista son mutables\n",
    "3) Los elementos estan afiliados a un indice (posicion) y se pueden llamar por el indice\n",
    "4) La lista puede contener listas y tuplas anidadas\n",
    "5) Se pueden realizar ciertas operaciones con las listas\n",
    "6) Las listas se representan con corchetes cuadrados '[]' y sus elementos van separados con comas\n",
    "7) Los elementos de las listas se puede ver con print\n",
    "8) Las listas se puden usar con funciones, con if,else, for, while, etc. Son muy utiles\n",
    "9) Existe una funcion predeterminada en python llamada list\"\"\"\n",
    "\n",
    "\"\"\"A continuacion se presentan ejemplos de listas\"\"\""
   ]
  },
  {
   "cell_type": "code",
   "execution_count": 3,
   "metadata": {},
   "outputs": [
    {
     "name": "stdout",
     "output_type": "stream",
     "text": [
      "[1, 7, 3, 9, 2, 9]\n",
      "['a', 'b', 'e', 'j', 'a', 's']\n",
      "['a', 'g', 'e', 4, 'x', 9, 12, 'b']\n"
     ]
    }
   ],
   "source": [
    "\"\"\"Ejemplo de tres listas con objetos tipo integer(int), string(str), y una combinacion de ambos\"\"\"\n",
    "list1=[1,7,3,9,2,9]\n",
    "list2=[\"a\",\"b\",\"e\",\"j\",\"a\",\"s\"] # Note que los objeto string deben llevar comillas.\n",
    "list3=[\"a\",\"g\",\"e\",4,\"x\",9,12,\"b\"]\n",
    "print(list1)\n",
    "print(list2)\n",
    "print(list3)"
   ]
  },
  {
   "cell_type": "code",
   "execution_count": 10,
   "metadata": {},
   "outputs": [
    {
     "name": "stdout",
     "output_type": "stream",
     "text": [
      "['a', 'b', 'e', [1, 2, 3], 4, 5, 6]\n"
     ]
    }
   ],
   "source": [
    "\"\"\"Ejemplo de listas anidadas\"\"\"\n",
    "list4=[\"a\",\"b\",\"e\",[1,2,3],4,5,6] # Este es una lista con otra lista anidada\n",
    "print(list4)"
   ]
  },
  {
   "cell_type": "code",
   "execution_count": null,
   "metadata": {},
   "outputs": [],
   "source": [
    "\"\"\"Ejemplo de listas anidadas\"\"\"\n",
    "list5=[\"a\",\"b\",\"e\",(1,2,3),4,5,6] # Este es una lista con una tupla anidada. Los elementos de la tupla no mutan.\n",
    "print(list5)"
   ]
  },
  {
   "cell_type": "code",
   "execution_count": 5,
   "metadata": {},
   "outputs": [
    {
     "name": "stdout",
     "output_type": "stream",
     "text": [
      "[1, 2, 3]\n"
     ]
    }
   ],
   "source": [
    "\"\"\"Los elementos de la lista se pueden llamar usando su indice\"\"\"\n",
    "print(list4[3]) # Se imprime el elemento numero 3 de la lista. Note que los indices comienzan por cero (0)."
   ]
  },
  {
   "cell_type": "code",
   "execution_count": 13,
   "metadata": {},
   "outputs": [
    {
     "name": "stdout",
     "output_type": "stream",
     "text": [
      "[1, 7, 3, 9, 2, 9, 'a', 'b', 'e', 'j', 'a', 's']\n",
      "[1, 7, 3, 9, 2, 9, 1, 7, 3, 9, 2, 9]\n"
     ]
    }
   ],
   "source": [
    "\"\"\"Ejemplo de operaciones con listas\"\"\"\n",
    "list6=list1+list2 # Los elementos de la list1 y los de la list2 se combinan en una sola lista, en el orden dado.\n",
    "list7=list1*2  # Los elementos de la lista 1 se escriben dos veces, manteniendo el orden original de list1\n",
    "print(list6)\n",
    "print(list7)"
   ]
  },
  {
   "cell_type": "code",
   "execution_count": 14,
   "metadata": {},
   "outputs": [
    {
     "name": "stdout",
     "output_type": "stream",
     "text": [
      "['a', 'b', 'e', ['g', 'z', 10], 4, 5, 6]\n"
     ]
    }
   ],
   "source": [
    "\"\"\"Los elementos de la lista se pueden reemplazar todos la mismo tiempo\"\"\"\n",
    "list4=[\"a\",\"b\",\"e\",[\"g\",\"z\",10],4,5,6] # Se reemplazan los elementos que se necesiten\n",
    "print(list4) # La list4 de antes quedo reemplazada con esta list4"
   ]
  },
  {
   "cell_type": "code",
   "execution_count": 15,
   "metadata": {},
   "outputs": [
    {
     "name": "stdout",
     "output_type": "stream",
     "text": [
      "[3, 'b', 'e', ['g', 'z', 10], 4, 5, 6]\n"
     ]
    }
   ],
   "source": [
    "\"\"\"Elementos especificos de la lista se pueden reemplazar llamandolo por el indice\"\"\"\n",
    "list4[0]=3\n",
    "print(list4)"
   ]
  },
  {
   "cell_type": "code",
   "execution_count": 19,
   "metadata": {},
   "outputs": [
    {
     "name": "stdout",
     "output_type": "stream",
     "text": [
      "7\n"
     ]
    }
   ],
   "source": [
    "\"\"\"Conocer la longitud de la lista\"\"\"\n",
    "print(len(list4))"
   ]
  },
  {
   "cell_type": "code",
   "execution_count": 22,
   "metadata": {},
   "outputs": [
    {
     "name": "stdout",
     "output_type": "stream",
     "text": [
      "['b', 'e', ['g', 'z', 10], 4]\n"
     ]
    }
   ],
   "source": [
    "\"\"\"Las listas son muy versatiles:\n",
    "Por ejemplo, ciertos elementos de la lista se pueden llamar\"\"\"\n",
    "print(list4[1:-2])"
   ]
  },
  {
   "cell_type": "code",
   "execution_count": 23,
   "metadata": {},
   "outputs": [
    {
     "name": "stdout",
     "output_type": "stream",
     "text": [
      "['ahora', 'sera', 'una', 'lista', 'larga', [3, 'b', 'e', ['g', 'z', 10], 4, 5, 6]]\n"
     ]
    }
   ],
   "source": [
    "\"\"\"Las listas son muy versatiles:\n",
    "Se pueden aplicar diferentes metodos\"\"\"\n",
    "list8=[\"ahora\",\"sera\",\"una\",\"lista\",\"larga\"]\n",
    "list8.append(list4)\n",
    "print(list8)"
   ]
  },
  {
   "cell_type": "code",
   "execution_count": 27,
   "metadata": {},
   "outputs": [
    {
     "name": "stdout",
     "output_type": "stream",
     "text": [
      "[4, 7, 2, 5, 6]\n"
     ]
    }
   ],
   "source": [
    "\"\"\"Similar al append es el extend\"\"\"\n",
    "list9=[4,7,2]\n",
    "list9.extend([5,6])\n",
    "print(list9)"
   ]
  },
  {
   "cell_type": "code",
   "execution_count": 26,
   "metadata": {},
   "outputs": [
    {
     "name": "stdout",
     "output_type": "stream",
     "text": [
      "[1, 2, 3, 3, 4, 5, 5, 1]\n"
     ]
    },
    {
     "data": {
      "text/plain": [
       "2"
      ]
     },
     "execution_count": 26,
     "metadata": {},
     "output_type": "execute_result"
    }
   ],
   "source": [
    "\"\"\"Se pueden contar cuantas veces hay un mismo elemento\"\"\"\n",
    "list10=[1,2,3,3,4,5,5,1]\n",
    "print(list10) # El elemento 1 esta dos veces\n",
    "list10.count(1)"
   ]
  },
  {
   "cell_type": "code",
   "execution_count": 33,
   "metadata": {},
   "outputs": [
    {
     "name": "stdout",
     "output_type": "stream",
     "text": [
      "5\n"
     ]
    }
   ],
   "source": [
    "\"\"\"Se puede imprimir un indice especifico usando la prefuncion index\"\"\"\n",
    "print(list10.index(5))"
   ]
  },
  {
   "cell_type": "code",
   "execution_count": 34,
   "metadata": {},
   "outputs": [
    {
     "name": "stdout",
     "output_type": "stream",
     "text": [
      "['a', 1, 2, 3, 3, 4, 5, 5, 1]\n"
     ]
    }
   ],
   "source": [
    "\"\"\"Se puede insertar elementos en la lista indicando en que indice\"\"\"\n",
    "list10.insert(0,\"a\")\n",
    "print(list10)"
   ]
  },
  {
   "cell_type": "code",
   "execution_count": 35,
   "metadata": {},
   "outputs": [
    {
     "name": "stdout",
     "output_type": "stream",
     "text": [
      "['a', 1, 3, 3, 4, 5, 5, 1]\n"
     ]
    }
   ],
   "source": [
    "\"\"\"Tambien se pueden remover elementos llamandolos directamente\"\"\"\n",
    "list10.remove(2)\n",
    "print(list10)"
   ]
  },
  {
   "cell_type": "code",
   "execution_count": 42,
   "metadata": {},
   "outputs": [
    {
     "name": "stdout",
     "output_type": "stream",
     "text": [
      "['d', 'e', 'a']\n"
     ]
    }
   ],
   "source": [
    "\"\"\"Se pueden llamar los elementos de la lista en orden inverso\"\"\"\n",
    "list11=[\"a\",\"e\",\"d\"]\n",
    "list11.reverse()\n",
    "print(list11)"
   ]
  },
  {
   "cell_type": "code",
   "execution_count": 43,
   "metadata": {},
   "outputs": [
    {
     "name": "stdout",
     "output_type": "stream",
     "text": [
      "[0, 1, 4, 7, 8, 9]\n",
      "['a', 'd', 'e']\n"
     ]
    }
   ],
   "source": [
    "\"Tambien se pueden organizar los elementos automaticamente\"\n",
    "list12=[9,4,8,1,7,0]\n",
    "list12.sort()\n",
    "list11.sort()\n",
    "print(list12)\n",
    "print(list11)"
   ]
  },
  {
   "cell_type": "code",
   "execution_count": 44,
   "metadata": {},
   "outputs": [
    {
     "name": "stdout",
     "output_type": "stream",
     "text": [
      "[0, 1, 2, 3, 4]\n"
     ]
    }
   ],
   "source": [
    "\"\"\"Podemos generar una lista con la funcion list\"\"\"\n",
    "list13=list(range(5)) # Se genera una lista con 5 elementos\n",
    "print(list13) # Los elementos comienzan por cero, si no se especifica nada."
   ]
  }
 ],
 "metadata": {
  "kernelspec": {
   "display_name": "Python 3",
   "language": "python",
   "name": "python3"
  },
  "language_info": {
   "codemirror_mode": {
    "name": "ipython",
    "version": 3
   },
   "file_extension": ".py",
   "mimetype": "text/x-python",
   "name": "python",
   "nbconvert_exporter": "python",
   "pygments_lexer": "ipython3",
   "version": "3.7.4"
  }
 },
 "nbformat": 4,
 "nbformat_minor": 2
}
