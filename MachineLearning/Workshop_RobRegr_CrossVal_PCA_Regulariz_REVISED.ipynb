{
 "cells": [
  {
   "cell_type": "code",
   "execution_count": 314,
   "metadata": {},
   "outputs": [],
   "source": [
    "import pandas as pd\n",
    "import numpy as np\n",
    "import seaborn as sns; sns.set()\n",
    "import matplotlib.pyplot as plt\n",
    "import sklearn\n",
    "import graphviz\n",
    "import joblib\n",
    "from mpl_toolkits.mplot3d import Axes3D\n",
    "from sklearn import decomposition,datasets,preprocessing,svm,metrics\n",
    "from sklearn.decomposition import PCA,IncrementalPCA\n",
    "from sklearn.preprocessing import StandardScaler,LabelEncoder,MinMaxScaler\n",
    "from sklearn.linear_model import RANSACRegressor,HuberRegressor,LinearRegression\n",
    "from sklearn.svm import SVR,SVC\n",
    "from sklearn.model_selection import train_test_split,cross_val_score,KFold,RandomizedSearchCV,GridSearchCV\n",
    "from sklearn.metrics import mean_squared_error,classification_report,r2_score,f1_score,jaccard_score,jaccard_similarity_score,accuracy_score,confusion_matrix,silhouette_score\n",
    "from sklearn.tree import DecisionTreeClassifier,export_graphviz\n",
    "from sklearn.neighbors import KNeighborsClassifier\n",
    "from sklearn.ensemble import RandomForestRegressor,GradientBoostingRegressor,BaggingClassifier,GradientBoostingClassifier,AdaBoostClassifier\n",
    "from sklearn.linear_model import LogisticRegression,Lasso,Ridge,LinearRegression,ElasticNet\n",
    "from sklearn.externals.six import StringIO\n",
    "from IPython.display import SVG\n",
    "from sklearn.cluster import KMeans,MiniBatchKMeans,SpectralClustering,AgglomerativeClustering,DBSCAN\n",
    "from IPython.display import IFrame\n",
    "from scipy.cluster import hierarchy \n",
    "from scipy.spatial import distance_matrix\n",
    "\n",
    "%matplotlib inline"
   ]
  },
  {
   "cell_type": "markdown",
   "metadata": {},
   "source": [
    "Helpful info:\n",
    "\n",
    "https://www.kaggle.com/getting-started/132533\n",
    "\n",
    "https://www.kaggle.com/kashnitsky/topic-7-unsupervised-learning-pca-and-clustering\n",
    "\n",
    "https://scikit-learn.org/stable/auto_examples/decomposition/plot_pca_3d.html#sphx-glr-auto-examples-decomposition-plot-pca-3d-py"
   ]
  },
  {
   "cell_type": "markdown",
   "metadata": {},
   "source": [
    "### Pizza Dataset: https://data.world/sdhilip/pizza-datasets"
   ]
  },
  {
   "cell_type": "code",
   "execution_count": 399,
   "metadata": {},
   "outputs": [
    {
     "data": {
      "text/html": [
       "<div>\n",
       "<style scoped>\n",
       "    .dataframe tbody tr th:only-of-type {\n",
       "        vertical-align: middle;\n",
       "    }\n",
       "\n",
       "    .dataframe tbody tr th {\n",
       "        vertical-align: top;\n",
       "    }\n",
       "\n",
       "    .dataframe thead th {\n",
       "        text-align: right;\n",
       "    }\n",
       "</style>\n",
       "<table border=\"1\" class=\"dataframe\">\n",
       "  <thead>\n",
       "    <tr style=\"text-align: right;\">\n",
       "      <th></th>\n",
       "      <th>brand</th>\n",
       "      <th>id</th>\n",
       "      <th>mois</th>\n",
       "      <th>prot</th>\n",
       "      <th>fat</th>\n",
       "      <th>ash</th>\n",
       "      <th>sodium</th>\n",
       "      <th>carb</th>\n",
       "      <th>cal</th>\n",
       "    </tr>\n",
       "  </thead>\n",
       "  <tbody>\n",
       "    <tr>\n",
       "      <td>0</td>\n",
       "      <td>A</td>\n",
       "      <td>14069</td>\n",
       "      <td>27.82</td>\n",
       "      <td>21.43</td>\n",
       "      <td>44.87</td>\n",
       "      <td>5.11</td>\n",
       "      <td>1.77</td>\n",
       "      <td>0.77</td>\n",
       "      <td>4.93</td>\n",
       "    </tr>\n",
       "    <tr>\n",
       "      <td>1</td>\n",
       "      <td>A</td>\n",
       "      <td>14053</td>\n",
       "      <td>28.49</td>\n",
       "      <td>21.26</td>\n",
       "      <td>43.89</td>\n",
       "      <td>5.34</td>\n",
       "      <td>1.79</td>\n",
       "      <td>1.02</td>\n",
       "      <td>4.84</td>\n",
       "    </tr>\n",
       "    <tr>\n",
       "      <td>2</td>\n",
       "      <td>A</td>\n",
       "      <td>14025</td>\n",
       "      <td>28.35</td>\n",
       "      <td>19.99</td>\n",
       "      <td>45.78</td>\n",
       "      <td>5.08</td>\n",
       "      <td>1.63</td>\n",
       "      <td>0.80</td>\n",
       "      <td>4.95</td>\n",
       "    </tr>\n",
       "    <tr>\n",
       "      <td>3</td>\n",
       "      <td>A</td>\n",
       "      <td>14016</td>\n",
       "      <td>30.55</td>\n",
       "      <td>20.15</td>\n",
       "      <td>43.13</td>\n",
       "      <td>4.79</td>\n",
       "      <td>1.61</td>\n",
       "      <td>1.38</td>\n",
       "      <td>4.74</td>\n",
       "    </tr>\n",
       "    <tr>\n",
       "      <td>4</td>\n",
       "      <td>A</td>\n",
       "      <td>14005</td>\n",
       "      <td>30.49</td>\n",
       "      <td>21.28</td>\n",
       "      <td>41.65</td>\n",
       "      <td>4.82</td>\n",
       "      <td>1.64</td>\n",
       "      <td>1.76</td>\n",
       "      <td>4.67</td>\n",
       "    </tr>\n",
       "  </tbody>\n",
       "</table>\n",
       "</div>"
      ],
      "text/plain": [
       "  brand     id   mois   prot    fat   ash  sodium  carb   cal\n",
       "0     A  14069  27.82  21.43  44.87  5.11    1.77  0.77  4.93\n",
       "1     A  14053  28.49  21.26  43.89  5.34    1.79  1.02  4.84\n",
       "2     A  14025  28.35  19.99  45.78  5.08    1.63  0.80  4.95\n",
       "3     A  14016  30.55  20.15  43.13  4.79    1.61  1.38  4.74\n",
       "4     A  14005  30.49  21.28  41.65  4.82    1.64  1.76  4.67"
      ]
     },
     "execution_count": 399,
     "metadata": {},
     "output_type": "execute_result"
    }
   ],
   "source": [
    "pizza = pd.read_csv(\"pizza.csv\")\n",
    "pizza.head() # id -- Sample analysed"
   ]
  },
  {
   "cell_type": "code",
   "execution_count": 316,
   "metadata": {},
   "outputs": [
    {
     "data": {
      "text/plain": [
       "(300, 9)"
      ]
     },
     "execution_count": 316,
     "metadata": {},
     "output_type": "execute_result"
    }
   ],
   "source": [
    "pizza.shape"
   ]
  },
  {
   "cell_type": "code",
   "execution_count": 317,
   "metadata": {},
   "outputs": [
    {
     "name": "stdout",
     "output_type": "stream",
     "text": [
      "['A' 'B' 'C' 'D' 'E' 'F' 'G' 'H' 'I' 'J']\n"
     ]
    }
   ],
   "source": [
    "labels = pizza['brand']  # brand -- Pizza brand (class label)\n",
    "classes = pizza['brand'].unique()\n",
    "print(classes)"
   ]
  },
  {
   "cell_type": "code",
   "execution_count": 400,
   "metadata": {},
   "outputs": [
    {
     "data": {
      "text/plain": [
       "H    33\n",
       "J    32\n",
       "D    32\n",
       "B    31\n",
       "F    30\n",
       "I    29\n",
       "G    29\n",
       "A    29\n",
       "E    28\n",
       "C    27\n",
       "Name: brand, dtype: int64"
      ]
     },
     "execution_count": 400,
     "metadata": {},
     "output_type": "execute_result"
    }
   ],
   "source": [
    "pizza['brand'].value_counts()"
   ]
  },
  {
   "cell_type": "code",
   "execution_count": 319,
   "metadata": {},
   "outputs": [
    {
     "name": "stdout",
     "output_type": "stream",
     "text": [
      "[0 1 2 3 4 5 6 7 8 9]\n"
     ]
    }
   ],
   "source": [
    "le1 = preprocessing.LabelEncoder()\n",
    "pizza['brand'] = le1.fit_transform(pizza['brand'])\n",
    "labels = pizza['brand']\n",
    "classes = pizza['brand'].unique()\n",
    "print(classes)"
   ]
  },
  {
   "cell_type": "code",
   "execution_count": 320,
   "metadata": {},
   "outputs": [
    {
     "data": {
      "text/plain": [
       "7    33\n",
       "9    32\n",
       "3    32\n",
       "1    31\n",
       "5    30\n",
       "8    29\n",
       "6    29\n",
       "0    29\n",
       "4    28\n",
       "2    27\n",
       "Name: brand, dtype: int64"
      ]
     },
     "execution_count": 320,
     "metadata": {},
     "output_type": "execute_result"
    }
   ],
   "source": [
    "pizza['brand'].value_counts()"
   ]
  },
  {
   "cell_type": "code",
   "execution_count": 321,
   "metadata": {},
   "outputs": [
    {
     "data": {
      "text/html": [
       "<div>\n",
       "<style scoped>\n",
       "    .dataframe tbody tr th:only-of-type {\n",
       "        vertical-align: middle;\n",
       "    }\n",
       "\n",
       "    .dataframe tbody tr th {\n",
       "        vertical-align: top;\n",
       "    }\n",
       "\n",
       "    .dataframe thead th {\n",
       "        text-align: right;\n",
       "    }\n",
       "</style>\n",
       "<table border=\"1\" class=\"dataframe\">\n",
       "  <thead>\n",
       "    <tr style=\"text-align: right;\">\n",
       "      <th></th>\n",
       "      <th>brand</th>\n",
       "      <th>mois</th>\n",
       "      <th>prot</th>\n",
       "      <th>fat</th>\n",
       "      <th>ash</th>\n",
       "      <th>sodium</th>\n",
       "      <th>carb</th>\n",
       "      <th>cal</th>\n",
       "    </tr>\n",
       "  </thead>\n",
       "  <tbody>\n",
       "    <tr>\n",
       "      <td>0</td>\n",
       "      <td>0</td>\n",
       "      <td>27.82</td>\n",
       "      <td>21.43</td>\n",
       "      <td>44.87</td>\n",
       "      <td>5.11</td>\n",
       "      <td>1.77</td>\n",
       "      <td>0.77</td>\n",
       "      <td>4.93</td>\n",
       "    </tr>\n",
       "    <tr>\n",
       "      <td>1</td>\n",
       "      <td>0</td>\n",
       "      <td>28.49</td>\n",
       "      <td>21.26</td>\n",
       "      <td>43.89</td>\n",
       "      <td>5.34</td>\n",
       "      <td>1.79</td>\n",
       "      <td>1.02</td>\n",
       "      <td>4.84</td>\n",
       "    </tr>\n",
       "  </tbody>\n",
       "</table>\n",
       "</div>"
      ],
      "text/plain": [
       "   brand   mois   prot    fat   ash  sodium  carb   cal\n",
       "0      0  27.82  21.43  44.87  5.11    1.77  0.77  4.93\n",
       "1      0  28.49  21.26  43.89  5.34    1.79  1.02  4.84"
      ]
     },
     "execution_count": 321,
     "metadata": {},
     "output_type": "execute_result"
    }
   ],
   "source": [
    "pizza_no_id = pizza.drop(columns='id').copy() # df.drop(df.columns[['A', 'B']], axis=1, inplace=True)\n",
    "pizza_no_id.head(2)"
   ]
  },
  {
   "cell_type": "code",
   "execution_count": 322,
   "metadata": {},
   "outputs": [
    {
     "data": {
      "text/plain": [
       "(300, 8)"
      ]
     },
     "execution_count": 322,
     "metadata": {},
     "output_type": "execute_result"
    }
   ],
   "source": [
    "pizza_no_id.shape"
   ]
  },
  {
   "cell_type": "code",
   "execution_count": 323,
   "metadata": {},
   "outputs": [
    {
     "data": {
      "text/plain": [
       "brand     0\n",
       "mois      0\n",
       "prot      0\n",
       "fat       0\n",
       "ash       0\n",
       "sodium    0\n",
       "carb      0\n",
       "cal       0\n",
       "dtype: int64"
      ]
     },
     "execution_count": 323,
     "metadata": {},
     "output_type": "execute_result"
    }
   ],
   "source": [
    "pizza_no_id.isnull().sum()"
   ]
  },
  {
   "cell_type": "code",
   "execution_count": 324,
   "metadata": {},
   "outputs": [
    {
     "data": {
      "text/plain": [
       "brand       int64\n",
       "mois      float64\n",
       "prot      float64\n",
       "fat       float64\n",
       "ash       float64\n",
       "sodium    float64\n",
       "carb      float64\n",
       "cal       float64\n",
       "dtype: object"
      ]
     },
     "execution_count": 324,
     "metadata": {},
     "output_type": "execute_result"
    }
   ],
   "source": [
    "pizza_no_id.dtypes"
   ]
  },
  {
   "cell_type": "code",
   "execution_count": 325,
   "metadata": {},
   "outputs": [
    {
     "data": {
      "text/html": [
       "<div>\n",
       "<style scoped>\n",
       "    .dataframe tbody tr th:only-of-type {\n",
       "        vertical-align: middle;\n",
       "    }\n",
       "\n",
       "    .dataframe tbody tr th {\n",
       "        vertical-align: top;\n",
       "    }\n",
       "\n",
       "    .dataframe thead th {\n",
       "        text-align: right;\n",
       "    }\n",
       "</style>\n",
       "<table border=\"1\" class=\"dataframe\">\n",
       "  <thead>\n",
       "    <tr style=\"text-align: right;\">\n",
       "      <th></th>\n",
       "      <th>mois</th>\n",
       "      <th>prot</th>\n",
       "      <th>fat</th>\n",
       "      <th>ash</th>\n",
       "      <th>sodium</th>\n",
       "      <th>carb</th>\n",
       "      <th>cal</th>\n",
       "    </tr>\n",
       "  </thead>\n",
       "  <tbody>\n",
       "    <tr>\n",
       "      <td>0</td>\n",
       "      <td>27.82</td>\n",
       "      <td>21.43</td>\n",
       "      <td>44.87</td>\n",
       "      <td>5.11</td>\n",
       "      <td>1.77</td>\n",
       "      <td>0.77</td>\n",
       "      <td>4.93</td>\n",
       "    </tr>\n",
       "    <tr>\n",
       "      <td>1</td>\n",
       "      <td>28.49</td>\n",
       "      <td>21.26</td>\n",
       "      <td>43.89</td>\n",
       "      <td>5.34</td>\n",
       "      <td>1.79</td>\n",
       "      <td>1.02</td>\n",
       "      <td>4.84</td>\n",
       "    </tr>\n",
       "    <tr>\n",
       "      <td>2</td>\n",
       "      <td>28.35</td>\n",
       "      <td>19.99</td>\n",
       "      <td>45.78</td>\n",
       "      <td>5.08</td>\n",
       "      <td>1.63</td>\n",
       "      <td>0.80</td>\n",
       "      <td>4.95</td>\n",
       "    </tr>\n",
       "  </tbody>\n",
       "</table>\n",
       "</div>"
      ],
      "text/plain": [
       "    mois   prot    fat   ash  sodium  carb   cal\n",
       "0  27.82  21.43  44.87  5.11    1.77  0.77  4.93\n",
       "1  28.49  21.26  43.89  5.34    1.79  1.02  4.84\n",
       "2  28.35  19.99  45.78  5.08    1.63  0.80  4.95"
      ]
     },
     "execution_count": 325,
     "metadata": {},
     "output_type": "execute_result"
    }
   ],
   "source": [
    "pizza_no_brand = pizza_no_id.drop(columns='brand').copy()\n",
    "pizza_no_brand.head(3)"
   ]
  },
  {
   "cell_type": "code",
   "execution_count": 326,
   "metadata": {},
   "outputs": [
    {
     "data": {
      "text/plain": [
       "(300, 7)"
      ]
     },
     "execution_count": 326,
     "metadata": {},
     "output_type": "execute_result"
    }
   ],
   "source": [
    "pizza_no_brand.shape"
   ]
  },
  {
   "cell_type": "code",
   "execution_count": 331,
   "metadata": {},
   "outputs": [
    {
     "data": {
      "image/png": "[encoded data removed]",
      "text/plain": [
       "<Figure size 648x648 with 49 Axes>"
      ]
     },
     "metadata": {
      "needs_background": "light"
     },
     "output_type": "display_data"
    }
   ],
   "source": [
    "d = pd.plotting.scatter_matrix(pizza_no_brand, c = pizza.brand, figsize = (9, 9))\n",
    "# I would like to assign the colors to the different pizza brands such that I don't have to guess from the table.\n",
    "# For example, dark grey is brand = 0."
   ]
  },
  {
   "cell_type": "code",
   "execution_count": 330,
   "metadata": {
    "scrolled": true
   },
   "outputs": [
    {
     "data": {
      "text/html": [
       "<div>\n",
       "<style scoped>\n",
       "    .dataframe tbody tr th:only-of-type {\n",
       "        vertical-align: middle;\n",
       "    }\n",
       "\n",
       "    .dataframe tbody tr th {\n",
       "        vertical-align: top;\n",
       "    }\n",
       "\n",
       "    .dataframe thead th {\n",
       "        text-align: right;\n",
       "    }\n",
       "</style>\n",
       "<table border=\"1\" class=\"dataframe\">\n",
       "  <thead>\n",
       "    <tr style=\"text-align: right;\">\n",
       "      <th></th>\n",
       "      <th>brand</th>\n",
       "      <th>0</th>\n",
       "      <th>1</th>\n",
       "      <th>2</th>\n",
       "      <th>3</th>\n",
       "      <th>4</th>\n",
       "      <th>5</th>\n",
       "      <th>6</th>\n",
       "      <th>7</th>\n",
       "      <th>8</th>\n",
       "      <th>9</th>\n",
       "    </tr>\n",
       "  </thead>\n",
       "  <tbody>\n",
       "    <tr>\n",
       "      <td rowspan=\"2\" valign=\"top\">mois</td>\n",
       "      <td>mean</td>\n",
       "      <td>29.966207</td>\n",
       "      <td>51.307742</td>\n",
       "      <td>49.477407</td>\n",
       "      <td>47.671250</td>\n",
       "      <td>36.083214</td>\n",
       "      <td>29.404333</td>\n",
       "      <td>28.241034</td>\n",
       "      <td>35.825152</td>\n",
       "      <td>54.592759</td>\n",
       "      <td>46.035000</td>\n",
       "    </tr>\n",
       "    <tr>\n",
       "      <td>std</td>\n",
       "      <td>1.955413</td>\n",
       "      <td>1.728696</td>\n",
       "      <td>1.509749</td>\n",
       "      <td>1.138275</td>\n",
       "      <td>1.755293</td>\n",
       "      <td>0.922264</td>\n",
       "      <td>1.506134</td>\n",
       "      <td>1.382209</td>\n",
       "      <td>0.979143</td>\n",
       "      <td>1.395033</td>\n",
       "    </tr>\n",
       "    <tr>\n",
       "      <td rowspan=\"2\" valign=\"top\">prot</td>\n",
       "      <td>mean</td>\n",
       "      <td>20.107241</td>\n",
       "      <td>13.638710</td>\n",
       "      <td>26.025556</td>\n",
       "      <td>22.231250</td>\n",
       "      <td>7.732857</td>\n",
       "      <td>7.898000</td>\n",
       "      <td>8.236552</td>\n",
       "      <td>7.894545</td>\n",
       "      <td>10.383103</td>\n",
       "      <td>10.566250</td>\n",
       "    </tr>\n",
       "    <tr>\n",
       "      <td>std</td>\n",
       "      <td>1.079441</td>\n",
       "      <td>0.509913</td>\n",
       "      <td>1.205728</td>\n",
       "      <td>1.389281</td>\n",
       "      <td>0.394357</td>\n",
       "      <td>0.219441</td>\n",
       "      <td>0.188021</td>\n",
       "      <td>0.422604</td>\n",
       "      <td>0.543120</td>\n",
       "      <td>0.643658</td>\n",
       "    </tr>\n",
       "    <tr>\n",
       "      <td rowspan=\"2\" valign=\"top\">fat</td>\n",
       "      <td>mean</td>\n",
       "      <td>43.446897</td>\n",
       "      <td>27.620323</td>\n",
       "      <td>19.171111</td>\n",
       "      <td>21.645312</td>\n",
       "      <td>15.115714</td>\n",
       "      <td>16.424667</td>\n",
       "      <td>15.643793</td>\n",
       "      <td>14.291515</td>\n",
       "      <td>13.060690</td>\n",
       "      <td>16.324062</td>\n",
       "    </tr>\n",
       "    <tr>\n",
       "      <td>std</td>\n",
       "      <td>1.863102</td>\n",
       "      <td>2.182310</td>\n",
       "      <td>2.425016</td>\n",
       "      <td>2.411228</td>\n",
       "      <td>4.107434</td>\n",
       "      <td>2.239385</td>\n",
       "      <td>1.889167</td>\n",
       "      <td>3.589726</td>\n",
       "      <td>0.919087</td>\n",
       "      <td>1.130172</td>\n",
       "    </tr>\n",
       "    <tr>\n",
       "      <td rowspan=\"2\" valign=\"top\">ash</td>\n",
       "      <td>mean</td>\n",
       "      <td>5.014483</td>\n",
       "      <td>3.463548</td>\n",
       "      <td>3.283333</td>\n",
       "      <td>4.315938</td>\n",
       "      <td>1.476071</td>\n",
       "      <td>1.473667</td>\n",
       "      <td>1.446897</td>\n",
       "      <td>1.406061</td>\n",
       "      <td>2.098276</td>\n",
       "      <td>2.364688</td>\n",
       "    </tr>\n",
       "    <tr>\n",
       "      <td>std</td>\n",
       "      <td>0.204443</td>\n",
       "      <td>0.237817</td>\n",
       "      <td>0.409042</td>\n",
       "      <td>0.449773</td>\n",
       "      <td>0.097879</td>\n",
       "      <td>0.087039</td>\n",
       "      <td>0.105834</td>\n",
       "      <td>0.129806</td>\n",
       "      <td>0.075691</td>\n",
       "      <td>0.096352</td>\n",
       "    </tr>\n",
       "    <tr>\n",
       "      <td rowspan=\"2\" valign=\"top\">sodium</td>\n",
       "      <td>mean</td>\n",
       "      <td>1.656207</td>\n",
       "      <td>0.984839</td>\n",
       "      <td>0.464815</td>\n",
       "      <td>0.715000</td>\n",
       "      <td>0.449286</td>\n",
       "      <td>0.462000</td>\n",
       "      <td>0.443793</td>\n",
       "      <td>0.416061</td>\n",
       "      <td>0.487241</td>\n",
       "      <td>0.614375</td>\n",
       "    </tr>\n",
       "    <tr>\n",
       "      <td>std</td>\n",
       "      <td>0.064665</td>\n",
       "      <td>0.098009</td>\n",
       "      <td>0.091120</td>\n",
       "      <td>0.114863</td>\n",
       "      <td>0.034203</td>\n",
       "      <td>0.032313</td>\n",
       "      <td>0.023055</td>\n",
       "      <td>0.022492</td>\n",
       "      <td>0.023588</td>\n",
       "      <td>0.041109</td>\n",
       "    </tr>\n",
       "    <tr>\n",
       "      <td rowspan=\"2\" valign=\"top\">carb</td>\n",
       "      <td>mean</td>\n",
       "      <td>1.486897</td>\n",
       "      <td>3.969677</td>\n",
       "      <td>2.046296</td>\n",
       "      <td>4.136250</td>\n",
       "      <td>39.592143</td>\n",
       "      <td>44.787333</td>\n",
       "      <td>46.431724</td>\n",
       "      <td>40.583939</td>\n",
       "      <td>19.865517</td>\n",
       "      <td>24.735938</td>\n",
       "    </tr>\n",
       "    <tr>\n",
       "      <td>std</td>\n",
       "      <td>0.619724</td>\n",
       "      <td>0.614456</td>\n",
       "      <td>0.818653</td>\n",
       "      <td>1.784172</td>\n",
       "      <td>3.178393</td>\n",
       "      <td>1.753430</td>\n",
       "      <td>1.672413</td>\n",
       "      <td>2.605006</td>\n",
       "      <td>0.956122</td>\n",
       "      <td>1.055975</td>\n",
       "    </tr>\n",
       "    <tr>\n",
       "      <td rowspan=\"2\" valign=\"top\">cal</td>\n",
       "      <td>mean</td>\n",
       "      <td>4.773793</td>\n",
       "      <td>3.190968</td>\n",
       "      <td>2.848889</td>\n",
       "      <td>3.003438</td>\n",
       "      <td>3.253929</td>\n",
       "      <td>3.596000</td>\n",
       "      <td>3.595172</td>\n",
       "      <td>3.224545</td>\n",
       "      <td>2.384138</td>\n",
       "      <td>2.878437</td>\n",
       "    </tr>\n",
       "    <tr>\n",
       "      <td>std</td>\n",
       "      <td>0.163629</td>\n",
       "      <td>0.171976</td>\n",
       "      <td>0.176294</td>\n",
       "      <td>0.152836</td>\n",
       "      <td>0.254447</td>\n",
       "      <td>0.153749</td>\n",
       "      <td>0.134314</td>\n",
       "      <td>0.220809</td>\n",
       "      <td>0.072777</td>\n",
       "      <td>0.098737</td>\n",
       "    </tr>\n",
       "  </tbody>\n",
       "</table>\n",
       "</div>"
      ],
      "text/plain": [
       "brand                0          1          2          3          4          5  \\\n",
       "mois   mean  29.966207  51.307742  49.477407  47.671250  36.083214  29.404333   \n",
       "       std    1.955413   1.728696   1.509749   1.138275   1.755293   0.922264   \n",
       "prot   mean  20.107241  13.638710  26.025556  22.231250   7.732857   7.898000   \n",
       "       std    1.079441   0.509913   1.205728   1.389281   0.394357   0.219441   \n",
       "fat    mean  43.446897  27.620323  19.171111  21.645312  15.115714  16.424667   \n",
       "       std    1.863102   2.182310   2.425016   2.411228   4.107434   2.239385   \n",
       "ash    mean   5.014483   3.463548   3.283333   4.315938   1.476071   1.473667   \n",
       "       std    0.204443   0.237817   0.409042   0.449773   0.097879   0.087039   \n",
       "sodium mean   1.656207   0.984839   0.464815   0.715000   0.449286   0.462000   \n",
       "       std    0.064665   0.098009   0.091120   0.114863   0.034203   0.032313   \n",
       "carb   mean   1.486897   3.969677   2.046296   4.136250  39.592143  44.787333   \n",
       "       std    0.619724   0.614456   0.818653   1.784172   3.178393   1.753430   \n",
       "cal    mean   4.773793   3.190968   2.848889   3.003438   3.253929   3.596000   \n",
       "       std    0.163629   0.171976   0.176294   0.152836   0.254447   0.153749   \n",
       "\n",
       "brand                6          7          8          9  \n",
       "mois   mean  28.241034  35.825152  54.592759  46.035000  \n",
       "       std    1.506134   1.382209   0.979143   1.395033  \n",
       "prot   mean   8.236552   7.894545  10.383103  10.566250  \n",
       "       std    0.188021   0.422604   0.543120   0.643658  \n",
       "fat    mean  15.643793  14.291515  13.060690  16.324062  \n",
       "       std    1.889167   3.589726   0.919087   1.130172  \n",
       "ash    mean   1.446897   1.406061   2.098276   2.364688  \n",
       "       std    0.105834   0.129806   0.075691   0.096352  \n",
       "sodium mean   0.443793   0.416061   0.487241   0.614375  \n",
       "       std    0.023055   0.022492   0.023588   0.041109  \n",
       "carb   mean  46.431724  40.583939  19.865517  24.735938  \n",
       "       std    1.672413   2.605006   0.956122   1.055975  \n",
       "cal    mean   3.595172   3.224545   2.384138   2.878437  \n",
       "       std    0.134314   0.220809   0.072777   0.098737  "
      ]
     },
     "execution_count": 330,
     "metadata": {},
     "output_type": "execute_result"
    }
   ],
   "source": [
    "#statsBrand = pizza_no_id.groupby('brand').agg({'mean', 'std', 'min', 'max', 'count'}).T\n",
    "#statsBrand\n",
    "\n",
    "# I would like to group the data by stats and not by variables: mean for mois,prot,etc; std for mois,prot,etc\n",
    "statsBrand = pizza_no_id.groupby('brand').agg({'mean', 'std'}).T\n",
    "statsBrand\n",
    "\n",
    "# I would like to have the stats averaged over the variables:\n",
    "# statsBrand1= pizza_no_id.agg({'mean', 'std', 'min', 'max', 'count'}) # Instead of T, average per variable.\n",
    "# statsBrand1\n",
    "# statsPerBrand_2 = statsBrand.groupby('brand').agg(['mois', 'prot', 'fat', 'ash', 'sodium', 'carb', 'cal'])\n",
    "# statsPerBrand_2"
   ]
  },
  {
   "cell_type": "code",
   "execution_count": 21,
   "metadata": {},
   "outputs": [
    {
     "data": {
      "text/plain": [
       "(300, 7)"
      ]
     },
     "execution_count": 21,
     "metadata": {},
     "output_type": "execute_result"
    }
   ],
   "source": [
    "sc_x = StandardScaler()\n",
    "sc_x.fit(pizza_no_brand.values)\n",
    "X_scaled = sc_x.transform(pizza_no_brand.values)\n",
    "X_scaled.shape"
   ]
  },
  {
   "cell_type": "code",
   "execution_count": 405,
   "metadata": {},
   "outputs": [
    {
     "name": "stdout",
     "output_type": "stream",
     "text": [
      "[5.95968842e-01 3.27208198e-01 5.92231918e-02 1.35963182e-02\n",
      " 3.95385973e-03 4.82299078e-05 1.35982576e-06]\n",
      "\n",
      "The first two components explain ~93% of the variability in the types of pizza. Let's visualize it:\n"
     ]
    },
    {
     "data": {
      "image/png": "[encoded data removed]",
      "text/plain": [
       "<Figure size 720x432 with 1 Axes>"
      ]
     },
     "metadata": {
      "needs_background": "light"
     },
     "output_type": "display_data"
    }
   ],
   "source": [
    "sklearn_pca = PCA(n_components = None) # Mas o menos se asigna un componente por variable aunque no son los mismos.\n",
    "sklearn_transf = sklearn_pca.fit_transform(X_scaled)\n",
    "varianza_expl = sklearn_pca.explained_variance_ratio_\n",
    "print(varianza_expl)\n",
    "#s = list(zip(varianza_expl, pizza_no_brand.columns)) # No hacer zip porque no es correcto\n",
    "print()\n",
    "print(\"The first two components explain ~93% of the variability in the types of pizza. Let's visualize it:\")\n",
    "cum_var_exp = np.cumsum(varianza_expl)\n",
    "plt.figure(figsize = (10, 6))\n",
    "plt.xlabel('Number of main components')\n",
    "plt.ylabel('Cumulative explained variance')\n",
    "plt.title('Cumulative curve of explained variance versus number of principal components')\n",
    "nc = np.arange(1, varianza_expl.shape[0] + 1)\n",
    "plt.plot(nc, cum_var_exp, 'g^')\n",
    "plt.plot(nc, cum_var_exp, '--r')\n",
    "plt.show()"
   ]
  },
  {
   "cell_type": "markdown",
   "metadata": {},
   "source": [
    "### Regularizacion:"
   ]
  },
  {
   "cell_type": "code",
   "execution_count": 177,
   "metadata": {},
   "outputs": [
    {
     "name": "stdout",
     "output_type": "stream",
     "text": [
      "Linear loss: 6.334035093946527\n",
      "Lasso loss: 2.3255820022253166\n",
      "Ridge loss: 2.31389940910359\n",
      "ElasticNet loss: 2.378854317945683\n",
      "--------------------------------\n",
      "coefficients\n",
      "Lasso: [ 0.02664623 -0.23016456 -0.19915446  0.44588153  0.          0.\n",
      " -0.        ]\n",
      "Ridge: [ 0.06086673 -0.19125443 -0.15488376  0.57040602  0.16874568  0.04649949\n",
      " -0.23906758]\n",
      "ElasticNet: [ 0.08955046 -0.10460919 -0.09971111  0.          0.          0.05985898\n",
      " -0.        ]\n"
     ]
    }
   ],
   "source": [
    "linear = LinearRegression().fit(x_train, y_train)\n",
    "linear_pred = linear.predict(x_test)\n",
    "\n",
    "lasso = Lasso(alpha=0.02).fit(x_train, y_train) # alpha = lambda in equation, and is directly proport to penalty\n",
    "lasso_pred = lasso.predict(x_test)\n",
    "\n",
    "ridge = Ridge(alpha=1).fit(x_train, y_train) # default alpha = 1 \n",
    "ridge_pred = ridge.predict(x_test)\n",
    "\n",
    "elastic = ElasticNet(random_state=0).fit(x_train, y_train)\n",
    "elastic_pred = elastic.predict(x_test)\n",
    "\n",
    "linear_loss = mean_squared_error(y_test, linear_pred)\n",
    "lasso_loss = mean_squared_error(y_test, lasso_pred)\n",
    "ridge_loss = mean_squared_error(y_test, ridge_pred)\n",
    "elastic_loss = mean_squared_error(y_test, elastic_pred)\n",
    "\n",
    "print(f'Linear loss: {linear_loss}')\n",
    "print(f'Lasso loss: {lasso_loss}')\n",
    "print(f'Ridge loss: {ridge_loss}')\n",
    "print(f'ElasticNet loss: {elastic_loss}')\n",
    "\n",
    "print('-'*32)\n",
    "print('coefficients')\n",
    "print(f'Lasso: {lasso.coef_}')\n",
    "print(f'Ridge: {ridge.coef_}')\n",
    "print(f'ElasticNet: {elastic.coef_}')"
   ]
  },
  {
   "cell_type": "markdown",
   "metadata": {},
   "source": [
    "Lasso loss is used when there are not so many features as in this case.\n",
    "However, I am using other regularization models to compare the results.\n",
    "Both lasso and ridge provide more weight to the fourth feature (ash), all others were strongly penalized."
   ]
  },
  {
   "cell_type": "markdown",
   "metadata": {},
   "source": [
    "#### From the scatterplot it can be seen that there are different correlations among variables. Let's check:"
   ]
  },
  {
   "cell_type": "markdown",
   "metadata": {},
   "source": [
    "### Regression fitting: First identify if there are outliers"
   ]
  },
  {
   "cell_type": "markdown",
   "metadata": {},
   "source": [
    "#### Method 1: Using visuals"
   ]
  },
  {
   "cell_type": "code",
   "execution_count": 23,
   "metadata": {},
   "outputs": [
    {
     "data": {
      "image/png": "[encoded data removed]",
      "text/plain": [
       "<Figure size 1080x288 with 2 Axes>"
      ]
     },
     "metadata": {
      "needs_background": "light"
     },
     "output_type": "display_data"
    }
   ],
   "source": [
    "pizza_plot1 = pizza_no_brand.drop(['ash','sodium','cal'], axis = 1)\n",
    "pizza_plot2 = pizza_no_brand.drop(['mois','prot','fat', 'carb'], axis = 1)\n",
    "fig = plt.figure(figsize=(15,4))\n",
    "ax0=fig.add_subplot(131)\n",
    "ax1=fig.add_subplot(132)\n",
    "pizza_plot1.boxplot(ax = ax0)\n",
    "pizza_plot2.boxplot(ax = ax1)\n",
    "\n",
    "fig.subplots_adjust(wspace = 0.5)\n",
    "#plt.show()"
   ]
  },
  {
   "cell_type": "markdown",
   "metadata": {},
   "source": [
    "There seem to be outliers in fat, sodium, and cal. Let's verify it."
   ]
  },
  {
   "cell_type": "markdown",
   "metadata": {},
   "source": [
    "#### Method 2: Using stats\n",
    "https://machinelearningmastery.com/how-to-use-statistics-to-identify-outliers-in-data/"
   ]
  },
  {
   "cell_type": "code",
   "execution_count": 332,
   "metadata": {},
   "outputs": [
    {
     "data": {
      "text/html": [
       "<div>\n",
       "<style scoped>\n",
       "    .dataframe tbody tr th:only-of-type {\n",
       "        vertical-align: middle;\n",
       "    }\n",
       "\n",
       "    .dataframe tbody tr th {\n",
       "        vertical-align: top;\n",
       "    }\n",
       "\n",
       "    .dataframe thead th {\n",
       "        text-align: right;\n",
       "    }\n",
       "</style>\n",
       "<table border=\"1\" class=\"dataframe\">\n",
       "  <thead>\n",
       "    <tr style=\"text-align: right;\">\n",
       "      <th></th>\n",
       "      <th>mois</th>\n",
       "      <th>prot</th>\n",
       "      <th>fat</th>\n",
       "      <th>ash</th>\n",
       "      <th>sodium</th>\n",
       "      <th>carb</th>\n",
       "      <th>cal</th>\n",
       "    </tr>\n",
       "  </thead>\n",
       "  <tbody>\n",
       "    <tr>\n",
       "      <td>count</td>\n",
       "      <td>300.000000</td>\n",
       "      <td>300.000000</td>\n",
       "      <td>300.000000</td>\n",
       "      <td>300.000000</td>\n",
       "      <td>300.000000</td>\n",
       "      <td>300.000000</td>\n",
       "      <td>300.000000</td>\n",
       "    </tr>\n",
       "    <tr>\n",
       "      <td>mean</td>\n",
       "      <td>40.903067</td>\n",
       "      <td>13.373567</td>\n",
       "      <td>20.229533</td>\n",
       "      <td>2.633233</td>\n",
       "      <td>0.669400</td>\n",
       "      <td>22.864767</td>\n",
       "      <td>3.271000</td>\n",
       "    </tr>\n",
       "    <tr>\n",
       "      <td>std</td>\n",
       "      <td>9.552987</td>\n",
       "      <td>6.434392</td>\n",
       "      <td>8.975658</td>\n",
       "      <td>1.269724</td>\n",
       "      <td>0.370358</td>\n",
       "      <td>18.029722</td>\n",
       "      <td>0.620034</td>\n",
       "    </tr>\n",
       "    <tr>\n",
       "      <td>min</td>\n",
       "      <td>25.000000</td>\n",
       "      <td>6.980000</td>\n",
       "      <td>4.380000</td>\n",
       "      <td>1.170000</td>\n",
       "      <td>0.250000</td>\n",
       "      <td>0.510000</td>\n",
       "      <td>2.180000</td>\n",
       "    </tr>\n",
       "    <tr>\n",
       "      <td>25%</td>\n",
       "      <td>30.902500</td>\n",
       "      <td>8.060000</td>\n",
       "      <td>14.770000</td>\n",
       "      <td>1.450000</td>\n",
       "      <td>0.450000</td>\n",
       "      <td>3.467500</td>\n",
       "      <td>2.910000</td>\n",
       "    </tr>\n",
       "    <tr>\n",
       "      <td>50%</td>\n",
       "      <td>43.300000</td>\n",
       "      <td>10.440000</td>\n",
       "      <td>17.135000</td>\n",
       "      <td>2.225000</td>\n",
       "      <td>0.490000</td>\n",
       "      <td>23.245000</td>\n",
       "      <td>3.215000</td>\n",
       "    </tr>\n",
       "    <tr>\n",
       "      <td>75%</td>\n",
       "      <td>49.115000</td>\n",
       "      <td>20.022500</td>\n",
       "      <td>21.435000</td>\n",
       "      <td>3.592500</td>\n",
       "      <td>0.702500</td>\n",
       "      <td>41.337500</td>\n",
       "      <td>3.520000</td>\n",
       "    </tr>\n",
       "    <tr>\n",
       "      <td>max</td>\n",
       "      <td>57.220000</td>\n",
       "      <td>28.480000</td>\n",
       "      <td>47.200000</td>\n",
       "      <td>5.430000</td>\n",
       "      <td>1.790000</td>\n",
       "      <td>48.640000</td>\n",
       "      <td>5.080000</td>\n",
       "    </tr>\n",
       "  </tbody>\n",
       "</table>\n",
       "</div>"
      ],
      "text/plain": [
       "             mois        prot         fat         ash      sodium        carb  \\\n",
       "count  300.000000  300.000000  300.000000  300.000000  300.000000  300.000000   \n",
       "mean    40.903067   13.373567   20.229533    2.633233    0.669400   22.864767   \n",
       "std      9.552987    6.434392    8.975658    1.269724    0.370358   18.029722   \n",
       "min     25.000000    6.980000    4.380000    1.170000    0.250000    0.510000   \n",
       "25%     30.902500    8.060000   14.770000    1.450000    0.450000    3.467500   \n",
       "50%     43.300000   10.440000   17.135000    2.225000    0.490000   23.245000   \n",
       "75%     49.115000   20.022500   21.435000    3.592500    0.702500   41.337500   \n",
       "max     57.220000   28.480000   47.200000    5.430000    1.790000   48.640000   \n",
       "\n",
       "              cal  \n",
       "count  300.000000  \n",
       "mean     3.271000  \n",
       "std      0.620034  \n",
       "min      2.180000  \n",
       "25%      2.910000  \n",
       "50%      3.215000  \n",
       "75%      3.520000  \n",
       "max      5.080000  "
      ]
     },
     "execution_count": 332,
     "metadata": {},
     "output_type": "execute_result"
    }
   ],
   "source": [
    "#pizza_no_id[['mois', 'prot', 'fat', 'ash', 'sodium', 'carb', 'cal']].agg(['mean', 'std', 'min', 'max', 'count'])\n",
    "describeBasicStats = pizza_no_brand.describe()\n",
    "describeBasicStats"
   ]
  },
  {
   "cell_type": "code",
   "execution_count": 333,
   "metadata": {},
   "outputs": [],
   "source": [
    "outlierFat1 = pizza_no_brand['fat'].max() > abs(pizza_no_brand['fat'].mean() + 3 * pizza_no_brand['fat'].std())\n",
    "outlierFat2 = pizza_no_brand['fat'].min() < abs(pizza_no_brand['fat'].mean() - 3 * pizza_no_brand['fat'].std())\n",
    "outlierNa1 = pizza_no_brand['sodium'].max() > abs(pizza_no_brand['sodium'].mean() + 3 * pizza_no_brand['sodium'].std())\n",
    "outlierNa2 = pizza_no_brand['sodium'].min() < abs(pizza_no_brand['sodium'].mean() - 3 * pizza_no_brand['sodium'].std())\n",
    "outlierCal1 = pizza_no_brand['cal'].max() > abs(pizza_no_brand['cal'].mean() + 3 * pizza_no_brand['cal'].std())\n",
    "outlierCal2 = pizza_no_brand['cal'].min() < abs(pizza_no_brand['cal'].mean() - 3 * pizza_no_brand['cal'].std())"
   ]
  },
  {
   "cell_type": "code",
   "execution_count": 334,
   "metadata": {},
   "outputs": [
    {
     "name": "stdout",
     "output_type": "stream",
     "text": [
      "Outliers in the column fat: True, True\n",
      "Outliers in the column sodium: True, True\n",
      "Outliers in the column cal: False, False\n"
     ]
    },
    {
     "data": {
      "text/plain": [
       "'The graph misleads by showing: Many upper ourliers in cal, std * 3 = 1.86 + mean = 5.13, max = 5.08 (No outliers).\\nand the lower outliers of sodium cannot be seen, std * 3 = 1.11 - mean = 0.44, min = 0.25'"
      ]
     },
     "execution_count": 334,
     "metadata": {},
     "output_type": "execute_result"
    }
   ],
   "source": [
    "print('Outliers in the column fat: ' + str(outlierFat1) + ', ' + str(outlierFat2))\n",
    "print('Outliers in the column sodium: ' + str(outlierNa1) + ', ' + str(outlierNa2))\n",
    "print('Outliers in the column cal: ' + str(outlierCal1) + ', ' + str(outlierCal2))\n",
    "\"\"\"The graph misleads by showing: Many upper ourliers in cal, std * 3 = 1.86 + mean = 5.13, max = 5.08 (No outliers).\n",
    "and the lower outliers of sodium cannot be seen, std * 3 = 1.11 - mean = 0.44, min = 0.25\"\"\""
   ]
  },
  {
   "cell_type": "markdown",
   "metadata": {},
   "source": [
    "#### _Mejor es usar F-value_"
   ]
  },
  {
   "cell_type": "markdown",
   "metadata": {},
   "source": [
    "### Regression fitting:"
   ]
  },
  {
   "cell_type": "code",
   "execution_count": 210,
   "metadata": {},
   "outputs": [
    {
     "name": "stdout",
     "output_type": "stream",
     "text": [
      "<class 'numpy.ndarray'>\n",
      "<class 'pandas.core.frame.DataFrame'>\n",
      "<class 'pandas.core.series.Series'>\n"
     ]
    }
   ],
   "source": [
    "x1 = pizza_no_id.values[:, 1:8] # pizza_no_id[:, 1:8] Incorrect synthax, to slice use .values\n",
    "print(type(x1)) # Using .values converts x to a numpy.ndarray\n",
    "\n",
    "x = pizza_no_brand # This definition of x maintains it as a pandas.core.frame.DataFrame\n",
    "print(type(x))\n",
    "\n",
    "y = pizza_no_id['brand']\n",
    "print(type(y))\n",
    "\n",
    "x.head(2)"
   ]
  },
  {
   "cell_type": "code",
   "execution_count": 214,
   "metadata": {},
   "outputs": [
    {
     "data": {
      "image/png": "[encoded data removed]",
      "text/plain": [
       "<Figure size 576x504 with 2 Axes>"
      ]
     },
     "metadata": {
      "needs_background": "light"
     },
     "output_type": "display_data"
    }
   ],
   "source": [
    "corr = x.corr()\n",
    "fig, ax = plt.subplots(figsize=(8,7))\n",
    "sns.heatmap(corr, annot=True, linewidths=.5, ax=ax)\n",
    "ax.autoscale(enable=True) # To fix scale "
   ]
  },
  {
   "cell_type": "markdown",
   "metadata": {},
   "source": [
    "There are some variables with positive regression for example ash with sodium, fat, and protein."
   ]
  },
  {
   "cell_type": "markdown",
   "metadata": {},
   "source": [
    "#### Do Normalization or standardScaler adjusting:"
   ]
  },
  {
   "cell_type": "markdown",
   "metadata": {},
   "source": [
    "Not so sure if I should use Normalizer, StandardScaler, or none.\n",
    "There are ~100x differences max. among values, but there are no large numbers.\n",
    "I am going to train/test data and do iterative processes (Normalization), however the variables have different units and in this case it makes more sense to work by columns. Thus, I will apply an StandardScaler:"
   ]
  },
  {
   "cell_type": "markdown",
   "metadata": {},
   "source": [
    "https://stackoverflow.com/questions/39120942/difference-between-standardscaler-and-normalizer-in-sklearn-preprocessing\n",
    "https://towardsdatascience.com/scale-standardize-or-normalize-with-scikit-learn-6ccc7d176a02\n",
    "https://scikit-learn.org/stable/auto_examples/preprocessing/plot_all_scaling.html"
   ]
  },
  {
   "cell_type": "code",
   "execution_count": null,
   "metadata": {},
   "outputs": [],
   "source": [
    "# And See:\n",
    "# <img src = \"StandardScaler_Normalizer_Brief.png\" style = \"width:500px;height:500px/\">"
   ]
  },
  {
   "cell_type": "markdown",
   "metadata": {},
   "source": [
    "### Robust regressors and parametric optimization:"
   ]
  },
  {
   "cell_type": "markdown",
   "metadata": {},
   "source": [
    "For more:\n",
    "\n",
    "https://towardsdatascience.com/random-forest-and-its-implementation-71824ced454f\n",
    "\n",
    "https://www.saedsayad.com/support_vector_machine_reg.htm\n",
    "\n",
    "https://scikit-learn.org/stable/auto_examples/linear_model/plot_huber_vs_ridge.html"
   ]
  },
  {
   "cell_type": "code",
   "execution_count": 370,
   "metadata": {},
   "outputs": [
    {
     "data": {
      "text/plain": [
       "((240, 7), (60, 7), (240,), (60,))"
      ]
     },
     "execution_count": 370,
     "metadata": {},
     "output_type": "execute_result"
    }
   ],
   "source": [
    "X = StandardScaler().fit_transform(x)  # To normalize the data, it also converts x into a ndarray\n",
    "X_train, X_test, y_train, y_test = train_test_split(X,y, test_size=.2)\n",
    "X_train.shape, X_test.shape, y_train.shape, y_test.shape"
   ]
  },
  {
   "cell_type": "code",
   "execution_count": 371,
   "metadata": {},
   "outputs": [],
   "source": [
    "estimators = {\n",
    "    'RANSAC': RANSACRegressor(), # Metaestimator\n",
    "    'HUBER': HuberRegressor(epsilon=1.35),\n",
    "    'RANFORR': RandomForestRegressor(n_estimators = 14, max_depth = 9)} # n_est = # trees"
   ]
  },
  {
   "cell_type": "code",
   "execution_count": 376,
   "metadata": {},
   "outputs": [
    {
     "name": "stdout",
     "output_type": "stream",
     "text": [
      "--------------------------------\n",
      "RANSAC\n",
      "MSE: 6.545012203872906\n",
      "r2_Score: -1.1638386703526518\n",
      "--------------------------------\n",
      "HUBER\n",
      "MSE: 4.30874422538344\n",
      "r2_Score: 0.09230166662397887\n",
      "--------------------------------\n",
      "RANFORR\n",
      "MSE: 0.7820570672713529\n",
      "r2_Score: 0.8840721574909192\n"
     ]
    }
   ],
   "source": [
    "for key, value in estimators.items():\n",
    "    value.fit(X_train, y_train)\n",
    "    y_pred = value.predict(X_test)\n",
    "    print('-'*32)\n",
    "    print(key)\n",
    "    print(f\"MSE: {mean_squared_error(y_test, y_pred)}\")\n",
    "    print(f\"r2_Score: {r2_score(y_pred, y_test)}\") # or, r2_score(y_pred,y)"
   ]
  },
  {
   "cell_type": "markdown",
   "metadata": {},
   "source": [
    "The best prediction is for regression is obtained with Random Forest algorithm."
   ]
  },
  {
   "cell_type": "markdown",
   "metadata": {},
   "source": [
    "### Grid Search (Checking for the best parameters):"
   ]
  },
  {
   "cell_type": "code",
   "execution_count": 391,
   "metadata": {},
   "outputs": [],
   "source": [
    "x = pizza_no_brand\n",
    "y = pizza_no_id['brand']"
   ]
  },
  {
   "cell_type": "code",
   "execution_count": 392,
   "metadata": {},
   "outputs": [
    {
     "name": "stdout",
     "output_type": "stream",
     "text": [
      "<class 'pandas.core.series.Series'>\n"
     ]
    }
   ],
   "source": [
    "print(type(y))"
   ]
  },
  {
   "cell_type": "code",
   "execution_count": 393,
   "metadata": {},
   "outputs": [],
   "source": [
    "x_train, x_test, y_train, y_test = train_test_split(x,y, test_size=.2, random_state=42)"
   ]
  },
  {
   "cell_type": "code",
   "execution_count": 422,
   "metadata": {},
   "outputs": [],
   "source": [
    "algorithms1 = {'RANFORR': RandomForestRegressor()}\n",
    "parameters1 = {'RANFORR': {'n_estimators':[4],'max_depth':[2],'criterion':['mse','mae']}}\n",
    "best_score1 = 999 \n",
    "best_model1 = None"
   ]
  },
  {
   "cell_type": "code",
   "execution_count": 423,
   "metadata": {},
   "outputs": [
    {
     "name": "stdout",
     "output_type": "stream",
     "text": [
      "10.054911462690198\n",
      "RandomForestRegressor(bootstrap=True, criterion='mae', max_depth=2,\n",
      "                      max_features='auto', max_leaf_nodes=None,\n",
      "                      min_impurity_decrease=0.0, min_impurity_split=None,\n",
      "                      min_samples_leaf=1, min_samples_split=2,\n",
      "                      min_weight_fraction_leaf=0.0, n_estimators=4, n_jobs=None,\n",
      "                      oob_score=False, random_state=None, verbose=0,\n",
      "                      warm_start=False)\n"
     ]
    }
   ],
   "source": [
    "for key,value in algorithms1.items():\n",
    "    grid_regressor = GridSearchCV(value, parameters1[key], cv=3, iid=True).fit(x,y.values.ravel())\n",
    "    score=np.abs(grid_regressor.best_score_)\n",
    "    if score < best_score1:\n",
    "        best_score1=score\n",
    "        best_model1=grid_regressor.best_estimator_\n",
    "print(best_score1)\n",
    "print(best_model1)\n",
    "model_name=str(best_model1)\n",
    "model_name=model_name.split('(')[0]"
   ]
  },
  {
   "cell_type": "code",
   "execution_count": 428,
   "metadata": {},
   "outputs": [],
   "source": [
    "algorithms2 = {\n",
    "    'SupportVectorRegressor': SVR(),\n",
    "    'GBR': GradientBoostingRegressor()}\n",
    "parameters2 = {\n",
    "    'SupportVectorRegressor': {'gamma':['auto','scale'],'C':[1,5],'epsilon':[0.1],'kernel':['linear','poly']},\n",
    "    'GBR': {'loss':['ls','lad'],'learning_rate':[0.05,0.1]}}"
   ]
  },
  {
   "cell_type": "code",
   "execution_count": 429,
   "metadata": {},
   "outputs": [],
   "source": [
    "best_score2 = 999 \n",
    "best_model2 = None"
   ]
  },
  {
   "cell_type": "code",
   "execution_count": 430,
   "metadata": {},
   "outputs": [
    {
     "name": "stdout",
     "output_type": "stream",
     "text": [
      "10.0787322780559\n",
      "GradientBoostingRegressor(alpha=0.9, criterion='friedman_mse', init=None,\n",
      "                          learning_rate=0.05, loss='ls', max_depth=3,\n",
      "                          max_features=None, max_leaf_nodes=None,\n",
      "                          min_impurity_decrease=0.0, min_impurity_split=None,\n",
      "                          min_samples_leaf=1, min_samples_split=2,\n",
      "                          min_weight_fraction_leaf=0.0, n_estimators=100,\n",
      "                          n_iter_no_change=None, presort='auto',\n",
      "                          random_state=None, subsample=1.0, tol=0.0001,\n",
      "                          validation_fraction=0.1, verbose=0, warm_start=False)\n"
     ]
    }
   ],
   "source": [
    "for key,value in algorithms2.items():\n",
    "    grid_regressor = GridSearchCV(value, parameters2[key], cv=3, iid=True).fit(x,y.values.ravel())\n",
    "    score=np.abs(grid_regressor.best_score_)\n",
    "    if score < best_score2:\n",
    "        best_score2=score\n",
    "        best_model2=grid_regressor.best_estimator_\n",
    "print(best_score2)\n",
    "print(best_model2)\n",
    "model_name=str(best_model2)\n",
    "model_name=model_name.split('(')[0]"
   ]
  },
  {
   "cell_type": "markdown",
   "metadata": {},
   "source": [
    "The best prediction obtained with grid search was with GBR model."
   ]
  },
  {
   "cell_type": "code",
   "execution_count": 431,
   "metadata": {},
   "outputs": [
    {
     "data": {
      "text/plain": [
       "['pizza_GradientBoostingRegressor.pkl']"
      ]
     },
     "execution_count": 431,
     "metadata": {},
     "output_type": "execute_result"
    }
   ],
   "source": [
    "joblib.dump(best_model, f'pizza_{model_name}.pkl')"
   ]
  },
  {
   "cell_type": "code",
   "execution_count": 434,
   "metadata": {},
   "outputs": [],
   "source": [
    "wellTrainedModel = joblib.load('pizza_GradientBoostingRegressor.pkl')"
   ]
  },
  {
   "cell_type": "code",
   "execution_count": 435,
   "metadata": {},
   "outputs": [
    {
     "data": {
      "text/plain": [
       "0.9094673510143698"
      ]
     },
     "execution_count": 435,
     "metadata": {},
     "output_type": "execute_result"
    }
   ],
   "source": [
    "test_wellTrainedModel = wellTrainedModel.predict(x_test)\n",
    "r2_score(y_test, test_wellTrainedModel)"
   ]
  },
  {
   "cell_type": "markdown",
   "metadata": {},
   "source": [
    "The model was saved succesfully, and the prediction with the trained (loaded) model of Gradient Boosting Regressors is of 91%."
   ]
  },
  {
   "cell_type": "markdown",
   "metadata": {},
   "source": [
    "### Compare the regression with and without PCA information:"
   ]
  },
  {
   "cell_type": "code",
   "execution_count": 352,
   "metadata": {},
   "outputs": [
    {
     "name": "stdout",
     "output_type": "stream",
     "text": [
      "Without PCA:  0.7371681128518552\n",
      "With PCA:  0.6743468169413288\n",
      "With IncrementalPCA:  0.6740379629375964\n"
     ]
    }
   ],
   "source": [
    "# compare linear regression, without pca versus pca and ipca:\n",
    "\n",
    "pca = PCA(n_components=2) \n",
    "ipca = IncrementalPCA(n_components=2)\n",
    "\n",
    "lr = LinearRegression().fit(X, y) # No tiene sentido para predecir tipo de pizza, usar logistica\n",
    "print('Without PCA: ',lr.score(X_test, y_test))\n",
    "\n",
    "pcaFit = pca.fit(X)\n",
    "X_pca_train = pcaFit.transform(X_train)\n",
    "X_pca_test = pcaFit.transform(X_test)\n",
    "lr.fit(X_pca_train, y_train)\n",
    "print('With PCA: ', lr.score(X_pca_test, y_test))\n",
    "\n",
    "ipcaFit = ipca.fit(X)\n",
    "X_ipca_train = ipcaFit.transform(X_train)\n",
    "X_ipca_test = ipcaFit.transform(X_test)\n",
    "lr.fit(X_ipca_train, y_train)\n",
    "print('With IncrementalPCA: ', lr.score(X_ipca_test, y_test))"
   ]
  },
  {
   "cell_type": "markdown",
   "metadata": {},
   "source": [
    "#### This dataset also can be analyzed with classification methods because pizza types have clear groups."
   ]
  },
  {
   "cell_type": "markdown",
   "metadata": {},
   "source": [
    "### Decision Tree Algorithm"
   ]
  },
  {
   "cell_type": "code",
   "execution_count": 49,
   "metadata": {
    "scrolled": true
   },
   "outputs": [
    {
     "name": "stdout",
     "output_type": "stream",
     "text": [
      "99.66666666666667\n",
      "              precision    recall  f1-score   support\n",
      "\n",
      "           0       1.00      1.00      1.00        29\n",
      "           1       1.00      1.00      1.00        31\n",
      "           2       0.96      1.00      0.98        27\n",
      "           3       1.00      0.97      0.98        32\n",
      "           4       1.00      1.00      1.00        28\n",
      "           5       1.00      1.00      1.00        30\n",
      "           6       1.00      1.00      1.00        29\n",
      "           7       1.00      1.00      1.00        33\n",
      "           8       1.00      1.00      1.00        29\n",
      "           9       1.00      1.00      1.00        32\n",
      "\n",
      "    accuracy                           1.00       300\n",
      "   macro avg       1.00      1.00      1.00       300\n",
      "weighted avg       1.00      1.00      1.00       300\n",
      "\n"
     ]
    }
   ],
   "source": [
    "pizza_no_id_entropy=DecisionTreeClassifier(criterion=\"entropy\",random_state=100,max_depth=50,min_samples_leaf=1)\n",
    "pizza_no_id_entropy.fit(x, y)\n",
    "y_pred = pizza_no_id_entropy.predict(x)  ## entropy esta relacionado con pureza\n",
    "print(accuracy_score(y, y_pred)*100)      \n",
    "print(classification_report(y, y_pred))"
   ]
  },
  {
   "cell_type": "code",
   "execution_count": 50,
   "metadata": {},
   "outputs": [
    {
     "name": "stdout",
     "output_type": "stream",
     "text": [
      "99.66666666666667\n",
      "              precision    recall  f1-score   support\n",
      "\n",
      "           0       1.00      1.00      1.00        29\n",
      "           1       1.00      1.00      1.00        31\n",
      "           2       0.96      1.00      0.98        27\n",
      "           3       1.00      0.97      0.98        32\n",
      "           4       1.00      1.00      1.00        28\n",
      "           5       1.00      1.00      1.00        30\n",
      "           6       1.00      1.00      1.00        29\n",
      "           7       1.00      1.00      1.00        33\n",
      "           8       1.00      1.00      1.00        29\n",
      "           9       1.00      1.00      1.00        32\n",
      "\n",
      "    accuracy                           1.00       300\n",
      "   macro avg       1.00      1.00      1.00       300\n",
      "weighted avg       1.00      1.00      1.00       300\n",
      "\n"
     ]
    }
   ],
   "source": [
    "pizza_no_id_gini=DecisionTreeClassifier(criterion=\"gini\",random_state=100,max_depth=50,min_samples_leaf=1)\n",
    "pizza_no_id_gini.fit(x, y)\n",
    "y_pred = pizza_no_id_gini.predict(x)  \n",
    "print(accuracy_score(y, y_pred)*100)      ## gini esta relacionado con error\n",
    "print(classification_report(y, y_pred))"
   ]
  },
  {
   "cell_type": "code",
   "execution_count": 51,
   "metadata": {},
   "outputs": [
    {
     "data": {
      "image/svg+xml": [
       "<svg height=\"1205pt\" viewBox=\"0.00 0.00 4104.00 1205.00\" width=\"4104pt\" xmlns=\"http://www.w3.org/2000/svg\" xmlns:xlink=\"http://www.w3.org/1999/xlink\">\n",
       "<g class=\"graph\" id=\"graph0\" transform=\"scale(1 1) rotate(0) translate(4 1201)\">\n",
       "<title>Tree</title>\n",
       "<polygon fill=\"#ffffff\" points=\"-4,4 -4,-1201 4100,-1201 4100,4 -4,4\" stroke=\"transparent\"/>\n",
       "<!-- 0 -->\n",
       "<g class=\"node\" id=\"node1\">\n",
       "<title>0</title>\n",
       "<polygon fill=\"none\" points=\"2704,-1197 2430,-1197 2430,-1129 2704,-1129 2704,-1197\" stroke=\"#000000\"/>\n",
       "<text fill=\"#000000\" font-family=\"Times,serif\" font-size=\"14.00\" text-anchor=\"middle\" x=\"2567\" y=\"-1181.8\">X[0] &lt;= 41.935</text>\n",
       "<text fill=\"#000000\" font-family=\"Times,serif\" font-size=\"14.00\" text-anchor=\"middle\" x=\"2567\" y=\"-1166.8\">entropy = 3.319</text>\n",
       "<text fill=\"#000000\" font-family=\"Times,serif\" font-size=\"14.00\" text-anchor=\"middle\" x=\"2567\" y=\"-1151.8\">samples = 300</text>\n",
       "<text fill=\"#000000\" font-family=\"Times,serif\" font-size=\"14.00\" text-anchor=\"middle\" x=\"2567\" y=\"-1136.8\">value = [29, 31, 27, 32, 28, 30, 29, 33, 29, 32]</text>\n",
       "</g>\n",
       "<!-- 1 -->\n",
       "<g class=\"node\" id=\"node2\">\n",
       "<title>1</title>\n",
       "<polygon fill=\"none\" points=\"2349.5,-1093 2110.5,-1093 2110.5,-1025 2349.5,-1025 2349.5,-1093\" stroke=\"#000000\"/>\n",
       "<text fill=\"#000000\" font-family=\"Times,serif\" font-size=\"14.00\" text-anchor=\"middle\" x=\"2230\" y=\"-1077.8\">X[0] &lt;= 33.215</text>\n",
       "<text fill=\"#000000\" font-family=\"Times,serif\" font-size=\"14.00\" text-anchor=\"middle\" x=\"2230\" y=\"-1062.8\">entropy = 2.32</text>\n",
       "<text fill=\"#000000\" font-family=\"Times,serif\" font-size=\"14.00\" text-anchor=\"middle\" x=\"2230\" y=\"-1047.8\">samples = 149</text>\n",
       "<text fill=\"#000000\" font-family=\"Times,serif\" font-size=\"14.00\" text-anchor=\"middle\" x=\"2230\" y=\"-1032.8\">value = [29, 0, 0, 0, 28, 30, 29, 33, 0, 0]</text>\n",
       "</g>\n",
       "<!-- 0&#45;&gt;1 -->\n",
       "<g class=\"edge\" id=\"edge1\">\n",
       "<title>0-&gt;1</title>\n",
       "<path d=\"M2456.6536,-1128.9465C2422.526,-1118.4145 2384.7707,-1106.7631 2350.022,-1096.0394\" fill=\"none\" stroke=\"#000000\"/>\n",
       "<polygon fill=\"#000000\" points=\"2350.8938,-1092.6456 2340.3063,-1093.0411 2348.8295,-1099.3344 2350.8938,-1092.6456\" stroke=\"#000000\"/>\n",
       "<text fill=\"#000000\" font-family=\"Times,serif\" font-size=\"14.00\" text-anchor=\"middle\" x=\"2351.9851\" y=\"-1111.4456\">True</text>\n",
       "</g>\n",
       "<!-- 60 -->\n",
       "<g class=\"node\" id=\"node61\">\n",
       "<title>60</title>\n",
       "<polygon fill=\"none\" points=\"2967.5,-1093 2728.5,-1093 2728.5,-1025 2967.5,-1025 2967.5,-1093\" stroke=\"#000000\"/>\n",
       "<text fill=\"#000000\" font-family=\"Times,serif\" font-size=\"14.00\" text-anchor=\"middle\" x=\"2848\" y=\"-1077.8\">X[1] &lt;= 17.785</text>\n",
       "<text fill=\"#000000\" font-family=\"Times,serif\" font-size=\"14.00\" text-anchor=\"middle\" x=\"2848\" y=\"-1062.8\">entropy = 2.319</text>\n",
       "<text fill=\"#000000\" font-family=\"Times,serif\" font-size=\"14.00\" text-anchor=\"middle\" x=\"2848\" y=\"-1047.8\">samples = 151</text>\n",
       "<text fill=\"#000000\" font-family=\"Times,serif\" font-size=\"14.00\" text-anchor=\"middle\" x=\"2848\" y=\"-1032.8\">value = [0, 31, 27, 32, 0, 0, 0, 0, 29, 32]</text>\n",
       "</g>\n",
       "<!-- 0&#45;&gt;60 -->\n",
       "<g class=\"edge\" id=\"edge60\">\n",
       "<title>0-&gt;60</title>\n",
       "<path d=\"M2659.0099,-1128.9465C2686.9081,-1118.6212 2717.7136,-1107.2199 2746.214,-1096.6717\" fill=\"none\" stroke=\"#000000\"/>\n",
       "<polygon fill=\"#000000\" points=\"2747.6199,-1099.8834 2755.7834,-1093.13 2745.1902,-1093.3186 2747.6199,-1099.8834\" stroke=\"#000000\"/>\n",
       "<text fill=\"#000000\" font-family=\"Times,serif\" font-size=\"14.00\" text-anchor=\"middle\" x=\"2745.3406\" y=\"-1112.1445\">False</text>\n",
       "</g>\n",
       "<!-- 2 -->\n",
       "<g class=\"node\" id=\"node3\">\n",
       "<title>2</title>\n",
       "<polygon fill=\"none\" points=\"1991.5,-989 1766.5,-989 1766.5,-921 1991.5,-921 1991.5,-989\" stroke=\"#000000\"/>\n",
       "<text fill=\"#000000\" font-family=\"Times,serif\" font-size=\"14.00\" text-anchor=\"middle\" x=\"1879\" y=\"-973.8\">X[1] &lt;= 13.225</text>\n",
       "<text fill=\"#000000\" font-family=\"Times,serif\" font-size=\"14.00\" text-anchor=\"middle\" x=\"1879\" y=\"-958.8\">entropy = 1.656</text>\n",
       "<text fill=\"#000000\" font-family=\"Times,serif\" font-size=\"14.00\" text-anchor=\"middle\" x=\"1879\" y=\"-943.8\">samples = 88</text>\n",
       "<text fill=\"#000000\" font-family=\"Times,serif\" font-size=\"14.00\" text-anchor=\"middle\" x=\"1879\" y=\"-928.8\">value = [28, 0, 0, 0, 0, 30, 29, 1, 0, 0]</text>\n",
       "</g>\n",
       "<!-- 1&#45;&gt;2 -->\n",
       "<g class=\"edge\" id=\"edge2\">\n",
       "<title>1-&gt;2</title>\n",
       "<path d=\"M2115.0695,-1024.9465C2078.7298,-1014.1792 2038.4411,-1002.2418 2001.5867,-991.322\" fill=\"none\" stroke=\"#000000\"/>\n",
       "<polygon fill=\"#000000\" points=\"2002.3764,-987.9056 1991.7941,-988.4205 2000.3877,-994.6172 2002.3764,-987.9056\" stroke=\"#000000\"/>\n",
       "</g>\n",
       "<!-- 19 -->\n",
       "<g class=\"node\" id=\"node20\">\n",
       "<title>19</title>\n",
       "<polygon fill=\"none\" points=\"2339,-989 2121,-989 2121,-921 2339,-921 2339,-989\" stroke=\"#000000\"/>\n",
       "<text fill=\"#000000\" font-family=\"Times,serif\" font-size=\"14.00\" text-anchor=\"middle\" x=\"2230\" y=\"-973.8\">X[1] &lt;= 13.285</text>\n",
       "<text fill=\"#000000\" font-family=\"Times,serif\" font-size=\"14.00\" text-anchor=\"middle\" x=\"2230\" y=\"-958.8\">entropy = 1.101</text>\n",
       "<text fill=\"#000000\" font-family=\"Times,serif\" font-size=\"14.00\" text-anchor=\"middle\" x=\"2230\" y=\"-943.8\">samples = 61</text>\n",
       "<text fill=\"#000000\" font-family=\"Times,serif\" font-size=\"14.00\" text-anchor=\"middle\" x=\"2230\" y=\"-928.8\">value = [1, 0, 0, 0, 28, 0, 0, 32, 0, 0]</text>\n",
       "</g>\n",
       "<!-- 1&#45;&gt;19 -->\n",
       "<g class=\"edge\" id=\"edge19\">\n",
       "<title>1-&gt;19</title>\n",
       "<path d=\"M2230,-1024.9465C2230,-1016.776 2230,-1007.9318 2230,-999.3697\" fill=\"none\" stroke=\"#000000\"/>\n",
       "<polygon fill=\"#000000\" points=\"2233.5001,-999.13 2230,-989.13 2226.5001,-999.13 2233.5001,-999.13\" stroke=\"#000000\"/>\n",
       "</g>\n",
       "<!-- 3 -->\n",
       "<g class=\"node\" id=\"node4\">\n",
       "<title>3</title>\n",
       "<polygon fill=\"none\" points=\"1339,-885 1121,-885 1121,-817 1339,-817 1339,-885\" stroke=\"#000000\"/>\n",
       "<text fill=\"#000000\" font-family=\"Times,serif\" font-size=\"14.00\" text-anchor=\"middle\" x=\"1230\" y=\"-869.8\">X[1] &lt;= 8.205</text>\n",
       "<text fill=\"#000000\" font-family=\"Times,serif\" font-size=\"14.00\" text-anchor=\"middle\" x=\"1230\" y=\"-854.8\">entropy = 1.105</text>\n",
       "<text fill=\"#000000\" font-family=\"Times,serif\" font-size=\"14.00\" text-anchor=\"middle\" x=\"1230\" y=\"-839.8\">samples = 60</text>\n",
       "<text fill=\"#000000\" font-family=\"Times,serif\" font-size=\"14.00\" text-anchor=\"middle\" x=\"1230\" y=\"-824.8\">value = [0, 0, 0, 0, 0, 30, 29, 1, 0, 0]</text>\n",
       "</g>\n",
       "<!-- 2&#45;&gt;3 -->\n",
       "<g class=\"edge\" id=\"edge3\">\n",
       "<title>2-&gt;3</title>\n",
       "<path d=\"M1766.3235,-936.944C1649.6376,-918.2455 1468.0546,-889.1474 1349.0649,-870.0797\" fill=\"none\" stroke=\"#000000\"/>\n",
       "<polygon fill=\"#000000\" points=\"1349.6087,-866.6223 1339.1809,-868.4959 1348.5011,-873.5341 1349.6087,-866.6223\" stroke=\"#000000\"/>\n",
       "</g>\n",
       "<!-- 18 -->\n",
       "<g class=\"node\" id=\"node19\">\n",
       "<title>18</title>\n",
       "<polygon fill=\"none\" points=\"1984.5,-877.5 1773.5,-877.5 1773.5,-824.5 1984.5,-824.5 1984.5,-877.5\" stroke=\"#000000\"/>\n",
       "<text fill=\"#000000\" font-family=\"Times,serif\" font-size=\"14.00\" text-anchor=\"middle\" x=\"1879\" y=\"-862.3\">entropy = 0.0</text>\n",
       "<text fill=\"#000000\" font-family=\"Times,serif\" font-size=\"14.00\" text-anchor=\"middle\" x=\"1879\" y=\"-847.3\">samples = 28</text>\n",
       "<text fill=\"#000000\" font-family=\"Times,serif\" font-size=\"14.00\" text-anchor=\"middle\" x=\"1879\" y=\"-832.3\">value = [28, 0, 0, 0, 0, 0, 0, 0, 0, 0]</text>\n",
       "</g>\n",
       "<!-- 2&#45;&gt;18 -->\n",
       "<g class=\"edge\" id=\"edge18\">\n",
       "<title>2-&gt;18</title>\n",
       "<path d=\"M1879,-920.9465C1879,-910.2621 1879,-898.4254 1879,-887.5742\" fill=\"none\" stroke=\"#000000\"/>\n",
       "<polygon fill=\"#000000\" points=\"1882.5001,-887.5421 1879,-877.5422 1875.5001,-887.5422 1882.5001,-887.5421\" stroke=\"#000000\"/>\n",
       "</g>\n",
       "<!-- 4 -->\n",
       "<g class=\"node\" id=\"node5\">\n",
       "<title>4</title>\n",
       "<polygon fill=\"none\" points=\"780,-781 562,-781 562,-713 780,-713 780,-781\" stroke=\"#000000\"/>\n",
       "<text fill=\"#000000\" font-family=\"Times,serif\" font-size=\"14.00\" text-anchor=\"middle\" x=\"671\" y=\"-765.8\">X[1] &lt;= 7.845</text>\n",
       "<text fill=\"#000000\" font-family=\"Times,serif\" font-size=\"14.00\" text-anchor=\"middle\" x=\"671\" y=\"-750.8\">entropy = 0.969</text>\n",
       "<text fill=\"#000000\" font-family=\"Times,serif\" font-size=\"14.00\" text-anchor=\"middle\" x=\"671\" y=\"-735.8\">samples = 40</text>\n",
       "<text fill=\"#000000\" font-family=\"Times,serif\" font-size=\"14.00\" text-anchor=\"middle\" x=\"671\" y=\"-720.8\">value = [0, 0, 0, 0, 0, 29, 10, 1, 0, 0]</text>\n",
       "</g>\n",
       "<!-- 3&#45;&gt;4 -->\n",
       "<g class=\"edge\" id=\"edge4\">\n",
       "<title>3-&gt;4</title>\n",
       "<path d=\"M1120.8922,-830.7009C1025.819,-813.0128 888.2116,-787.4115 790.2578,-769.1875\" fill=\"none\" stroke=\"#000000\"/>\n",
       "<polygon fill=\"#000000\" points=\"790.7807,-765.7248 780.3092,-767.3366 789.5003,-772.6067 790.7807,-765.7248\" stroke=\"#000000\"/>\n",
       "</g>\n",
       "<!-- 15 -->\n",
       "<g class=\"node\" id=\"node16\">\n",
       "<title>15</title>\n",
       "<polygon fill=\"none\" points=\"1335.5,-781 1124.5,-781 1124.5,-713 1335.5,-713 1335.5,-781\" stroke=\"#000000\"/>\n",
       "<text fill=\"#000000\" font-family=\"Times,serif\" font-size=\"14.00\" text-anchor=\"middle\" x=\"1230\" y=\"-765.8\">X[0] &lt;= 30.795</text>\n",
       "<text fill=\"#000000\" font-family=\"Times,serif\" font-size=\"14.00\" text-anchor=\"middle\" x=\"1230\" y=\"-750.8\">entropy = 0.286</text>\n",
       "<text fill=\"#000000\" font-family=\"Times,serif\" font-size=\"14.00\" text-anchor=\"middle\" x=\"1230\" y=\"-735.8\">samples = 20</text>\n",
       "<text fill=\"#000000\" font-family=\"Times,serif\" font-size=\"14.00\" text-anchor=\"middle\" x=\"1230\" y=\"-720.8\">value = [0, 0, 0, 0, 0, 1, 19, 0, 0, 0]</text>\n",
       "</g>\n",
       "<!-- 3&#45;&gt;15 -->\n",
       "<g class=\"edge\" id=\"edge15\">\n",
       "<title>3-&gt;15</title>\n",
       "<path d=\"M1230,-816.9465C1230,-808.776 1230,-799.9318 1230,-791.3697\" fill=\"none\" stroke=\"#000000\"/>\n",
       "<polygon fill=\"#000000\" points=\"1233.5001,-791.13 1230,-781.13 1226.5001,-791.13 1233.5001,-791.13\" stroke=\"#000000\"/>\n",
       "</g>\n",
       "<!-- 5 -->\n",
       "<g class=\"node\" id=\"node6\">\n",
       "<title>5</title>\n",
       "<polygon fill=\"none\" points=\"433.5,-677 222.5,-677 222.5,-609 433.5,-609 433.5,-677\" stroke=\"#000000\"/>\n",
       "<text fill=\"#000000\" font-family=\"Times,serif\" font-size=\"14.00\" text-anchor=\"middle\" x=\"328\" y=\"-661.8\">X[1] &lt;= 7.425</text>\n",
       "<text fill=\"#000000\" font-family=\"Times,serif\" font-size=\"14.00\" text-anchor=\"middle\" x=\"328\" y=\"-646.8\">entropy = 0.371</text>\n",
       "<text fill=\"#000000\" font-family=\"Times,serif\" font-size=\"14.00\" text-anchor=\"middle\" x=\"328\" y=\"-631.8\">samples = 14</text>\n",
       "<text fill=\"#000000\" font-family=\"Times,serif\" font-size=\"14.00\" text-anchor=\"middle\" x=\"328\" y=\"-616.8\">value = [0, 0, 0, 0, 0, 13, 0, 1, 0, 0]</text>\n",
       "</g>\n",
       "<!-- 4&#45;&gt;5 -->\n",
       "<g class=\"edge\" id=\"edge5\">\n",
       "<title>4-&gt;5</title>\n",
       "<path d=\"M561.5296,-713.8078C523.7549,-702.3542 481.34,-689.4938 443.1266,-677.9072\" fill=\"none\" stroke=\"#000000\"/>\n",
       "<polygon fill=\"#000000\" points=\"444.0926,-674.5428 433.5072,-674.9905 442.0614,-681.2416 444.0926,-674.5428\" stroke=\"#000000\"/>\n",
       "</g>\n",
       "<!-- 8 -->\n",
       "<g class=\"node\" id=\"node9\">\n",
       "<title>8</title>\n",
       "<polygon fill=\"none\" points=\"780,-677 562,-677 562,-609 780,-609 780,-677\" stroke=\"#000000\"/>\n",
       "<text fill=\"#000000\" font-family=\"Times,serif\" font-size=\"14.00\" text-anchor=\"middle\" x=\"671\" y=\"-661.8\">X[0] &lt;= 28.74</text>\n",
       "<text fill=\"#000000\" font-family=\"Times,serif\" font-size=\"14.00\" text-anchor=\"middle\" x=\"671\" y=\"-646.8\">entropy = 0.961</text>\n",
       "<text fill=\"#000000\" font-family=\"Times,serif\" font-size=\"14.00\" text-anchor=\"middle\" x=\"671\" y=\"-631.8\">samples = 26</text>\n",
       "<text fill=\"#000000\" font-family=\"Times,serif\" font-size=\"14.00\" text-anchor=\"middle\" x=\"671\" y=\"-616.8\">value = [0, 0, 0, 0, 0, 16, 10, 0, 0, 0]</text>\n",
       "</g>\n",
       "<!-- 4&#45;&gt;8 -->\n",
       "<g class=\"edge\" id=\"edge8\">\n",
       "<title>4-&gt;8</title>\n",
       "<path d=\"M671,-712.9465C671,-704.776 671,-695.9318 671,-687.3697\" fill=\"none\" stroke=\"#000000\"/>\n",
       "<polygon fill=\"#000000\" points=\"674.5001,-687.13 671,-677.13 667.5001,-687.13 674.5001,-687.13\" stroke=\"#000000\"/>\n",
       "</g>\n",
       "<!-- 6 -->\n",
       "<g class=\"node\" id=\"node7\">\n",
       "<title>6</title>\n",
       "<polygon fill=\"none\" points=\"204,-565.5 0,-565.5 0,-512.5 204,-512.5 204,-565.5\" stroke=\"#000000\"/>\n",
       "<text fill=\"#000000\" font-family=\"Times,serif\" font-size=\"14.00\" text-anchor=\"middle\" x=\"102\" y=\"-550.3\">entropy = 0.0</text>\n",
       "<text fill=\"#000000\" font-family=\"Times,serif\" font-size=\"14.00\" text-anchor=\"middle\" x=\"102\" y=\"-535.3\">samples = 1</text>\n",
       "<text fill=\"#000000\" font-family=\"Times,serif\" font-size=\"14.00\" text-anchor=\"middle\" x=\"102\" y=\"-520.3\">value = [0, 0, 0, 0, 0, 0, 0, 1, 0, 0]</text>\n",
       "</g>\n",
       "<!-- 5&#45;&gt;6 -->\n",
       "<g class=\"edge\" id=\"edge6\">\n",
       "<title>5-&gt;6</title>\n",
       "<path d=\"M253.9991,-608.9465C226.5922,-596.3344 195.6965,-582.117 168.9523,-569.8099\" fill=\"none\" stroke=\"#000000\"/>\n",
       "<polygon fill=\"#000000\" points=\"170.2256,-566.5431 159.6782,-565.5422 167.2993,-572.9021 170.2256,-566.5431\" stroke=\"#000000\"/>\n",
       "</g>\n",
       "<!-- 7 -->\n",
       "<g class=\"node\" id=\"node8\">\n",
       "<title>7</title>\n",
       "<polygon fill=\"none\" points=\"433.5,-565.5 222.5,-565.5 222.5,-512.5 433.5,-512.5 433.5,-565.5\" stroke=\"#000000\"/>\n",
       "<text fill=\"#000000\" font-family=\"Times,serif\" font-size=\"14.00\" text-anchor=\"middle\" x=\"328\" y=\"-550.3\">entropy = 0.0</text>\n",
       "<text fill=\"#000000\" font-family=\"Times,serif\" font-size=\"14.00\" text-anchor=\"middle\" x=\"328\" y=\"-535.3\">samples = 13</text>\n",
       "<text fill=\"#000000\" font-family=\"Times,serif\" font-size=\"14.00\" text-anchor=\"middle\" x=\"328\" y=\"-520.3\">value = [0, 0, 0, 0, 0, 13, 0, 0, 0, 0]</text>\n",
       "</g>\n",
       "<!-- 5&#45;&gt;7 -->\n",
       "<g class=\"edge\" id=\"edge7\">\n",
       "<title>5-&gt;7</title>\n",
       "<path d=\"M328,-608.9465C328,-598.2621 328,-586.4254 328,-575.5742\" fill=\"none\" stroke=\"#000000\"/>\n",
       "<polygon fill=\"#000000\" points=\"331.5001,-575.5421 328,-565.5422 324.5001,-575.5422 331.5001,-575.5421\" stroke=\"#000000\"/>\n",
       "</g>\n",
       "<!-- 9 -->\n",
       "<g class=\"node\" id=\"node10\">\n",
       "<title>9</title>\n",
       "<polygon fill=\"none\" points=\"656,-573 452,-573 452,-505 656,-505 656,-573\" stroke=\"#000000\"/>\n",
       "<text fill=\"#000000\" font-family=\"Times,serif\" font-size=\"14.00\" text-anchor=\"middle\" x=\"554\" y=\"-557.8\">X[1] &lt;= 7.885</text>\n",
       "<text fill=\"#000000\" font-family=\"Times,serif\" font-size=\"14.00\" text-anchor=\"middle\" x=\"554\" y=\"-542.8\">entropy = 0.503</text>\n",
       "<text fill=\"#000000\" font-family=\"Times,serif\" font-size=\"14.00\" text-anchor=\"middle\" x=\"554\" y=\"-527.8\">samples = 9</text>\n",
       "<text fill=\"#000000\" font-family=\"Times,serif\" font-size=\"14.00\" text-anchor=\"middle\" x=\"554\" y=\"-512.8\">value = [0, 0, 0, 0, 0, 1, 8, 0, 0, 0]</text>\n",
       "</g>\n",
       "<!-- 8&#45;&gt;9 -->\n",
       "<g class=\"edge\" id=\"edge9\">\n",
       "<title>8-&gt;9</title>\n",
       "<path d=\"M632.6898,-608.9465C622.2859,-599.6986 610.911,-589.5876 600.1243,-579.9994\" fill=\"none\" stroke=\"#000000\"/>\n",
       "<polygon fill=\"#000000\" points=\"602.1956,-577.1577 592.3962,-573.13 597.5451,-582.3896 602.1956,-577.1577\" stroke=\"#000000\"/>\n",
       "</g>\n",
       "<!-- 12 -->\n",
       "<g class=\"node\" id=\"node13\">\n",
       "<title>12</title>\n",
       "<polygon fill=\"none\" points=\"885.5,-573 674.5,-573 674.5,-505 885.5,-505 885.5,-573\" stroke=\"#000000\"/>\n",
       "<text fill=\"#000000\" font-family=\"Times,serif\" font-size=\"14.00\" text-anchor=\"middle\" x=\"780\" y=\"-557.8\">X[0] &lt;= 30.765</text>\n",
       "<text fill=\"#000000\" font-family=\"Times,serif\" font-size=\"14.00\" text-anchor=\"middle\" x=\"780\" y=\"-542.8\">entropy = 0.523</text>\n",
       "<text fill=\"#000000\" font-family=\"Times,serif\" font-size=\"14.00\" text-anchor=\"middle\" x=\"780\" y=\"-527.8\">samples = 17</text>\n",
       "<text fill=\"#000000\" font-family=\"Times,serif\" font-size=\"14.00\" text-anchor=\"middle\" x=\"780\" y=\"-512.8\">value = [0, 0, 0, 0, 0, 15, 2, 0, 0, 0]</text>\n",
       "</g>\n",
       "<!-- 8&#45;&gt;12 -->\n",
       "<g class=\"edge\" id=\"edge12\">\n",
       "<title>8-&gt;12</title>\n",
       "<path d=\"M706.6907,-608.9465C716.2891,-599.7884 726.7747,-589.7838 736.7366,-580.2788\" fill=\"none\" stroke=\"#000000\"/>\n",
       "<polygon fill=\"#000000\" points=\"739.4102,-582.5655 744.2291,-573.13 734.5779,-577.5009 739.4102,-582.5655\" stroke=\"#000000\"/>\n",
       "</g>\n",
       "<!-- 10 -->\n",
       "<g class=\"node\" id=\"node11\">\n",
       "<title>10</title>\n",
       "<polygon fill=\"none\" points=\"434,-461.5 230,-461.5 230,-408.5 434,-408.5 434,-461.5\" stroke=\"#000000\"/>\n",
       "<text fill=\"#000000\" font-family=\"Times,serif\" font-size=\"14.00\" text-anchor=\"middle\" x=\"332\" y=\"-446.3\">entropy = 0.0</text>\n",
       "<text fill=\"#000000\" font-family=\"Times,serif\" font-size=\"14.00\" text-anchor=\"middle\" x=\"332\" y=\"-431.3\">samples = 1</text>\n",
       "<text fill=\"#000000\" font-family=\"Times,serif\" font-size=\"14.00\" text-anchor=\"middle\" x=\"332\" y=\"-416.3\">value = [0, 0, 0, 0, 0, 1, 0, 0, 0, 0]</text>\n",
       "</g>\n",
       "<!-- 9&#45;&gt;10 -->\n",
       "<g class=\"edge\" id=\"edge10\">\n",
       "<title>9-&gt;10</title>\n",
       "<path d=\"M481.3089,-504.9465C454.387,-492.3344 424.0382,-478.117 397.7673,-465.8099\" fill=\"none\" stroke=\"#000000\"/>\n",
       "<polygon fill=\"#000000\" points=\"399.1977,-462.615 388.6573,-461.5422 396.2281,-468.9539 399.1977,-462.615\" stroke=\"#000000\"/>\n",
       "</g>\n",
       "<!-- 11 -->\n",
       "<g class=\"node\" id=\"node12\">\n",
       "<title>11</title>\n",
       "<polygon fill=\"none\" points=\"656,-461.5 452,-461.5 452,-408.5 656,-408.5 656,-461.5\" stroke=\"#000000\"/>\n",
       "<text fill=\"#000000\" font-family=\"Times,serif\" font-size=\"14.00\" text-anchor=\"middle\" x=\"554\" y=\"-446.3\">entropy = 0.0</text>\n",
       "<text fill=\"#000000\" font-family=\"Times,serif\" font-size=\"14.00\" text-anchor=\"middle\" x=\"554\" y=\"-431.3\">samples = 8</text>\n",
       "<text fill=\"#000000\" font-family=\"Times,serif\" font-size=\"14.00\" text-anchor=\"middle\" x=\"554\" y=\"-416.3\">value = [0, 0, 0, 0, 0, 0, 8, 0, 0, 0]</text>\n",
       "</g>\n",
       "<!-- 9&#45;&gt;11 -->\n",
       "<g class=\"edge\" id=\"edge11\">\n",
       "<title>9-&gt;11</title>\n",
       "<path d=\"M554,-504.9465C554,-494.2621 554,-482.4254 554,-471.5742\" fill=\"none\" stroke=\"#000000\"/>\n",
       "<polygon fill=\"#000000\" points=\"557.5001,-471.5421 554,-461.5422 550.5001,-471.5422 557.5001,-471.5421\" stroke=\"#000000\"/>\n",
       "</g>\n",
       "<!-- 13 -->\n",
       "<g class=\"node\" id=\"node14\">\n",
       "<title>13</title>\n",
       "<polygon fill=\"none\" points=\"885.5,-461.5 674.5,-461.5 674.5,-408.5 885.5,-408.5 885.5,-461.5\" stroke=\"#000000\"/>\n",
       "<text fill=\"#000000\" font-family=\"Times,serif\" font-size=\"14.00\" text-anchor=\"middle\" x=\"780\" y=\"-446.3\">entropy = 0.0</text>\n",
       "<text fill=\"#000000\" font-family=\"Times,serif\" font-size=\"14.00\" text-anchor=\"middle\" x=\"780\" y=\"-431.3\">samples = 15</text>\n",
       "<text fill=\"#000000\" font-family=\"Times,serif\" font-size=\"14.00\" text-anchor=\"middle\" x=\"780\" y=\"-416.3\">value = [0, 0, 0, 0, 0, 15, 0, 0, 0, 0]</text>\n",
       "</g>\n",
       "<!-- 12&#45;&gt;13 -->\n",
       "<g class=\"edge\" id=\"edge13\">\n",
       "<title>12-&gt;13</title>\n",
       "<path d=\"M780,-504.9465C780,-494.2621 780,-482.4254 780,-471.5742\" fill=\"none\" stroke=\"#000000\"/>\n",
       "<polygon fill=\"#000000\" points=\"783.5001,-471.5421 780,-461.5422 776.5001,-471.5422 783.5001,-471.5421\" stroke=\"#000000\"/>\n",
       "</g>\n",
       "<!-- 14 -->\n",
       "<g class=\"node\" id=\"node15\">\n",
       "<title>14</title>\n",
       "<polygon fill=\"none\" points=\"1108,-461.5 904,-461.5 904,-408.5 1108,-408.5 1108,-461.5\" stroke=\"#000000\"/>\n",
       "<text fill=\"#000000\" font-family=\"Times,serif\" font-size=\"14.00\" text-anchor=\"middle\" x=\"1006\" y=\"-446.3\">entropy = 0.0</text>\n",
       "<text fill=\"#000000\" font-family=\"Times,serif\" font-size=\"14.00\" text-anchor=\"middle\" x=\"1006\" y=\"-431.3\">samples = 2</text>\n",
       "<text fill=\"#000000\" font-family=\"Times,serif\" font-size=\"14.00\" text-anchor=\"middle\" x=\"1006\" y=\"-416.3\">value = [0, 0, 0, 0, 0, 0, 2, 0, 0, 0]</text>\n",
       "</g>\n",
       "<!-- 12&#45;&gt;14 -->\n",
       "<g class=\"edge\" id=\"edge14\">\n",
       "<title>12-&gt;14</title>\n",
       "<path d=\"M854.0009,-504.9465C881.4078,-492.3344 912.3035,-478.117 939.0477,-465.8099\" fill=\"none\" stroke=\"#000000\"/>\n",
       "<polygon fill=\"#000000\" points=\"940.7007,-468.9021 948.3218,-461.5422 937.7744,-462.5431 940.7007,-468.9021\" stroke=\"#000000\"/>\n",
       "</g>\n",
       "<!-- 16 -->\n",
       "<g class=\"node\" id=\"node17\">\n",
       "<title>16</title>\n",
       "<polygon fill=\"none\" points=\"1222.5,-669.5 1011.5,-669.5 1011.5,-616.5 1222.5,-616.5 1222.5,-669.5\" stroke=\"#000000\"/>\n",
       "<text fill=\"#000000\" font-family=\"Times,serif\" font-size=\"14.00\" text-anchor=\"middle\" x=\"1117\" y=\"-654.3\">entropy = 0.0</text>\n",
       "<text fill=\"#000000\" font-family=\"Times,serif\" font-size=\"14.00\" text-anchor=\"middle\" x=\"1117\" y=\"-639.3\">samples = 19</text>\n",
       "<text fill=\"#000000\" font-family=\"Times,serif\" font-size=\"14.00\" text-anchor=\"middle\" x=\"1117\" y=\"-624.3\">value = [0, 0, 0, 0, 0, 0, 19, 0, 0, 0]</text>\n",
       "</g>\n",
       "<!-- 15&#45;&gt;16 -->\n",
       "<g class=\"edge\" id=\"edge16\">\n",
       "<title>15-&gt;16</title>\n",
       "<path d=\"M1192.9996,-712.9465C1180.3134,-701.2707 1166.1322,-688.219 1153.487,-676.5809\" fill=\"none\" stroke=\"#000000\"/>\n",
       "<polygon fill=\"#000000\" points=\"1155.5673,-673.7389 1145.8391,-669.5422 1150.8269,-678.8895 1155.5673,-673.7389\" stroke=\"#000000\"/>\n",
       "</g>\n",
       "<!-- 17 -->\n",
       "<g class=\"node\" id=\"node18\">\n",
       "<title>17</title>\n",
       "<polygon fill=\"none\" points=\"1445,-669.5 1241,-669.5 1241,-616.5 1445,-616.5 1445,-669.5\" stroke=\"#000000\"/>\n",
       "<text fill=\"#000000\" font-family=\"Times,serif\" font-size=\"14.00\" text-anchor=\"middle\" x=\"1343\" y=\"-654.3\">entropy = 0.0</text>\n",
       "<text fill=\"#000000\" font-family=\"Times,serif\" font-size=\"14.00\" text-anchor=\"middle\" x=\"1343\" y=\"-639.3\">samples = 1</text>\n",
       "<text fill=\"#000000\" font-family=\"Times,serif\" font-size=\"14.00\" text-anchor=\"middle\" x=\"1343\" y=\"-624.3\">value = [0, 0, 0, 0, 0, 1, 0, 0, 0, 0]</text>\n",
       "</g>\n",
       "<!-- 15&#45;&gt;17 -->\n",
       "<g class=\"edge\" id=\"edge17\">\n",
       "<title>15-&gt;17</title>\n",
       "<path d=\"M1267.0004,-712.9465C1279.6866,-701.2707 1293.8678,-688.219 1306.513,-676.5809\" fill=\"none\" stroke=\"#000000\"/>\n",
       "<polygon fill=\"#000000\" points=\"1309.1731,-678.8895 1314.1609,-669.5422 1304.4327,-673.7389 1309.1731,-678.8895\" stroke=\"#000000\"/>\n",
       "</g>\n",
       "<!-- 20 -->\n",
       "<g class=\"node\" id=\"node21\">\n",
       "<title>20</title>\n",
       "<polygon fill=\"none\" points=\"2280,-885 2062,-885 2062,-817 2280,-817 2280,-885\" stroke=\"#000000\"/>\n",
       "<text fill=\"#000000\" font-family=\"Times,serif\" font-size=\"14.00\" text-anchor=\"middle\" x=\"2171\" y=\"-869.8\">X[0] &lt;= 37.095</text>\n",
       "<text fill=\"#000000\" font-family=\"Times,serif\" font-size=\"14.00\" text-anchor=\"middle\" x=\"2171\" y=\"-854.8\">entropy = 0.997</text>\n",
       "<text fill=\"#000000\" font-family=\"Times,serif\" font-size=\"14.00\" text-anchor=\"middle\" x=\"2171\" y=\"-839.8\">samples = 60</text>\n",
       "<text fill=\"#000000\" font-family=\"Times,serif\" font-size=\"14.00\" text-anchor=\"middle\" x=\"2171\" y=\"-824.8\">value = [0, 0, 0, 0, 28, 0, 0, 32, 0, 0]</text>\n",
       "</g>\n",
       "<!-- 19&#45;&gt;20 -->\n",
       "<g class=\"edge\" id=\"edge20\">\n",
       "<title>19-&gt;20</title>\n",
       "<path d=\"M2210.6812,-920.9465C2205.7913,-912.3271 2200.4761,-902.9579 2195.3722,-893.9611\" fill=\"none\" stroke=\"#000000\"/>\n",
       "<polygon fill=\"#000000\" points=\"2198.3408,-892.1008 2190.3622,-885.13 2192.2524,-895.5549 2198.3408,-892.1008\" stroke=\"#000000\"/>\n",
       "</g>\n",
       "<!-- 59 -->\n",
       "<g class=\"node\" id=\"node60\">\n",
       "<title>59</title>\n",
       "<polygon fill=\"none\" points=\"2502,-877.5 2298,-877.5 2298,-824.5 2502,-824.5 2502,-877.5\" stroke=\"#000000\"/>\n",
       "<text fill=\"#000000\" font-family=\"Times,serif\" font-size=\"14.00\" text-anchor=\"middle\" x=\"2400\" y=\"-862.3\">entropy = 0.0</text>\n",
       "<text fill=\"#000000\" font-family=\"Times,serif\" font-size=\"14.00\" text-anchor=\"middle\" x=\"2400\" y=\"-847.3\">samples = 1</text>\n",
       "<text fill=\"#000000\" font-family=\"Times,serif\" font-size=\"14.00\" text-anchor=\"middle\" x=\"2400\" y=\"-832.3\">value = [1, 0, 0, 0, 0, 0, 0, 0, 0, 0]</text>\n",
       "</g>\n",
       "<!-- 19&#45;&gt;59 -->\n",
       "<g class=\"edge\" id=\"edge59\">\n",
       "<title>19-&gt;59</title>\n",
       "<path d=\"M2285.6644,-920.9465C2305.7401,-908.6649 2328.3043,-894.8609 2348.0501,-882.7811\" fill=\"none\" stroke=\"#000000\"/>\n",
       "<polygon fill=\"#000000\" points=\"2349.9099,-885.7464 2356.6138,-877.5422 2346.2569,-879.7751 2349.9099,-885.7464\" stroke=\"#000000\"/>\n",
       "</g>\n",
       "<!-- 21 -->\n",
       "<g class=\"node\" id=\"node22\">\n",
       "<title>21</title>\n",
       "<polygon fill=\"none\" points=\"2170,-781 1952,-781 1952,-713 2170,-713 2170,-781\" stroke=\"#000000\"/>\n",
       "<text fill=\"#000000\" font-family=\"Times,serif\" font-size=\"14.00\" text-anchor=\"middle\" x=\"2061\" y=\"-765.8\">X[0] &lt;= 35.39</text>\n",
       "<text fill=\"#000000\" font-family=\"Times,serif\" font-size=\"14.00\" text-anchor=\"middle\" x=\"2061\" y=\"-750.8\">entropy = 0.963</text>\n",
       "<text fill=\"#000000\" font-family=\"Times,serif\" font-size=\"14.00\" text-anchor=\"middle\" x=\"2061\" y=\"-735.8\">samples = 49</text>\n",
       "<text fill=\"#000000\" font-family=\"Times,serif\" font-size=\"14.00\" text-anchor=\"middle\" x=\"2061\" y=\"-720.8\">value = [0, 0, 0, 0, 19, 0, 0, 30, 0, 0]</text>\n",
       "</g>\n",
       "<!-- 20&#45;&gt;21 -->\n",
       "<g class=\"edge\" id=\"edge21\">\n",
       "<title>20-&gt;21</title>\n",
       "<path d=\"M2134.9819,-816.9465C2125.2954,-807.7884 2114.7136,-797.7838 2104.6603,-788.2788\" fill=\"none\" stroke=\"#000000\"/>\n",
       "<polygon fill=\"#000000\" points=\"2106.7701,-785.4569 2097.099,-781.13 2101.961,-790.5434 2106.7701,-785.4569\" stroke=\"#000000\"/>\n",
       "</g>\n",
       "<!-- 52 -->\n",
       "<g class=\"node\" id=\"node53\">\n",
       "<title>52</title>\n",
       "<polygon fill=\"none\" points=\"2392,-781 2188,-781 2188,-713 2392,-713 2392,-781\" stroke=\"#000000\"/>\n",
       "<text fill=\"#000000\" font-family=\"Times,serif\" font-size=\"14.00\" text-anchor=\"middle\" x=\"2290\" y=\"-765.8\">X[1] &lt;= 8.32</text>\n",
       "<text fill=\"#000000\" font-family=\"Times,serif\" font-size=\"14.00\" text-anchor=\"middle\" x=\"2290\" y=\"-750.8\">entropy = 0.684</text>\n",
       "<text fill=\"#000000\" font-family=\"Times,serif\" font-size=\"14.00\" text-anchor=\"middle\" x=\"2290\" y=\"-735.8\">samples = 11</text>\n",
       "<text fill=\"#000000\" font-family=\"Times,serif\" font-size=\"14.00\" text-anchor=\"middle\" x=\"2290\" y=\"-720.8\">value = [0, 0, 0, 0, 9, 0, 0, 2, 0, 0]</text>\n",
       "</g>\n",
       "<!-- 20&#45;&gt;52 -->\n",
       "<g class=\"edge\" id=\"edge52\">\n",
       "<title>20-&gt;52</title>\n",
       "<path d=\"M2209.9651,-816.9465C2220.6495,-807.6088 2232.3409,-797.3911 2243.4066,-787.7203\" fill=\"none\" stroke=\"#000000\"/>\n",
       "<polygon fill=\"#000000\" points=\"2245.7209,-790.346 2250.9474,-781.13 2241.1145,-785.0752 2245.7209,-790.346\" stroke=\"#000000\"/>\n",
       "</g>\n",
       "<!-- 22 -->\n",
       "<g class=\"node\" id=\"node23\">\n",
       "<title>22</title>\n",
       "<polygon fill=\"none\" points=\"1834.5,-677 1623.5,-677 1623.5,-609 1834.5,-609 1834.5,-677\" stroke=\"#000000\"/>\n",
       "<text fill=\"#000000\" font-family=\"Times,serif\" font-size=\"14.00\" text-anchor=\"middle\" x=\"1729\" y=\"-661.8\">X[0] &lt;= 34.065</text>\n",
       "<text fill=\"#000000\" font-family=\"Times,serif\" font-size=\"14.00\" text-anchor=\"middle\" x=\"1729\" y=\"-646.8\">entropy = 0.852</text>\n",
       "<text fill=\"#000000\" font-family=\"Times,serif\" font-size=\"14.00\" text-anchor=\"middle\" x=\"1729\" y=\"-631.8\">samples = 18</text>\n",
       "<text fill=\"#000000\" font-family=\"Times,serif\" font-size=\"14.00\" text-anchor=\"middle\" x=\"1729\" y=\"-616.8\">value = [0, 0, 0, 0, 13, 0, 0, 5, 0, 0]</text>\n",
       "</g>\n",
       "<!-- 21&#45;&gt;22 -->\n",
       "<g class=\"edge\" id=\"edge22\">\n",
       "<title>21-&gt;22</title>\n",
       "<path d=\"M1952.2908,-712.9465C1917.7188,-702.1167 1879.368,-690.1032 1844.3444,-679.132\" fill=\"none\" stroke=\"#000000\"/>\n",
       "<polygon fill=\"#000000\" points=\"1845.1491,-675.7164 1834.5601,-676.067 1843.0566,-682.3963 1845.1491,-675.7164\" stroke=\"#000000\"/>\n",
       "</g>\n",
       "<!-- 39 -->\n",
       "<g class=\"node\" id=\"node40\">\n",
       "<title>39</title>\n",
       "<polygon fill=\"none\" points=\"2168.5,-677 1957.5,-677 1957.5,-609 2168.5,-609 2168.5,-677\" stroke=\"#000000\"/>\n",
       "<text fill=\"#000000\" font-family=\"Times,serif\" font-size=\"14.00\" text-anchor=\"middle\" x=\"2063\" y=\"-661.8\">X[1] &lt;= 7.805</text>\n",
       "<text fill=\"#000000\" font-family=\"Times,serif\" font-size=\"14.00\" text-anchor=\"middle\" x=\"2063\" y=\"-646.8\">entropy = 0.709</text>\n",
       "<text fill=\"#000000\" font-family=\"Times,serif\" font-size=\"14.00\" text-anchor=\"middle\" x=\"2063\" y=\"-631.8\">samples = 31</text>\n",
       "<text fill=\"#000000\" font-family=\"Times,serif\" font-size=\"14.00\" text-anchor=\"middle\" x=\"2063\" y=\"-616.8\">value = [0, 0, 0, 0, 6, 0, 0, 25, 0, 0]</text>\n",
       "</g>\n",
       "<!-- 21&#45;&gt;39 -->\n",
       "<g class=\"edge\" id=\"edge39\">\n",
       "<title>21-&gt;39</title>\n",
       "<path d=\"M2061.6549,-712.9465C2061.812,-704.776 2061.9821,-695.9318 2062.1467,-687.3697\" fill=\"none\" stroke=\"#000000\"/>\n",
       "<polygon fill=\"#000000\" points=\"2065.6506,-687.1955 2062.3437,-677.13 2058.6519,-687.0608 2065.6506,-687.1955\" stroke=\"#000000\"/>\n",
       "</g>\n",
       "<!-- 23 -->\n",
       "<g class=\"node\" id=\"node24\">\n",
       "<title>23</title>\n",
       "<polygon fill=\"none\" points=\"1552,-573 1348,-573 1348,-505 1552,-505 1552,-573\" stroke=\"#000000\"/>\n",
       "<text fill=\"#000000\" font-family=\"Times,serif\" font-size=\"14.00\" text-anchor=\"middle\" x=\"1450\" y=\"-557.8\">X[0] &lt;= 33.7</text>\n",
       "<text fill=\"#000000\" font-family=\"Times,serif\" font-size=\"14.00\" text-anchor=\"middle\" x=\"1450\" y=\"-542.8\">entropy = 0.971</text>\n",
       "<text fill=\"#000000\" font-family=\"Times,serif\" font-size=\"14.00\" text-anchor=\"middle\" x=\"1450\" y=\"-527.8\">samples = 5</text>\n",
       "<text fill=\"#000000\" font-family=\"Times,serif\" font-size=\"14.00\" text-anchor=\"middle\" x=\"1450\" y=\"-512.8\">value = [0, 0, 0, 0, 2, 0, 0, 3, 0, 0]</text>\n",
       "</g>\n",
       "<!-- 22&#45;&gt;23 -->\n",
       "<g class=\"edge\" id=\"edge23\">\n",
       "<title>22-&gt;23</title>\n",
       "<path d=\"M1637.645,-608.9465C1609.9453,-598.6212 1579.3591,-587.2199 1551.0616,-576.6717\" fill=\"none\" stroke=\"#000000\"/>\n",
       "<polygon fill=\"#000000\" points=\"1552.153,-573.3433 1541.5603,-573.13 1549.7079,-579.9024 1552.153,-573.3433\" stroke=\"#000000\"/>\n",
       "</g>\n",
       "<!-- 30 -->\n",
       "<g class=\"node\" id=\"node31\">\n",
       "<title>30</title>\n",
       "<polygon fill=\"none\" points=\"1834.5,-573 1623.5,-573 1623.5,-505 1834.5,-505 1834.5,-573\" stroke=\"#000000\"/>\n",
       "<text fill=\"#000000\" font-family=\"Times,serif\" font-size=\"14.00\" text-anchor=\"middle\" x=\"1729\" y=\"-557.8\">X[0] &lt;= 34.595</text>\n",
       "<text fill=\"#000000\" font-family=\"Times,serif\" font-size=\"14.00\" text-anchor=\"middle\" x=\"1729\" y=\"-542.8\">entropy = 0.619</text>\n",
       "<text fill=\"#000000\" font-family=\"Times,serif\" font-size=\"14.00\" text-anchor=\"middle\" x=\"1729\" y=\"-527.8\">samples = 13</text>\n",
       "<text fill=\"#000000\" font-family=\"Times,serif\" font-size=\"14.00\" text-anchor=\"middle\" x=\"1729\" y=\"-512.8\">value = [0, 0, 0, 0, 11, 0, 0, 2, 0, 0]</text>\n",
       "</g>\n",
       "<!-- 22&#45;&gt;30 -->\n",
       "<g class=\"edge\" id=\"edge30\">\n",
       "<title>22-&gt;30</title>\n",
       "<path d=\"M1729,-608.9465C1729,-600.776 1729,-591.9318 1729,-583.3697\" fill=\"none\" stroke=\"#000000\"/>\n",
       "<polygon fill=\"#000000\" points=\"1732.5001,-583.13 1729,-573.13 1725.5001,-583.13 1732.5001,-583.13\" stroke=\"#000000\"/>\n",
       "</g>\n",
       "<!-- 24 -->\n",
       "<g class=\"node\" id=\"node25\">\n",
       "<title>24</title>\n",
       "<polygon fill=\"none\" points=\"1330,-469 1126,-469 1126,-401 1330,-401 1330,-469\" stroke=\"#000000\"/>\n",
       "<text fill=\"#000000\" font-family=\"Times,serif\" font-size=\"14.00\" text-anchor=\"middle\" x=\"1228\" y=\"-453.8\">X[1] &lt;= 7.28</text>\n",
       "<text fill=\"#000000\" font-family=\"Times,serif\" font-size=\"14.00\" text-anchor=\"middle\" x=\"1228\" y=\"-438.8\">entropy = 0.918</text>\n",
       "<text fill=\"#000000\" font-family=\"Times,serif\" font-size=\"14.00\" text-anchor=\"middle\" x=\"1228\" y=\"-423.8\">samples = 3</text>\n",
       "<text fill=\"#000000\" font-family=\"Times,serif\" font-size=\"14.00\" text-anchor=\"middle\" x=\"1228\" y=\"-408.8\">value = [0, 0, 0, 0, 2, 0, 0, 1, 0, 0]</text>\n",
       "</g>\n",
       "<!-- 23&#45;&gt;24 -->\n",
       "<g class=\"edge\" id=\"edge24\">\n",
       "<title>23-&gt;24</title>\n",
       "<path d=\"M1377.3089,-504.9465C1355.8433,-494.8906 1332.1991,-483.814 1310.1804,-473.4989\" fill=\"none\" stroke=\"#000000\"/>\n",
       "<polygon fill=\"#000000\" points=\"1311.3948,-470.2028 1300.8544,-469.13 1308.4252,-476.5418 1311.3948,-470.2028\" stroke=\"#000000\"/>\n",
       "</g>\n",
       "<!-- 29 -->\n",
       "<g class=\"node\" id=\"node30\">\n",
       "<title>29</title>\n",
       "<polygon fill=\"none\" points=\"1552,-461.5 1348,-461.5 1348,-408.5 1552,-408.5 1552,-461.5\" stroke=\"#000000\"/>\n",
       "<text fill=\"#000000\" font-family=\"Times,serif\" font-size=\"14.00\" text-anchor=\"middle\" x=\"1450\" y=\"-446.3\">entropy = 0.0</text>\n",
       "<text fill=\"#000000\" font-family=\"Times,serif\" font-size=\"14.00\" text-anchor=\"middle\" x=\"1450\" y=\"-431.3\">samples = 2</text>\n",
       "<text fill=\"#000000\" font-family=\"Times,serif\" font-size=\"14.00\" text-anchor=\"middle\" x=\"1450\" y=\"-416.3\">value = [0, 0, 0, 0, 0, 0, 0, 2, 0, 0]</text>\n",
       "</g>\n",
       "<!-- 23&#45;&gt;29 -->\n",
       "<g class=\"edge\" id=\"edge29\">\n",
       "<title>23-&gt;29</title>\n",
       "<path d=\"M1450,-504.9465C1450,-494.2621 1450,-482.4254 1450,-471.5742\" fill=\"none\" stroke=\"#000000\"/>\n",
       "<polygon fill=\"#000000\" points=\"1453.5001,-471.5421 1450,-461.5422 1446.5001,-471.5422 1453.5001,-471.5421\" stroke=\"#000000\"/>\n",
       "</g>\n",
       "<!-- 25 -->\n",
       "<g class=\"node\" id=\"node26\">\n",
       "<title>25</title>\n",
       "<polygon fill=\"none\" points=\"1275,-357.5 1071,-357.5 1071,-304.5 1275,-304.5 1275,-357.5\" stroke=\"#000000\"/>\n",
       "<text fill=\"#000000\" font-family=\"Times,serif\" font-size=\"14.00\" text-anchor=\"middle\" x=\"1173\" y=\"-342.3\">entropy = 0.0</text>\n",
       "<text fill=\"#000000\" font-family=\"Times,serif\" font-size=\"14.00\" text-anchor=\"middle\" x=\"1173\" y=\"-327.3\">samples = 1</text>\n",
       "<text fill=\"#000000\" font-family=\"Times,serif\" font-size=\"14.00\" text-anchor=\"middle\" x=\"1173\" y=\"-312.3\">value = [0, 0, 0, 0, 1, 0, 0, 0, 0, 0]</text>\n",
       "</g>\n",
       "<!-- 24&#45;&gt;25 -->\n",
       "<g class=\"edge\" id=\"edge25\">\n",
       "<title>24-&gt;25</title>\n",
       "<path d=\"M1209.9909,-400.9465C1204.1658,-389.9316 1197.693,-377.6922 1191.8112,-366.5703\" fill=\"none\" stroke=\"#000000\"/>\n",
       "<polygon fill=\"#000000\" points=\"1194.8057,-364.7459 1187.0367,-357.5422 1188.6178,-368.0184 1194.8057,-364.7459\" stroke=\"#000000\"/>\n",
       "</g>\n",
       "<!-- 26 -->\n",
       "<g class=\"node\" id=\"node27\">\n",
       "<title>26</title>\n",
       "<polygon fill=\"none\" points=\"1497,-365 1293,-365 1293,-297 1497,-297 1497,-365\" stroke=\"#000000\"/>\n",
       "<text fill=\"#000000\" font-family=\"Times,serif\" font-size=\"14.00\" text-anchor=\"middle\" x=\"1395\" y=\"-349.8\">X[1] &lt;= 7.495</text>\n",
       "<text fill=\"#000000\" font-family=\"Times,serif\" font-size=\"14.00\" text-anchor=\"middle\" x=\"1395\" y=\"-334.8\">entropy = 1.0</text>\n",
       "<text fill=\"#000000\" font-family=\"Times,serif\" font-size=\"14.00\" text-anchor=\"middle\" x=\"1395\" y=\"-319.8\">samples = 2</text>\n",
       "<text fill=\"#000000\" font-family=\"Times,serif\" font-size=\"14.00\" text-anchor=\"middle\" x=\"1395\" y=\"-304.8\">value = [0, 0, 0, 0, 1, 0, 0, 1, 0, 0]</text>\n",
       "</g>\n",
       "<!-- 24&#45;&gt;26 -->\n",
       "<g class=\"edge\" id=\"edge26\">\n",
       "<title>24-&gt;26</title>\n",
       "<path d=\"M1282.682,-400.9465C1298.2529,-391.2497 1315.3476,-380.6039 1331.4004,-370.6069\" fill=\"none\" stroke=\"#000000\"/>\n",
       "<polygon fill=\"#000000\" points=\"1333.5568,-373.3873 1340.1951,-365.13 1329.8563,-367.4453 1333.5568,-373.3873\" stroke=\"#000000\"/>\n",
       "</g>\n",
       "<!-- 27 -->\n",
       "<g class=\"node\" id=\"node28\">\n",
       "<title>27</title>\n",
       "<polygon fill=\"none\" points=\"1386,-253.5 1182,-253.5 1182,-200.5 1386,-200.5 1386,-253.5\" stroke=\"#000000\"/>\n",
       "<text fill=\"#000000\" font-family=\"Times,serif\" font-size=\"14.00\" text-anchor=\"middle\" x=\"1284\" y=\"-238.3\">entropy = 0.0</text>\n",
       "<text fill=\"#000000\" font-family=\"Times,serif\" font-size=\"14.00\" text-anchor=\"middle\" x=\"1284\" y=\"-223.3\">samples = 1</text>\n",
       "<text fill=\"#000000\" font-family=\"Times,serif\" font-size=\"14.00\" text-anchor=\"middle\" x=\"1284\" y=\"-208.3\">value = [0, 0, 0, 0, 0, 0, 0, 1, 0, 0]</text>\n",
       "</g>\n",
       "<!-- 26&#45;&gt;27 -->\n",
       "<g class=\"edge\" id=\"edge27\">\n",
       "<title>26-&gt;27</title>\n",
       "<path d=\"M1358.6544,-296.9465C1346.1928,-285.2707 1332.2626,-272.219 1319.8412,-260.5809\" fill=\"none\" stroke=\"#000000\"/>\n",
       "<polygon fill=\"#000000\" points=\"1322.0191,-257.8253 1312.3287,-253.5422 1317.2331,-262.9335 1322.0191,-257.8253\" stroke=\"#000000\"/>\n",
       "</g>\n",
       "<!-- 28 -->\n",
       "<g class=\"node\" id=\"node29\">\n",
       "<title>28</title>\n",
       "<polygon fill=\"none\" points=\"1608,-253.5 1404,-253.5 1404,-200.5 1608,-200.5 1608,-253.5\" stroke=\"#000000\"/>\n",
       "<text fill=\"#000000\" font-family=\"Times,serif\" font-size=\"14.00\" text-anchor=\"middle\" x=\"1506\" y=\"-238.3\">entropy = 0.0</text>\n",
       "<text fill=\"#000000\" font-family=\"Times,serif\" font-size=\"14.00\" text-anchor=\"middle\" x=\"1506\" y=\"-223.3\">samples = 1</text>\n",
       "<text fill=\"#000000\" font-family=\"Times,serif\" font-size=\"14.00\" text-anchor=\"middle\" x=\"1506\" y=\"-208.3\">value = [0, 0, 0, 0, 1, 0, 0, 0, 0, 0]</text>\n",
       "</g>\n",
       "<!-- 26&#45;&gt;28 -->\n",
       "<g class=\"edge\" id=\"edge28\">\n",
       "<title>26-&gt;28</title>\n",
       "<path d=\"M1431.3456,-296.9465C1443.8072,-285.2707 1457.7374,-272.219 1470.1588,-260.5809\" fill=\"none\" stroke=\"#000000\"/>\n",
       "<polygon fill=\"#000000\" points=\"1472.7669,-262.9335 1477.6713,-253.5422 1467.9809,-257.8253 1472.7669,-262.9335\" stroke=\"#000000\"/>\n",
       "</g>\n",
       "<!-- 31 -->\n",
       "<g class=\"node\" id=\"node32\">\n",
       "<title>31</title>\n",
       "<polygon fill=\"none\" points=\"1774,-461.5 1570,-461.5 1570,-408.5 1774,-408.5 1774,-461.5\" stroke=\"#000000\"/>\n",
       "<text fill=\"#000000\" font-family=\"Times,serif\" font-size=\"14.00\" text-anchor=\"middle\" x=\"1672\" y=\"-446.3\">entropy = 0.0</text>\n",
       "<text fill=\"#000000\" font-family=\"Times,serif\" font-size=\"14.00\" text-anchor=\"middle\" x=\"1672\" y=\"-431.3\">samples = 6</text>\n",
       "<text fill=\"#000000\" font-family=\"Times,serif\" font-size=\"14.00\" text-anchor=\"middle\" x=\"1672\" y=\"-416.3\">value = [0, 0, 0, 0, 6, 0, 0, 0, 0, 0]</text>\n",
       "</g>\n",
       "<!-- 30&#45;&gt;31 -->\n",
       "<g class=\"edge\" id=\"edge31\">\n",
       "<title>30-&gt;31</title>\n",
       "<path d=\"M1710.3361,-504.9465C1704.2991,-493.9316 1697.5909,-481.6922 1691.4953,-470.5703\" fill=\"none\" stroke=\"#000000\"/>\n",
       "<polygon fill=\"#000000\" points=\"1694.4227,-468.6292 1686.5471,-461.5422 1688.2842,-471.9936 1694.4227,-468.6292\" stroke=\"#000000\"/>\n",
       "</g>\n",
       "<!-- 32 -->\n",
       "<g class=\"node\" id=\"node33\">\n",
       "<title>32</title>\n",
       "<polygon fill=\"none\" points=\"1996,-469 1792,-469 1792,-401 1996,-401 1996,-469\" stroke=\"#000000\"/>\n",
       "<text fill=\"#000000\" font-family=\"Times,serif\" font-size=\"14.00\" text-anchor=\"middle\" x=\"1894\" y=\"-453.8\">X[0] &lt;= 34.69</text>\n",
       "<text fill=\"#000000\" font-family=\"Times,serif\" font-size=\"14.00\" text-anchor=\"middle\" x=\"1894\" y=\"-438.8\">entropy = 0.863</text>\n",
       "<text fill=\"#000000\" font-family=\"Times,serif\" font-size=\"14.00\" text-anchor=\"middle\" x=\"1894\" y=\"-423.8\">samples = 7</text>\n",
       "<text fill=\"#000000\" font-family=\"Times,serif\" font-size=\"14.00\" text-anchor=\"middle\" x=\"1894\" y=\"-408.8\">value = [0, 0, 0, 0, 5, 0, 0, 2, 0, 0]</text>\n",
       "</g>\n",
       "<!-- 30&#45;&gt;32 -->\n",
       "<g class=\"edge\" id=\"edge32\">\n",
       "<title>30-&gt;32</title>\n",
       "<path d=\"M1783.0272,-504.9465C1798.4115,-495.2497 1815.3016,-484.6039 1831.1621,-474.6069\" fill=\"none\" stroke=\"#000000\"/>\n",
       "<polygon fill=\"#000000\" points=\"1833.258,-477.4232 1839.8514,-469.13 1829.5254,-471.5013 1833.258,-477.4232\" stroke=\"#000000\"/>\n",
       "</g>\n",
       "<!-- 33 -->\n",
       "<g class=\"node\" id=\"node34\">\n",
       "<title>33</title>\n",
       "<polygon fill=\"none\" points=\"1774,-357.5 1570,-357.5 1570,-304.5 1774,-304.5 1774,-357.5\" stroke=\"#000000\"/>\n",
       "<text fill=\"#000000\" font-family=\"Times,serif\" font-size=\"14.00\" text-anchor=\"middle\" x=\"1672\" y=\"-342.3\">entropy = 0.0</text>\n",
       "<text fill=\"#000000\" font-family=\"Times,serif\" font-size=\"14.00\" text-anchor=\"middle\" x=\"1672\" y=\"-327.3\">samples = 1</text>\n",
       "<text fill=\"#000000\" font-family=\"Times,serif\" font-size=\"14.00\" text-anchor=\"middle\" x=\"1672\" y=\"-312.3\">value = [0, 0, 0, 0, 0, 0, 0, 1, 0, 0]</text>\n",
       "</g>\n",
       "<!-- 32&#45;&gt;33 -->\n",
       "<g class=\"edge\" id=\"edge33\">\n",
       "<title>32-&gt;33</title>\n",
       "<path d=\"M1821.3089,-400.9465C1794.387,-388.3344 1764.0382,-374.117 1737.7673,-361.8099\" fill=\"none\" stroke=\"#000000\"/>\n",
       "<polygon fill=\"#000000\" points=\"1739.1977,-358.615 1728.6573,-357.5422 1736.2281,-364.9539 1739.1977,-358.615\" stroke=\"#000000\"/>\n",
       "</g>\n",
       "<!-- 34 -->\n",
       "<g class=\"node\" id=\"node35\">\n",
       "<title>34</title>\n",
       "<polygon fill=\"none\" points=\"1996,-365 1792,-365 1792,-297 1996,-297 1996,-365\" stroke=\"#000000\"/>\n",
       "<text fill=\"#000000\" font-family=\"Times,serif\" font-size=\"14.00\" text-anchor=\"middle\" x=\"1894\" y=\"-349.8\">X[1] &lt;= 7.98</text>\n",
       "<text fill=\"#000000\" font-family=\"Times,serif\" font-size=\"14.00\" text-anchor=\"middle\" x=\"1894\" y=\"-334.8\">entropy = 0.65</text>\n",
       "<text fill=\"#000000\" font-family=\"Times,serif\" font-size=\"14.00\" text-anchor=\"middle\" x=\"1894\" y=\"-319.8\">samples = 6</text>\n",
       "<text fill=\"#000000\" font-family=\"Times,serif\" font-size=\"14.00\" text-anchor=\"middle\" x=\"1894\" y=\"-304.8\">value = [0, 0, 0, 0, 5, 0, 0, 1, 0, 0]</text>\n",
       "</g>\n",
       "<!-- 32&#45;&gt;34 -->\n",
       "<g class=\"edge\" id=\"edge34\">\n",
       "<title>32-&gt;34</title>\n",
       "<path d=\"M1894,-400.9465C1894,-392.776 1894,-383.9318 1894,-375.3697\" fill=\"none\" stroke=\"#000000\"/>\n",
       "<polygon fill=\"#000000\" points=\"1897.5001,-375.13 1894,-365.13 1890.5001,-375.13 1897.5001,-375.13\" stroke=\"#000000\"/>\n",
       "</g>\n",
       "<!-- 35 -->\n",
       "<g class=\"node\" id=\"node36\">\n",
       "<title>35</title>\n",
       "<polygon fill=\"none\" points=\"1830,-253.5 1626,-253.5 1626,-200.5 1830,-200.5 1830,-253.5\" stroke=\"#000000\"/>\n",
       "<text fill=\"#000000\" font-family=\"Times,serif\" font-size=\"14.00\" text-anchor=\"middle\" x=\"1728\" y=\"-238.3\">entropy = 0.0</text>\n",
       "<text fill=\"#000000\" font-family=\"Times,serif\" font-size=\"14.00\" text-anchor=\"middle\" x=\"1728\" y=\"-223.3\">samples = 4</text>\n",
       "<text fill=\"#000000\" font-family=\"Times,serif\" font-size=\"14.00\" text-anchor=\"middle\" x=\"1728\" y=\"-208.3\">value = [0, 0, 0, 0, 4, 0, 0, 0, 0, 0]</text>\n",
       "</g>\n",
       "<!-- 34&#45;&gt;35 -->\n",
       "<g class=\"edge\" id=\"edge35\">\n",
       "<title>34-&gt;35</title>\n",
       "<path d=\"M1839.6454,-296.9465C1820.1299,-284.72 1798.2063,-270.9847 1778.9871,-258.9437\" fill=\"none\" stroke=\"#000000\"/>\n",
       "<polygon fill=\"#000000\" points=\"1780.6979,-255.8854 1770.3654,-253.5422 1776.9814,-261.8174 1780.6979,-255.8854\" stroke=\"#000000\"/>\n",
       "</g>\n",
       "<!-- 36 -->\n",
       "<g class=\"node\" id=\"node37\">\n",
       "<title>36</title>\n",
       "<polygon fill=\"none\" points=\"2052,-261 1848,-261 1848,-193 2052,-193 2052,-261\" stroke=\"#000000\"/>\n",
       "<text fill=\"#000000\" font-family=\"Times,serif\" font-size=\"14.00\" text-anchor=\"middle\" x=\"1950\" y=\"-245.8\">X[0] &lt;= 35.12</text>\n",
       "<text fill=\"#000000\" font-family=\"Times,serif\" font-size=\"14.00\" text-anchor=\"middle\" x=\"1950\" y=\"-230.8\">entropy = 1.0</text>\n",
       "<text fill=\"#000000\" font-family=\"Times,serif\" font-size=\"14.00\" text-anchor=\"middle\" x=\"1950\" y=\"-215.8\">samples = 2</text>\n",
       "<text fill=\"#000000\" font-family=\"Times,serif\" font-size=\"14.00\" text-anchor=\"middle\" x=\"1950\" y=\"-200.8\">value = [0, 0, 0, 0, 1, 0, 0, 1, 0, 0]</text>\n",
       "</g>\n",
       "<!-- 34&#45;&gt;36 -->\n",
       "<g class=\"edge\" id=\"edge36\">\n",
       "<title>34-&gt;36</title>\n",
       "<path d=\"M1912.3365,-296.9465C1916.9777,-288.3271 1922.0227,-278.9579 1926.8671,-269.9611\" fill=\"none\" stroke=\"#000000\"/>\n",
       "<polygon fill=\"#000000\" points=\"1929.9629,-271.5941 1931.6223,-261.13 1923.7996,-268.2754 1929.9629,-271.5941\" stroke=\"#000000\"/>\n",
       "</g>\n",
       "<!-- 37 -->\n",
       "<g class=\"node\" id=\"node38\">\n",
       "<title>37</title>\n",
       "<polygon fill=\"none\" points=\"1913,-149.5 1709,-149.5 1709,-96.5 1913,-96.5 1913,-149.5\" stroke=\"#000000\"/>\n",
       "<text fill=\"#000000\" font-family=\"Times,serif\" font-size=\"14.00\" text-anchor=\"middle\" x=\"1811\" y=\"-134.3\">entropy = 0.0</text>\n",
       "<text fill=\"#000000\" font-family=\"Times,serif\" font-size=\"14.00\" text-anchor=\"middle\" x=\"1811\" y=\"-119.3\">samples = 1</text>\n",
       "<text fill=\"#000000\" font-family=\"Times,serif\" font-size=\"14.00\" text-anchor=\"middle\" x=\"1811\" y=\"-104.3\">value = [0, 0, 0, 0, 0, 0, 0, 1, 0, 0]</text>\n",
       "</g>\n",
       "<!-- 36&#45;&gt;37 -->\n",
       "<g class=\"edge\" id=\"edge37\">\n",
       "<title>36-&gt;37</title>\n",
       "<path d=\"M1904.4862,-192.9465C1888.4394,-180.9403 1870.4481,-167.4791 1854.5661,-155.5962\" fill=\"none\" stroke=\"#000000\"/>\n",
       "<polygon fill=\"#000000\" points=\"1856.5783,-152.7306 1846.4746,-149.5422 1852.3848,-158.3354 1856.5783,-152.7306\" stroke=\"#000000\"/>\n",
       "</g>\n",
       "<!-- 38 -->\n",
       "<g class=\"node\" id=\"node39\">\n",
       "<title>38</title>\n",
       "<polygon fill=\"none\" points=\"2135,-149.5 1931,-149.5 1931,-96.5 2135,-96.5 2135,-149.5\" stroke=\"#000000\"/>\n",
       "<text fill=\"#000000\" font-family=\"Times,serif\" font-size=\"14.00\" text-anchor=\"middle\" x=\"2033\" y=\"-134.3\">entropy = 0.0</text>\n",
       "<text fill=\"#000000\" font-family=\"Times,serif\" font-size=\"14.00\" text-anchor=\"middle\" x=\"2033\" y=\"-119.3\">samples = 1</text>\n",
       "<text fill=\"#000000\" font-family=\"Times,serif\" font-size=\"14.00\" text-anchor=\"middle\" x=\"2033\" y=\"-104.3\">value = [0, 0, 0, 0, 1, 0, 0, 0, 0, 0]</text>\n",
       "</g>\n",
       "<!-- 36&#45;&gt;38 -->\n",
       "<g class=\"edge\" id=\"edge38\">\n",
       "<title>36-&gt;38</title>\n",
       "<path d=\"M1977.1773,-192.9465C1986.2318,-181.6012 1996.323,-168.9567 2005.4086,-157.5724\" fill=\"none\" stroke=\"#000000\"/>\n",
       "<polygon fill=\"#000000\" points=\"2008.3151,-159.5414 2011.8173,-149.5422 2002.8439,-155.175 2008.3151,-159.5414\" stroke=\"#000000\"/>\n",
       "</g>\n",
       "<!-- 40 -->\n",
       "<g class=\"node\" id=\"node41\">\n",
       "<title>40</title>\n",
       "<polygon fill=\"none\" points=\"2165,-573 1961,-573 1961,-505 2165,-505 2165,-573\" stroke=\"#000000\"/>\n",
       "<text fill=\"#000000\" font-family=\"Times,serif\" font-size=\"14.00\" text-anchor=\"middle\" x=\"2063\" y=\"-557.8\">X[1] &lt;= 7.72</text>\n",
       "<text fill=\"#000000\" font-family=\"Times,serif\" font-size=\"14.00\" text-anchor=\"middle\" x=\"2063\" y=\"-542.8\">entropy = 0.985</text>\n",
       "<text fill=\"#000000\" font-family=\"Times,serif\" font-size=\"14.00\" text-anchor=\"middle\" x=\"2063\" y=\"-527.8\">samples = 14</text>\n",
       "<text fill=\"#000000\" font-family=\"Times,serif\" font-size=\"14.00\" text-anchor=\"middle\" x=\"2063\" y=\"-512.8\">value = [0, 0, 0, 0, 6, 0, 0, 8, 0, 0]</text>\n",
       "</g>\n",
       "<!-- 39&#45;&gt;40 -->\n",
       "<g class=\"edge\" id=\"edge40\">\n",
       "<title>39-&gt;40</title>\n",
       "<path d=\"M2063,-608.9465C2063,-600.776 2063,-591.9318 2063,-583.3697\" fill=\"none\" stroke=\"#000000\"/>\n",
       "<polygon fill=\"#000000\" points=\"2066.5001,-583.13 2063,-573.13 2059.5001,-583.13 2066.5001,-583.13\" stroke=\"#000000\"/>\n",
       "</g>\n",
       "<!-- 51 -->\n",
       "<g class=\"node\" id=\"node52\">\n",
       "<title>51</title>\n",
       "<polygon fill=\"none\" points=\"2394.5,-565.5 2183.5,-565.5 2183.5,-512.5 2394.5,-512.5 2394.5,-565.5\" stroke=\"#000000\"/>\n",
       "<text fill=\"#000000\" font-family=\"Times,serif\" font-size=\"14.00\" text-anchor=\"middle\" x=\"2289\" y=\"-550.3\">entropy = 0.0</text>\n",
       "<text fill=\"#000000\" font-family=\"Times,serif\" font-size=\"14.00\" text-anchor=\"middle\" x=\"2289\" y=\"-535.3\">samples = 17</text>\n",
       "<text fill=\"#000000\" font-family=\"Times,serif\" font-size=\"14.00\" text-anchor=\"middle\" x=\"2289\" y=\"-520.3\">value = [0, 0, 0, 0, 0, 0, 0, 17, 0, 0]</text>\n",
       "</g>\n",
       "<!-- 39&#45;&gt;51 -->\n",
       "<g class=\"edge\" id=\"edge51\">\n",
       "<title>39-&gt;51</title>\n",
       "<path d=\"M2137.0009,-608.9465C2164.4078,-596.3344 2195.3035,-582.117 2222.0477,-569.8099\" fill=\"none\" stroke=\"#000000\"/>\n",
       "<polygon fill=\"#000000\" points=\"2223.7007,-572.9021 2231.3218,-565.5422 2220.7744,-566.5431 2223.7007,-572.9021\" stroke=\"#000000\"/>\n",
       "</g>\n",
       "<!-- 41 -->\n",
       "<g class=\"node\" id=\"node42\">\n",
       "<title>41</title>\n",
       "<polygon fill=\"none\" points=\"2218,-469 2014,-469 2014,-401 2218,-401 2218,-469\" stroke=\"#000000\"/>\n",
       "<text fill=\"#000000\" font-family=\"Times,serif\" font-size=\"14.00\" text-anchor=\"middle\" x=\"2116\" y=\"-453.8\">X[1] &lt;= 7.445</text>\n",
       "<text fill=\"#000000\" font-family=\"Times,serif\" font-size=\"14.00\" text-anchor=\"middle\" x=\"2116\" y=\"-438.8\">entropy = 0.722</text>\n",
       "<text fill=\"#000000\" font-family=\"Times,serif\" font-size=\"14.00\" text-anchor=\"middle\" x=\"2116\" y=\"-423.8\">samples = 10</text>\n",
       "<text fill=\"#000000\" font-family=\"Times,serif\" font-size=\"14.00\" text-anchor=\"middle\" x=\"2116\" y=\"-408.8\">value = [0, 0, 0, 0, 2, 0, 0, 8, 0, 0]</text>\n",
       "</g>\n",
       "<!-- 40&#45;&gt;41 -->\n",
       "<g class=\"edge\" id=\"edge41\">\n",
       "<title>40-&gt;41</title>\n",
       "<path d=\"M2080.3542,-504.9465C2084.701,-496.4169 2089.422,-487.153 2093.963,-478.2424\" fill=\"none\" stroke=\"#000000\"/>\n",
       "<polygon fill=\"#000000\" points=\"2097.1846,-479.629 2098.6068,-469.13 2090.9478,-476.4505 2097.1846,-479.629\" stroke=\"#000000\"/>\n",
       "</g>\n",
       "<!-- 50 -->\n",
       "<g class=\"node\" id=\"node51\">\n",
       "<title>50</title>\n",
       "<polygon fill=\"none\" points=\"2440,-461.5 2236,-461.5 2236,-408.5 2440,-408.5 2440,-461.5\" stroke=\"#000000\"/>\n",
       "<text fill=\"#000000\" font-family=\"Times,serif\" font-size=\"14.00\" text-anchor=\"middle\" x=\"2338\" y=\"-446.3\">entropy = 0.0</text>\n",
       "<text fill=\"#000000\" font-family=\"Times,serif\" font-size=\"14.00\" text-anchor=\"middle\" x=\"2338\" y=\"-431.3\">samples = 4</text>\n",
       "<text fill=\"#000000\" font-family=\"Times,serif\" font-size=\"14.00\" text-anchor=\"middle\" x=\"2338\" y=\"-416.3\">value = [0, 0, 0, 0, 4, 0, 0, 0, 0, 0]</text>\n",
       "</g>\n",
       "<!-- 40&#45;&gt;50 -->\n",
       "<g class=\"edge\" id=\"edge50\">\n",
       "<title>40-&gt;50</title>\n",
       "<path d=\"M2153.0453,-504.9465C2186.977,-492.1141 2225.3034,-477.6198 2258.2322,-465.1667\" fill=\"none\" stroke=\"#000000\"/>\n",
       "<polygon fill=\"#000000\" points=\"2259.701,-468.3533 2267.8164,-461.5422 2257.2248,-461.8058 2259.701,-468.3533\" stroke=\"#000000\"/>\n",
       "</g>\n",
       "<!-- 42 -->\n",
       "<g class=\"node\" id=\"node43\">\n",
       "<title>42</title>\n",
       "<polygon fill=\"none\" points=\"2218,-357.5 2014,-357.5 2014,-304.5 2218,-304.5 2218,-357.5\" stroke=\"#000000\"/>\n",
       "<text fill=\"#000000\" font-family=\"Times,serif\" font-size=\"14.00\" text-anchor=\"middle\" x=\"2116\" y=\"-342.3\">entropy = 0.0</text>\n",
       "<text fill=\"#000000\" font-family=\"Times,serif\" font-size=\"14.00\" text-anchor=\"middle\" x=\"2116\" y=\"-327.3\">samples = 3</text>\n",
       "<text fill=\"#000000\" font-family=\"Times,serif\" font-size=\"14.00\" text-anchor=\"middle\" x=\"2116\" y=\"-312.3\">value = [0, 0, 0, 0, 0, 0, 0, 3, 0, 0]</text>\n",
       "</g>\n",
       "<!-- 41&#45;&gt;42 -->\n",
       "<g class=\"edge\" id=\"edge42\">\n",
       "<title>41-&gt;42</title>\n",
       "<path d=\"M2116,-400.9465C2116,-390.2621 2116,-378.4254 2116,-367.5742\" fill=\"none\" stroke=\"#000000\"/>\n",
       "<polygon fill=\"#000000\" points=\"2119.5001,-367.5421 2116,-357.5422 2112.5001,-367.5422 2119.5001,-367.5421\" stroke=\"#000000\"/>\n",
       "</g>\n",
       "<!-- 43 -->\n",
       "<g class=\"node\" id=\"node44\">\n",
       "<title>43</title>\n",
       "<polygon fill=\"none\" points=\"2440,-365 2236,-365 2236,-297 2440,-297 2440,-365\" stroke=\"#000000\"/>\n",
       "<text fill=\"#000000\" font-family=\"Times,serif\" font-size=\"14.00\" text-anchor=\"middle\" x=\"2338\" y=\"-349.8\">X[0] &lt;= 36.255</text>\n",
       "<text fill=\"#000000\" font-family=\"Times,serif\" font-size=\"14.00\" text-anchor=\"middle\" x=\"2338\" y=\"-334.8\">entropy = 0.863</text>\n",
       "<text fill=\"#000000\" font-family=\"Times,serif\" font-size=\"14.00\" text-anchor=\"middle\" x=\"2338\" y=\"-319.8\">samples = 7</text>\n",
       "<text fill=\"#000000\" font-family=\"Times,serif\" font-size=\"14.00\" text-anchor=\"middle\" x=\"2338\" y=\"-304.8\">value = [0, 0, 0, 0, 2, 0, 0, 5, 0, 0]</text>\n",
       "</g>\n",
       "<!-- 41&#45;&gt;43 -->\n",
       "<g class=\"edge\" id=\"edge43\">\n",
       "<title>41-&gt;43</title>\n",
       "<path d=\"M2188.6911,-400.9465C2210.1567,-390.8906 2233.8009,-379.814 2255.8196,-369.4989\" fill=\"none\" stroke=\"#000000\"/>\n",
       "<polygon fill=\"#000000\" points=\"2257.5748,-372.5418 2265.1456,-365.13 2254.6052,-366.2028 2257.5748,-372.5418\" stroke=\"#000000\"/>\n",
       "</g>\n",
       "<!-- 44 -->\n",
       "<g class=\"node\" id=\"node45\">\n",
       "<title>44</title>\n",
       "<polygon fill=\"none\" points=\"2440,-261 2236,-261 2236,-193 2440,-193 2440,-261\" stroke=\"#000000\"/>\n",
       "<text fill=\"#000000\" font-family=\"Times,serif\" font-size=\"14.00\" text-anchor=\"middle\" x=\"2338\" y=\"-245.8\">X[0] &lt;= 35.64</text>\n",
       "<text fill=\"#000000\" font-family=\"Times,serif\" font-size=\"14.00\" text-anchor=\"middle\" x=\"2338\" y=\"-230.8\">entropy = 0.65</text>\n",
       "<text fill=\"#000000\" font-family=\"Times,serif\" font-size=\"14.00\" text-anchor=\"middle\" x=\"2338\" y=\"-215.8\">samples = 6</text>\n",
       "<text fill=\"#000000\" font-family=\"Times,serif\" font-size=\"14.00\" text-anchor=\"middle\" x=\"2338\" y=\"-200.8\">value = [0, 0, 0, 0, 1, 0, 0, 5, 0, 0]</text>\n",
       "</g>\n",
       "<!-- 43&#45;&gt;44 -->\n",
       "<g class=\"edge\" id=\"edge44\">\n",
       "<title>43-&gt;44</title>\n",
       "<path d=\"M2338,-296.9465C2338,-288.776 2338,-279.9318 2338,-271.3697\" fill=\"none\" stroke=\"#000000\"/>\n",
       "<polygon fill=\"#000000\" points=\"2341.5001,-271.13 2338,-261.13 2334.5001,-271.13 2341.5001,-271.13\" stroke=\"#000000\"/>\n",
       "</g>\n",
       "<!-- 49 -->\n",
       "<g class=\"node\" id=\"node50\">\n",
       "<title>49</title>\n",
       "<polygon fill=\"none\" points=\"2662,-253.5 2458,-253.5 2458,-200.5 2662,-200.5 2662,-253.5\" stroke=\"#000000\"/>\n",
       "<text fill=\"#000000\" font-family=\"Times,serif\" font-size=\"14.00\" text-anchor=\"middle\" x=\"2560\" y=\"-238.3\">entropy = 0.0</text>\n",
       "<text fill=\"#000000\" font-family=\"Times,serif\" font-size=\"14.00\" text-anchor=\"middle\" x=\"2560\" y=\"-223.3\">samples = 1</text>\n",
       "<text fill=\"#000000\" font-family=\"Times,serif\" font-size=\"14.00\" text-anchor=\"middle\" x=\"2560\" y=\"-208.3\">value = [0, 0, 0, 0, 1, 0, 0, 0, 0, 0]</text>\n",
       "</g>\n",
       "<!-- 43&#45;&gt;49 -->\n",
       "<g class=\"edge\" id=\"edge49\">\n",
       "<title>43-&gt;49</title>\n",
       "<path d=\"M2410.6911,-296.9465C2437.613,-284.3344 2467.9618,-270.117 2494.2327,-257.8099\" fill=\"none\" stroke=\"#000000\"/>\n",
       "<polygon fill=\"#000000\" points=\"2495.7719,-260.9539 2503.3427,-253.5422 2492.8023,-254.615 2495.7719,-260.9539\" stroke=\"#000000\"/>\n",
       "</g>\n",
       "<!-- 45 -->\n",
       "<g class=\"node\" id=\"node46\">\n",
       "<title>45</title>\n",
       "<polygon fill=\"none\" points=\"2357,-157 2153,-157 2153,-89 2357,-89 2357,-157\" stroke=\"#000000\"/>\n",
       "<text fill=\"#000000\" font-family=\"Times,serif\" font-size=\"14.00\" text-anchor=\"middle\" x=\"2255\" y=\"-141.8\">X[1] &lt;= 7.49</text>\n",
       "<text fill=\"#000000\" font-family=\"Times,serif\" font-size=\"14.00\" text-anchor=\"middle\" x=\"2255\" y=\"-126.8\">entropy = 0.918</text>\n",
       "<text fill=\"#000000\" font-family=\"Times,serif\" font-size=\"14.00\" text-anchor=\"middle\" x=\"2255\" y=\"-111.8\">samples = 3</text>\n",
       "<text fill=\"#000000\" font-family=\"Times,serif\" font-size=\"14.00\" text-anchor=\"middle\" x=\"2255\" y=\"-96.8\">value = [0, 0, 0, 0, 1, 0, 0, 2, 0, 0]</text>\n",
       "</g>\n",
       "<!-- 44&#45;&gt;45 -->\n",
       "<g class=\"edge\" id=\"edge45\">\n",
       "<title>44-&gt;45</title>\n",
       "<path d=\"M2310.8227,-192.9465C2303.7288,-184.0578 2295.9985,-174.3716 2288.614,-165.1188\" fill=\"none\" stroke=\"#000000\"/>\n",
       "<polygon fill=\"#000000\" points=\"2291.2118,-162.7628 2282.2384,-157.13 2285.7406,-167.1293 2291.2118,-162.7628\" stroke=\"#000000\"/>\n",
       "</g>\n",
       "<!-- 48 -->\n",
       "<g class=\"node\" id=\"node49\">\n",
       "<title>48</title>\n",
       "<polygon fill=\"none\" points=\"2579,-149.5 2375,-149.5 2375,-96.5 2579,-96.5 2579,-149.5\" stroke=\"#000000\"/>\n",
       "<text fill=\"#000000\" font-family=\"Times,serif\" font-size=\"14.00\" text-anchor=\"middle\" x=\"2477\" y=\"-134.3\">entropy = 0.0</text>\n",
       "<text fill=\"#000000\" font-family=\"Times,serif\" font-size=\"14.00\" text-anchor=\"middle\" x=\"2477\" y=\"-119.3\">samples = 3</text>\n",
       "<text fill=\"#000000\" font-family=\"Times,serif\" font-size=\"14.00\" text-anchor=\"middle\" x=\"2477\" y=\"-104.3\">value = [0, 0, 0, 0, 0, 0, 0, 3, 0, 0]</text>\n",
       "</g>\n",
       "<!-- 44&#45;&gt;48 -->\n",
       "<g class=\"edge\" id=\"edge48\">\n",
       "<title>44-&gt;48</title>\n",
       "<path d=\"M2383.5138,-192.9465C2399.5606,-180.9403 2417.5519,-167.4791 2433.4339,-155.5962\" fill=\"none\" stroke=\"#000000\"/>\n",
       "<polygon fill=\"#000000\" points=\"2435.6152,-158.3354 2441.5254,-149.5422 2431.4217,-152.7306 2435.6152,-158.3354\" stroke=\"#000000\"/>\n",
       "</g>\n",
       "<!-- 46 -->\n",
       "<g class=\"node\" id=\"node47\">\n",
       "<title>46</title>\n",
       "<polygon fill=\"none\" points=\"2246,-53 2042,-53 2042,0 2246,0 2246,-53\" stroke=\"#000000\"/>\n",
       "<text fill=\"#000000\" font-family=\"Times,serif\" font-size=\"14.00\" text-anchor=\"middle\" x=\"2144\" y=\"-37.8\">entropy = 0.0</text>\n",
       "<text fill=\"#000000\" font-family=\"Times,serif\" font-size=\"14.00\" text-anchor=\"middle\" x=\"2144\" y=\"-22.8\">samples = 1</text>\n",
       "<text fill=\"#000000\" font-family=\"Times,serif\" font-size=\"14.00\" text-anchor=\"middle\" x=\"2144\" y=\"-7.8\">value = [0, 0, 0, 0, 1, 0, 0, 0, 0, 0]</text>\n",
       "</g>\n",
       "<!-- 45&#45;&gt;46 -->\n",
       "<g class=\"edge\" id=\"edge46\">\n",
       "<title>45-&gt;46</title>\n",
       "<path d=\"M2215.8656,-88.9777C2205.0167,-79.546 2193.2516,-69.3178 2182.4426,-59.9208\" fill=\"none\" stroke=\"#000000\"/>\n",
       "<polygon fill=\"#000000\" points=\"2184.6108,-57.1681 2174.7677,-53.2485 2180.0181,-62.4508 2184.6108,-57.1681\" stroke=\"#000000\"/>\n",
       "</g>\n",
       "<!-- 47 -->\n",
       "<g class=\"node\" id=\"node48\">\n",
       "<title>47</title>\n",
       "<polygon fill=\"none\" points=\"2468,-53 2264,-53 2264,0 2468,0 2468,-53\" stroke=\"#000000\"/>\n",
       "<text fill=\"#000000\" font-family=\"Times,serif\" font-size=\"14.00\" text-anchor=\"middle\" x=\"2366\" y=\"-37.8\">entropy = 0.0</text>\n",
       "<text fill=\"#000000\" font-family=\"Times,serif\" font-size=\"14.00\" text-anchor=\"middle\" x=\"2366\" y=\"-22.8\">samples = 2</text>\n",
       "<text fill=\"#000000\" font-family=\"Times,serif\" font-size=\"14.00\" text-anchor=\"middle\" x=\"2366\" y=\"-7.8\">value = [0, 0, 0, 0, 0, 0, 0, 2, 0, 0]</text>\n",
       "</g>\n",
       "<!-- 45&#45;&gt;47 -->\n",
       "<g class=\"edge\" id=\"edge47\">\n",
       "<title>45-&gt;47</title>\n",
       "<path d=\"M2294.1344,-88.9777C2304.9833,-79.546 2316.7484,-69.3178 2327.5574,-59.9208\" fill=\"none\" stroke=\"#000000\"/>\n",
       "<polygon fill=\"#000000\" points=\"2329.9819,-62.4508 2335.2323,-53.2485 2325.3892,-57.1681 2329.9819,-62.4508\" stroke=\"#000000\"/>\n",
       "</g>\n",
       "<!-- 53 -->\n",
       "<g class=\"node\" id=\"node54\">\n",
       "<title>53</title>\n",
       "<polygon fill=\"none\" points=\"2392,-669.5 2188,-669.5 2188,-616.5 2392,-616.5 2392,-669.5\" stroke=\"#000000\"/>\n",
       "<text fill=\"#000000\" font-family=\"Times,serif\" font-size=\"14.00\" text-anchor=\"middle\" x=\"2290\" y=\"-654.3\">entropy = 0.0</text>\n",
       "<text fill=\"#000000\" font-family=\"Times,serif\" font-size=\"14.00\" text-anchor=\"middle\" x=\"2290\" y=\"-639.3\">samples = 7</text>\n",
       "<text fill=\"#000000\" font-family=\"Times,serif\" font-size=\"14.00\" text-anchor=\"middle\" x=\"2290\" y=\"-624.3\">value = [0, 0, 0, 0, 7, 0, 0, 0, 0, 0]</text>\n",
       "</g>\n",
       "<!-- 52&#45;&gt;53 -->\n",
       "<g class=\"edge\" id=\"edge53\">\n",
       "<title>52-&gt;53</title>\n",
       "<path d=\"M2290,-712.9465C2290,-702.2621 2290,-690.4254 2290,-679.5742\" fill=\"none\" stroke=\"#000000\"/>\n",
       "<polygon fill=\"#000000\" points=\"2293.5001,-679.5421 2290,-669.5422 2286.5001,-679.5422 2293.5001,-679.5421\" stroke=\"#000000\"/>\n",
       "</g>\n",
       "<!-- 54 -->\n",
       "<g class=\"node\" id=\"node55\">\n",
       "<title>54</title>\n",
       "<polygon fill=\"none\" points=\"2617,-677 2413,-677 2413,-609 2617,-609 2617,-677\" stroke=\"#000000\"/>\n",
       "<text fill=\"#000000\" font-family=\"Times,serif\" font-size=\"14.00\" text-anchor=\"middle\" x=\"2515\" y=\"-661.8\">X[0] &lt;= 39.045</text>\n",
       "<text fill=\"#000000\" font-family=\"Times,serif\" font-size=\"14.00\" text-anchor=\"middle\" x=\"2515\" y=\"-646.8\">entropy = 1.0</text>\n",
       "<text fill=\"#000000\" font-family=\"Times,serif\" font-size=\"14.00\" text-anchor=\"middle\" x=\"2515\" y=\"-631.8\">samples = 4</text>\n",
       "<text fill=\"#000000\" font-family=\"Times,serif\" font-size=\"14.00\" text-anchor=\"middle\" x=\"2515\" y=\"-616.8\">value = [0, 0, 0, 0, 2, 0, 0, 2, 0, 0]</text>\n",
       "</g>\n",
       "<!-- 52&#45;&gt;54 -->\n",
       "<g class=\"edge\" id=\"edge54\">\n",
       "<title>52-&gt;54</title>\n",
       "<path d=\"M2363.6734,-712.9465C2385.5262,-702.8457 2409.6068,-691.7151 2432.0078,-681.3608\" fill=\"none\" stroke=\"#000000\"/>\n",
       "<polygon fill=\"#000000\" points=\"2433.5523,-684.5028 2441.1611,-677.13 2430.6153,-678.1487 2433.5523,-684.5028\" stroke=\"#000000\"/>\n",
       "</g>\n",
       "<!-- 55 -->\n",
       "<g class=\"node\" id=\"node56\">\n",
       "<title>55</title>\n",
       "<polygon fill=\"none\" points=\"2617,-565.5 2413,-565.5 2413,-512.5 2617,-512.5 2617,-565.5\" stroke=\"#000000\"/>\n",
       "<text fill=\"#000000\" font-family=\"Times,serif\" font-size=\"14.00\" text-anchor=\"middle\" x=\"2515\" y=\"-550.3\">entropy = 0.0</text>\n",
       "<text fill=\"#000000\" font-family=\"Times,serif\" font-size=\"14.00\" text-anchor=\"middle\" x=\"2515\" y=\"-535.3\">samples = 1</text>\n",
       "<text fill=\"#000000\" font-family=\"Times,serif\" font-size=\"14.00\" text-anchor=\"middle\" x=\"2515\" y=\"-520.3\">value = [0, 0, 0, 0, 0, 0, 0, 1, 0, 0]</text>\n",
       "</g>\n",
       "<!-- 54&#45;&gt;55 -->\n",
       "<g class=\"edge\" id=\"edge55\">\n",
       "<title>54-&gt;55</title>\n",
       "<path d=\"M2515,-608.9465C2515,-598.2621 2515,-586.4254 2515,-575.5742\" fill=\"none\" stroke=\"#000000\"/>\n",
       "<polygon fill=\"#000000\" points=\"2518.5001,-575.5421 2515,-565.5422 2511.5001,-575.5422 2518.5001,-575.5421\" stroke=\"#000000\"/>\n",
       "</g>\n",
       "<!-- 56 -->\n",
       "<g class=\"node\" id=\"node57\">\n",
       "<title>56</title>\n",
       "<polygon fill=\"none\" points=\"2839,-573 2635,-573 2635,-505 2839,-505 2839,-573\" stroke=\"#000000\"/>\n",
       "<text fill=\"#000000\" font-family=\"Times,serif\" font-size=\"14.00\" text-anchor=\"middle\" x=\"2737\" y=\"-557.8\">X[1] &lt;= 8.35</text>\n",
       "<text fill=\"#000000\" font-family=\"Times,serif\" font-size=\"14.00\" text-anchor=\"middle\" x=\"2737\" y=\"-542.8\">entropy = 0.918</text>\n",
       "<text fill=\"#000000\" font-family=\"Times,serif\" font-size=\"14.00\" text-anchor=\"middle\" x=\"2737\" y=\"-527.8\">samples = 3</text>\n",
       "<text fill=\"#000000\" font-family=\"Times,serif\" font-size=\"14.00\" text-anchor=\"middle\" x=\"2737\" y=\"-512.8\">value = [0, 0, 0, 0, 2, 0, 0, 1, 0, 0]</text>\n",
       "</g>\n",
       "<!-- 54&#45;&gt;56 -->\n",
       "<g class=\"edge\" id=\"edge56\">\n",
       "<title>54-&gt;56</title>\n",
       "<path d=\"M2587.6911,-608.9465C2609.1567,-598.8906 2632.8009,-587.814 2654.8196,-577.4989\" fill=\"none\" stroke=\"#000000\"/>\n",
       "<polygon fill=\"#000000\" points=\"2656.5748,-580.5418 2664.1456,-573.13 2653.6052,-574.2028 2656.5748,-580.5418\" stroke=\"#000000\"/>\n",
       "</g>\n",
       "<!-- 57 -->\n",
       "<g class=\"node\" id=\"node58\">\n",
       "<title>57</title>\n",
       "<polygon fill=\"none\" points=\"2751,-461.5 2547,-461.5 2547,-408.5 2751,-408.5 2751,-461.5\" stroke=\"#000000\"/>\n",
       "<text fill=\"#000000\" font-family=\"Times,serif\" font-size=\"14.00\" text-anchor=\"middle\" x=\"2649\" y=\"-446.3\">entropy = 0.0</text>\n",
       "<text fill=\"#000000\" font-family=\"Times,serif\" font-size=\"14.00\" text-anchor=\"middle\" x=\"2649\" y=\"-431.3\">samples = 1</text>\n",
       "<text fill=\"#000000\" font-family=\"Times,serif\" font-size=\"14.00\" text-anchor=\"middle\" x=\"2649\" y=\"-416.3\">value = [0, 0, 0, 0, 0, 0, 0, 1, 0, 0]</text>\n",
       "</g>\n",
       "<!-- 56&#45;&gt;57 -->\n",
       "<g class=\"edge\" id=\"edge57\">\n",
       "<title>56-&gt;57</title>\n",
       "<path d=\"M2708.1855,-504.9465C2698.4924,-493.491 2687.6786,-480.711 2677.9733,-469.2412\" fill=\"none\" stroke=\"#000000\"/>\n",
       "<polygon fill=\"#000000\" points=\"2680.5901,-466.9152 2671.4588,-461.5422 2675.2464,-471.4369 2680.5901,-466.9152\" stroke=\"#000000\"/>\n",
       "</g>\n",
       "<!-- 58 -->\n",
       "<g class=\"node\" id=\"node59\">\n",
       "<title>58</title>\n",
       "<polygon fill=\"none\" points=\"2973,-461.5 2769,-461.5 2769,-408.5 2973,-408.5 2973,-461.5\" stroke=\"#000000\"/>\n",
       "<text fill=\"#000000\" font-family=\"Times,serif\" font-size=\"14.00\" text-anchor=\"middle\" x=\"2871\" y=\"-446.3\">entropy = 0.0</text>\n",
       "<text fill=\"#000000\" font-family=\"Times,serif\" font-size=\"14.00\" text-anchor=\"middle\" x=\"2871\" y=\"-431.3\">samples = 2</text>\n",
       "<text fill=\"#000000\" font-family=\"Times,serif\" font-size=\"14.00\" text-anchor=\"middle\" x=\"2871\" y=\"-416.3\">value = [0, 0, 0, 0, 2, 0, 0, 0, 0, 0]</text>\n",
       "</g>\n",
       "<!-- 56&#45;&gt;58 -->\n",
       "<g class=\"edge\" id=\"edge58\">\n",
       "<title>56-&gt;58</title>\n",
       "<path d=\"M2780.8766,-504.9465C2796.2043,-493.0504 2813.3723,-479.726 2828.5791,-467.9237\" fill=\"none\" stroke=\"#000000\"/>\n",
       "<polygon fill=\"#000000\" points=\"2831.0475,-470.4384 2836.8014,-461.5422 2826.7556,-464.9085 2831.0475,-470.4384\" stroke=\"#000000\"/>\n",
       "</g>\n",
       "<!-- 61 -->\n",
       "<g class=\"node\" id=\"node62\">\n",
       "<title>61</title>\n",
       "<polygon fill=\"none\" points=\"2960.5,-989 2735.5,-989 2735.5,-921 2960.5,-921 2960.5,-989\" stroke=\"#000000\"/>\n",
       "<text fill=\"#000000\" font-family=\"Times,serif\" font-size=\"14.00\" text-anchor=\"middle\" x=\"2848\" y=\"-973.8\">X[0] &lt;= 48.96</text>\n",
       "<text fill=\"#000000\" font-family=\"Times,serif\" font-size=\"14.00\" text-anchor=\"middle\" x=\"2848\" y=\"-958.8\">entropy = 1.584</text>\n",
       "<text fill=\"#000000\" font-family=\"Times,serif\" font-size=\"14.00\" text-anchor=\"middle\" x=\"2848\" y=\"-943.8\">samples = 92</text>\n",
       "<text fill=\"#000000\" font-family=\"Times,serif\" font-size=\"14.00\" text-anchor=\"middle\" x=\"2848\" y=\"-928.8\">value = [0, 31, 0, 0, 0, 0, 0, 0, 29, 32]</text>\n",
       "</g>\n",
       "<!-- 60&#45;&gt;61 -->\n",
       "<g class=\"edge\" id=\"edge61\">\n",
       "<title>60-&gt;61</title>\n",
       "<path d=\"M2848,-1024.9465C2848,-1016.776 2848,-1007.9318 2848,-999.3697\" fill=\"none\" stroke=\"#000000\"/>\n",
       "<polygon fill=\"#000000\" points=\"2851.5001,-999.13 2848,-989.13 2844.5001,-999.13 2851.5001,-999.13\" stroke=\"#000000\"/>\n",
       "</g>\n",
       "<!-- 68 -->\n",
       "<g class=\"node\" id=\"node69\">\n",
       "<title>68</title>\n",
       "<polygon fill=\"none\" points=\"3310,-989 3092,-989 3092,-921 3310,-921 3310,-989\" stroke=\"#000000\"/>\n",
       "<text fill=\"#000000\" font-family=\"Times,serif\" font-size=\"14.00\" text-anchor=\"middle\" x=\"3201\" y=\"-973.8\">X[1] &lt;= 23.45</text>\n",
       "<text fill=\"#000000\" font-family=\"Times,serif\" font-size=\"14.00\" text-anchor=\"middle\" x=\"3201\" y=\"-958.8\">entropy = 0.995</text>\n",
       "<text fill=\"#000000\" font-family=\"Times,serif\" font-size=\"14.00\" text-anchor=\"middle\" x=\"3201\" y=\"-943.8\">samples = 59</text>\n",
       "<text fill=\"#000000\" font-family=\"Times,serif\" font-size=\"14.00\" text-anchor=\"middle\" x=\"3201\" y=\"-928.8\">value = [0, 0, 27, 32, 0, 0, 0, 0, 0, 0]</text>\n",
       "</g>\n",
       "<!-- 60&#45;&gt;68 -->\n",
       "<g class=\"edge\" id=\"edge68\">\n",
       "<title>60-&gt;68</title>\n",
       "<path d=\"M2963.5854,-1024.9465C3001.5852,-1013.7511 3043.8787,-1001.2907 3082.119,-990.0244\" fill=\"none\" stroke=\"#000000\"/>\n",
       "<polygon fill=\"#000000\" points=\"3083.1455,-993.3708 3091.7487,-987.1874 3081.1671,-986.6562 3083.1455,-993.3708\" stroke=\"#000000\"/>\n",
       "</g>\n",
       "<!-- 62 -->\n",
       "<g class=\"node\" id=\"node63\">\n",
       "<title>62</title>\n",
       "<polygon fill=\"none\" points=\"2840.5,-885 2629.5,-885 2629.5,-817 2840.5,-817 2840.5,-885\" stroke=\"#000000\"/>\n",
       "<text fill=\"#000000\" font-family=\"Times,serif\" font-size=\"14.00\" text-anchor=\"middle\" x=\"2735\" y=\"-869.8\">X[1] &lt;= 13.025</text>\n",
       "<text fill=\"#000000\" font-family=\"Times,serif\" font-size=\"14.00\" text-anchor=\"middle\" x=\"2735\" y=\"-854.8\">entropy = 0.196</text>\n",
       "<text fill=\"#000000\" font-family=\"Times,serif\" font-size=\"14.00\" text-anchor=\"middle\" x=\"2735\" y=\"-839.8\">samples = 33</text>\n",
       "<text fill=\"#000000\" font-family=\"Times,serif\" font-size=\"14.00\" text-anchor=\"middle\" x=\"2735\" y=\"-824.8\">value = [0, 1, 0, 0, 0, 0, 0, 0, 0, 32]</text>\n",
       "</g>\n",
       "<!-- 61&#45;&gt;62 -->\n",
       "<g class=\"edge\" id=\"edge62\">\n",
       "<title>61-&gt;62</title>\n",
       "<path d=\"M2810.9996,-920.9465C2800.9514,-911.6986 2789.9653,-901.5876 2779.5474,-891.9994\" fill=\"none\" stroke=\"#000000\"/>\n",
       "<polygon fill=\"#000000\" points=\"2781.8118,-889.3267 2772.0836,-885.13 2777.0714,-894.4773 2781.8118,-889.3267\" stroke=\"#000000\"/>\n",
       "</g>\n",
       "<!-- 65 -->\n",
       "<g class=\"node\" id=\"node66\">\n",
       "<title>65</title>\n",
       "<polygon fill=\"none\" points=\"3077,-885 2859,-885 2859,-817 3077,-817 3077,-885\" stroke=\"#000000\"/>\n",
       "<text fill=\"#000000\" font-family=\"Times,serif\" font-size=\"14.00\" text-anchor=\"middle\" x=\"2968\" y=\"-869.8\">X[1] &lt;= 11.995</text>\n",
       "<text fill=\"#000000\" font-family=\"Times,serif\" font-size=\"14.00\" text-anchor=\"middle\" x=\"2968\" y=\"-854.8\">entropy = 1.0</text>\n",
       "<text fill=\"#000000\" font-family=\"Times,serif\" font-size=\"14.00\" text-anchor=\"middle\" x=\"2968\" y=\"-839.8\">samples = 59</text>\n",
       "<text fill=\"#000000\" font-family=\"Times,serif\" font-size=\"14.00\" text-anchor=\"middle\" x=\"2968\" y=\"-824.8\">value = [0, 30, 0, 0, 0, 0, 0, 0, 29, 0]</text>\n",
       "</g>\n",
       "<!-- 61&#45;&gt;65 -->\n",
       "<g class=\"edge\" id=\"edge65\">\n",
       "<title>61-&gt;65</title>\n",
       "<path d=\"M2887.2925,-920.9465C2898.0667,-911.6088 2909.8564,-901.3911 2921.015,-891.7203\" fill=\"none\" stroke=\"#000000\"/>\n",
       "<polygon fill=\"#000000\" points=\"2923.3546,-894.3243 2928.6192,-885.13 2918.7701,-889.0344 2923.3546,-894.3243\" stroke=\"#000000\"/>\n",
       "</g>\n",
       "<!-- 63 -->\n",
       "<g class=\"node\" id=\"node64\">\n",
       "<title>63</title>\n",
       "<polygon fill=\"none\" points=\"2621.5,-773.5 2410.5,-773.5 2410.5,-720.5 2621.5,-720.5 2621.5,-773.5\" stroke=\"#000000\"/>\n",
       "<text fill=\"#000000\" font-family=\"Times,serif\" font-size=\"14.00\" text-anchor=\"middle\" x=\"2516\" y=\"-758.3\">entropy = 0.0</text>\n",
       "<text fill=\"#000000\" font-family=\"Times,serif\" font-size=\"14.00\" text-anchor=\"middle\" x=\"2516\" y=\"-743.3\">samples = 32</text>\n",
       "<text fill=\"#000000\" font-family=\"Times,serif\" font-size=\"14.00\" text-anchor=\"middle\" x=\"2516\" y=\"-728.3\">value = [0, 0, 0, 0, 0, 0, 0, 0, 0, 32]</text>\n",
       "</g>\n",
       "<!-- 62&#45;&gt;63 -->\n",
       "<g class=\"edge\" id=\"edge63\">\n",
       "<title>62-&gt;63</title>\n",
       "<path d=\"M2663.2912,-816.9465C2636.8491,-804.3895 2607.0558,-790.2411 2581.2183,-777.9712\" fill=\"none\" stroke=\"#000000\"/>\n",
       "<polygon fill=\"#000000\" points=\"2582.4263,-774.6703 2571.8917,-773.5422 2579.4234,-780.9936 2582.4263,-774.6703\" stroke=\"#000000\"/>\n",
       "</g>\n",
       "<!-- 64 -->\n",
       "<g class=\"node\" id=\"node65\">\n",
       "<title>64</title>\n",
       "<polygon fill=\"none\" points=\"2844,-773.5 2640,-773.5 2640,-720.5 2844,-720.5 2844,-773.5\" stroke=\"#000000\"/>\n",
       "<text fill=\"#000000\" font-family=\"Times,serif\" font-size=\"14.00\" text-anchor=\"middle\" x=\"2742\" y=\"-758.3\">entropy = 0.0</text>\n",
       "<text fill=\"#000000\" font-family=\"Times,serif\" font-size=\"14.00\" text-anchor=\"middle\" x=\"2742\" y=\"-743.3\">samples = 1</text>\n",
       "<text fill=\"#000000\" font-family=\"Times,serif\" font-size=\"14.00\" text-anchor=\"middle\" x=\"2742\" y=\"-728.3\">value = [0, 1, 0, 0, 0, 0, 0, 0, 0, 0]</text>\n",
       "</g>\n",
       "<!-- 62&#45;&gt;64 -->\n",
       "<g class=\"edge\" id=\"edge64\">\n",
       "<title>62-&gt;64</title>\n",
       "<path d=\"M2737.2921,-816.9465C2738.0112,-806.2621 2738.8079,-794.4254 2739.5383,-783.5742\" fill=\"none\" stroke=\"#000000\"/>\n",
       "<polygon fill=\"#000000\" points=\"2743.034,-783.7547 2740.2135,-773.5422 2736.0498,-783.2845 2743.034,-783.7547\" stroke=\"#000000\"/>\n",
       "</g>\n",
       "<!-- 66 -->\n",
       "<g class=\"node\" id=\"node67\">\n",
       "<title>66</title>\n",
       "<polygon fill=\"none\" points=\"3073.5,-773.5 2862.5,-773.5 2862.5,-720.5 3073.5,-720.5 3073.5,-773.5\" stroke=\"#000000\"/>\n",
       "<text fill=\"#000000\" font-family=\"Times,serif\" font-size=\"14.00\" text-anchor=\"middle\" x=\"2968\" y=\"-758.3\">entropy = 0.0</text>\n",
       "<text fill=\"#000000\" font-family=\"Times,serif\" font-size=\"14.00\" text-anchor=\"middle\" x=\"2968\" y=\"-743.3\">samples = 29</text>\n",
       "<text fill=\"#000000\" font-family=\"Times,serif\" font-size=\"14.00\" text-anchor=\"middle\" x=\"2968\" y=\"-728.3\">value = [0, 0, 0, 0, 0, 0, 0, 0, 29, 0]</text>\n",
       "</g>\n",
       "<!-- 65&#45;&gt;66 -->\n",
       "<g class=\"edge\" id=\"edge66\">\n",
       "<title>65-&gt;66</title>\n",
       "<path d=\"M2968,-816.9465C2968,-806.2621 2968,-794.4254 2968,-783.5742\" fill=\"none\" stroke=\"#000000\"/>\n",
       "<polygon fill=\"#000000\" points=\"2971.5001,-783.5421 2968,-773.5422 2964.5001,-783.5422 2971.5001,-783.5421\" stroke=\"#000000\"/>\n",
       "</g>\n",
       "<!-- 67 -->\n",
       "<g class=\"node\" id=\"node68\">\n",
       "<title>67</title>\n",
       "<polygon fill=\"none\" points=\"3302.5,-773.5 3091.5,-773.5 3091.5,-720.5 3302.5,-720.5 3302.5,-773.5\" stroke=\"#000000\"/>\n",
       "<text fill=\"#000000\" font-family=\"Times,serif\" font-size=\"14.00\" text-anchor=\"middle\" x=\"3197\" y=\"-758.3\">entropy = 0.0</text>\n",
       "<text fill=\"#000000\" font-family=\"Times,serif\" font-size=\"14.00\" text-anchor=\"middle\" x=\"3197\" y=\"-743.3\">samples = 30</text>\n",
       "<text fill=\"#000000\" font-family=\"Times,serif\" font-size=\"14.00\" text-anchor=\"middle\" x=\"3197\" y=\"-728.3\">value = [0, 30, 0, 0, 0, 0, 0, 0, 0, 0]</text>\n",
       "</g>\n",
       "<!-- 65&#45;&gt;67 -->\n",
       "<g class=\"edge\" id=\"edge67\">\n",
       "<title>65-&gt;67</title>\n",
       "<path d=\"M3042.9832,-816.9465C3070.754,-804.3344 3102.0597,-790.117 3129.159,-777.8099\" fill=\"none\" stroke=\"#000000\"/>\n",
       "<polygon fill=\"#000000\" points=\"3130.8984,-780.864 3138.5562,-773.5422 3128.0039,-774.4905 3130.8984,-780.864\" stroke=\"#000000\"/>\n",
       "</g>\n",
       "<!-- 69 -->\n",
       "<g class=\"node\" id=\"node70\">\n",
       "<title>69</title>\n",
       "<polygon fill=\"none\" points=\"3306.5,-877.5 3095.5,-877.5 3095.5,-824.5 3306.5,-824.5 3306.5,-877.5\" stroke=\"#000000\"/>\n",
       "<text fill=\"#000000\" font-family=\"Times,serif\" font-size=\"14.00\" text-anchor=\"middle\" x=\"3201\" y=\"-862.3\">entropy = 0.0</text>\n",
       "<text fill=\"#000000\" font-family=\"Times,serif\" font-size=\"14.00\" text-anchor=\"middle\" x=\"3201\" y=\"-847.3\">samples = 30</text>\n",
       "<text fill=\"#000000\" font-family=\"Times,serif\" font-size=\"14.00\" text-anchor=\"middle\" x=\"3201\" y=\"-832.3\">value = [0, 0, 0, 30, 0, 0, 0, 0, 0, 0]</text>\n",
       "</g>\n",
       "<!-- 68&#45;&gt;69 -->\n",
       "<g class=\"edge\" id=\"edge69\">\n",
       "<title>68-&gt;69</title>\n",
       "<path d=\"M3201,-920.9465C3201,-910.2621 3201,-898.4254 3201,-887.5742\" fill=\"none\" stroke=\"#000000\"/>\n",
       "<polygon fill=\"#000000\" points=\"3204.5001,-887.5421 3201,-877.5422 3197.5001,-887.5422 3204.5001,-887.5421\" stroke=\"#000000\"/>\n",
       "</g>\n",
       "<!-- 70 -->\n",
       "<g class=\"node\" id=\"node71\">\n",
       "<title>70</title>\n",
       "<polygon fill=\"none\" points=\"3535.5,-885 3324.5,-885 3324.5,-817 3535.5,-817 3535.5,-885\" stroke=\"#000000\"/>\n",
       "<text fill=\"#000000\" font-family=\"Times,serif\" font-size=\"14.00\" text-anchor=\"middle\" x=\"3430\" y=\"-869.8\">X[0] &lt;= 49.13</text>\n",
       "<text fill=\"#000000\" font-family=\"Times,serif\" font-size=\"14.00\" text-anchor=\"middle\" x=\"3430\" y=\"-854.8\">entropy = 0.362</text>\n",
       "<text fill=\"#000000\" font-family=\"Times,serif\" font-size=\"14.00\" text-anchor=\"middle\" x=\"3430\" y=\"-839.8\">samples = 29</text>\n",
       "<text fill=\"#000000\" font-family=\"Times,serif\" font-size=\"14.00\" text-anchor=\"middle\" x=\"3430\" y=\"-824.8\">value = [0, 0, 27, 2, 0, 0, 0, 0, 0, 0]</text>\n",
       "</g>\n",
       "<!-- 68&#45;&gt;70 -->\n",
       "<g class=\"edge\" id=\"edge70\">\n",
       "<title>68-&gt;70</title>\n",
       "<path d=\"M3275.9832,-920.9465C3298.2245,-910.8457 3322.7332,-899.7151 3345.5324,-889.3608\" fill=\"none\" stroke=\"#000000\"/>\n",
       "<polygon fill=\"#000000\" points=\"3347.1906,-892.4518 3354.8484,-885.13 3344.2961,-886.0783 3347.1906,-892.4518\" stroke=\"#000000\"/>\n",
       "</g>\n",
       "<!-- 71 -->\n",
       "<g class=\"node\" id=\"node72\">\n",
       "<title>71</title>\n",
       "<polygon fill=\"none\" points=\"3533.5,-773.5 3322.5,-773.5 3322.5,-720.5 3533.5,-720.5 3533.5,-773.5\" stroke=\"#000000\"/>\n",
       "<text fill=\"#000000\" font-family=\"Times,serif\" font-size=\"14.00\" text-anchor=\"middle\" x=\"3428\" y=\"-758.3\">entropy = 0.0</text>\n",
       "<text fill=\"#000000\" font-family=\"Times,serif\" font-size=\"14.00\" text-anchor=\"middle\" x=\"3428\" y=\"-743.3\">samples = 13</text>\n",
       "<text fill=\"#000000\" font-family=\"Times,serif\" font-size=\"14.00\" text-anchor=\"middle\" x=\"3428\" y=\"-728.3\">value = [0, 0, 13, 0, 0, 0, 0, 0, 0, 0]</text>\n",
       "</g>\n",
       "<!-- 70&#45;&gt;71 -->\n",
       "<g class=\"edge\" id=\"edge71\">\n",
       "<title>70-&gt;71</title>\n",
       "<path d=\"M3429.3451,-816.9465C3429.1397,-806.2621 3428.912,-794.4254 3428.7034,-783.5742\" fill=\"none\" stroke=\"#000000\"/>\n",
       "<polygon fill=\"#000000\" points=\"3432.2021,-783.473 3428.5104,-773.5422 3425.2034,-783.6076 3432.2021,-783.473\" stroke=\"#000000\"/>\n",
       "</g>\n",
       "<!-- 72 -->\n",
       "<g class=\"node\" id=\"node73\">\n",
       "<title>72</title>\n",
       "<polygon fill=\"none\" points=\"3762.5,-781 3551.5,-781 3551.5,-713 3762.5,-713 3762.5,-781\" stroke=\"#000000\"/>\n",
       "<text fill=\"#000000\" font-family=\"Times,serif\" font-size=\"14.00\" text-anchor=\"middle\" x=\"3657\" y=\"-765.8\">X[0] &lt;= 49.215</text>\n",
       "<text fill=\"#000000\" font-family=\"Times,serif\" font-size=\"14.00\" text-anchor=\"middle\" x=\"3657\" y=\"-750.8\">entropy = 0.544</text>\n",
       "<text fill=\"#000000\" font-family=\"Times,serif\" font-size=\"14.00\" text-anchor=\"middle\" x=\"3657\" y=\"-735.8\">samples = 16</text>\n",
       "<text fill=\"#000000\" font-family=\"Times,serif\" font-size=\"14.00\" text-anchor=\"middle\" x=\"3657\" y=\"-720.8\">value = [0, 0, 14, 2, 0, 0, 0, 0, 0, 0]</text>\n",
       "</g>\n",
       "<!-- 70&#45;&gt;72 -->\n",
       "<g class=\"edge\" id=\"edge72\">\n",
       "<title>70-&gt;72</title>\n",
       "<path d=\"M3504.3283,-816.9465C3526.3753,-806.8457 3550.67,-795.7151 3573.2701,-785.3608\" fill=\"none\" stroke=\"#000000\"/>\n",
       "<polygon fill=\"#000000\" points=\"3574.8713,-788.4772 3582.5047,-781.13 3571.9556,-782.1133 3574.8713,-788.4772\" stroke=\"#000000\"/>\n",
       "</g>\n",
       "<!-- 73 -->\n",
       "<g class=\"node\" id=\"node74\">\n",
       "<title>73</title>\n",
       "<polygon fill=\"none\" points=\"3646,-669.5 3442,-669.5 3442,-616.5 3646,-616.5 3646,-669.5\" stroke=\"#000000\"/>\n",
       "<text fill=\"#000000\" font-family=\"Times,serif\" font-size=\"14.00\" text-anchor=\"middle\" x=\"3544\" y=\"-654.3\">entropy = 0.0</text>\n",
       "<text fill=\"#000000\" font-family=\"Times,serif\" font-size=\"14.00\" text-anchor=\"middle\" x=\"3544\" y=\"-639.3\">samples = 1</text>\n",
       "<text fill=\"#000000\" font-family=\"Times,serif\" font-size=\"14.00\" text-anchor=\"middle\" x=\"3544\" y=\"-624.3\">value = [0, 0, 0, 1, 0, 0, 0, 0, 0, 0]</text>\n",
       "</g>\n",
       "<!-- 72&#45;&gt;73 -->\n",
       "<g class=\"edge\" id=\"edge73\">\n",
       "<title>72-&gt;73</title>\n",
       "<path d=\"M3619.9996,-712.9465C3607.3134,-701.2707 3593.1322,-688.219 3580.487,-676.5809\" fill=\"none\" stroke=\"#000000\"/>\n",
       "<polygon fill=\"#000000\" points=\"3582.5673,-673.7389 3572.8391,-669.5422 3577.8269,-678.8895 3582.5673,-673.7389\" stroke=\"#000000\"/>\n",
       "</g>\n",
       "<!-- 74 -->\n",
       "<g class=\"node\" id=\"node75\">\n",
       "<title>74</title>\n",
       "<polygon fill=\"none\" points=\"3875.5,-677 3664.5,-677 3664.5,-609 3875.5,-609 3875.5,-677\" stroke=\"#000000\"/>\n",
       "<text fill=\"#000000\" font-family=\"Times,serif\" font-size=\"14.00\" text-anchor=\"middle\" x=\"3770\" y=\"-661.8\">X[0] &lt;= 51.95</text>\n",
       "<text fill=\"#000000\" font-family=\"Times,serif\" font-size=\"14.00\" text-anchor=\"middle\" x=\"3770\" y=\"-646.8\">entropy = 0.353</text>\n",
       "<text fill=\"#000000\" font-family=\"Times,serif\" font-size=\"14.00\" text-anchor=\"middle\" x=\"3770\" y=\"-631.8\">samples = 15</text>\n",
       "<text fill=\"#000000\" font-family=\"Times,serif\" font-size=\"14.00\" text-anchor=\"middle\" x=\"3770\" y=\"-616.8\">value = [0, 0, 14, 1, 0, 0, 0, 0, 0, 0]</text>\n",
       "</g>\n",
       "<!-- 72&#45;&gt;74 -->\n",
       "<g class=\"edge\" id=\"edge74\">\n",
       "<title>72-&gt;74</title>\n",
       "<path d=\"M3694.0004,-712.9465C3704.0486,-703.6986 3715.0347,-693.5876 3725.4526,-683.9994\" fill=\"none\" stroke=\"#000000\"/>\n",
       "<polygon fill=\"#000000\" points=\"3727.9286,-686.4773 3732.9164,-677.13 3723.1882,-681.3267 3727.9286,-686.4773\" stroke=\"#000000\"/>\n",
       "</g>\n",
       "<!-- 75 -->\n",
       "<g class=\"node\" id=\"node76\">\n",
       "<title>75</title>\n",
       "<polygon fill=\"none\" points=\"3762.5,-565.5 3551.5,-565.5 3551.5,-512.5 3762.5,-512.5 3762.5,-565.5\" stroke=\"#000000\"/>\n",
       "<text fill=\"#000000\" font-family=\"Times,serif\" font-size=\"14.00\" text-anchor=\"middle\" x=\"3657\" y=\"-550.3\">entropy = 0.0</text>\n",
       "<text fill=\"#000000\" font-family=\"Times,serif\" font-size=\"14.00\" text-anchor=\"middle\" x=\"3657\" y=\"-535.3\">samples = 11</text>\n",
       "<text fill=\"#000000\" font-family=\"Times,serif\" font-size=\"14.00\" text-anchor=\"middle\" x=\"3657\" y=\"-520.3\">value = [0, 0, 11, 0, 0, 0, 0, 0, 0, 0]</text>\n",
       "</g>\n",
       "<!-- 74&#45;&gt;75 -->\n",
       "<g class=\"edge\" id=\"edge75\">\n",
       "<title>74-&gt;75</title>\n",
       "<path d=\"M3732.9996,-608.9465C3720.3134,-597.2707 3706.1322,-584.219 3693.487,-572.5809\" fill=\"none\" stroke=\"#000000\"/>\n",
       "<polygon fill=\"#000000\" points=\"3695.5673,-569.7389 3685.8391,-565.5422 3690.8269,-574.8895 3695.5673,-569.7389\" stroke=\"#000000\"/>\n",
       "</g>\n",
       "<!-- 76 -->\n",
       "<g class=\"node\" id=\"node77\">\n",
       "<title>76</title>\n",
       "<polygon fill=\"none\" points=\"3985,-573 3781,-573 3781,-505 3985,-505 3985,-573\" stroke=\"#000000\"/>\n",
       "<text fill=\"#000000\" font-family=\"Times,serif\" font-size=\"14.00\" text-anchor=\"middle\" x=\"3883\" y=\"-557.8\">X[0] &lt;= 52.205</text>\n",
       "<text fill=\"#000000\" font-family=\"Times,serif\" font-size=\"14.00\" text-anchor=\"middle\" x=\"3883\" y=\"-542.8\">entropy = 0.811</text>\n",
       "<text fill=\"#000000\" font-family=\"Times,serif\" font-size=\"14.00\" text-anchor=\"middle\" x=\"3883\" y=\"-527.8\">samples = 4</text>\n",
       "<text fill=\"#000000\" font-family=\"Times,serif\" font-size=\"14.00\" text-anchor=\"middle\" x=\"3883\" y=\"-512.8\">value = [0, 0, 3, 1, 0, 0, 0, 0, 0, 0]</text>\n",
       "</g>\n",
       "<!-- 74&#45;&gt;76 -->\n",
       "<g class=\"edge\" id=\"edge76\">\n",
       "<title>74-&gt;76</title>\n",
       "<path d=\"M3807.0004,-608.9465C3817.0486,-599.6986 3828.0347,-589.5876 3838.4526,-579.9994\" fill=\"none\" stroke=\"#000000\"/>\n",
       "<polygon fill=\"#000000\" points=\"3840.9286,-582.4773 3845.9164,-573.13 3836.1882,-577.3267 3840.9286,-582.4773\" stroke=\"#000000\"/>\n",
       "</g>\n",
       "<!-- 77 -->\n",
       "<g class=\"node\" id=\"node78\">\n",
       "<title>77</title>\n",
       "<polygon fill=\"none\" points=\"3874,-461.5 3670,-461.5 3670,-408.5 3874,-408.5 3874,-461.5\" stroke=\"#000000\"/>\n",
       "<text fill=\"#000000\" font-family=\"Times,serif\" font-size=\"14.00\" text-anchor=\"middle\" x=\"3772\" y=\"-446.3\">entropy = 1.0</text>\n",
       "<text fill=\"#000000\" font-family=\"Times,serif\" font-size=\"14.00\" text-anchor=\"middle\" x=\"3772\" y=\"-431.3\">samples = 2</text>\n",
       "<text fill=\"#000000\" font-family=\"Times,serif\" font-size=\"14.00\" text-anchor=\"middle\" x=\"3772\" y=\"-416.3\">value = [0, 0, 1, 1, 0, 0, 0, 0, 0, 0]</text>\n",
       "</g>\n",
       "<!-- 76&#45;&gt;77 -->\n",
       "<g class=\"edge\" id=\"edge77\">\n",
       "<title>76-&gt;77</title>\n",
       "<path d=\"M3846.6544,-504.9465C3834.1928,-493.2707 3820.2626,-480.219 3807.8412,-468.5809\" fill=\"none\" stroke=\"#000000\"/>\n",
       "<polygon fill=\"#000000\" points=\"3810.0191,-465.8253 3800.3287,-461.5422 3805.2331,-470.9335 3810.0191,-465.8253\" stroke=\"#000000\"/>\n",
       "</g>\n",
       "<!-- 78 -->\n",
       "<g class=\"node\" id=\"node79\">\n",
       "<title>78</title>\n",
       "<polygon fill=\"none\" points=\"4096,-461.5 3892,-461.5 3892,-408.5 4096,-408.5 4096,-461.5\" stroke=\"#000000\"/>\n",
       "<text fill=\"#000000\" font-family=\"Times,serif\" font-size=\"14.00\" text-anchor=\"middle\" x=\"3994\" y=\"-446.3\">entropy = 0.0</text>\n",
       "<text fill=\"#000000\" font-family=\"Times,serif\" font-size=\"14.00\" text-anchor=\"middle\" x=\"3994\" y=\"-431.3\">samples = 2</text>\n",
       "<text fill=\"#000000\" font-family=\"Times,serif\" font-size=\"14.00\" text-anchor=\"middle\" x=\"3994\" y=\"-416.3\">value = [0, 0, 2, 0, 0, 0, 0, 0, 0, 0]</text>\n",
       "</g>\n",
       "<!-- 76&#45;&gt;78 -->\n",
       "<g class=\"edge\" id=\"edge78\">\n",
       "<title>76-&gt;78</title>\n",
       "<path d=\"M3919.3456,-504.9465C3931.8072,-493.2707 3945.7374,-480.219 3958.1588,-468.5809\" fill=\"none\" stroke=\"#000000\"/>\n",
       "<polygon fill=\"#000000\" points=\"3960.7669,-470.9335 3965.6713,-461.5422 3955.9809,-465.8253 3960.7669,-470.9335\" stroke=\"#000000\"/>\n",
       "</g>\n",
       "</g>\n",
       "</svg>"
      ],
      "text/plain": [
       "<IPython.core.display.SVG object>"
      ]
     },
     "execution_count": 51,
     "metadata": {},
     "output_type": "execute_result"
    }
   ],
   "source": [
    "dot_data = StringIO()\n",
    "filename = \"pizzaTree.png\"\n",
    "pizza_no_id_entropy\n",
    "dot_data = export_graphviz(pizza_no_id_entropy)  \n",
    "graph = graphviz.Source(dot_data)\n",
    "SVG(graph.pipe(format='svg'))"
   ]
  },
  {
   "cell_type": "markdown",
   "metadata": {},
   "source": [
    "The decision tree classifier provide a very good model for predciting the type of pizza based on the values of the variables measured."
   ]
  },
  {
   "cell_type": "markdown",
   "metadata": {},
   "source": [
    "### Knearest algorithm"
   ]
  },
  {
   "cell_type": "code",
   "execution_count": 77,
   "metadata": {},
   "outputs": [
    {
     "name": "stdout",
     "output_type": "stream",
     "text": [
      "Sin/Con ajuste: (300, 7) (300, 7)\n"
     ]
    }
   ],
   "source": [
    "x = pizza_no_brand \n",
    "X = preprocessing.StandardScaler().fit(x).transform(x.astype(float))\n",
    "y = pizza_no_id['brand'].values\n",
    "print('Sin/Con ajuste:', x.shape,  X.shape)"
   ]
  },
  {
   "cell_type": "code",
   "execution_count": 78,
   "metadata": {},
   "outputs": [
    {
     "name": "stdout",
     "output_type": "stream",
     "text": [
      "Train set: (255, 7) (255,)\n",
      "Test set: (45, 7) (45,)\n"
     ]
    }
   ],
   "source": [
    "X_train, X_test, y_train, y_test = train_test_split( X, y, test_size=0.15, random_state=4,stratify=y)\n",
    "print('Train set:', X_train.shape,  y_train.shape)\n",
    "print('Test set:', X_test.shape,  y_test.shape)"
   ]
  },
  {
   "cell_type": "code",
   "execution_count": 54,
   "metadata": {},
   "outputs": [
    {
     "data": {
      "image/png": "[encoded data removed]",
      "text/plain": [
       "<Figure size 432x288 with 1 Axes>"
      ]
     },
     "metadata": {
      "needs_background": "light"
     },
     "output_type": "display_data"
    },
    {
     "name": "stdout",
     "output_type": "stream",
     "text": [
      "The best test accuracy was with 0.8888888888888888 with k = 31\n",
      "Train set Accuracy:  0.6980392156862745\n"
     ]
    }
   ],
   "source": [
    "Ks = 50\n",
    "mean_acc = np.zeros((Ks-1))\n",
    "std_acc = np.zeros((Ks-1))\n",
    "ConfustionMx = [];\n",
    "for n in range(1,Ks):  \n",
    "    knc = KNeighborsClassifier(n_neighbors = n).fit(X_train,y_train)\n",
    "    yhat=knc.predict(X_test)\n",
    "    mean_acc[n-1] = metrics.accuracy_score(y_test, yhat)\n",
    "    std_acc[n-1]=np.std(yhat==y_test)/np.sqrt(yhat.shape[0])\n",
    "plt.plot(range(1,Ks),mean_acc,'g')\n",
    "plt.fill_between(range(1,Ks),mean_acc - 1 * std_acc,mean_acc + 1 * std_acc, alpha=0.10)\n",
    "plt.legend(('Accuracy ', '+/- 3xstd'))\n",
    "plt.ylabel('Accuracy ')\n",
    "plt.xlabel('Number of Neighbors (K)')\n",
    "plt.tight_layout()\n",
    "plt.show()\n",
    "print( \"The best test accuracy was with\", mean_acc.max(), \"with k =\", mean_acc.argmax()+1)\n",
    "print(\"Train set Accuracy: \", metrics.accuracy_score(y_train, knc.predict(X_train)))"
   ]
  },
  {
   "cell_type": "markdown",
   "metadata": {},
   "source": [
    "There is a 89% accuracy in predicting the type of pizza with knearest neighbor classifier."
   ]
  },
  {
   "cell_type": "markdown",
   "metadata": {},
   "source": [
    "### SVM algorithm"
   ]
  },
  {
   "cell_type": "code",
   "execution_count": 55,
   "metadata": {},
   "outputs": [],
   "source": [
    "def plot_confusion_matrix_adjust(cm, classes, normalize=False,title='Confusion matrix'):\n",
    "    if normalize == True:\n",
    "        cm = cm.astype('float') / cm.sum(axis=1)[:, np.newaxis]\n",
    "        print('Normalized Confusion Matrix')\n",
    "    else:\n",
    "        print('Confusion matrix, without normalization')\n",
    "    fig, ax = plt.subplots()\n",
    "    ticks_marks = np.arange(len(classes))\n",
    "    sns.heatmap(pd.DataFrame(cm), annot=True, cmap='Blues', fmt='g',yticklabels=classes,xticklabels=classes) \n",
    "    ax.xaxis.set_label_position('top')\n",
    "    ax.autoscale(enable=True) # To fix scale \n",
    "    plt.tight_layout()\n",
    "    plt.title(title, y = 1.1)\n",
    "    plt.ylabel('Actual Label')\n",
    "    plt.xlabel('Prediction Label')"
   ]
  },
  {
   "cell_type": "code",
   "execution_count": 89,
   "metadata": {},
   "outputs": [
    {
     "name": "stdout",
     "output_type": "stream",
     "text": [
      "Confusion matrix, without normalization\n"
     ]
    },
    {
     "name": "stderr",
     "output_type": "stream",
     "text": [
      "/opt/anaconda3/lib/python3.7/site-packages/sklearn/metrics/classification.py:1437: UndefinedMetricWarning: F-score is ill-defined and being set to 0.0 in labels with no predicted samples.\n",
      "  'precision', 'predicted', average, warn_for)\n",
      "/opt/anaconda3/lib/python3.7/site-packages/sklearn/metrics/classification.py:635: DeprecationWarning: jaccard_similarity_score has been deprecated and replaced with jaccard_score. It will be removed in version 0.23. This implementation has surprising behavior for binary and multiclass classification tasks.\n",
      "  'and multiclass classification tasks.', DeprecationWarning)\n",
      "/opt/anaconda3/lib/python3.7/site-packages/sklearn/metrics/classification.py:1437: UndefinedMetricWarning: Precision is ill-defined and being set to 0.0 in labels with no predicted samples.\n",
      "  'precision', 'predicted', average, warn_for)\n"
     ]
    },
    {
     "name": "stdout",
     "output_type": "stream",
     "text": [
      "F1_Score 0.8126984126984127\n",
      "Jaccard 0.8444444444444444\n",
      "Accuracy: 0.8444444444444444\n",
      "Precision: 0.7995061728395061\n",
      "Recall: 0.8444444444444444\n"
     ]
    },
    {
     "data": {
      "image/png": "[encoded data removed]",
      "text/plain": [
       "<Figure size 432x288 with 2 Axes>"
      ]
     },
     "metadata": {
      "needs_background": "light"
     },
     "output_type": "display_data"
    }
   ],
   "source": [
    "clf_rbf = svm.SVC(kernel='linear', gamma='scale') # rbf,sigmoid,poly(degree=8, no gamma) don't give as good results\n",
    "clf_rbf.fit(X_train, y_train)\n",
    "y_predict_rbf = clf_rbf.predict(X_test)\n",
    "cnf_matrix = confusion_matrix(y_test, y_predict_rbf, labels=[0,1,2,3,4,5,6,7])\n",
    "#print(confusion_matrix(y_test, y_predict_rbf))\n",
    "plot_confusion_matrix_adjust(cnf_matrix, classes=['A(0)','B(1)','C(2)','D(3)','E(4)','F(5)','G(6)','H(7)','I(8)','J(9)'],normalize= False,title='Confusion matrix')\n",
    "print('F1_Score', f1_score(y_test, y_predict_rbf, average='weighted')) \n",
    "print('Jaccard', jaccard_similarity_score(y_test, y_predict_rbf))\n",
    "print(\"Accuracy:\",metrics.accuracy_score(y_test, y_predict_rbf))\n",
    "print(\"Precision:\",metrics.precision_score(y_test, y_predict_rbf, average='weighted'))\n",
    "print(\"Recall:\",metrics.recall_score(y_test, y_predict_rbf, average='weighted'))\n",
    "#print (classification_report(y_test, y_predict_rbf))"
   ]
  },
  {
   "cell_type": "markdown",
   "metadata": {},
   "source": [
    "In general the prediction of the type of pizza is ok, thus the model is well trained.\n",
    "The worst pizza types to predict are E (may be a mix of so many stuff), H, and G.\n",
    "Some pizza types should be easier to predict, for example with lots of meat (prot), fruits/vegetables (moist, carbs), or cheese(fat, cal)."
   ]
  },
  {
   "cell_type": "markdown",
   "metadata": {},
   "source": [
    "### Assembly methods with classifiers:"
   ]
  },
  {
   "cell_type": "code",
   "execution_count": 121,
   "metadata": {},
   "outputs": [
    {
     "name": "stdout",
     "output_type": "stream",
     "text": [
      "Acuraccy DT: 0.87\n",
      "Acuraccy Bagging DT: 0.88\n",
      "Acuraccy KNN: 0.88\n",
      "Acuraccy Bagging KNN: 0.87\n",
      "Acuraccy GBC: 0.85\n",
      "Acuraccy Ada: 0.27\n"
     ]
    }
   ],
   "source": [
    "dtc = DecisionTreeClassifier().fit(x_train,y_train)\n",
    "dtc_pred = dtc.predict(x_test)\n",
    "print('Acuraccy DT:', accuracy_score(y_test, dtc_pred))\n",
    "\n",
    "bag = BaggingClassifier(base_estimator=DecisionTreeClassifier(), n_estimators=50).fit(x_train, y_train)\n",
    "bag_pred = bag.predict(x_test)\n",
    "print('Acuraccy Bagging DT:', accuracy_score(y_test, bag_pred))\n",
    "\n",
    "knn = KNeighborsClassifier().fit(x_train, y_train)\n",
    "knn_pred = knn.predict(x_test)\n",
    "print('Acuraccy KNN:', accuracy_score(y_test, knn_pred))\n",
    "\n",
    "bag = BaggingClassifier(base_estimator=KNeighborsClassifier(), n_estimators=50).fit(x_train, y_train)\n",
    "bag_pred = bag.predict(x_test)\n",
    "print('Acuraccy Bagging KNN:', accuracy_score(y_test, bag_pred))\n",
    "\n",
    "booster = GradientBoostingClassifier(n_estimators=50).fit(x_train, y_train)\n",
    "boost_pred = booster.predict(x_test)\n",
    "print('Acuraccy GBC:', accuracy_score(y_test, boost_pred))\n",
    "\n",
    "booster = AdaBoostClassifier(n_estimators=50).fit(x_train, y_train)\n",
    "boost_pred = booster.predict(x_test)\n",
    "print('Acuraccy Ada:', accuracy_score(y_test, boost_pred))"
   ]
  },
  {
   "cell_type": "markdown",
   "metadata": {},
   "source": [
    "The consensus from different expert models are good predictors as well.\n",
    "It seems that in general predicting the type of pizza from the amounts of different variable components is good."
   ]
  },
  {
   "cell_type": "markdown",
   "metadata": {},
   "source": [
    "### Let's test the predition of the model by doing cross-validations:"
   ]
  },
  {
   "cell_type": "code",
   "execution_count": 59,
   "metadata": {},
   "outputs": [
    {
     "data": {
      "text/plain": [
       "dict_keys(['explained_variance', 'r2', 'max_error', 'neg_median_absolute_error', 'neg_mean_absolute_error', 'neg_mean_squared_error', 'neg_mean_squared_log_error', 'accuracy', 'roc_auc', 'balanced_accuracy', 'average_precision', 'neg_log_loss', 'brier_score_loss', 'adjusted_rand_score', 'homogeneity_score', 'completeness_score', 'v_measure_score', 'mutual_info_score', 'adjusted_mutual_info_score', 'normalized_mutual_info_score', 'fowlkes_mallows_score', 'precision', 'precision_macro', 'precision_micro', 'precision_samples', 'precision_weighted', 'recall', 'recall_macro', 'recall_micro', 'recall_samples', 'recall_weighted', 'f1', 'f1_macro', 'f1_micro', 'f1_samples', 'f1_weighted', 'jaccard', 'jaccard_macro', 'jaccard_micro', 'jaccard_samples', 'jaccard_weighted'])"
      ]
     },
     "execution_count": 59,
     "metadata": {},
     "output_type": "execute_result"
    }
   ],
   "source": [
    "metrics.SCORERS.keys()"
   ]
  },
  {
   "cell_type": "code",
   "execution_count": 103,
   "metadata": {},
   "outputs": [],
   "source": [
    "x = pizza_no_brand\n",
    "X = preprocessing.StandardScaler().fit(x).transform(x.astype(float))\n",
    "y = pizza_no_id['brand']"
   ]
  },
  {
   "cell_type": "code",
   "execution_count": 104,
   "metadata": {},
   "outputs": [
    {
     "name": "stdout",
     "output_type": "stream",
     "text": [
      "Train set: (240, 7) (240,)\n",
      "Test set: (60, 7) (60,)\n",
      "Train/Test x: (240, 7) (60, 7)\n"
     ]
    }
   ],
   "source": [
    "x_train, x_test, y_train, y_test = train_test_split(x, y, test_size=0.2, stratify=y)\n",
    "X_train, X_test, y_train, y_test = train_test_split(X, y, test_size=0.2, stratify=y)\n",
    "print('Train set:', X_train.shape,  y_train.shape)\n",
    "print('Test set:', X_test.shape,  y_test.shape)\n",
    "print('Train/Test x:', x_train.shape, x_test.shape)"
   ]
  },
  {
   "cell_type": "code",
   "execution_count": 107,
   "metadata": {},
   "outputs": [
    {
     "data": {
      "text/plain": [
       "0.8999323779465325"
      ]
     },
     "execution_count": 107,
     "metadata": {},
     "output_type": "execute_result"
    }
   ],
   "source": [
    "tree = DecisionTreeClassifier()\n",
    "score = cross_val_score(tree, X, y, scoring = 'accuracy', error_score = np.nan, cv = 3)\n",
    "np.abs(np.mean(score)) # x (without StandardScaler) gives 0.89. There is no much difference."
   ]
  },
  {
   "cell_type": "code",
   "execution_count": 118,
   "metadata": {},
   "outputs": [
    {
     "name": "stdout",
     "output_type": "stream",
     "text": [
      "Accuracy:\t 0.9\n",
      "Accuracy:\t 0.87\n",
      "Accuracy:\t 0.86\n"
     ]
    }
   ],
   "source": [
    "kf = KFold(n_splits=3, shuffle=True)   ## X doesn't work 'cause it's a numpy.ndarray and it's no .loc attribute \n",
    "for train_index, test_index in kf.split(x):\n",
    "    x_train, x_test = x.loc[train_index], x.loc[test_index]\n",
    "    y_train, y_test = y.loc[train_index], y.loc[test_index]\n",
    "    tree.fit(x_train, y_train)\n",
    "    y_pred = tree.predict(x_test)\n",
    "    print('Accuracy:\\t', accuracy_score(y_pred, y_test)) # The accuracy is really low with False shuffle"
   ]
  },
  {
   "cell_type": "markdown",
   "metadata": {},
   "source": [
    "Cross-validations results are good for DTC and Kfold.\n",
    "This means that if I test a totally different dataset of types of pizzas, the trained model should do a good prediction."
   ]
  },
  {
   "cell_type": "markdown",
   "metadata": {},
   "source": [
    "### Clustering algorithms:"
   ]
  },
  {
   "cell_type": "markdown",
   "metadata": {},
   "source": [
    "Evaluation metrics:\n",
    "\n",
    "Inertia is the sum of squared error for each cluster. Therefore the smaller the inertia the denser the cluster(closer together all the points are).\n",
    "\n",
    "The Silhouette Score is from -1 to 1 and show how close or far away the clusters are from each other and how dense the clusters are.\n",
    "The silhouette value is a measure of how similar an object is to its own cluster (cohesion) compared to other clusters (separation).\n",
    "The silhouette ranges from −1 to +1, where a high value indicates that the object is well matched to its own cluster and poorly matched to neighboring clusters.\n",
    "\n",
    "For more see here: https://towardsdatascience.com/clustering-why-to-use-it-16d8e2fbafe"
   ]
  },
  {
   "cell_type": "code",
   "execution_count": 242,
   "metadata": {},
   "outputs": [],
   "source": [
    "x = pizza_no_brand\n",
    "y = pizza_no_id['brand'].values"
   ]
  },
  {
   "cell_type": "markdown",
   "metadata": {},
   "source": [
    "#### KMeans Clustering:"
   ]
  },
  {
   "cell_type": "code",
   "execution_count": 245,
   "metadata": {},
   "outputs": [
    {
     "data": {
      "text/plain": [
       "0.7763699019668417"
      ]
     },
     "execution_count": 245,
     "metadata": {},
     "output_type": "execute_result"
    }
   ],
   "source": [
    "KMeans_clustering = KMeans(n_clusters=9, max_iter=1000) # From 1-10 the best accuracy is with 9 clusters.\n",
    "KMeans_clustering.fit(x)\n",
    "labels = classifier.labels_\n",
    "y_kmeans = classifier.predict(x)\n",
    "acc = metrics.adjusted_rand_score(y, y_kmeans) #NO usar este y porque es el que ya se uso.\n",
    "acc  "
   ]
  },
  {
   "cell_type": "code",
   "execution_count": 305,
   "metadata": {},
   "outputs": [
    {
     "name": "stdout",
     "output_type": "stream",
     "text": [
      "2466.8812926972105\n",
      "0.415881904278483\n"
     ]
    }
   ],
   "source": [
    "print(KMeans_clustering.inertia_)\n",
    "print(metrics.silhouette_score(x,y)) # using the optional parameter: metric='euclidean' gives the same results"
   ]
  },
  {
   "cell_type": "markdown",
   "metadata": {},
   "source": [
    "There are some types of pizza that are difficult to separate into different groups given the provided features,\n",
    "although the accuracy is good the inertia and the silhouette are bad."
   ]
  },
  {
   "cell_type": "markdown",
   "metadata": {},
   "source": [
    "#### Mini-Batch KMeans Clustering:"
   ]
  },
  {
   "cell_type": "code",
   "execution_count": 283,
   "metadata": {},
   "outputs": [
    {
     "data": {
      "text/plain": [
       "0.7216106455934505"
      ]
     },
     "execution_count": 283,
     "metadata": {},
     "output_type": "execute_result"
    }
   ],
   "source": [
    "MKM = MiniBatchKMeans(n_clusters=8, batch_size=5)\n",
    "MKM.fit(x)\n",
    "y_MKM = MKM.predict(x)\n",
    "acc = metrics.adjusted_rand_score(y, y_MKM)\n",
    "acc\n",
    "#MKM.inertia_"
   ]
  },
  {
   "cell_type": "markdown",
   "metadata": {},
   "source": [
    "In general, clustering with better scores are obtained when the # of clusters is approx. to the # of features.\n",
    "This means that most of the pizza types make a group clearly distinctive from the other types.\n",
    "There are 10 types of pizza in the dataset."
   ]
  },
  {
   "cell_type": "markdown",
   "metadata": {},
   "source": [
    "#### Agglomerative Clustering:"
   ]
  },
  {
   "cell_type": "code",
   "execution_count": 354,
   "metadata": {},
   "outputs": [],
   "source": [
    "agglom = AgglomerativeClustering(n_clusters = 10, linkage = 'complete')\n",
    "agglom.fit(x,y)\n",
    "\n",
    "# Calcular x_min y x_max\n",
    "\n",
    "\n",
    "dist_matrix = distance_matrix(x_min,x_max)\n",
    "#print(dist_matrix)"
   ]
  },
  {
   "cell_type": "code",
   "execution_count": 355,
   "metadata": {},
   "outputs": [
    {
     "name": "stderr",
     "output_type": "stream",
     "text": [
      "/opt/anaconda3/lib/python3.7/site-packages/ipykernel_launcher.py:1: ClusterWarning: scipy.cluster: The symmetric non-negative hollow observation matrix looks suspiciously like an uncondensed distance matrix\n",
      "  \"\"\"Entry point for launching an IPython kernel.\n"
     ]
    },
    {
     "data": {
      "image/png": "[encoded data removed]",
      "text/plain": [
       "<Figure size 432x288 with 1 Axes>"
      ]
     },
     "metadata": {
      "needs_background": "light"
     },
     "output_type": "display_data"
    }
   ],
   "source": [
    "Z = hierarchy.linkage(dist_matrix, 'complete')\n",
    "dendro = hierarchy.dendrogram(Z, leaf_rotation=0, leaf_font_size =12, orientation = 'left')"
   ]
  },
  {
   "cell_type": "markdown",
   "metadata": {},
   "source": [
    "#### DBSCAN Clustering (Density Based Method):"
   ]
  },
  {
   "cell_type": "code",
   "execution_count": 294,
   "metadata": {},
   "outputs": [
    {
     "data": {
      "text/plain": [
       "9"
      ]
     },
     "execution_count": 294,
     "metadata": {},
     "output_type": "execute_result"
    }
   ],
   "source": [
    "dbs = DBSCAN(eps=.15, min_samples=4, metric='euclidean').fit(X) # eps=maximum radius of a neighborhood\n",
    "labels = dbs.labels_\n",
    "n_clusters_ = len(set(labels)) - (1 if -1 in labels else 0)\n",
    "n_clusters_"
   ]
  },
  {
   "cell_type": "code",
   "execution_count": 299,
   "metadata": {},
   "outputs": [
    {
     "data": {
      "text/plain": [
       "0.415881904278483"
      ]
     },
     "execution_count": 299,
     "metadata": {},
     "output_type": "execute_result"
    }
   ],
   "source": [
    "clustering.inertia_\n",
    "silhouette_score(x, y)"
   ]
  },
  {
   "cell_type": "markdown",
   "metadata": {},
   "source": [
    "In general, clustering doesn't work well, except for 8-9 clusters. The silhouette & inertia scores are not good."
   ]
  },
  {
   "cell_type": "markdown",
   "metadata": {},
   "source": [
    "#### The purpose of this exercise was two-fold:\n",
    "1) To practice the correct implementation of the different algorithms and understand the coding involved.\n",
    "\n",
    "2) To understand the algorithms and recognize which ones are the best descriptors and predictors for the data set"
   ]
  },
  {
   "cell_type": "markdown",
   "metadata": {},
   "source": [
    "### Conclusions:"
   ]
  },
  {
   "cell_type": "markdown",
   "metadata": {},
   "source": [
    "__Number 1__: It was mainly accomplished, although there are a couple of errors and some questions.\n",
    "\n",
    "__Number 2__: It can be seen it the `scatter plot` that there are variables with positive, negative and no-apparent correlation. In addition, the `correlation plot` shows some positive correlations. Thus, some regression analysis may be useful. In addition, the predicting variable have clear groups, thus classification algorithms should work as well.\n",
    "\n",
    "The `regression analysis` gave _good results_ with and without considering PCA. Specifically, the best regression algorithms were _Random Forest_ and _GBR_ with approx. 91% fit.\n",
    "\n",
    "The prediction of the type of pizza with `classifiers` has _good accuracy_, approx. 89%.\n",
    "The worst pizza types to predict are E, H, and G. Some pizza types should be easier to predict, for example those with lots of meat (prot), or fruits/vegetables (moist, carbs), cheese(fat, cal).\n",
    "\n",
    "`Clustering` with _KMeans_, _Mini-Batch KMeans_ have _good scores_ when the number of clusters approx. those of the types of pizza, although the _evaluation metrics (silhouette and inertia) are low_.  In general, the algorithms for clustering don't seem to clearly find similar object classes, without a priori knowledge of them (e.g., pizza types).\n",
    "\n",
    "The consensus from different `expert models` are _good predictors_ as well.\n",
    "It seems that in general predicting the type of pizza from the amounts of different variable components is good.\n",
    "\n",
    "Lastly, the `cross-validations` results are _good for DTC and Kfold_. This means that if I test a totally different dataset of types of pizzas, the trained model should do a good prediction. "
   ]
  },
  {
   "cell_type": "code",
   "execution_count": null,
   "metadata": {},
   "outputs": [],
   "source": []
  }
 ],
 "metadata": {
  "kernelspec": {
   "display_name": "Python 3",
   "language": "python",
   "name": "python3"
  },
  "language_info": {
   "codemirror_mode": {
    "name": "ipython",
    "version": 3
   },
   "file_extension": ".py",
   "mimetype": "text/x-python",
   "name": "python",
   "nbconvert_exporter": "python",
   "pygments_lexer": "ipython3",
   "version": "3.7.4"
  }
 },
 "nbformat": 4,
 "nbformat_minor": 2
}
