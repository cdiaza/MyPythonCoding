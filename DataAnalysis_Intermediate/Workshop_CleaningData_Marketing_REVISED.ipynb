{
 "cells": [
  {
   "cell_type": "code",
   "execution_count": 1,
   "metadata": {},
   "outputs": [],
   "source": [
    "import matplotlib.pyplot as plt\n",
    "import numpy as np\n",
    "import pandas as pd \n",
    "import seaborn as sb\n",
    "import os\n",
    "\n",
    "%matplotlib inline"
   ]
  },
  {
   "cell_type": "code",
   "execution_count": 2,
   "metadata": {},
   "outputs": [
    {
     "name": "stdout",
     "output_type": "stream",
     "text": [
      "['Sales_December_2019.csv', 'Sales_April_2019.csv', 'Sales_February_2019.csv', 'Sales_March_2019.csv', 'Sales_August_2019.csv', 'Sales_May_2019.csv', 'Sales_November_2019.csv', 'Sales_October_2019.csv', 'Sales_January_2019.csv', 'Sales_September_2019.csv', 'Sales_July_2019.csv', 'Sales_June_2019.csv']\n"
     ]
    }
   ],
   "source": [
    "files = [file for file in os.listdir('./DataSet')]\n",
    "print(files)\n",
    "\n",
    "dft = pd.DataFrame()\n",
    "\n",
    "for file in files:\n",
    "    #if file != '.DS_Store' and file != '.ipynb_checkpoints':\n",
    "        months = pd.read_csv('./DataSet/'+file)\n",
    "        dft = pd.concat([dft,months])\n",
    "\n",
    "dft.to_csv('mergedData.csv',index = False, na_rep='(missing)')\n"
   ]
  },
  {
   "cell_type": "code",
   "execution_count": 3,
   "metadata": {},
   "outputs": [
    {
     "data": {
      "text/html": [
       "<div>\n",
       "<style scoped>\n",
       "    .dataframe tbody tr th:only-of-type {\n",
       "        vertical-align: middle;\n",
       "    }\n",
       "\n",
       "    .dataframe tbody tr th {\n",
       "        vertical-align: top;\n",
       "    }\n",
       "\n",
       "    .dataframe thead th {\n",
       "        text-align: right;\n",
       "    }\n",
       "</style>\n",
       "<table border=\"1\" class=\"dataframe\">\n",
       "  <thead>\n",
       "    <tr style=\"text-align: right;\">\n",
       "      <th></th>\n",
       "      <th>Order ID</th>\n",
       "      <th>Product</th>\n",
       "      <th>Quantity Ordered</th>\n",
       "      <th>Price Each</th>\n",
       "      <th>Order Date</th>\n",
       "      <th>Purchase Address</th>\n",
       "    </tr>\n",
       "  </thead>\n",
       "  <tbody>\n",
       "    <tr>\n",
       "      <td>0</td>\n",
       "      <td>295665</td>\n",
       "      <td>Macbook Pro Laptop</td>\n",
       "      <td>1</td>\n",
       "      <td>1700</td>\n",
       "      <td>12/30/19 00:01</td>\n",
       "      <td>136 Church St, New York City, NY 10001</td>\n",
       "    </tr>\n",
       "    <tr>\n",
       "      <td>1</td>\n",
       "      <td>295666</td>\n",
       "      <td>LG Washing Machine</td>\n",
       "      <td>1</td>\n",
       "      <td>600.0</td>\n",
       "      <td>12/29/19 07:03</td>\n",
       "      <td>562 2nd St, New York City, NY 10001</td>\n",
       "    </tr>\n",
       "    <tr>\n",
       "      <td>2</td>\n",
       "      <td>295667</td>\n",
       "      <td>USB-C Charging Cable</td>\n",
       "      <td>1</td>\n",
       "      <td>11.95</td>\n",
       "      <td>12/12/19 18:21</td>\n",
       "      <td>277 Main St, New York City, NY 10001</td>\n",
       "    </tr>\n",
       "  </tbody>\n",
       "</table>\n",
       "</div>"
      ],
      "text/plain": [
       "  Order ID               Product Quantity Ordered Price Each      Order Date  \\\n",
       "0   295665    Macbook Pro Laptop                1       1700  12/30/19 00:01   \n",
       "1   295666    LG Washing Machine                1      600.0  12/29/19 07:03   \n",
       "2   295667  USB-C Charging Cable                1      11.95  12/12/19 18:21   \n",
       "\n",
       "                         Purchase Address  \n",
       "0  136 Church St, New York City, NY 10001  \n",
       "1     562 2nd St, New York City, NY 10001  \n",
       "2    277 Main St, New York City, NY 10001  "
      ]
     },
     "execution_count": 3,
     "metadata": {},
     "output_type": "execute_result"
    }
   ],
   "source": [
    "months=pd.read_csv('mergedData.csv')\n",
    "months.head(3)"
   ]
  },
  {
   "cell_type": "code",
   "execution_count": 4,
   "metadata": {},
   "outputs": [
    {
     "data": {
      "text/html": [
       "<div>\n",
       "<style scoped>\n",
       "    .dataframe tbody tr th:only-of-type {\n",
       "        vertical-align: middle;\n",
       "    }\n",
       "\n",
       "    .dataframe tbody tr th {\n",
       "        vertical-align: top;\n",
       "    }\n",
       "\n",
       "    .dataframe thead th {\n",
       "        text-align: right;\n",
       "    }\n",
       "</style>\n",
       "<table border=\"1\" class=\"dataframe\">\n",
       "  <thead>\n",
       "    <tr style=\"text-align: right;\">\n",
       "      <th></th>\n",
       "      <th>Order ID</th>\n",
       "      <th>Product</th>\n",
       "      <th>Quantity Ordered</th>\n",
       "      <th>Price Each</th>\n",
       "      <th>Order Date</th>\n",
       "      <th>Purchase Address</th>\n",
       "    </tr>\n",
       "  </thead>\n",
       "  <tbody>\n",
       "    <tr>\n",
       "      <td>0</td>\n",
       "      <td>295665</td>\n",
       "      <td>Macbook Pro Laptop</td>\n",
       "      <td>1</td>\n",
       "      <td>1700</td>\n",
       "      <td>12/30/19 00:01</td>\n",
       "      <td>136 Church St, New York City, NY 10001</td>\n",
       "    </tr>\n",
       "    <tr>\n",
       "      <td>1</td>\n",
       "      <td>295666</td>\n",
       "      <td>LG Washing Machine</td>\n",
       "      <td>1</td>\n",
       "      <td>600.0</td>\n",
       "      <td>12/29/19 07:03</td>\n",
       "      <td>562 2nd St, New York City, NY 10001</td>\n",
       "    </tr>\n",
       "    <tr>\n",
       "      <td>2</td>\n",
       "      <td>295667</td>\n",
       "      <td>USB-C Charging Cable</td>\n",
       "      <td>1</td>\n",
       "      <td>11.95</td>\n",
       "      <td>12/12/19 18:21</td>\n",
       "      <td>277 Main St, New York City, NY 10001</td>\n",
       "    </tr>\n",
       "  </tbody>\n",
       "</table>\n",
       "</div>"
      ],
      "text/plain": [
       "  Order ID               Product Quantity Ordered Price Each      Order Date  \\\n",
       "0   295665    Macbook Pro Laptop                1       1700  12/30/19 00:01   \n",
       "1   295666    LG Washing Machine                1      600.0  12/29/19 07:03   \n",
       "2   295667  USB-C Charging Cable                1      11.95  12/12/19 18:21   \n",
       "\n",
       "                         Purchase Address  \n",
       "0  136 Church St, New York City, NY 10001  \n",
       "1     562 2nd St, New York City, NY 10001  \n",
       "2    277 Main St, New York City, NY 10001  "
      ]
     },
     "execution_count": 4,
     "metadata": {},
     "output_type": "execute_result"
    }
   ],
   "source": [
    "months.head(3)"
   ]
  },
  {
   "cell_type": "code",
   "execution_count": 5,
   "metadata": {},
   "outputs": [
    {
     "data": {
      "text/plain": [
       "(186850, 6)"
      ]
     },
     "execution_count": 5,
     "metadata": {},
     "output_type": "execute_result"
    }
   ],
   "source": [
    "months.shape"
   ]
  },
  {
   "cell_type": "markdown",
   "metadata": {},
   "source": [
    "# Data cleaning"
   ]
  },
  {
   "cell_type": "code",
   "execution_count": 6,
   "metadata": {},
   "outputs": [
    {
     "data": {
      "text/html": [
       "<div>\n",
       "<style scoped>\n",
       "    .dataframe tbody tr th:only-of-type {\n",
       "        vertical-align: middle;\n",
       "    }\n",
       "\n",
       "    .dataframe tbody tr th {\n",
       "        vertical-align: top;\n",
       "    }\n",
       "\n",
       "    .dataframe thead th {\n",
       "        text-align: right;\n",
       "    }\n",
       "</style>\n",
       "<table border=\"1\" class=\"dataframe\">\n",
       "  <thead>\n",
       "    <tr style=\"text-align: right;\">\n",
       "      <th></th>\n",
       "      <th>Order ID</th>\n",
       "      <th>Product</th>\n",
       "      <th>Quantity Ordered</th>\n",
       "      <th>Price Each</th>\n",
       "      <th>Order Date</th>\n",
       "      <th>Purchase Address</th>\n",
       "    </tr>\n",
       "  </thead>\n",
       "  <tbody>\n",
       "    <tr>\n",
       "      <td>264</td>\n",
       "      <td>(missing)</td>\n",
       "      <td>(missing)</td>\n",
       "      <td>(missing)</td>\n",
       "      <td>(missing)</td>\n",
       "      <td>(missing)</td>\n",
       "      <td>(missing)</td>\n",
       "    </tr>\n",
       "    <tr>\n",
       "      <td>648</td>\n",
       "      <td>(missing)</td>\n",
       "      <td>(missing)</td>\n",
       "      <td>(missing)</td>\n",
       "      <td>(missing)</td>\n",
       "      <td>(missing)</td>\n",
       "      <td>(missing)</td>\n",
       "    </tr>\n",
       "    <tr>\n",
       "      <td>680</td>\n",
       "      <td>(missing)</td>\n",
       "      <td>(missing)</td>\n",
       "      <td>(missing)</td>\n",
       "      <td>(missing)</td>\n",
       "      <td>(missing)</td>\n",
       "      <td>(missing)</td>\n",
       "    </tr>\n",
       "    <tr>\n",
       "      <td>1385</td>\n",
       "      <td>(missing)</td>\n",
       "      <td>(missing)</td>\n",
       "      <td>(missing)</td>\n",
       "      <td>(missing)</td>\n",
       "      <td>(missing)</td>\n",
       "      <td>(missing)</td>\n",
       "    </tr>\n",
       "    <tr>\n",
       "      <td>1495</td>\n",
       "      <td>(missing)</td>\n",
       "      <td>(missing)</td>\n",
       "      <td>(missing)</td>\n",
       "      <td>(missing)</td>\n",
       "      <td>(missing)</td>\n",
       "      <td>(missing)</td>\n",
       "    </tr>\n",
       "    <tr>\n",
       "      <td>...</td>\n",
       "      <td>...</td>\n",
       "      <td>...</td>\n",
       "      <td>...</td>\n",
       "      <td>...</td>\n",
       "      <td>...</td>\n",
       "      <td>...</td>\n",
       "    </tr>\n",
       "    <tr>\n",
       "      <td>185795</td>\n",
       "      <td>(missing)</td>\n",
       "      <td>(missing)</td>\n",
       "      <td>(missing)</td>\n",
       "      <td>(missing)</td>\n",
       "      <td>(missing)</td>\n",
       "      <td>(missing)</td>\n",
       "    </tr>\n",
       "    <tr>\n",
       "      <td>185868</td>\n",
       "      <td>(missing)</td>\n",
       "      <td>(missing)</td>\n",
       "      <td>(missing)</td>\n",
       "      <td>(missing)</td>\n",
       "      <td>(missing)</td>\n",
       "      <td>(missing)</td>\n",
       "    </tr>\n",
       "    <tr>\n",
       "      <td>185887</td>\n",
       "      <td>(missing)</td>\n",
       "      <td>(missing)</td>\n",
       "      <td>(missing)</td>\n",
       "      <td>(missing)</td>\n",
       "      <td>(missing)</td>\n",
       "      <td>(missing)</td>\n",
       "    </tr>\n",
       "    <tr>\n",
       "      <td>185960</td>\n",
       "      <td>(missing)</td>\n",
       "      <td>(missing)</td>\n",
       "      <td>(missing)</td>\n",
       "      <td>(missing)</td>\n",
       "      <td>(missing)</td>\n",
       "      <td>(missing)</td>\n",
       "    </tr>\n",
       "    <tr>\n",
       "      <td>186580</td>\n",
       "      <td>(missing)</td>\n",
       "      <td>(missing)</td>\n",
       "      <td>(missing)</td>\n",
       "      <td>(missing)</td>\n",
       "      <td>(missing)</td>\n",
       "      <td>(missing)</td>\n",
       "    </tr>\n",
       "  </tbody>\n",
       "</table>\n",
       "<p>545 rows × 6 columns</p>\n",
       "</div>"
      ],
      "text/plain": [
       "         Order ID    Product Quantity Ordered Price Each Order Date  \\\n",
       "264     (missing)  (missing)        (missing)  (missing)  (missing)   \n",
       "648     (missing)  (missing)        (missing)  (missing)  (missing)   \n",
       "680     (missing)  (missing)        (missing)  (missing)  (missing)   \n",
       "1385    (missing)  (missing)        (missing)  (missing)  (missing)   \n",
       "1495    (missing)  (missing)        (missing)  (missing)  (missing)   \n",
       "...           ...        ...              ...        ...        ...   \n",
       "185795  (missing)  (missing)        (missing)  (missing)  (missing)   \n",
       "185868  (missing)  (missing)        (missing)  (missing)  (missing)   \n",
       "185887  (missing)  (missing)        (missing)  (missing)  (missing)   \n",
       "185960  (missing)  (missing)        (missing)  (missing)  (missing)   \n",
       "186580  (missing)  (missing)        (missing)  (missing)  (missing)   \n",
       "\n",
       "       Purchase Address  \n",
       "264           (missing)  \n",
       "648           (missing)  \n",
       "680           (missing)  \n",
       "1385          (missing)  \n",
       "1495          (missing)  \n",
       "...                 ...  \n",
       "185795        (missing)  \n",
       "185868        (missing)  \n",
       "185887        (missing)  \n",
       "185960        (missing)  \n",
       "186580        (missing)  \n",
       "\n",
       "[545 rows x 6 columns]"
      ]
     },
     "execution_count": 6,
     "metadata": {},
     "output_type": "execute_result"
    }
   ],
   "source": [
    "months.loc[months['Product']=='(missing)']"
   ]
  },
  {
   "cell_type": "code",
   "execution_count": 7,
   "metadata": {},
   "outputs": [],
   "source": [
    "months = months[months['Product'] !='(missing)']"
   ]
  },
  {
   "cell_type": "code",
   "execution_count": 8,
   "metadata": {},
   "outputs": [],
   "source": [
    "months = months[months['Product'] != 'Product']"
   ]
  },
  {
   "cell_type": "code",
   "execution_count": 9,
   "metadata": {},
   "outputs": [
    {
     "data": {
      "text/plain": [
       "(185950, 6)"
      ]
     },
     "execution_count": 9,
     "metadata": {},
     "output_type": "execute_result"
    }
   ],
   "source": [
    "months.shape"
   ]
  },
  {
   "cell_type": "markdown",
   "metadata": {},
   "source": [
    "# Save and load again"
   ]
  },
  {
   "cell_type": "code",
   "execution_count": 10,
   "metadata": {},
   "outputs": [],
   "source": [
    "months.to_csv('mergedData.csv',index = False, na_rep = '(missing)')"
   ]
  },
  {
   "cell_type": "code",
   "execution_count": 11,
   "metadata": {},
   "outputs": [
    {
     "data": {
      "text/html": [
       "<div>\n",
       "<style scoped>\n",
       "    .dataframe tbody tr th:only-of-type {\n",
       "        vertical-align: middle;\n",
       "    }\n",
       "\n",
       "    .dataframe tbody tr th {\n",
       "        vertical-align: top;\n",
       "    }\n",
       "\n",
       "    .dataframe thead th {\n",
       "        text-align: right;\n",
       "    }\n",
       "</style>\n",
       "<table border=\"1\" class=\"dataframe\">\n",
       "  <thead>\n",
       "    <tr style=\"text-align: right;\">\n",
       "      <th></th>\n",
       "      <th>Order ID</th>\n",
       "      <th>Product</th>\n",
       "      <th>Quantity Ordered</th>\n",
       "      <th>Price Each</th>\n",
       "      <th>Order Date</th>\n",
       "      <th>Purchase Address</th>\n",
       "    </tr>\n",
       "  </thead>\n",
       "  <tbody>\n",
       "    <tr>\n",
       "      <td>0</td>\n",
       "      <td>295665</td>\n",
       "      <td>Macbook Pro Laptop</td>\n",
       "      <td>1</td>\n",
       "      <td>1700.00</td>\n",
       "      <td>12/30/19 00:01</td>\n",
       "      <td>136 Church St, New York City, NY 10001</td>\n",
       "    </tr>\n",
       "    <tr>\n",
       "      <td>1</td>\n",
       "      <td>295666</td>\n",
       "      <td>LG Washing Machine</td>\n",
       "      <td>1</td>\n",
       "      <td>600.00</td>\n",
       "      <td>12/29/19 07:03</td>\n",
       "      <td>562 2nd St, New York City, NY 10001</td>\n",
       "    </tr>\n",
       "    <tr>\n",
       "      <td>2</td>\n",
       "      <td>295667</td>\n",
       "      <td>USB-C Charging Cable</td>\n",
       "      <td>1</td>\n",
       "      <td>11.95</td>\n",
       "      <td>12/12/19 18:21</td>\n",
       "      <td>277 Main St, New York City, NY 10001</td>\n",
       "    </tr>\n",
       "  </tbody>\n",
       "</table>\n",
       "</div>"
      ],
      "text/plain": [
       "   Order ID               Product  Quantity Ordered  Price Each  \\\n",
       "0    295665    Macbook Pro Laptop                 1     1700.00   \n",
       "1    295666    LG Washing Machine                 1      600.00   \n",
       "2    295667  USB-C Charging Cable                 1       11.95   \n",
       "\n",
       "       Order Date                        Purchase Address  \n",
       "0  12/30/19 00:01  136 Church St, New York City, NY 10001  \n",
       "1  12/29/19 07:03     562 2nd St, New York City, NY 10001  \n",
       "2  12/12/19 18:21    277 Main St, New York City, NY 10001  "
      ]
     },
     "execution_count": 11,
     "metadata": {},
     "output_type": "execute_result"
    }
   ],
   "source": [
    "months = pd.read_csv('mergedData.csv')\n",
    "months.head(3)"
   ]
  },
  {
   "cell_type": "markdown",
   "metadata": {},
   "source": [
    "# Reorganizing the data"
   ]
  },
  {
   "cell_type": "code",
   "execution_count": 12,
   "metadata": {},
   "outputs": [
    {
     "data": {
      "text/plain": [
       "Order ID              int64\n",
       "Product              object\n",
       "Quantity Ordered      int64\n",
       "Price Each          float64\n",
       "Order Date           object\n",
       "Purchase Address     object\n",
       "dtype: object"
      ]
     },
     "execution_count": 12,
     "metadata": {},
     "output_type": "execute_result"
    }
   ],
   "source": [
    "months.dtypes"
   ]
  },
  {
   "cell_type": "code",
   "execution_count": 13,
   "metadata": {},
   "outputs": [
    {
     "data": {
      "text/html": [
       "<div>\n",
       "<style scoped>\n",
       "    .dataframe tbody tr th:only-of-type {\n",
       "        vertical-align: middle;\n",
       "    }\n",
       "\n",
       "    .dataframe tbody tr th {\n",
       "        vertical-align: top;\n",
       "    }\n",
       "\n",
       "    .dataframe thead th {\n",
       "        text-align: right;\n",
       "    }\n",
       "</style>\n",
       "<table border=\"1\" class=\"dataframe\">\n",
       "  <thead>\n",
       "    <tr style=\"text-align: right;\">\n",
       "      <th></th>\n",
       "      <th>Order ID</th>\n",
       "      <th>Product</th>\n",
       "      <th>Quantity Ordered</th>\n",
       "      <th>Price Each</th>\n",
       "      <th>Order Date</th>\n",
       "      <th>Purchase Address</th>\n",
       "      <th>Hour</th>\n",
       "    </tr>\n",
       "  </thead>\n",
       "  <tbody>\n",
       "    <tr>\n",
       "      <td>0</td>\n",
       "      <td>295665</td>\n",
       "      <td>Macbook Pro Laptop</td>\n",
       "      <td>1</td>\n",
       "      <td>1700.00</td>\n",
       "      <td>12/30/19 00:01</td>\n",
       "      <td>136 Church St, New York City, NY 10001</td>\n",
       "      <td>00:01</td>\n",
       "    </tr>\n",
       "    <tr>\n",
       "      <td>1</td>\n",
       "      <td>295666</td>\n",
       "      <td>LG Washing Machine</td>\n",
       "      <td>1</td>\n",
       "      <td>600.00</td>\n",
       "      <td>12/29/19 07:03</td>\n",
       "      <td>562 2nd St, New York City, NY 10001</td>\n",
       "      <td>07:03</td>\n",
       "    </tr>\n",
       "    <tr>\n",
       "      <td>2</td>\n",
       "      <td>295667</td>\n",
       "      <td>USB-C Charging Cable</td>\n",
       "      <td>1</td>\n",
       "      <td>11.95</td>\n",
       "      <td>12/12/19 18:21</td>\n",
       "      <td>277 Main St, New York City, NY 10001</td>\n",
       "      <td>18:21</td>\n",
       "    </tr>\n",
       "  </tbody>\n",
       "</table>\n",
       "</div>"
      ],
      "text/plain": [
       "   Order ID               Product  Quantity Ordered  Price Each  \\\n",
       "0    295665    Macbook Pro Laptop                 1     1700.00   \n",
       "1    295666    LG Washing Machine                 1      600.00   \n",
       "2    295667  USB-C Charging Cable                 1       11.95   \n",
       "\n",
       "       Order Date                        Purchase Address   Hour  \n",
       "0  12/30/19 00:01  136 Church St, New York City, NY 10001  00:01  \n",
       "1  12/29/19 07:03     562 2nd St, New York City, NY 10001  07:03  \n",
       "2  12/12/19 18:21    277 Main St, New York City, NY 10001  18:21  "
      ]
     },
     "execution_count": 13,
     "metadata": {},
     "output_type": "execute_result"
    }
   ],
   "source": [
    "months['Hour'] = months['Order Date'].str[9:14]\n",
    "months['Hour'] = months['Hour'].astype('str')\n",
    "months.head(3)"
   ]
  },
  {
   "cell_type": "code",
   "execution_count": 14,
   "metadata": {},
   "outputs": [
    {
     "data": {
      "text/html": [
       "<div>\n",
       "<style scoped>\n",
       "    .dataframe tbody tr th:only-of-type {\n",
       "        vertical-align: middle;\n",
       "    }\n",
       "\n",
       "    .dataframe tbody tr th {\n",
       "        vertical-align: top;\n",
       "    }\n",
       "\n",
       "    .dataframe thead th {\n",
       "        text-align: right;\n",
       "    }\n",
       "</style>\n",
       "<table border=\"1\" class=\"dataframe\">\n",
       "  <thead>\n",
       "    <tr style=\"text-align: right;\">\n",
       "      <th></th>\n",
       "      <th>Order ID</th>\n",
       "      <th>Product</th>\n",
       "      <th>Quantity Ordered</th>\n",
       "      <th>Price Each</th>\n",
       "      <th>Order Date</th>\n",
       "      <th>Purchase Address</th>\n",
       "      <th>Hour</th>\n",
       "      <th>Day</th>\n",
       "    </tr>\n",
       "  </thead>\n",
       "  <tbody>\n",
       "    <tr>\n",
       "      <td>0</td>\n",
       "      <td>295665</td>\n",
       "      <td>Macbook Pro Laptop</td>\n",
       "      <td>1</td>\n",
       "      <td>1700.00</td>\n",
       "      <td>12/30/19 00:01</td>\n",
       "      <td>136 Church St, New York City, NY 10001</td>\n",
       "      <td>00:01</td>\n",
       "      <td>30</td>\n",
       "    </tr>\n",
       "    <tr>\n",
       "      <td>1</td>\n",
       "      <td>295666</td>\n",
       "      <td>LG Washing Machine</td>\n",
       "      <td>1</td>\n",
       "      <td>600.00</td>\n",
       "      <td>12/29/19 07:03</td>\n",
       "      <td>562 2nd St, New York City, NY 10001</td>\n",
       "      <td>07:03</td>\n",
       "      <td>29</td>\n",
       "    </tr>\n",
       "    <tr>\n",
       "      <td>2</td>\n",
       "      <td>295667</td>\n",
       "      <td>USB-C Charging Cable</td>\n",
       "      <td>1</td>\n",
       "      <td>11.95</td>\n",
       "      <td>12/12/19 18:21</td>\n",
       "      <td>277 Main St, New York City, NY 10001</td>\n",
       "      <td>18:21</td>\n",
       "      <td>12</td>\n",
       "    </tr>\n",
       "  </tbody>\n",
       "</table>\n",
       "</div>"
      ],
      "text/plain": [
       "   Order ID               Product  Quantity Ordered  Price Each  \\\n",
       "0    295665    Macbook Pro Laptop                 1     1700.00   \n",
       "1    295666    LG Washing Machine                 1      600.00   \n",
       "2    295667  USB-C Charging Cable                 1       11.95   \n",
       "\n",
       "       Order Date                        Purchase Address   Hour  Day  \n",
       "0  12/30/19 00:01  136 Church St, New York City, NY 10001  00:01   30  \n",
       "1  12/29/19 07:03     562 2nd St, New York City, NY 10001  07:03   29  \n",
       "2  12/12/19 18:21    277 Main St, New York City, NY 10001  18:21   12  "
      ]
     },
     "execution_count": 14,
     "metadata": {},
     "output_type": "execute_result"
    }
   ],
   "source": [
    "months['Day'] = months['Order Date'].str[3:5]\n",
    "months['Day'] = months['Day'].astype('int32')\n",
    "months.head(3)"
   ]
  },
  {
   "cell_type": "code",
   "execution_count": 15,
   "metadata": {},
   "outputs": [
    {
     "data": {
      "text/html": [
       "<div>\n",
       "<style scoped>\n",
       "    .dataframe tbody tr th:only-of-type {\n",
       "        vertical-align: middle;\n",
       "    }\n",
       "\n",
       "    .dataframe tbody tr th {\n",
       "        vertical-align: top;\n",
       "    }\n",
       "\n",
       "    .dataframe thead th {\n",
       "        text-align: right;\n",
       "    }\n",
       "</style>\n",
       "<table border=\"1\" class=\"dataframe\">\n",
       "  <thead>\n",
       "    <tr style=\"text-align: right;\">\n",
       "      <th></th>\n",
       "      <th>Order ID</th>\n",
       "      <th>Product</th>\n",
       "      <th>Quantity Ordered</th>\n",
       "      <th>Price Each</th>\n",
       "      <th>Order Date</th>\n",
       "      <th>Purchase Address</th>\n",
       "      <th>Hour</th>\n",
       "      <th>Day</th>\n",
       "      <th>Month</th>\n",
       "    </tr>\n",
       "  </thead>\n",
       "  <tbody>\n",
       "    <tr>\n",
       "      <td>0</td>\n",
       "      <td>295665</td>\n",
       "      <td>Macbook Pro Laptop</td>\n",
       "      <td>1</td>\n",
       "      <td>1700.00</td>\n",
       "      <td>12/30/19 00:01</td>\n",
       "      <td>136 Church St, New York City, NY 10001</td>\n",
       "      <td>00:01</td>\n",
       "      <td>30</td>\n",
       "      <td>12</td>\n",
       "    </tr>\n",
       "    <tr>\n",
       "      <td>1</td>\n",
       "      <td>295666</td>\n",
       "      <td>LG Washing Machine</td>\n",
       "      <td>1</td>\n",
       "      <td>600.00</td>\n",
       "      <td>12/29/19 07:03</td>\n",
       "      <td>562 2nd St, New York City, NY 10001</td>\n",
       "      <td>07:03</td>\n",
       "      <td>29</td>\n",
       "      <td>12</td>\n",
       "    </tr>\n",
       "    <tr>\n",
       "      <td>2</td>\n",
       "      <td>295667</td>\n",
       "      <td>USB-C Charging Cable</td>\n",
       "      <td>1</td>\n",
       "      <td>11.95</td>\n",
       "      <td>12/12/19 18:21</td>\n",
       "      <td>277 Main St, New York City, NY 10001</td>\n",
       "      <td>18:21</td>\n",
       "      <td>12</td>\n",
       "      <td>12</td>\n",
       "    </tr>\n",
       "  </tbody>\n",
       "</table>\n",
       "</div>"
      ],
      "text/plain": [
       "   Order ID               Product  Quantity Ordered  Price Each  \\\n",
       "0    295665    Macbook Pro Laptop                 1     1700.00   \n",
       "1    295666    LG Washing Machine                 1      600.00   \n",
       "2    295667  USB-C Charging Cable                 1       11.95   \n",
       "\n",
       "       Order Date                        Purchase Address   Hour  Day  Month  \n",
       "0  12/30/19 00:01  136 Church St, New York City, NY 10001  00:01   30     12  \n",
       "1  12/29/19 07:03     562 2nd St, New York City, NY 10001  07:03   29     12  \n",
       "2  12/12/19 18:21    277 Main St, New York City, NY 10001  18:21   12     12  "
      ]
     },
     "execution_count": 15,
     "metadata": {},
     "output_type": "execute_result"
    }
   ],
   "source": [
    "months['Month'] = months['Order Date'].str[:2]\n",
    "months['Month'] = months['Month'].astype('int32')\n",
    "months.head(3)"
   ]
  },
  {
   "cell_type": "code",
   "execution_count": 16,
   "metadata": {},
   "outputs": [
    {
     "data": {
      "text/html": [
       "<div>\n",
       "<style scoped>\n",
       "    .dataframe tbody tr th:only-of-type {\n",
       "        vertical-align: middle;\n",
       "    }\n",
       "\n",
       "    .dataframe tbody tr th {\n",
       "        vertical-align: top;\n",
       "    }\n",
       "\n",
       "    .dataframe thead th {\n",
       "        text-align: right;\n",
       "    }\n",
       "</style>\n",
       "<table border=\"1\" class=\"dataframe\">\n",
       "  <thead>\n",
       "    <tr style=\"text-align: right;\">\n",
       "      <th></th>\n",
       "      <th>Order ID</th>\n",
       "      <th>Product</th>\n",
       "      <th>Quantity Ordered</th>\n",
       "      <th>Price Each</th>\n",
       "      <th>Order Date</th>\n",
       "      <th>Purchase Address</th>\n",
       "      <th>Hour</th>\n",
       "      <th>Day</th>\n",
       "      <th>Month</th>\n",
       "      <th>Year</th>\n",
       "    </tr>\n",
       "  </thead>\n",
       "  <tbody>\n",
       "    <tr>\n",
       "      <td>0</td>\n",
       "      <td>295665</td>\n",
       "      <td>Macbook Pro Laptop</td>\n",
       "      <td>1</td>\n",
       "      <td>1700.00</td>\n",
       "      <td>12/30/19 00:01</td>\n",
       "      <td>136 Church St, New York City, NY 10001</td>\n",
       "      <td>00:01</td>\n",
       "      <td>30</td>\n",
       "      <td>12</td>\n",
       "      <td>19</td>\n",
       "    </tr>\n",
       "    <tr>\n",
       "      <td>1</td>\n",
       "      <td>295666</td>\n",
       "      <td>LG Washing Machine</td>\n",
       "      <td>1</td>\n",
       "      <td>600.00</td>\n",
       "      <td>12/29/19 07:03</td>\n",
       "      <td>562 2nd St, New York City, NY 10001</td>\n",
       "      <td>07:03</td>\n",
       "      <td>29</td>\n",
       "      <td>12</td>\n",
       "      <td>19</td>\n",
       "    </tr>\n",
       "    <tr>\n",
       "      <td>2</td>\n",
       "      <td>295667</td>\n",
       "      <td>USB-C Charging Cable</td>\n",
       "      <td>1</td>\n",
       "      <td>11.95</td>\n",
       "      <td>12/12/19 18:21</td>\n",
       "      <td>277 Main St, New York City, NY 10001</td>\n",
       "      <td>18:21</td>\n",
       "      <td>12</td>\n",
       "      <td>12</td>\n",
       "      <td>19</td>\n",
       "    </tr>\n",
       "  </tbody>\n",
       "</table>\n",
       "</div>"
      ],
      "text/plain": [
       "   Order ID               Product  Quantity Ordered  Price Each  \\\n",
       "0    295665    Macbook Pro Laptop                 1     1700.00   \n",
       "1    295666    LG Washing Machine                 1      600.00   \n",
       "2    295667  USB-C Charging Cable                 1       11.95   \n",
       "\n",
       "       Order Date                        Purchase Address   Hour  Day  Month  \\\n",
       "0  12/30/19 00:01  136 Church St, New York City, NY 10001  00:01   30     12   \n",
       "1  12/29/19 07:03     562 2nd St, New York City, NY 10001  07:03   29     12   \n",
       "2  12/12/19 18:21    277 Main St, New York City, NY 10001  18:21   12     12   \n",
       "\n",
       "   Year  \n",
       "0    19  \n",
       "1    19  \n",
       "2    19  "
      ]
     },
     "execution_count": 16,
     "metadata": {},
     "output_type": "execute_result"
    }
   ],
   "source": [
    "months['Year'] = months['Order Date'].str[6:8]\n",
    "months['Year'] = months['Year'].astype('int32')\n",
    "months.head(3)"
   ]
  },
  {
   "cell_type": "code",
   "execution_count": 17,
   "metadata": {},
   "outputs": [],
   "source": [
    "months['Order Date'] = pd.to_datetime(months['Order Date'])"
   ]
  },
  {
   "cell_type": "code",
   "execution_count": 18,
   "metadata": {},
   "outputs": [
    {
     "data": {
      "text/plain": [
       "Order ID                     int64\n",
       "Product                     object\n",
       "Quantity Ordered             int64\n",
       "Price Each                 float64\n",
       "Order Date          datetime64[ns]\n",
       "Purchase Address            object\n",
       "Hour                        object\n",
       "Day                          int32\n",
       "Month                        int32\n",
       "Year                         int32\n",
       "dtype: object"
      ]
     },
     "execution_count": 18,
     "metadata": {},
     "output_type": "execute_result"
    }
   ],
   "source": [
    "months.dtypes"
   ]
  },
  {
   "cell_type": "code",
   "execution_count": 19,
   "metadata": {},
   "outputs": [],
   "source": [
    "months[['Street', 'City', 'Zip']] = months['Purchase Address'].str.split(',', expand=True)"
   ]
  },
  {
   "cell_type": "code",
   "execution_count": 20,
   "metadata": {},
   "outputs": [
    {
     "data": {
      "text/plain": [
       "['136', 'Church', 'St,', 'New', 'York', 'City,', 'NY', '10001']"
      ]
     },
     "execution_count": 20,
     "metadata": {},
     "output_type": "execute_result"
    }
   ],
   "source": [
    "address = months['Purchase Address']\n",
    "address.values[0].split(' ')"
   ]
  },
  {
   "cell_type": "code",
   "execution_count": 21,
   "metadata": {},
   "outputs": [],
   "source": [
    "months = months.drop(columns=['Purchase Address'])"
   ]
  },
  {
   "cell_type": "code",
   "execution_count": 22,
   "metadata": {},
   "outputs": [
    {
     "data": {
      "text/html": [
       "<div>\n",
       "<style scoped>\n",
       "    .dataframe tbody tr th:only-of-type {\n",
       "        vertical-align: middle;\n",
       "    }\n",
       "\n",
       "    .dataframe tbody tr th {\n",
       "        vertical-align: top;\n",
       "    }\n",
       "\n",
       "    .dataframe thead th {\n",
       "        text-align: right;\n",
       "    }\n",
       "</style>\n",
       "<table border=\"1\" class=\"dataframe\">\n",
       "  <thead>\n",
       "    <tr style=\"text-align: right;\">\n",
       "      <th></th>\n",
       "      <th>Order ID</th>\n",
       "      <th>Product</th>\n",
       "      <th>Quantity Ordered</th>\n",
       "      <th>Price Each</th>\n",
       "      <th>Order Date</th>\n",
       "      <th>Hour</th>\n",
       "      <th>Day</th>\n",
       "      <th>Month</th>\n",
       "      <th>Year</th>\n",
       "      <th>Street</th>\n",
       "      <th>City</th>\n",
       "      <th>Zip</th>\n",
       "      <th>State</th>\n",
       "    </tr>\n",
       "  </thead>\n",
       "  <tbody>\n",
       "    <tr>\n",
       "      <td>0</td>\n",
       "      <td>295665</td>\n",
       "      <td>Macbook Pro Laptop</td>\n",
       "      <td>1</td>\n",
       "      <td>1700.00</td>\n",
       "      <td>2019-12-30 00:01:00</td>\n",
       "      <td>00:01</td>\n",
       "      <td>30</td>\n",
       "      <td>12</td>\n",
       "      <td>19</td>\n",
       "      <td>136 Church St</td>\n",
       "      <td>New York City</td>\n",
       "      <td>NY 10001</td>\n",
       "      <td>NY</td>\n",
       "    </tr>\n",
       "    <tr>\n",
       "      <td>1</td>\n",
       "      <td>295666</td>\n",
       "      <td>LG Washing Machine</td>\n",
       "      <td>1</td>\n",
       "      <td>600.00</td>\n",
       "      <td>2019-12-29 07:03:00</td>\n",
       "      <td>07:03</td>\n",
       "      <td>29</td>\n",
       "      <td>12</td>\n",
       "      <td>19</td>\n",
       "      <td>562 2nd St</td>\n",
       "      <td>New York City</td>\n",
       "      <td>NY 10001</td>\n",
       "      <td>NY</td>\n",
       "    </tr>\n",
       "    <tr>\n",
       "      <td>2</td>\n",
       "      <td>295667</td>\n",
       "      <td>USB-C Charging Cable</td>\n",
       "      <td>1</td>\n",
       "      <td>11.95</td>\n",
       "      <td>2019-12-12 18:21:00</td>\n",
       "      <td>18:21</td>\n",
       "      <td>12</td>\n",
       "      <td>12</td>\n",
       "      <td>19</td>\n",
       "      <td>277 Main St</td>\n",
       "      <td>New York City</td>\n",
       "      <td>NY 10001</td>\n",
       "      <td>NY</td>\n",
       "    </tr>\n",
       "  </tbody>\n",
       "</table>\n",
       "</div>"
      ],
      "text/plain": [
       "   Order ID               Product  Quantity Ordered  Price Each  \\\n",
       "0    295665    Macbook Pro Laptop                 1     1700.00   \n",
       "1    295666    LG Washing Machine                 1      600.00   \n",
       "2    295667  USB-C Charging Cable                 1       11.95   \n",
       "\n",
       "           Order Date   Hour  Day  Month  Year         Street            City  \\\n",
       "0 2019-12-30 00:01:00  00:01   30     12    19  136 Church St   New York City   \n",
       "1 2019-12-29 07:03:00  07:03   29     12    19     562 2nd St   New York City   \n",
       "2 2019-12-12 18:21:00  18:21   12     12    19    277 Main St   New York City   \n",
       "\n",
       "         Zip State  \n",
       "0   NY 10001    NY  \n",
       "1   NY 10001    NY  \n",
       "2   NY 10001    NY  "
      ]
     },
     "execution_count": 22,
     "metadata": {},
     "output_type": "execute_result"
    }
   ],
   "source": [
    "months['State'] = months['Zip'].str[:3]\n",
    "months['State'] = months['State'].astype('str')\n",
    "months.head(3)"
   ]
  },
  {
   "cell_type": "code",
   "execution_count": 23,
   "metadata": {},
   "outputs": [
    {
     "data": {
      "text/html": [
       "<div>\n",
       "<style scoped>\n",
       "    .dataframe tbody tr th:only-of-type {\n",
       "        vertical-align: middle;\n",
       "    }\n",
       "\n",
       "    .dataframe tbody tr th {\n",
       "        vertical-align: top;\n",
       "    }\n",
       "\n",
       "    .dataframe thead th {\n",
       "        text-align: right;\n",
       "    }\n",
       "</style>\n",
       "<table border=\"1\" class=\"dataframe\">\n",
       "  <thead>\n",
       "    <tr style=\"text-align: right;\">\n",
       "      <th></th>\n",
       "      <th>Order ID</th>\n",
       "      <th>Product</th>\n",
       "      <th>Quantity Ordered</th>\n",
       "      <th>Price Each</th>\n",
       "      <th>Order Date</th>\n",
       "      <th>Hour</th>\n",
       "      <th>Day</th>\n",
       "      <th>Month</th>\n",
       "      <th>Year</th>\n",
       "      <th>Street</th>\n",
       "      <th>City</th>\n",
       "      <th>Zip</th>\n",
       "      <th>State</th>\n",
       "      <th>ZipCode</th>\n",
       "    </tr>\n",
       "  </thead>\n",
       "  <tbody>\n",
       "    <tr>\n",
       "      <td>0</td>\n",
       "      <td>295665</td>\n",
       "      <td>Macbook Pro Laptop</td>\n",
       "      <td>1</td>\n",
       "      <td>1700.00</td>\n",
       "      <td>2019-12-30 00:01:00</td>\n",
       "      <td>00:01</td>\n",
       "      <td>30</td>\n",
       "      <td>12</td>\n",
       "      <td>19</td>\n",
       "      <td>136 Church St</td>\n",
       "      <td>New York City</td>\n",
       "      <td>NY 10001</td>\n",
       "      <td>NY</td>\n",
       "      <td>1000</td>\n",
       "    </tr>\n",
       "    <tr>\n",
       "      <td>1</td>\n",
       "      <td>295666</td>\n",
       "      <td>LG Washing Machine</td>\n",
       "      <td>1</td>\n",
       "      <td>600.00</td>\n",
       "      <td>2019-12-29 07:03:00</td>\n",
       "      <td>07:03</td>\n",
       "      <td>29</td>\n",
       "      <td>12</td>\n",
       "      <td>19</td>\n",
       "      <td>562 2nd St</td>\n",
       "      <td>New York City</td>\n",
       "      <td>NY 10001</td>\n",
       "      <td>NY</td>\n",
       "      <td>1000</td>\n",
       "    </tr>\n",
       "    <tr>\n",
       "      <td>2</td>\n",
       "      <td>295667</td>\n",
       "      <td>USB-C Charging Cable</td>\n",
       "      <td>1</td>\n",
       "      <td>11.95</td>\n",
       "      <td>2019-12-12 18:21:00</td>\n",
       "      <td>18:21</td>\n",
       "      <td>12</td>\n",
       "      <td>12</td>\n",
       "      <td>19</td>\n",
       "      <td>277 Main St</td>\n",
       "      <td>New York City</td>\n",
       "      <td>NY 10001</td>\n",
       "      <td>NY</td>\n",
       "      <td>1000</td>\n",
       "    </tr>\n",
       "  </tbody>\n",
       "</table>\n",
       "</div>"
      ],
      "text/plain": [
       "   Order ID               Product  Quantity Ordered  Price Each  \\\n",
       "0    295665    Macbook Pro Laptop                 1     1700.00   \n",
       "1    295666    LG Washing Machine                 1      600.00   \n",
       "2    295667  USB-C Charging Cable                 1       11.95   \n",
       "\n",
       "           Order Date   Hour  Day  Month  Year         Street            City  \\\n",
       "0 2019-12-30 00:01:00  00:01   30     12    19  136 Church St   New York City   \n",
       "1 2019-12-29 07:03:00  07:03   29     12    19     562 2nd St   New York City   \n",
       "2 2019-12-12 18:21:00  18:21   12     12    19    277 Main St   New York City   \n",
       "\n",
       "         Zip State  ZipCode  \n",
       "0   NY 10001    NY     1000  \n",
       "1   NY 10001    NY     1000  \n",
       "2   NY 10001    NY     1000  "
      ]
     },
     "execution_count": 23,
     "metadata": {},
     "output_type": "execute_result"
    }
   ],
   "source": [
    "months['ZipCode'] = months['Zip'].str[3:8]\n",
    "months['ZipCode'] = months['ZipCode'].astype('int32')\n",
    "months.head(3)"
   ]
  },
  {
   "cell_type": "code",
   "execution_count": 24,
   "metadata": {},
   "outputs": [
    {
     "data": {
      "text/html": [
       "<div>\n",
       "<style scoped>\n",
       "    .dataframe tbody tr th:only-of-type {\n",
       "        vertical-align: middle;\n",
       "    }\n",
       "\n",
       "    .dataframe tbody tr th {\n",
       "        vertical-align: top;\n",
       "    }\n",
       "\n",
       "    .dataframe thead th {\n",
       "        text-align: right;\n",
       "    }\n",
       "</style>\n",
       "<table border=\"1\" class=\"dataframe\">\n",
       "  <thead>\n",
       "    <tr style=\"text-align: right;\">\n",
       "      <th></th>\n",
       "      <th>Order ID</th>\n",
       "      <th>Product</th>\n",
       "      <th>Quantity Ordered</th>\n",
       "      <th>Price Each</th>\n",
       "      <th>Order Date</th>\n",
       "      <th>Hour</th>\n",
       "      <th>Day</th>\n",
       "      <th>Month</th>\n",
       "      <th>Year</th>\n",
       "      <th>Street</th>\n",
       "      <th>City</th>\n",
       "      <th>Zip</th>\n",
       "      <th>State</th>\n",
       "      <th>ZipCode</th>\n",
       "      <th>Sales</th>\n",
       "    </tr>\n",
       "  </thead>\n",
       "  <tbody>\n",
       "    <tr>\n",
       "      <td>0</td>\n",
       "      <td>295665</td>\n",
       "      <td>Macbook Pro Laptop</td>\n",
       "      <td>1</td>\n",
       "      <td>1700.00</td>\n",
       "      <td>2019-12-30 00:01:00</td>\n",
       "      <td>00:01</td>\n",
       "      <td>30</td>\n",
       "      <td>12</td>\n",
       "      <td>19</td>\n",
       "      <td>136 Church St</td>\n",
       "      <td>New York City</td>\n",
       "      <td>NY 10001</td>\n",
       "      <td>NY</td>\n",
       "      <td>1000</td>\n",
       "      <td>1700.00</td>\n",
       "    </tr>\n",
       "    <tr>\n",
       "      <td>1</td>\n",
       "      <td>295666</td>\n",
       "      <td>LG Washing Machine</td>\n",
       "      <td>1</td>\n",
       "      <td>600.00</td>\n",
       "      <td>2019-12-29 07:03:00</td>\n",
       "      <td>07:03</td>\n",
       "      <td>29</td>\n",
       "      <td>12</td>\n",
       "      <td>19</td>\n",
       "      <td>562 2nd St</td>\n",
       "      <td>New York City</td>\n",
       "      <td>NY 10001</td>\n",
       "      <td>NY</td>\n",
       "      <td>1000</td>\n",
       "      <td>600.00</td>\n",
       "    </tr>\n",
       "    <tr>\n",
       "      <td>2</td>\n",
       "      <td>295667</td>\n",
       "      <td>USB-C Charging Cable</td>\n",
       "      <td>1</td>\n",
       "      <td>11.95</td>\n",
       "      <td>2019-12-12 18:21:00</td>\n",
       "      <td>18:21</td>\n",
       "      <td>12</td>\n",
       "      <td>12</td>\n",
       "      <td>19</td>\n",
       "      <td>277 Main St</td>\n",
       "      <td>New York City</td>\n",
       "      <td>NY 10001</td>\n",
       "      <td>NY</td>\n",
       "      <td>1000</td>\n",
       "      <td>11.95</td>\n",
       "    </tr>\n",
       "  </tbody>\n",
       "</table>\n",
       "</div>"
      ],
      "text/plain": [
       "   Order ID               Product  Quantity Ordered  Price Each  \\\n",
       "0    295665    Macbook Pro Laptop                 1     1700.00   \n",
       "1    295666    LG Washing Machine                 1      600.00   \n",
       "2    295667  USB-C Charging Cable                 1       11.95   \n",
       "\n",
       "           Order Date   Hour  Day  Month  Year         Street            City  \\\n",
       "0 2019-12-30 00:01:00  00:01   30     12    19  136 Church St   New York City   \n",
       "1 2019-12-29 07:03:00  07:03   29     12    19     562 2nd St   New York City   \n",
       "2 2019-12-12 18:21:00  18:21   12     12    19    277 Main St   New York City   \n",
       "\n",
       "         Zip State  ZipCode    Sales  \n",
       "0   NY 10001    NY     1000  1700.00  \n",
       "1   NY 10001    NY     1000   600.00  \n",
       "2   NY 10001    NY     1000    11.95  "
      ]
     },
     "execution_count": 24,
     "metadata": {},
     "output_type": "execute_result"
    }
   ],
   "source": [
    "months['Sales'] = months['Price Each'] * months['Quantity Ordered']\n",
    "months.head(3)"
   ]
  },
  {
   "cell_type": "code",
   "execution_count": 25,
   "metadata": {},
   "outputs": [],
   "source": [
    "months = months.drop(columns = ['Order Date'])"
   ]
  },
  {
   "cell_type": "code",
   "execution_count": 26,
   "metadata": {},
   "outputs": [],
   "source": [
    "months = months.drop(columns = ['Zip'])"
   ]
  },
  {
   "cell_type": "code",
   "execution_count": 27,
   "metadata": {},
   "outputs": [
    {
     "data": {
      "text/html": [
       "<div>\n",
       "<style scoped>\n",
       "    .dataframe tbody tr th:only-of-type {\n",
       "        vertical-align: middle;\n",
       "    }\n",
       "\n",
       "    .dataframe tbody tr th {\n",
       "        vertical-align: top;\n",
       "    }\n",
       "\n",
       "    .dataframe thead th {\n",
       "        text-align: right;\n",
       "    }\n",
       "</style>\n",
       "<table border=\"1\" class=\"dataframe\">\n",
       "  <thead>\n",
       "    <tr style=\"text-align: right;\">\n",
       "      <th></th>\n",
       "      <th>Order ID</th>\n",
       "      <th>Product</th>\n",
       "      <th>Quantity Ordered</th>\n",
       "      <th>Price Each</th>\n",
       "      <th>Hour</th>\n",
       "      <th>Day</th>\n",
       "      <th>Month</th>\n",
       "      <th>Year</th>\n",
       "      <th>Street</th>\n",
       "      <th>City</th>\n",
       "      <th>State</th>\n",
       "      <th>ZipCode</th>\n",
       "      <th>Sales</th>\n",
       "    </tr>\n",
       "  </thead>\n",
       "  <tbody>\n",
       "    <tr>\n",
       "      <td>0</td>\n",
       "      <td>295665</td>\n",
       "      <td>Macbook Pro Laptop</td>\n",
       "      <td>1</td>\n",
       "      <td>1700.00</td>\n",
       "      <td>00:01</td>\n",
       "      <td>30</td>\n",
       "      <td>12</td>\n",
       "      <td>19</td>\n",
       "      <td>136 Church St</td>\n",
       "      <td>New York City</td>\n",
       "      <td>NY</td>\n",
       "      <td>1000</td>\n",
       "      <td>1700.00</td>\n",
       "    </tr>\n",
       "    <tr>\n",
       "      <td>1</td>\n",
       "      <td>295666</td>\n",
       "      <td>LG Washing Machine</td>\n",
       "      <td>1</td>\n",
       "      <td>600.00</td>\n",
       "      <td>07:03</td>\n",
       "      <td>29</td>\n",
       "      <td>12</td>\n",
       "      <td>19</td>\n",
       "      <td>562 2nd St</td>\n",
       "      <td>New York City</td>\n",
       "      <td>NY</td>\n",
       "      <td>1000</td>\n",
       "      <td>600.00</td>\n",
       "    </tr>\n",
       "    <tr>\n",
       "      <td>2</td>\n",
       "      <td>295667</td>\n",
       "      <td>USB-C Charging Cable</td>\n",
       "      <td>1</td>\n",
       "      <td>11.95</td>\n",
       "      <td>18:21</td>\n",
       "      <td>12</td>\n",
       "      <td>12</td>\n",
       "      <td>19</td>\n",
       "      <td>277 Main St</td>\n",
       "      <td>New York City</td>\n",
       "      <td>NY</td>\n",
       "      <td>1000</td>\n",
       "      <td>11.95</td>\n",
       "    </tr>\n",
       "  </tbody>\n",
       "</table>\n",
       "</div>"
      ],
      "text/plain": [
       "   Order ID               Product  Quantity Ordered  Price Each   Hour  Day  \\\n",
       "0    295665    Macbook Pro Laptop                 1     1700.00  00:01   30   \n",
       "1    295666    LG Washing Machine                 1      600.00  07:03   29   \n",
       "2    295667  USB-C Charging Cable                 1       11.95  18:21   12   \n",
       "\n",
       "   Month  Year         Street            City State  ZipCode    Sales  \n",
       "0     12    19  136 Church St   New York City    NY     1000  1700.00  \n",
       "1     12    19     562 2nd St   New York City    NY     1000   600.00  \n",
       "2     12    19    277 Main St   New York City    NY     1000    11.95  "
      ]
     },
     "execution_count": 27,
     "metadata": {},
     "output_type": "execute_result"
    }
   ],
   "source": [
    "months.head(3)"
   ]
  },
  {
   "cell_type": "markdown",
   "metadata": {},
   "source": [
    "# Save all the modifications"
   ]
  },
  {
   "cell_type": "code",
   "execution_count": 28,
   "metadata": {},
   "outputs": [],
   "source": [
    "months.to_csv('mergedData.csv',index = False)"
   ]
  },
  {
   "cell_type": "markdown",
   "metadata": {},
   "source": [
    "# Check the data"
   ]
  },
  {
   "cell_type": "code",
   "execution_count": 29,
   "metadata": {},
   "outputs": [],
   "source": [
    "months = pd.read_csv('mergedData.csv')"
   ]
  },
  {
   "cell_type": "code",
   "execution_count": 30,
   "metadata": {},
   "outputs": [
    {
     "data": {
      "text/html": [
       "<div>\n",
       "<style scoped>\n",
       "    .dataframe tbody tr th:only-of-type {\n",
       "        vertical-align: middle;\n",
       "    }\n",
       "\n",
       "    .dataframe tbody tr th {\n",
       "        vertical-align: top;\n",
       "    }\n",
       "\n",
       "    .dataframe thead th {\n",
       "        text-align: right;\n",
       "    }\n",
       "</style>\n",
       "<table border=\"1\" class=\"dataframe\">\n",
       "  <thead>\n",
       "    <tr style=\"text-align: right;\">\n",
       "      <th></th>\n",
       "      <th>Order ID</th>\n",
       "      <th>Product</th>\n",
       "      <th>Quantity Ordered</th>\n",
       "      <th>Price Each</th>\n",
       "      <th>Hour</th>\n",
       "      <th>Day</th>\n",
       "      <th>Month</th>\n",
       "      <th>Year</th>\n",
       "      <th>Street</th>\n",
       "      <th>City</th>\n",
       "      <th>State</th>\n",
       "      <th>ZipCode</th>\n",
       "      <th>Sales</th>\n",
       "    </tr>\n",
       "  </thead>\n",
       "  <tbody>\n",
       "    <tr>\n",
       "      <td>0</td>\n",
       "      <td>295665</td>\n",
       "      <td>Macbook Pro Laptop</td>\n",
       "      <td>1</td>\n",
       "      <td>1700.00</td>\n",
       "      <td>00:01</td>\n",
       "      <td>30</td>\n",
       "      <td>12</td>\n",
       "      <td>19</td>\n",
       "      <td>136 Church St</td>\n",
       "      <td>New York City</td>\n",
       "      <td>NY</td>\n",
       "      <td>1000</td>\n",
       "      <td>1700.00</td>\n",
       "    </tr>\n",
       "    <tr>\n",
       "      <td>1</td>\n",
       "      <td>295666</td>\n",
       "      <td>LG Washing Machine</td>\n",
       "      <td>1</td>\n",
       "      <td>600.00</td>\n",
       "      <td>07:03</td>\n",
       "      <td>29</td>\n",
       "      <td>12</td>\n",
       "      <td>19</td>\n",
       "      <td>562 2nd St</td>\n",
       "      <td>New York City</td>\n",
       "      <td>NY</td>\n",
       "      <td>1000</td>\n",
       "      <td>600.00</td>\n",
       "    </tr>\n",
       "    <tr>\n",
       "      <td>2</td>\n",
       "      <td>295667</td>\n",
       "      <td>USB-C Charging Cable</td>\n",
       "      <td>1</td>\n",
       "      <td>11.95</td>\n",
       "      <td>18:21</td>\n",
       "      <td>12</td>\n",
       "      <td>12</td>\n",
       "      <td>19</td>\n",
       "      <td>277 Main St</td>\n",
       "      <td>New York City</td>\n",
       "      <td>NY</td>\n",
       "      <td>1000</td>\n",
       "      <td>11.95</td>\n",
       "    </tr>\n",
       "    <tr>\n",
       "      <td>3</td>\n",
       "      <td>295668</td>\n",
       "      <td>27in FHD Monitor</td>\n",
       "      <td>1</td>\n",
       "      <td>149.99</td>\n",
       "      <td>15:13</td>\n",
       "      <td>22</td>\n",
       "      <td>12</td>\n",
       "      <td>19</td>\n",
       "      <td>410 6th St</td>\n",
       "      <td>San Francisco</td>\n",
       "      <td>CA</td>\n",
       "      <td>9401</td>\n",
       "      <td>149.99</td>\n",
       "    </tr>\n",
       "    <tr>\n",
       "      <td>4</td>\n",
       "      <td>295669</td>\n",
       "      <td>USB-C Charging Cable</td>\n",
       "      <td>1</td>\n",
       "      <td>11.95</td>\n",
       "      <td>12:38</td>\n",
       "      <td>18</td>\n",
       "      <td>12</td>\n",
       "      <td>19</td>\n",
       "      <td>43 Hill St</td>\n",
       "      <td>Atlanta</td>\n",
       "      <td>GA</td>\n",
       "      <td>3030</td>\n",
       "      <td>11.95</td>\n",
       "    </tr>\n",
       "  </tbody>\n",
       "</table>\n",
       "</div>"
      ],
      "text/plain": [
       "   Order ID               Product  Quantity Ordered  Price Each   Hour  Day  \\\n",
       "0    295665    Macbook Pro Laptop                 1     1700.00  00:01   30   \n",
       "1    295666    LG Washing Machine                 1      600.00  07:03   29   \n",
       "2    295667  USB-C Charging Cable                 1       11.95  18:21   12   \n",
       "3    295668      27in FHD Monitor                 1      149.99  15:13   22   \n",
       "4    295669  USB-C Charging Cable                 1       11.95  12:38   18   \n",
       "\n",
       "   Month  Year         Street            City State  ZipCode    Sales  \n",
       "0     12    19  136 Church St   New York City    NY     1000  1700.00  \n",
       "1     12    19     562 2nd St   New York City    NY     1000   600.00  \n",
       "2     12    19    277 Main St   New York City    NY     1000    11.95  \n",
       "3     12    19     410 6th St   San Francisco    CA     9401   149.99  \n",
       "4     12    19     43 Hill St         Atlanta    GA     3030    11.95  "
      ]
     },
     "execution_count": 30,
     "metadata": {},
     "output_type": "execute_result"
    }
   ],
   "source": [
    "months.head()"
   ]
  },
  {
   "cell_type": "code",
   "execution_count": 31,
   "metadata": {},
   "outputs": [
    {
     "data": {
      "text/plain": [
       "Order ID              int64\n",
       "Product              object\n",
       "Quantity Ordered      int64\n",
       "Price Each          float64\n",
       "Hour                 object\n",
       "Day                   int64\n",
       "Month                 int64\n",
       "Year                  int64\n",
       "Street               object\n",
       "City                 object\n",
       "State                object\n",
       "ZipCode               int64\n",
       "Sales               float64\n",
       "dtype: object"
      ]
     },
     "execution_count": 31,
     "metadata": {},
     "output_type": "execute_result"
    }
   ],
   "source": [
    "months.dtypes"
   ]
  },
  {
   "cell_type": "code",
   "execution_count": 32,
   "metadata": {},
   "outputs": [
    {
     "data": {
      "text/html": [
       "<div>\n",
       "<style scoped>\n",
       "    .dataframe tbody tr th:only-of-type {\n",
       "        vertical-align: middle;\n",
       "    }\n",
       "\n",
       "    .dataframe tbody tr th {\n",
       "        vertical-align: top;\n",
       "    }\n",
       "\n",
       "    .dataframe thead th {\n",
       "        text-align: right;\n",
       "    }\n",
       "</style>\n",
       "<table border=\"1\" class=\"dataframe\">\n",
       "  <thead>\n",
       "    <tr style=\"text-align: right;\">\n",
       "      <th></th>\n",
       "      <th>Order ID</th>\n",
       "      <th>Product</th>\n",
       "      <th>Quantity Ordered</th>\n",
       "      <th>Price Each</th>\n",
       "      <th>Hour</th>\n",
       "      <th>Day</th>\n",
       "      <th>Month</th>\n",
       "      <th>Year</th>\n",
       "      <th>Street</th>\n",
       "      <th>City</th>\n",
       "      <th>State</th>\n",
       "      <th>ZipCode</th>\n",
       "      <th>Sales</th>\n",
       "    </tr>\n",
       "  </thead>\n",
       "  <tbody>\n",
       "    <tr>\n",
       "      <td>0</td>\n",
       "      <td>295665</td>\n",
       "      <td>Macbook Pro Laptop</td>\n",
       "      <td>1</td>\n",
       "      <td>1700.00</td>\n",
       "      <td>00:01</td>\n",
       "      <td>30</td>\n",
       "      <td>12</td>\n",
       "      <td>19</td>\n",
       "      <td>136 Church St</td>\n",
       "      <td>New York City</td>\n",
       "      <td>NY</td>\n",
       "      <td>1000</td>\n",
       "      <td>1700.00</td>\n",
       "    </tr>\n",
       "    <tr>\n",
       "      <td>1</td>\n",
       "      <td>295666</td>\n",
       "      <td>LG Washing Machine</td>\n",
       "      <td>1</td>\n",
       "      <td>600.00</td>\n",
       "      <td>07:03</td>\n",
       "      <td>29</td>\n",
       "      <td>12</td>\n",
       "      <td>19</td>\n",
       "      <td>562 2nd St</td>\n",
       "      <td>New York City</td>\n",
       "      <td>NY</td>\n",
       "      <td>1000</td>\n",
       "      <td>600.00</td>\n",
       "    </tr>\n",
       "    <tr>\n",
       "      <td>2</td>\n",
       "      <td>295667</td>\n",
       "      <td>USB-C Charging Cable</td>\n",
       "      <td>1</td>\n",
       "      <td>11.95</td>\n",
       "      <td>18:21</td>\n",
       "      <td>12</td>\n",
       "      <td>12</td>\n",
       "      <td>19</td>\n",
       "      <td>277 Main St</td>\n",
       "      <td>New York City</td>\n",
       "      <td>NY</td>\n",
       "      <td>1000</td>\n",
       "      <td>11.95</td>\n",
       "    </tr>\n",
       "    <tr>\n",
       "      <td>3</td>\n",
       "      <td>295668</td>\n",
       "      <td>27in FHD Monitor</td>\n",
       "      <td>1</td>\n",
       "      <td>149.99</td>\n",
       "      <td>15:13</td>\n",
       "      <td>22</td>\n",
       "      <td>12</td>\n",
       "      <td>19</td>\n",
       "      <td>410 6th St</td>\n",
       "      <td>San Francisco</td>\n",
       "      <td>CA</td>\n",
       "      <td>9401</td>\n",
       "      <td>149.99</td>\n",
       "    </tr>\n",
       "    <tr>\n",
       "      <td>4</td>\n",
       "      <td>295669</td>\n",
       "      <td>USB-C Charging Cable</td>\n",
       "      <td>1</td>\n",
       "      <td>11.95</td>\n",
       "      <td>12:38</td>\n",
       "      <td>18</td>\n",
       "      <td>12</td>\n",
       "      <td>19</td>\n",
       "      <td>43 Hill St</td>\n",
       "      <td>Atlanta</td>\n",
       "      <td>GA</td>\n",
       "      <td>3030</td>\n",
       "      <td>11.95</td>\n",
       "    </tr>\n",
       "    <tr>\n",
       "      <td>...</td>\n",
       "      <td>...</td>\n",
       "      <td>...</td>\n",
       "      <td>...</td>\n",
       "      <td>...</td>\n",
       "      <td>...</td>\n",
       "      <td>...</td>\n",
       "      <td>...</td>\n",
       "      <td>...</td>\n",
       "      <td>...</td>\n",
       "      <td>...</td>\n",
       "      <td>...</td>\n",
       "      <td>...</td>\n",
       "      <td>...</td>\n",
       "    </tr>\n",
       "    <tr>\n",
       "      <td>185945</td>\n",
       "      <td>222905</td>\n",
       "      <td>AAA Batteries (4-pack)</td>\n",
       "      <td>1</td>\n",
       "      <td>2.99</td>\n",
       "      <td>19:02</td>\n",
       "      <td>7</td>\n",
       "      <td>6</td>\n",
       "      <td>19</td>\n",
       "      <td>795 Pine St</td>\n",
       "      <td>Boston</td>\n",
       "      <td>MA</td>\n",
       "      <td>221</td>\n",
       "      <td>2.99</td>\n",
       "    </tr>\n",
       "    <tr>\n",
       "      <td>185946</td>\n",
       "      <td>222906</td>\n",
       "      <td>27in FHD Monitor</td>\n",
       "      <td>1</td>\n",
       "      <td>149.99</td>\n",
       "      <td>19:29</td>\n",
       "      <td>1</td>\n",
       "      <td>6</td>\n",
       "      <td>19</td>\n",
       "      <td>495 North St</td>\n",
       "      <td>New York City</td>\n",
       "      <td>NY</td>\n",
       "      <td>1000</td>\n",
       "      <td>149.99</td>\n",
       "    </tr>\n",
       "    <tr>\n",
       "      <td>185947</td>\n",
       "      <td>222907</td>\n",
       "      <td>USB-C Charging Cable</td>\n",
       "      <td>1</td>\n",
       "      <td>11.95</td>\n",
       "      <td>18:57</td>\n",
       "      <td>22</td>\n",
       "      <td>6</td>\n",
       "      <td>19</td>\n",
       "      <td>319 Ridge St</td>\n",
       "      <td>San Francisco</td>\n",
       "      <td>CA</td>\n",
       "      <td>9401</td>\n",
       "      <td>11.95</td>\n",
       "    </tr>\n",
       "    <tr>\n",
       "      <td>185948</td>\n",
       "      <td>222908</td>\n",
       "      <td>USB-C Charging Cable</td>\n",
       "      <td>1</td>\n",
       "      <td>11.95</td>\n",
       "      <td>18:35</td>\n",
       "      <td>26</td>\n",
       "      <td>6</td>\n",
       "      <td>19</td>\n",
       "      <td>916 Main St</td>\n",
       "      <td>San Francisco</td>\n",
       "      <td>CA</td>\n",
       "      <td>9401</td>\n",
       "      <td>11.95</td>\n",
       "    </tr>\n",
       "    <tr>\n",
       "      <td>185949</td>\n",
       "      <td>222909</td>\n",
       "      <td>AAA Batteries (4-pack)</td>\n",
       "      <td>1</td>\n",
       "      <td>2.99</td>\n",
       "      <td>14:33</td>\n",
       "      <td>25</td>\n",
       "      <td>6</td>\n",
       "      <td>19</td>\n",
       "      <td>209 11th St</td>\n",
       "      <td>Atlanta</td>\n",
       "      <td>GA</td>\n",
       "      <td>3030</td>\n",
       "      <td>2.99</td>\n",
       "    </tr>\n",
       "  </tbody>\n",
       "</table>\n",
       "<p>185950 rows × 13 columns</p>\n",
       "</div>"
      ],
      "text/plain": [
       "        Order ID                 Product  Quantity Ordered  Price Each   Hour  \\\n",
       "0         295665      Macbook Pro Laptop                 1     1700.00  00:01   \n",
       "1         295666      LG Washing Machine                 1      600.00  07:03   \n",
       "2         295667    USB-C Charging Cable                 1       11.95  18:21   \n",
       "3         295668        27in FHD Monitor                 1      149.99  15:13   \n",
       "4         295669    USB-C Charging Cable                 1       11.95  12:38   \n",
       "...          ...                     ...               ...         ...    ...   \n",
       "185945    222905  AAA Batteries (4-pack)                 1        2.99  19:02   \n",
       "185946    222906        27in FHD Monitor                 1      149.99  19:29   \n",
       "185947    222907    USB-C Charging Cable                 1       11.95  18:57   \n",
       "185948    222908    USB-C Charging Cable                 1       11.95  18:35   \n",
       "185949    222909  AAA Batteries (4-pack)                 1        2.99  14:33   \n",
       "\n",
       "        Day  Month  Year         Street            City State  ZipCode  \\\n",
       "0        30     12    19  136 Church St   New York City    NY     1000   \n",
       "1        29     12    19     562 2nd St   New York City    NY     1000   \n",
       "2        12     12    19    277 Main St   New York City    NY     1000   \n",
       "3        22     12    19     410 6th St   San Francisco    CA     9401   \n",
       "4        18     12    19     43 Hill St         Atlanta    GA     3030   \n",
       "...     ...    ...   ...            ...             ...   ...      ...   \n",
       "185945    7      6    19    795 Pine St          Boston    MA      221   \n",
       "185946    1      6    19   495 North St   New York City    NY     1000   \n",
       "185947   22      6    19   319 Ridge St   San Francisco    CA     9401   \n",
       "185948   26      6    19    916 Main St   San Francisco    CA     9401   \n",
       "185949   25      6    19    209 11th St         Atlanta    GA     3030   \n",
       "\n",
       "          Sales  \n",
       "0       1700.00  \n",
       "1        600.00  \n",
       "2         11.95  \n",
       "3        149.99  \n",
       "4         11.95  \n",
       "...         ...  \n",
       "185945     2.99  \n",
       "185946   149.99  \n",
       "185947    11.95  \n",
       "185948    11.95  \n",
       "185949     2.99  \n",
       "\n",
       "[185950 rows x 13 columns]"
      ]
     },
     "execution_count": 32,
     "metadata": {},
     "output_type": "execute_result"
    }
   ],
   "source": [
    "months.reset_index(drop=True)"
   ]
  },
  {
   "cell_type": "code",
   "execution_count": 33,
   "metadata": {},
   "outputs": [
    {
     "data": {
      "text/html": [
       "<div>\n",
       "<style scoped>\n",
       "    .dataframe tbody tr th:only-of-type {\n",
       "        vertical-align: middle;\n",
       "    }\n",
       "\n",
       "    .dataframe tbody tr th {\n",
       "        vertical-align: top;\n",
       "    }\n",
       "\n",
       "    .dataframe thead th {\n",
       "        text-align: right;\n",
       "    }\n",
       "</style>\n",
       "<table border=\"1\" class=\"dataframe\">\n",
       "  <thead>\n",
       "    <tr style=\"text-align: right;\">\n",
       "      <th></th>\n",
       "      <th>Order ID</th>\n",
       "      <th>Product</th>\n",
       "      <th>Quantity Ordered</th>\n",
       "      <th>Price Each</th>\n",
       "      <th>Hour</th>\n",
       "      <th>Day</th>\n",
       "      <th>Month</th>\n",
       "      <th>Year</th>\n",
       "      <th>Street</th>\n",
       "      <th>City</th>\n",
       "      <th>State</th>\n",
       "      <th>ZipCode</th>\n",
       "      <th>Sales</th>\n",
       "    </tr>\n",
       "  </thead>\n",
       "  <tbody>\n",
       "    <tr>\n",
       "      <td>0</td>\n",
       "      <td>295665</td>\n",
       "      <td>Macbook Pro Laptop</td>\n",
       "      <td>1</td>\n",
       "      <td>1700.00</td>\n",
       "      <td>00:01</td>\n",
       "      <td>30</td>\n",
       "      <td>12</td>\n",
       "      <td>19</td>\n",
       "      <td>136 Church St</td>\n",
       "      <td>New York City</td>\n",
       "      <td>NY</td>\n",
       "      <td>1000</td>\n",
       "      <td>1700.00</td>\n",
       "    </tr>\n",
       "    <tr>\n",
       "      <td>1</td>\n",
       "      <td>295666</td>\n",
       "      <td>LG Washing Machine</td>\n",
       "      <td>1</td>\n",
       "      <td>600.00</td>\n",
       "      <td>07:03</td>\n",
       "      <td>29</td>\n",
       "      <td>12</td>\n",
       "      <td>19</td>\n",
       "      <td>562 2nd St</td>\n",
       "      <td>New York City</td>\n",
       "      <td>NY</td>\n",
       "      <td>1000</td>\n",
       "      <td>600.00</td>\n",
       "    </tr>\n",
       "    <tr>\n",
       "      <td>2</td>\n",
       "      <td>295667</td>\n",
       "      <td>USB-C Charging Cable</td>\n",
       "      <td>1</td>\n",
       "      <td>11.95</td>\n",
       "      <td>18:21</td>\n",
       "      <td>12</td>\n",
       "      <td>12</td>\n",
       "      <td>19</td>\n",
       "      <td>277 Main St</td>\n",
       "      <td>New York City</td>\n",
       "      <td>NY</td>\n",
       "      <td>1000</td>\n",
       "      <td>11.95</td>\n",
       "    </tr>\n",
       "  </tbody>\n",
       "</table>\n",
       "</div>"
      ],
      "text/plain": [
       "   Order ID               Product  Quantity Ordered  Price Each   Hour  Day  \\\n",
       "0    295665    Macbook Pro Laptop                 1     1700.00  00:01   30   \n",
       "1    295666    LG Washing Machine                 1      600.00  07:03   29   \n",
       "2    295667  USB-C Charging Cable                 1       11.95  18:21   12   \n",
       "\n",
       "   Month  Year         Street            City State  ZipCode    Sales  \n",
       "0     12    19  136 Church St   New York City    NY     1000  1700.00  \n",
       "1     12    19     562 2nd St   New York City    NY     1000   600.00  \n",
       "2     12    19    277 Main St   New York City    NY     1000    11.95  "
      ]
     },
     "execution_count": 33,
     "metadata": {},
     "output_type": "execute_result"
    }
   ],
   "source": [
    "months.head(3)"
   ]
  },
  {
   "cell_type": "code",
   "execution_count": 34,
   "metadata": {},
   "outputs": [
    {
     "data": {
      "text/html": [
       "<div>\n",
       "<style scoped>\n",
       "    .dataframe tbody tr th:only-of-type {\n",
       "        vertical-align: middle;\n",
       "    }\n",
       "\n",
       "    .dataframe tbody tr th {\n",
       "        vertical-align: top;\n",
       "    }\n",
       "\n",
       "    .dataframe thead th {\n",
       "        text-align: right;\n",
       "    }\n",
       "</style>\n",
       "<table border=\"1\" class=\"dataframe\">\n",
       "  <thead>\n",
       "    <tr style=\"text-align: right;\">\n",
       "      <th></th>\n",
       "      <th>Order ID</th>\n",
       "      <th>Product</th>\n",
       "      <th>Quantity Ordered</th>\n",
       "      <th>Price Each</th>\n",
       "      <th>Hour</th>\n",
       "      <th>Day</th>\n",
       "      <th>Month</th>\n",
       "      <th>Year</th>\n",
       "      <th>Street</th>\n",
       "      <th>City</th>\n",
       "      <th>State</th>\n",
       "      <th>ZipCode</th>\n",
       "      <th>Sales</th>\n",
       "    </tr>\n",
       "  </thead>\n",
       "  <tbody>\n",
       "    <tr>\n",
       "      <td>185947</td>\n",
       "      <td>222907</td>\n",
       "      <td>USB-C Charging Cable</td>\n",
       "      <td>1</td>\n",
       "      <td>11.95</td>\n",
       "      <td>18:57</td>\n",
       "      <td>22</td>\n",
       "      <td>6</td>\n",
       "      <td>19</td>\n",
       "      <td>319 Ridge St</td>\n",
       "      <td>San Francisco</td>\n",
       "      <td>CA</td>\n",
       "      <td>9401</td>\n",
       "      <td>11.95</td>\n",
       "    </tr>\n",
       "    <tr>\n",
       "      <td>185948</td>\n",
       "      <td>222908</td>\n",
       "      <td>USB-C Charging Cable</td>\n",
       "      <td>1</td>\n",
       "      <td>11.95</td>\n",
       "      <td>18:35</td>\n",
       "      <td>26</td>\n",
       "      <td>6</td>\n",
       "      <td>19</td>\n",
       "      <td>916 Main St</td>\n",
       "      <td>San Francisco</td>\n",
       "      <td>CA</td>\n",
       "      <td>9401</td>\n",
       "      <td>11.95</td>\n",
       "    </tr>\n",
       "    <tr>\n",
       "      <td>185949</td>\n",
       "      <td>222909</td>\n",
       "      <td>AAA Batteries (4-pack)</td>\n",
       "      <td>1</td>\n",
       "      <td>2.99</td>\n",
       "      <td>14:33</td>\n",
       "      <td>25</td>\n",
       "      <td>6</td>\n",
       "      <td>19</td>\n",
       "      <td>209 11th St</td>\n",
       "      <td>Atlanta</td>\n",
       "      <td>GA</td>\n",
       "      <td>3030</td>\n",
       "      <td>2.99</td>\n",
       "    </tr>\n",
       "  </tbody>\n",
       "</table>\n",
       "</div>"
      ],
      "text/plain": [
       "        Order ID                 Product  Quantity Ordered  Price Each   Hour  \\\n",
       "185947    222907    USB-C Charging Cable                 1       11.95  18:57   \n",
       "185948    222908    USB-C Charging Cable                 1       11.95  18:35   \n",
       "185949    222909  AAA Batteries (4-pack)                 1        2.99  14:33   \n",
       "\n",
       "        Day  Month  Year        Street            City State  ZipCode  Sales  \n",
       "185947   22      6    19  319 Ridge St   San Francisco    CA     9401  11.95  \n",
       "185948   26      6    19   916 Main St   San Francisco    CA     9401  11.95  \n",
       "185949   25      6    19   209 11th St         Atlanta    GA     3030   2.99  "
      ]
     },
     "execution_count": 34,
     "metadata": {},
     "output_type": "execute_result"
    }
   ],
   "source": [
    "months.tail(3)"
   ]
  },
  {
   "cell_type": "code",
   "execution_count": 35,
   "metadata": {},
   "outputs": [
    {
     "data": {
      "text/plain": [
       "(185950, 13)"
      ]
     },
     "execution_count": 35,
     "metadata": {},
     "output_type": "execute_result"
    }
   ],
   "source": [
    "months.shape"
   ]
  },
  {
   "cell_type": "code",
   "execution_count": 36,
   "metadata": {},
   "outputs": [
    {
     "data": {
      "text/plain": [
       "Order ID              int64\n",
       "Product              object\n",
       "Quantity Ordered      int64\n",
       "Price Each          float64\n",
       "Hour                 object\n",
       "Day                   int64\n",
       "Month                 int64\n",
       "Year                  int64\n",
       "Street               object\n",
       "City                 object\n",
       "State                object\n",
       "ZipCode               int64\n",
       "Sales               float64\n",
       "dtype: object"
      ]
     },
     "execution_count": 36,
     "metadata": {},
     "output_type": "execute_result"
    }
   ],
   "source": [
    "months.dtypes"
   ]
  },
  {
   "cell_type": "markdown",
   "metadata": {},
   "source": [
    "# Analyze the data"
   ]
  },
  {
   "cell_type": "markdown",
   "metadata": {},
   "source": [
    "### Amount of sales"
   ]
  },
  {
   "cell_type": "code",
   "execution_count": 37,
   "metadata": {},
   "outputs": [
    {
     "name": "stdout",
     "output_type": "stream",
     "text": [
      "<class 'pandas.core.frame.DataFrame'>\n",
      "RangeIndex: 185950 entries, 0 to 185949\n",
      "Data columns (total 13 columns):\n",
      "Order ID            185950 non-null int64\n",
      "Product             185950 non-null object\n",
      "Quantity Ordered    185950 non-null int64\n",
      "Price Each          185950 non-null float64\n",
      "Hour                185950 non-null object\n",
      "Day                 185950 non-null int64\n",
      "Month               185950 non-null int64\n",
      "Year                185950 non-null int64\n",
      "Street              185950 non-null object\n",
      "City                185950 non-null object\n",
      "State               185950 non-null object\n",
      "ZipCode             185950 non-null int64\n",
      "Sales               185950 non-null float64\n",
      "dtypes: float64(2), int64(6), object(5)\n",
      "memory usage: 18.4+ MB\n",
      "None\n"
     ]
    }
   ],
   "source": [
    "\"\"\"The number of rows is given by '185950 entries' and it matches the number obtained with 'months.shape'.\n",
    "There are 13 columns, their names and types are given.\n",
    "A summary 'dtypes: float64(2), int64(6), object(5)' of the data types in this data set is provided\"\"\"\n",
    "print(months.info())"
   ]
  },
  {
   "cell_type": "code",
   "execution_count": 38,
   "metadata": {},
   "outputs": [
    {
     "data": {
      "text/plain": [
       "34492035.97"
      ]
     },
     "execution_count": 38,
     "metadata": {},
     "output_type": "execute_result"
    }
   ],
   "source": [
    "# dataframe, column, method. Use this synthax to make an operation on a particular column.\n",
    "\"\"\"The total amount of sales for this products, locations and period of time is of approx. 34.5 million USD\"\"\"\n",
    "months.Sales.sum()"
   ]
  },
  {
   "cell_type": "markdown",
   "metadata": {},
   "source": [
    "### The products being analyzed"
   ]
  },
  {
   "cell_type": "code",
   "execution_count": 154,
   "metadata": {},
   "outputs": [
    {
     "name": "stdout",
     "output_type": "stream",
     "text": [
      "<class 'pandas.core.series.Series'>\n",
      "0             Macbook Pro Laptop\n",
      "1             LG Washing Machine\n",
      "2           USB-C Charging Cable\n",
      "3               27in FHD Monitor\n",
      "4          AA Batteries (4-pack)\n",
      "5     Bose SoundSport Headphones\n",
      "6         AAA Batteries (4-pack)\n",
      "7                ThinkPad Laptop\n",
      "8       Lightning Charging Cable\n",
      "9                   Google Phone\n",
      "10              Wired Headphones\n",
      "11      Apple Airpods Headphones\n",
      "12               Vareebadd Phone\n",
      "13                        iPhone\n",
      "14                  20in Monitor\n",
      "15        34in Ultrawide Monitor\n",
      "16                 Flatscreen TV\n",
      "17        27in 4K Gaming Monitor\n",
      "18                      LG Dryer\n",
      "dtype: object\n"
     ]
    },
    {
     "data": {
      "text/plain": [
       "'This shows that there are 19 unique products'"
      ]
     },
     "execution_count": 154,
     "metadata": {},
     "output_type": "execute_result"
    }
   ],
   "source": [
    "SingleProducts = []\n",
    "for i in months.Product:\n",
    "    if i in SingleProducts:\n",
    "        pass\n",
    "    else:\n",
    "        SingleProducts.append(i)\n",
    "\n",
    "product = np.asarray(SingleProducts) # Converts the list into a np.array\n",
    "productCol = pd.Series(product) # Converts the np.array into a pd.Series (the type of a column)\n",
    "print(type(productCol)) # Same type as months[Product], for example.\n",
    "print(productCol)\n",
    "\"\"\"This shows that there are 19 unique products\"\"\""
   ]
  },
  {
   "cell_type": "markdown",
   "metadata": {},
   "source": [
    "### Prices per product"
   ]
  },
  {
   "cell_type": "code",
   "execution_count": 329,
   "metadata": {},
   "outputs": [
    {
     "name": "stdout",
     "output_type": "stream",
     "text": [
      "Product\n",
      "Macbook Pro Laptop            1700.00\n",
      "ThinkPad Laptop                999.99\n",
      "iPhone                         700.00\n",
      "Google Phone                   600.00\n",
      "LG Dryer                       600.00\n",
      "LG Washing Machine             600.00\n",
      "Vareebadd Phone                400.00\n",
      "27in 4K Gaming Monitor         389.99\n",
      "34in Ultrawide Monitor         379.99\n",
      "Flatscreen TV                  300.00\n",
      "Apple Airpods Headphones       150.00\n",
      "27in FHD Monitor               149.99\n",
      "20in Monitor                   109.99\n",
      "Bose SoundSport Headphones      99.99\n",
      "Lightning Charging Cable        14.95\n",
      "USB-C Charging Cable            11.95\n",
      "Wired Headphones                11.99\n",
      "AA Batteries (4-pack)            3.84\n",
      "AAA Batteries (4-pack)           2.99\n",
      "Name: Price Each, dtype: float64\n"
     ]
    },
    {
     "data": {
      "text/plain": [
       "'The most expensive product is the Macbook Pro Laptop and the cheapest is the AAA Batteries (4-pack)'"
      ]
     },
     "execution_count": 329,
     "metadata": {},
     "output_type": "execute_result"
    }
   ],
   "source": [
    "orderProdPerPrice = months.groupby(['Product']).mean().sort_values('Sales', ascending = False) # The 19 products.\n",
    "orderedPrices = orderProdPerPrice['Price Each'] # This is a <class 'pandas.core.frame.DataFrame'>\n",
    "print(orderedPrices)\n",
    "\"\"\"The most expensive product is the Macbook Pro Laptop and the cheapest is the AAA Batteries (4-pack)\"\"\""
   ]
  },
  {
   "cell_type": "code",
   "execution_count": 190,
   "metadata": {
    "scrolled": true
   },
   "outputs": [
    {
     "data": {
      "image/png": "[encoded data removed]",
      "text/plain": [
       "<Figure size 1008x360 with 1 Axes>"
      ]
     },
     "metadata": {
      "needs_background": "light"
     },
     "output_type": "display_data"
    }
   ],
   "source": [
    "plt.figure(figsize=(14, 5)) # This allows me to change the figure size, so the data is not cramped.\n",
    "plt.barh(orderedPrices.index, orderedPrices)\n",
    "#plt.xscale('log')\n",
    "plt.ylabel('Products')\n",
    "plt.xlabel('Prices Each (USD)')\n",
    "plt.title('Prices per Product')\n",
    "tick_val = [2,450,900,1350,1800]\n",
    "tick_lab = ['2','450','900','1350','1800']\n",
    "plt.xticks(tick_val, tick_lab)\n",
    "plt.show()"
   ]
  },
  {
   "cell_type": "code",
   "execution_count": 273,
   "metadata": {},
   "outputs": [
    {
     "name": "stdout",
     "output_type": "stream",
     "text": [
      "State\n",
      " CA    5153200.0\n",
      " NY    1733600.0\n",
      " TX    1703300.0\n",
      " MA    1341400.0\n",
      " GA    1025100.0\n",
      " WA     987400.0\n",
      " OR     725500.0\n",
      " ME     162400.0\n",
      "Name: Sales, dtype: float64\n"
     ]
    }
   ],
   "source": [
    "import re\n",
    "macProducts = months.loc[months['Product'].str.contains('Macbook Pro Laptop|iPhone', regex=True)]\n",
    "macProductStateSales = macProducts.groupby(['State']).sum().sort_values('Sales', ascending = False)\n",
    "macProductSales = macProductStateSales['Sales']\n",
    "print(macProductSales)\n",
    "\"\"\"Most mac products were sold in the state of California, with a good difference compared to other states\"\"\""
   ]
  },
  {
   "cell_type": "markdown",
   "metadata": {},
   "source": [
    "### Amount of items sold per Product"
   ]
  },
  {
   "cell_type": "code",
   "execution_count": 196,
   "metadata": {},
   "outputs": [
    {
     "name": "stdout",
     "output_type": "stream",
     "text": [
      "Product\n",
      "AAA Batteries (4-pack)        31017\n",
      "AA Batteries (4-pack)         27635\n",
      "USB-C Charging Cable          23975\n",
      "Lightning Charging Cable      23217\n",
      "Wired Headphones              20557\n",
      "Apple Airpods Headphones      15661\n",
      "Bose SoundSport Headphones    13457\n",
      "27in FHD Monitor               7550\n",
      "iPhone                         6849\n",
      "27in 4K Gaming Monitor         6244\n",
      "34in Ultrawide Monitor         6199\n",
      "Google Phone                   5532\n",
      "Flatscreen TV                  4819\n",
      "Macbook Pro Laptop             4728\n",
      "ThinkPad Laptop                4130\n",
      "20in Monitor                   4129\n",
      "Vareebadd Phone                2068\n",
      "LG Washing Machine              666\n",
      "LG Dryer                        646\n",
      "Name: Quantity Ordered, dtype: int64\n"
     ]
    },
    {
     "data": {
      "text/plain": [
       "'The best sold product is the AAA Batteries (4-pack) and the least sold is the LG Dryer'"
      ]
     },
     "execution_count": 196,
     "metadata": {},
     "output_type": "execute_result"
    }
   ],
   "source": [
    "amountProdSold = months.groupby(['Product']).sum().sort_values('Quantity Ordered', ascending = False) # The 19 products.\n",
    "totalItemsProduct = amountProdSold['Quantity Ordered'] # This is a <class 'pandas.core.frame.DataFrame'>\n",
    "print(totalItemsProduct)\n",
    "\"\"\"The best sold product is the AAA Batteries (4-pack) and the least sold is the LG Dryer\"\"\""
   ]
  },
  {
   "cell_type": "code",
   "execution_count": 197,
   "metadata": {},
   "outputs": [
    {
     "data": {
      "image/png": "[encoded data removed]",
      "text/plain": [
       "<Figure size 1008x360 with 1 Axes>"
      ]
     },
     "metadata": {
      "needs_background": "light"
     },
     "output_type": "display_data"
    }
   ],
   "source": [
    "plt.figure(figsize=(14, 5)) # This allows me to change the figure size, so the data is not cramped.\n",
    "plt.barh(totalItemsProduct.index, totalItemsProduct)\n",
    "#plt.xscale('log')\n",
    "plt.ylabel('Products')\n",
    "plt.xlabel('Amount of product sold')\n",
    "plt.title('Total number of items sold per Product')\n",
    "tick_val = [600,1.2e3,2.4e3,4.8e3,9.6e3,1.5e4,3e4]\n",
    "tick_lab = ['600','1.2K','2.4K','4.8K','9.6K','15K','30K']\n",
    "plt.xticks(tick_val, tick_lab)\n",
    "plt.show()"
   ]
  },
  {
   "cell_type": "markdown",
   "metadata": {},
   "source": [
    "### Total Sales per Product"
   ]
  },
  {
   "cell_type": "code",
   "execution_count": 225,
   "metadata": {},
   "outputs": [
    {
     "name": "stdout",
     "output_type": "stream",
     "text": [
      "Product\n",
      "Macbook Pro Laptop            8037600.00\n",
      "iPhone                        4794300.00\n",
      "ThinkPad Laptop               4129958.70\n",
      "Google Phone                  3319200.00\n",
      "27in 4K Gaming Monitor        2435097.56\n",
      "34in Ultrawide Monitor        2355558.01\n",
      "Apple Airpods Headphones      2349150.00\n",
      "Flatscreen TV                 1445700.00\n",
      "Bose SoundSport Headphones    1345565.43\n",
      "27in FHD Monitor              1132424.50\n",
      "Vareebadd Phone                827200.00\n",
      "20in Monitor                   454148.71\n",
      "LG Washing Machine             399600.00\n",
      "LG Dryer                       387600.00\n",
      "Lightning Charging Cable       347094.15\n",
      "USB-C Charging Cable           286501.25\n",
      "Wired Headphones               246478.43\n",
      "AA Batteries (4-pack)          106118.40\n",
      "AAA Batteries (4-pack)          92740.83\n",
      "Name: Sales, dtype: float64\n"
     ]
    },
    {
     "data": {
      "text/plain": [
       "'The Macbook Pro Laptops sold during this time period and places add an approx 8 million USD'"
      ]
     },
     "execution_count": 225,
     "metadata": {},
     "output_type": "execute_result"
    }
   ],
   "source": [
    "orderSalesProd = months.groupby(['Product']).sum().sort_values('Sales', ascending = False) # This is a pd df\n",
    "mostSales = orderSalesProd['Sales']\n",
    "print(mostSales) # This is a class 'pandas.core.series.Series'\n",
    "\"\"\"The Macbook Pro Laptops sold during this time period and places add an approx 8 million USD\"\"\""
   ]
  },
  {
   "cell_type": "code",
   "execution_count": 186,
   "metadata": {},
   "outputs": [
    {
     "data": {
      "image/png": "[encoded data removed]",
      "text/plain": [
       "<Figure size 1008x360 with 1 Axes>"
      ]
     },
     "metadata": {
      "needs_background": "light"
     },
     "output_type": "display_data"
    }
   ],
   "source": [
    "plt.figure(figsize=(14, 5)) # This allows me to change the figure size, so the data is not cramped.\n",
    "plt.barh(mostSales.index, mostSales)\n",
    "#plt.xscale('log')\n",
    "plt.ylabel('Products')\n",
    "plt.xlabel('Sales Each (USD)')\n",
    "plt.title('Total Sales per Products')\n",
    "tick_val = [9.2e4,0.5e6,1e6,2e6,4e6,8e6]\n",
    "tick_lab = ['92K','0.5M','1M','2M','4M','8M']\n",
    "plt.xticks(tick_val, tick_lab)\n",
    "plt.show()"
   ]
  },
  {
   "cell_type": "markdown",
   "metadata": {},
   "source": [
    "### Summary 1: Product analysis"
   ]
  },
  {
   "cell_type": "code",
   "execution_count": 418,
   "metadata": {},
   "outputs": [
    {
     "name": "stdout",
     "output_type": "stream",
     "text": [
      "                            Quantity Ordered       Sales  Price Each\n",
      "Product                                                             \n",
      "20in Monitor                            4129   454148.71      109.99\n",
      "27in 4K Gaming Monitor                  6244  2435097.56      389.99\n",
      "27in FHD Monitor                        7550  1132424.50      149.99\n",
      "34in Ultrawide Monitor                  6199  2355558.01      379.99\n",
      "AA Batteries (4-pack)                  27635   106118.40        3.84\n",
      "AAA Batteries (4-pack)                 31017    92740.83        2.99\n",
      "Apple Airpods Headphones               15661  2349150.00      150.00\n",
      "Bose SoundSport Headphones             13457  1345565.43       99.99\n",
      "Flatscreen TV                           4819  1445700.00      300.00\n",
      "Google Phone                            5532  3319200.00      600.00\n",
      "LG Dryer                                 646   387600.00      600.00\n",
      "LG Washing Machine                       666   399600.00      600.00\n",
      "Lightning Charging Cable               23217   347094.15       14.95\n",
      "Macbook Pro Laptop                      4728  8037600.00     1700.00\n",
      "ThinkPad Laptop                         4130  4129958.70      999.99\n",
      "USB-C Charging Cable                   23975   286501.25       11.95\n",
      "Vareebadd Phone                         2068   827200.00      400.00\n",
      "Wired Headphones                       20557   246478.43       11.99\n",
      "iPhone                                  6849  4794300.00      700.00\n"
     ]
    }
   ],
   "source": [
    "dfag = months.groupby(\"Product\").agg({\"Quantity Ordered\":\"sum\",\"Sales\":\"sum\",\"Price Each\":\"max\"})\n",
    "print(dfag)"
   ]
  },
  {
   "cell_type": "code",
   "execution_count": 475,
   "metadata": {},
   "outputs": [
    {
     "data": {
      "image/png": "[encoded data removed]",
      "text/plain": [
       "<Figure size 1080x360 with 3 Axes>"
      ]
     },
     "metadata": {
      "needs_background": "light"
     },
     "output_type": "display_data"
    }
   ],
   "source": [
    "fig = plt.figure(figsize=(15,5))\n",
    "ax0=fig.add_subplot(131)\n",
    "ax1=fig.add_subplot(132)\n",
    "ax2=fig.add_subplot(133)\n",
    "dfag[\"Quantity Ordered\"].plot(ax = ax0)\n",
    "dfag[\"Sales\"].plot(ax = ax1)\n",
    "dfag[\"Price Each\"].plot(ax = ax2)\n",
    "\n",
    "fig.subplots_adjust(wspace = 0.5)\n",
    "#plt.show()"
   ]
  },
  {
   "cell_type": "code",
   "execution_count": 467,
   "metadata": {},
   "outputs": [
    {
     "data": {
      "image/png": "[encoded data removed]",
      "text/plain": [
       "<Figure size 432x288 with 1 Axes>"
      ]
     },
     "metadata": {
      "needs_background": "light"
     },
     "output_type": "display_data"
    },
    {
     "data": {
      "text/plain": [
       "'The most expensive (green) products add more sales (orange), although less items (blue) are sold'"
      ]
     },
     "execution_count": 467,
     "metadata": {},
     "output_type": "execute_result"
    }
   ],
   "source": [
    "Mod_mostSales = mostSales/1000\n",
    "Mod_totalItemsProduct = amountProdSold/1000\n",
    "plt.plot(orderedPrices, orderedPrices.index, label = \"Price\", color=\"DarkCyan\")\n",
    "plt.plot(totalItemsProduct, totalItemsProduct.index, label = \"Items\", linestyle = ':')\n",
    "plt.plot(Mod_mostSales, mostSales.index, label = \"Sales\", marker = 's')\n",
    "plt.legend()\n",
    "plt.title('Relationship between cost, items sold, and sales obtained per product')\n",
    "plt.show()\n",
    "\"\"\"The most expensive (green) products add more sales (orange), although less items (blue) are sold\"\"\""
   ]
  },
  {
   "cell_type": "code",
   "execution_count": 323,
   "metadata": {},
   "outputs": [
    {
     "data": {
      "text/plain": [
       "<seaborn.axisgrid.PairGrid at 0x1a28eb9cd0>"
      ]
     },
     "execution_count": 323,
     "metadata": {},
     "output_type": "execute_result"
    },
    {
     "data": {
      "image/png": "[encoded data removed]",
      "text/plain": [
       "<Figure size 432x432 with 12 Axes>"
      ]
     },
     "metadata": {
      "needs_background": "light"
     },
     "output_type": "display_data"
    }
   ],
   "source": [
    "sb.pairplot(summary1[['Price Each', 'Quantity Ordered', 'Sales']], plot_kws={'color':'#1684BF'}, height=2, kind='reg')\n",
    "\"\"\"Negative correlation of Quantity Order with Price Each, and Sales. Possitive between Sales and Price Each\"\"\""
   ]
  },
  {
   "cell_type": "markdown",
   "metadata": {},
   "source": [
    "### Cost of products in Sales Brackets"
   ]
  },
  {
   "cell_type": "code",
   "execution_count": 264,
   "metadata": {},
   "outputs": [
    {
     "data": {
      "text/plain": [
       "'There are 185950 sales events'"
      ]
     },
     "execution_count": 264,
     "metadata": {},
     "output_type": "execute_result"
    }
   ],
   "source": [
    "# Selecting a column can be done with any of the following two methods.\n",
    "# Method 1: salesCol = months.Sales, it works if the column name contains letters, numbers, or underscore.\n",
    "# Method 2: Using square brackets, it works if the column name contains spaces or spacial characters.\n",
    "# For this column name any of the two methods would work. Here I am using method 2:\n",
    "\n",
    "salesCol = months['Sales'] # salesCol is a <class 'pandas.core.series.Series'>\n",
    "# print(salesCol)\n",
    "\"\"\"There are 185950 sales events\"\"\""
   ]
  },
  {
   "cell_type": "code",
   "execution_count": 265,
   "metadata": {},
   "outputs": [
    {
     "name": "stdout",
     "output_type": "stream",
     "text": [
      "   Order ID                Product  Quantity Ordered  Price Each   Hour  Day  \\\n",
      "2    295667   USB-C Charging Cable                 1       11.95  18:21   12   \n",
      "4    295669   USB-C Charging Cable                 1       11.95  12:38   18   \n",
      "5    295670  AA Batteries (4-pack)                 1        3.84  22:58   31   \n",
      "\n",
      "   Month  Year            Street            City State  ZipCode  Sales  \n",
      "2     12    19       277 Main St   New York City    NY     1000  11.95  \n",
      "4     12    19        43 Hill St         Atlanta    GA     3030  11.95  \n",
      "5     12    19  200 Jefferson St   New York City    NY     1000   3.84  \n"
     ]
    },
    {
     "data": {
      "text/plain": [
       "'Approx 63% (116856) of total sales is comprised by products that cost less than 100 USD'"
      ]
     },
     "execution_count": 265,
     "metadata": {},
     "output_type": "execute_result"
    }
   ],
   "source": [
    "cheap = salesCol < 100\n",
    "cheapProd = months[cheap]\n",
    "print(cheapProd.head(3))  # Using cheapProd.info() I obtained that there are 116856 sales (rows)\n",
    "\"\"\"Approx 63% (116856) of total sales is comprised by products that cost less than 100 USD\"\"\""
   ]
  },
  {
   "cell_type": "code",
   "execution_count": 44,
   "metadata": {},
   "outputs": [
    {
     "name": "stdout",
     "output_type": "stream",
     "text": [
      "2398301.1100006807\n"
     ]
    },
    {
     "data": {
      "text/plain": [
       "'The total sale of products in the cheap bracket is of 2.40 million USD'"
      ]
     },
     "execution_count": 44,
     "metadata": {},
     "output_type": "execute_result"
    }
   ],
   "source": [
    "cheapProdSales = months[cheap].sum()\n",
    "print(cheapProdSales['Sales'])\n",
    "\"\"\"The total sale of products in the cheap bracket is of 2.40 million USD\"\"\""
   ]
  },
  {
   "cell_type": "code",
   "execution_count": 45,
   "metadata": {},
   "outputs": [
    {
     "name": "stdout",
     "output_type": "stream",
     "text": [
      "    Order ID                   Product  Quantity Ordered  Price Each   Hour  \\\n",
      "3     295668          27in FHD Monitor                 1      149.99  15:13   \n",
      "25    295687  Apple Airpods Headphones                 1      150.00  00:38   \n",
      "26    295688  Apple Airpods Headphones                 1      150.00  11:21   \n",
      "\n",
      "    Day  Month  Year        Street            City State  ZipCode   Sales  \n",
      "3    22     12    19    410 6th St   San Francisco    CA     9401  149.99  \n",
      "25   10     12    19  531 Ridge St          Boston    MA      221  150.00  \n",
      "26    8     12    19   546 Park St     Los Angeles    CA     9000  150.00  \n"
     ]
    },
    {
     "data": {
      "text/plain": [
       "'Approx ~25% (46509) of total sales is comprised by products that cost between 100 and 500 USD'"
      ]
     },
     "execution_count": 45,
     "metadata": {},
     "output_type": "execute_result"
    }
   ],
   "source": [
    "pricey = np.logical_and(salesCol > 100, salesCol < 500) # This is a <class 'pandas.core.series.Series'>\n",
    "priceyProd = months[pricey] # This is a <class 'pandas.core.frame.DataFrame'>\n",
    "print(priceyProd.head(3)) # Using priceyProd.info() I obtained that there are 46509 sales (rows)\n",
    "\"\"\"Approx 25% (46509) of total sales is comprised by products that cost between 100 and 500 USD\"\"\""
   ]
  },
  {
   "cell_type": "code",
   "execution_count": 46,
   "metadata": {},
   "outputs": [
    {
     "name": "stdout",
     "output_type": "stream",
     "text": [
      "10987076.800004348\n"
     ]
    },
    {
     "data": {
      "text/plain": [
       "'The total sale of products in the pricey bracket is of approx 10.99 million USD'"
      ]
     },
     "execution_count": 46,
     "metadata": {},
     "output_type": "execute_result"
    }
   ],
   "source": [
    "priceyProdSales = months[pricey].sum()\n",
    "print(priceyProdSales['Sales'])\n",
    "\"\"\"The total sale of products in the pricey bracket is of approx 10.99 million USD\"\"\""
   ]
  },
  {
   "cell_type": "code",
   "execution_count": 47,
   "metadata": {},
   "outputs": [
    {
     "name": "stdout",
     "output_type": "stream",
     "text": [
      "    Order ID             Product  Quantity Ordered  Price Each   Hour  Day  \\\n",
      "0     295665  Macbook Pro Laptop                 1     1700.00  00:01   30   \n",
      "1     295666  LG Washing Machine                 1      600.00  07:03   29   \n",
      "11    295676     ThinkPad Laptop                 1      999.99  17:19   28   \n",
      "16    295681        Google Phone                 1      600.00  12:37   25   \n",
      "27    295689  LG Washing Machine                 1      600.00  11:21   24   \n",
      "\n",
      "    Month  Year          Street            City State  ZipCode    Sales  \n",
      "0      12    19   136 Church St   New York City    NY     1000  1700.00  \n",
      "1      12    19      562 2nd St   New York City    NY     1000   600.00  \n",
      "11     12    19  410 Lincoln St     Los Angeles    CA     9000   999.99  \n",
      "16     12    19       79 Elm St          Boston    MA      221   600.00  \n",
      "27     12    19     173 Lake St   San Francisco    CA     9401   600.00  \n"
     ]
    },
    {
     "data": {
      "text/plain": [
       "'Approx ~12% ( 22585) of total sales is comprised by products that cost between more than 500 USD'"
      ]
     },
     "execution_count": 47,
     "metadata": {},
     "output_type": "execute_result"
    }
   ],
   "source": [
    "expensive = salesCol > 500\n",
    "expensiveProd = months[expensive]\n",
    "print(expensiveProd.head(3)) # Using expensiveProd.info() I obtained that there are 22585 sales (rows).\n",
    "\"\"\"Approx 12% ( 22585) of total sales is comprised by products that cost more than 500 USD\"\"\""
   ]
  },
  {
   "cell_type": "code",
   "execution_count": 48,
   "metadata": {},
   "outputs": [
    {
     "name": "stdout",
     "output_type": "stream",
     "text": [
      "21106658.059999242\n"
     ]
    },
    {
     "data": {
      "text/plain": [
       "'The total sale of products in the expensive bracket is of approx 21.11 million USD'"
      ]
     },
     "execution_count": 48,
     "metadata": {},
     "output_type": "execute_result"
    }
   ],
   "source": [
    "expensiveProdSales = months[expensive].sum()\n",
    "print(expensiveProdSales['Sales'])\n",
    "\"\"\"The total sale of products in the expensive bracket is of approx 21.11 million USD\"\"\""
   ]
  },
  {
   "cell_type": "markdown",
   "metadata": {},
   "source": [
    "### Summary 2: Sales analysis"
   ]
  },
  {
   "cell_type": "code",
   "execution_count": 263,
   "metadata": {},
   "outputs": [
    {
     "name": "stdout",
     "output_type": "stream",
     "text": [
      "(21106658.059999242, 10987076.800004348, 2398301.1100006807)\n",
      "\n",
      "                                        Cheap  Pricey  Expensive\n",
      "Number of Products                        6.0    7.00       6.00\n",
      "Sales Amount (%) from the Total          63.0   25.00      12.00\n",
      "Amount of money in Sales (Million USD)    2.4   10.99      21.11\n"
     ]
    },
    {
     "data": {
      "text/plain": [
       "'The effort in the sales of cheap products does not compare to the expensive products'"
      ]
     },
     "execution_count": 263,
     "metadata": {},
     "output_type": "execute_result"
    }
   ],
   "source": [
    "salesBracketsLabels = 'Expensive', 'Pricey', 'Cheap'\n",
    "salesBrackets = expensiveProdSales['Sales'], priceyProdSales['Sales'], cheapProdSales['Sales']\n",
    "print(salesBrackets)\n",
    "row_labels = ['Number of Products','Sales Amount (%) from the Total', 'Amount of money in Sales (Million USD)']\n",
    "my_dict = {'Cheap':[6,63,2.40], 'Pricey':[7,25,10.99], 'Expensive':[6,12,21.11]}\n",
    "summary2 = pd.DataFrame(my_dict)\n",
    "summary2.index = row_labels\n",
    "print()\n",
    "print(summary)\n",
    "#print(type(summary))\n",
    "\n",
    "\"\"\"The effort in the sales of cheap products does not compare to the expensive products\"\"\""
   ]
  },
  {
   "cell_type": "code",
   "execution_count": 174,
   "metadata": {},
   "outputs": [
    {
     "data": {
      "image/png": "[encoded data removed]",
      "text/plain": [
       "<Figure size 432x288 with 1 Axes>"
      ]
     },
     "metadata": {
      "needs_background": "light"
     },
     "output_type": "display_data"
    },
    {
     "data": {
      "text/plain": [
       "'Almost double the amount of sales of expensive products compared to pricey products.\\nHowever it is important to consider the location requierements to calculate the profit.\\nFor these expensive products the locale has to be bigger than for pricey products, requiring higher rent cost'"
      ]
     },
     "execution_count": 174,
     "metadata": {},
     "output_type": "execute_result"
    }
   ],
   "source": [
    "plt.bar(salesBracketsLabels, salesBrackets, color=['green', 'blue', 'red'])\n",
    "\n",
    "plt.xlabel('Product Cost Brackets')\n",
    "plt.ylabel('Total sales (USD)')\n",
    "plt.title('Total sales per price bracket')\n",
    "tick_val = [2000000,10000000,20000000]\n",
    "tick_lab = ['2M','10M','20M']\n",
    "plt.yticks(tick_val, tick_lab)\n",
    "\n",
    "plt.text(width-0.5, 21300000, '12%')\n",
    "plt.text(width+0.5, 11300000, '25%')\n",
    "plt.text(width+1.5, 2800000, '63%')\n",
    "\n",
    "plt.show()\n",
    "\"\"\"Almost double the amount of money in sales of expensive products compared to pricey products.\n",
    "However it is important to consider the location requierements to calculate the profit.\n",
    "For these expensive products the locale has to be bigger than for pricey products, requiring higher rent cost\"\"\""
   ]
  },
  {
   "cell_type": "markdown",
   "metadata": {},
   "source": [
    "### Total Sales By Location: State"
   ]
  },
  {
   "cell_type": "code",
   "execution_count": 390,
   "metadata": {},
   "outputs": [
    {
     "name": "stdout",
     "output_type": "stream",
     "text": [
      "State\n",
      " CA    1.371477e+07\n",
      " NY    4.664317e+06\n",
      " TX    4.587557e+06\n",
      " MA    3.661642e+06\n",
      " GA    2.795499e+06\n",
      " WA    2.747755e+06\n",
      " OR    1.870732e+06\n",
      " ME    4.497583e+05\n",
      "Name: Sales, dtype: float64\n"
     ]
    },
    {
     "data": {
      "text/plain": [
       "'There are 8 states. The one with the most sales is California and with the least sales is Maine.'"
      ]
     },
     "execution_count": 390,
     "metadata": {},
     "output_type": "execute_result"
    }
   ],
   "source": [
    "orderProdPerState = months.groupby(['State']).sum().sort_values('Sales', ascending = False)\n",
    "stateSales = orderProdPerState['Sales'] # This is a <class 'pandas.core.frame.DataFrame'>\n",
    "print(stateSales)\n",
    "\"\"\"There are 8 states. The one with the most sales is California and with the least sales is Maine.\"\"\""
   ]
  },
  {
   "cell_type": "code",
   "execution_count": 183,
   "metadata": {},
   "outputs": [
    {
     "data": {
      "image/png": "[encoded data removed]",
      "text/plain": [
       "<Figure size 432x288 with 1 Axes>"
      ]
     },
     "metadata": {
      "needs_background": "light"
     },
     "output_type": "display_data"
    }
   ],
   "source": [
    "plt.bar(stateSales.index,stateSales, color=['blue','orange','purple','green','silver','yellow','violet','red'])\n",
    "plt.xlabel('US States')\n",
    "plt.ylabel('Total sales (USD)')\n",
    "plt.title('Total Sales per State')\n",
    "tick_val = [500000,5000000,15000000]\n",
    "tick_lab = ['0.5M','5M','15M']\n",
    "plt.yticks(tick_val, tick_lab)\n",
    "plt.show()"
   ]
  },
  {
   "cell_type": "markdown",
   "metadata": {},
   "source": [
    "### Total Sales By Location: Cities"
   ]
  },
  {
   "cell_type": "code",
   "execution_count": 303,
   "metadata": {},
   "outputs": [
    {
     "name": "stdout",
     "output_type": "stream",
     "text": [
      "<class 'pandas.core.series.Series'>\n",
      "0     New York City\n",
      "1     San Francisco\n",
      "2           Atlanta\n",
      "3          Portland\n",
      "4            Dallas\n",
      "5       Los Angeles\n",
      "6            Boston\n",
      "7            Austin\n",
      "8           Seattle\n",
      "dtype: object\n"
     ]
    },
    {
     "data": {
      "text/plain": [
       "'There are 9 cities, one in each State, except for TX that has 2 cities is TX'"
      ]
     },
     "execution_count": 303,
     "metadata": {},
     "output_type": "execute_result"
    }
   ],
   "source": [
    "SingleCities = []\n",
    "for i in months.City:\n",
    "    if i in SingleCities:\n",
    "        pass\n",
    "    else:\n",
    "        SingleCities.append(i)\n",
    "\n",
    "city = np.asarray(SingleCities) # Converts the list into a np.array\n",
    "cityCol = pd.Series(city) # Converts the np.array into a pd.Series (the type of a column)\n",
    "print(type(cityCol)) # Same type as months[Product], for example.\n",
    "print(cityCol)\n",
    "\n",
    "\"\"\"There are 9 cities, one in each State, except for TX that has 2 cities is TX\"\"\""
   ]
  },
  {
   "cell_type": "code",
   "execution_count": 304,
   "metadata": {},
   "outputs": [
    {
     "name": "stdout",
     "output_type": "stream",
     "text": [
      "City\n",
      " Dallas    2767975.40\n",
      " Austin    1819581.75\n",
      "Name: Sales, dtype: float64\n"
     ]
    }
   ],
   "source": [
    "txCities = months.loc[months['City'].str.contains('Dallas|Austin', regex=True)]\n",
    "txCitiesSales = txCities.groupby(['City']).sum().sort_values('Sales', ascending = False)\n",
    "citySales = txCitiesSales['Sales']\n",
    "print(citySales)\n",
    "\n",
    "\"\"\"The cities with the best sales are San Francisco, New York City and Dallas\"\"\""
   ]
  },
  {
   "cell_type": "markdown",
   "metadata": {},
   "source": [
    "### Time Analysis"
   ]
  },
  {
   "cell_type": "code",
   "execution_count": 322,
   "metadata": {},
   "outputs": [
    {
     "data": {
      "text/plain": [
       "'The best sales were achieved from April through June, although those months seem to have outlier values.\\nOtherwise, the best sales were achieved in January and October. Surprisingly December does have the best sales'"
      ]
     },
     "execution_count": 322,
     "metadata": {},
     "output_type": "execute_result"
    },
    {
     "data": {
      "image/png": "[encoded data removed]",
      "text/plain": [
       "<Figure size 576x288 with 1 Axes>"
      ]
     },
     "metadata": {
      "needs_background": "light"
     },
     "output_type": "display_data"
    }
   ],
   "source": [
    "plt.figure(figsize=(8,4)) # This allows me to change the figure size, so the data is not cramped.\n",
    "sb.boxplot(x='Month', y='Sales',data= months, color='#CBC311')\n",
    "#sb.stripplot(x = 'Month', y = 'Sales', data = months, color='red')\n",
    "\"\"\"The best sales were achieved from April through June, although those months seem to have outlier values.\n",
    "Otherwise, the best sales were achieved in January and October. Surprisingly December does have the best sales\"\"\""
   ]
  },
  {
   "cell_type": "markdown",
   "metadata": {},
   "source": [
    "### Basic statistical analysis"
   ]
  },
  {
   "cell_type": "code",
   "execution_count": 1,
   "metadata": {},
   "outputs": [],
   "source": [
    "import MyStatsFunctions as msf"
   ]
  },
  {
   "cell_type": "code",
   "execution_count": 333,
   "metadata": {},
   "outputs": [
    {
     "name": "stdout",
     "output_type": "stream",
     "text": [
      "14.95\n"
     ]
    }
   ],
   "source": [
    "medianaSales = months['Sales'].median()\n",
    "print(medianSales)"
   ]
  },
  {
   "cell_type": "code",
   "execution_count": 388,
   "metadata": {},
   "outputs": [
    {
     "name": "stdout",
     "output_type": "stream",
     "text": [
      "The mean of total sales is: 185.49091675145314\n",
      "The Mean of Cheap Sales Bracket: 20.523559851446915\n",
      "The Mean of Pricey Sales Bracket: 236.23549850575907\n",
      "The Mean of Expensive Sales Bracket: 934.5431950409228\n"
     ]
    },
    {
     "data": {
      "image/png": "[encoded data removed]",
      "text/plain": [
       "<Figure size 432x288 with 1 Axes>"
      ]
     },
     "metadata": {
      "needs_background": "light"
     },
     "output_type": "display_data"
    },
    {
     "data": {
      "text/plain": [
       "'There is a large difference between the means'"
      ]
     },
     "execution_count": 388,
     "metadata": {},
     "output_type": "execute_result"
    }
   ],
   "source": [
    "Mean_cheapProdSales = months[cheap].promedio()\n",
    "MeanCheap = Mean_cheapProdSales['Sales']\n",
    "\n",
    "Mean_priceyProdSales = months[pricey].promedio()\n",
    "MeanPricey = Mean_priceyProdSales['Sales']\n",
    "\n",
    "Mean_expensiveProdSales = months[expensive].promedio()\n",
    "MeanExpensive = Mean_expensiveProdSales['Sales']\n",
    "\n",
    "meanSales = months['Sales'].promedio()\n",
    "\n",
    "print('The mean of total sales is: ' + str(meanSales))\n",
    "print('The Mean of Cheap Sales Bracket: ' + str(MeanCheap))\n",
    "print('The Mean of Pricey Sales Bracket: ' + str(MeanPricey))\n",
    "print('The Mean of Expensive Sales Bracket: ' + str(MeanExpensive))\n",
    "\n",
    "salesBracketsLabels = 'Expensive', 'Pricey', 'Cheap'\n",
    "salesBracketsMeans = Mean_expensiveProdSales['Sales'], Mean_priceyProdSales['Sales'], Mean_cheapProdSales['Sales']\n",
    "\n",
    "plt.bar(salesBracketsLabels, salesBracketsMeans)\n",
    "plt.title('Comparison of the Means between sales brackets')\n",
    "plt.ylabel('Means')\n",
    "plt.xlabel('Sales Brackets')\n",
    "plt.show()\n",
    "\n",
    "\"\"\"There is a large difference between the means\"\"\""
   ]
  },
  {
   "cell_type": "markdown",
   "metadata": {},
   "source": [
    "### Test if the difference between the means is significant"
   ]
  },
  {
   "cell_type": "code",
   "execution_count": 3,
   "metadata": {},
   "outputs": [
    {
     "data": {
      "text/plain": [
       "['SEM',\n",
       " '__builtins__',\n",
       " '__cached__',\n",
       " '__doc__',\n",
       " '__file__',\n",
       " '__loader__',\n",
       " '__name__',\n",
       " '__package__',\n",
       " '__spec__',\n",
       " 'mean',\n",
       " 'median',\n",
       " 'randomSamples',\n",
       " 'sigDif',\n",
       " 'stDev',\n",
       " 'var']"
      ]
     },
     "execution_count": 3,
     "metadata": {},
     "output_type": "execute_result"
    }
   ],
   "source": [
    "dir(msf)"
   ]
  },
  {
   "cell_type": "code",
   "execution_count": 2,
   "metadata": {},
   "outputs": [
    {
     "ename": "NameError",
     "evalue": "name 'MeanPricey' is not defined",
     "output_type": "error",
     "traceback": [
      "\u001b[0;31m---------------------------------------------------------------------------\u001b[0m",
      "\u001b[0;31mNameError\u001b[0m                                 Traceback (most recent call last)",
      "\u001b[0;32m<ipython-input-2-af04a3aaa4f3>\u001b[0m in \u001b[0;36m<module>\u001b[0;34m\u001b[0m\n\u001b[0;32m----> 1\u001b[0;31m \u001b[0mmsf\u001b[0m\u001b[0;34m.\u001b[0m\u001b[0msigDif\u001b[0m\u001b[0;34m(\u001b[0m\u001b[0mMeanPricey\u001b[0m\u001b[0;34m,\u001b[0m\u001b[0mMeanExpensive\u001b[0m\u001b[0;34m)\u001b[0m\u001b[0;34m\u001b[0m\u001b[0;34m\u001b[0m\u001b[0m\n\u001b[0m",
      "\u001b[0;31mNameError\u001b[0m: name 'MeanPricey' is not defined"
     ]
    }
   ],
   "source": [
    "msf.sigDif(MeanPricey,MeanExpensive) "
   ]
  },
  {
   "cell_type": "code",
   "execution_count": 387,
   "metadata": {},
   "outputs": [
    {
     "name": "stdout",
     "output_type": "stream",
     "text": [
      "The variance of the total sales is: 110835.57417998869\n",
      "variance of Cheap Sales Bracket: 833.8782186596105\n",
      "variance of Pricey Sales Bracket: 12581.507244021654\n",
      "variance of Expensive Sales Bracket: 175137.13586601202\n"
     ]
    },
    {
     "data": {
      "image/png": "[encoded data removed]",
      "text/plain": [
       "<Figure size 432x288 with 1 Axes>"
      ]
     },
     "metadata": {
      "needs_background": "light"
     },
     "output_type": "display_data"
    },
    {
     "data": {
      "text/plain": [
       "'The variance of the Expensive Sales Bracket is very large'"
      ]
     },
     "execution_count": 387,
     "metadata": {},
     "output_type": "execute_result"
    }
   ],
   "source": [
    "var_cheapProdSales = months[cheap].varianza()\n",
    "varCheap = var_cheapProdSales['Sales']\n",
    "\n",
    "var_priceyProdSales = months[pricey].varianza()\n",
    "varPricey = var_priceyProdSales['Sales']\n",
    "\n",
    "var_expensiveProdSales = months[expensive].varianza()\n",
    "varExpensive = var_expensiveProdSales['Sales']\n",
    "\n",
    "varSales = months['Sales'].varianza()\n",
    "\n",
    "print('The variance of the total sales is: ' + str(varSales))\n",
    "print('variance of Cheap Sales Bracket: ' + str(varCheap))\n",
    "print('variance of Pricey Sales Bracket: ' + str(varPricey))\n",
    "print('variance of Expensive Sales Bracket: ' + str(varExpensive))\n",
    "\n",
    "salesBracketsLabels = 'Expensive', 'Pricey', 'Cheap'\n",
    "salesBracketsVar = var_expensiveProdSales['Sales'], var_priceyProdSales['Sales'], var_cheapProdSales['Sales']\n",
    "\n",
    "plt.bar(salesBracketsLabels, salesBracketsVar)\n",
    "plt.title('Comparison of the variance between sales brackets')\n",
    "plt.ylabel('Variance')\n",
    "plt.xlabel('Sales Brackets')\n",
    "plt.show()\n",
    "\n",
    "\"\"\"The variance of the Expensive Sales Bracket is very large\"\"\""
   ]
  },
  {
   "cell_type": "code",
   "execution_count": null,
   "metadata": {},
   "outputs": [],
   "source": []
  }
 ],
 "metadata": {
  "kernelspec": {
   "display_name": "Python 3",
   "language": "python",
   "name": "python3"
  },
  "language_info": {
   "codemirror_mode": {
    "name": "ipython",
    "version": 3
   },
   "file_extension": ".py",
   "mimetype": "text/x-python",
   "name": "python",
   "nbconvert_exporter": "python",
   "pygments_lexer": "ipython3",
   "version": "3.7.4"
  }
 },
 "nbformat": 4,
 "nbformat_minor": 2
}
