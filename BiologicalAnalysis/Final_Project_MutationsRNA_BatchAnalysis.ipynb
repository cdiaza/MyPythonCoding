{
 "cells": [
  {
   "cell_type": "code",
   "execution_count": 1,
   "metadata": {},
   "outputs": [],
   "source": [
    "%matplotlib inline\n",
    "import pandas as pd\n",
    "import numpy as np\n",
    "import seaborn as sb; sb.set()\n",
    "import matplotlib.pyplot as plt\n",
    "import math\n",
    "import random\n",
    "import sklearn\n",
    "import Bio\n",
    "from collections import Counter\n",
    "from Bio import SeqIO, AlignIO, Phylo\n",
    "from Bio.Alphabet import IUPAC,generic_alphabet,generic_dna\n",
    "from Bio.SeqUtils import GC\n",
    "from sklearn.metrics import pairwise_distances\n",
    "from matplotlib.animation import FuncAnimation"
   ]
  },
  {
   "cell_type": "markdown",
   "metadata": {},
   "source": [
    "### Load and visualize the alignments as dataframes:"
   ]
  },
  {
   "cell_type": "code",
   "execution_count": 2,
   "metadata": {},
   "outputs": [],
   "source": [
    "alignment1 = pd.read_csv('DATA1/B16-4-R1_MapGeneious.csv')\n",
    "alignment2 = pd.read_csv('DATA1/B16-8-R1_MapGeneious.csv')\n",
    "alignment3 = pd.read_csv('DATA1/B16-11-R1_MapGeneious.csv')\n",
    "\n",
    "alignment4 = pd.read_csv('DATA1/40uM-10-R2_GeneiousMap.csv')\n",
    "alignment5 = pd.read_csv('DATA1/40uM-30-R2_GeneiousMap.csv')\n",
    "alignment6 = pd.read_csv('DATA1/40uM-50-R2_GeneiousMap.csv')\n",
    "\n",
    "alignment7 = pd.read_csv('DATA1/80uM-10-R2_GeneiousMap.csv')\n",
    "alignment8 = pd.read_csv('DATA1/80uM-30-R2_GeneiousMap.csv')\n",
    "alignment9 = pd.read_csv('DATA1/80uM-50-R2_GeneiousMap.csv')"
   ]
  },
  {
   "cell_type": "code",
   "execution_count": 3,
   "metadata": {},
   "outputs": [
    {
     "name": "stdout",
     "output_type": "stream",
     "text": [
      "(1575, 2) (1884, 2) (1506, 2)\n",
      "(69083, 2) (74254, 2) (10495, 2)\n",
      "(22819, 2) (24026, 2) (3371, 2)\n"
     ]
    }
   ],
   "source": [
    "print(alignment1.shape,alignment2.shape,alignment3.shape)\n",
    "print(alignment4.shape,alignment5.shape,alignment6.shape)\n",
    "print(alignment7.shape,alignment8.shape,alignment9.shape)"
   ]
  },
  {
   "cell_type": "code",
   "execution_count": 7,
   "metadata": {},
   "outputs": [
    {
     "data": {
      "text/html": [
       "<div>\n",
       "<style scoped>\n",
       "    .dataframe tbody tr th:only-of-type {\n",
       "        vertical-align: middle;\n",
       "    }\n",
       "\n",
       "    .dataframe tbody tr th {\n",
       "        vertical-align: top;\n",
       "    }\n",
       "\n",
       "    .dataframe thead th {\n",
       "        text-align: right;\n",
       "    }\n",
       "</style>\n",
       "<table border=\"1\" class=\"dataframe\">\n",
       "  <thead>\n",
       "    <tr style=\"text-align: right;\">\n",
       "      <th></th>\n",
       "      <th>sequenceNames</th>\n",
       "      <th>alignedSequences</th>\n",
       "    </tr>\n",
       "  </thead>\n",
       "  <tbody>\n",
       "    <tr>\n",
       "      <td>3368</td>\n",
       "      <td>M02137_143_000000000_APU54_1_1104_9976_14216_2...</td>\n",
       "      <td>ATTGGCTTGATT---GT---G---AAT-A--CT---GTTGAG-AAC...</td>\n",
       "    </tr>\n",
       "    <tr>\n",
       "      <td>3369</td>\n",
       "      <td>M02137_143_000000000_APU54_1_2109_3654_11647_2...</td>\n",
       "      <td>TTGGCTTCGATT---GT---G---AAT-A--CT---GTTGAG-AAC...</td>\n",
       "    </tr>\n",
       "    <tr>\n",
       "      <td>3370</td>\n",
       "      <td>M02137_143_000000000_APU54_1_1117_16019_10186_...</td>\n",
       "      <td>TTGGCTTCGATT---GT---G---AAT-A--CT---GTTGAG-AAC...</td>\n",
       "    </tr>\n",
       "  </tbody>\n",
       "</table>\n",
       "</div>"
      ],
      "text/plain": [
       "                                          sequenceNames  \\\n",
       "3368  M02137_143_000000000_APU54_1_1104_9976_14216_2...   \n",
       "3369  M02137_143_000000000_APU54_1_2109_3654_11647_2...   \n",
       "3370  M02137_143_000000000_APU54_1_1117_16019_10186_...   \n",
       "\n",
       "                                       alignedSequences  \n",
       "3368  ATTGGCTTGATT---GT---G---AAT-A--CT---GTTGAG-AAC...  \n",
       "3369  TTGGCTTCGATT---GT---G---AAT-A--CT---GTTGAG-AAC...  \n",
       "3370  TTGGCTTCGATT---GT---G---AAT-A--CT---GTTGAG-AAC...  "
      ]
     },
     "execution_count": 7,
     "metadata": {},
     "output_type": "execute_result"
    }
   ],
   "source": [
    "alignment9.tail(3)"
   ]
  },
  {
   "cell_type": "markdown",
   "metadata": {},
   "source": [
    "### Check for errors in the dataframes and correct them:"
   ]
  },
  {
   "cell_type": "code",
   "execution_count": 8,
   "metadata": {},
   "outputs": [
    {
     "name": "stdout",
     "output_type": "stream",
     "text": [
      "Empty DataFrame\n",
      "Columns: [sequenceNames, alignedSequences]\n",
      "Index: []\n",
      "Empty DataFrame\n",
      "Columns: [sequenceNames, alignedSequences]\n",
      "Index: []\n",
      "Empty DataFrame\n",
      "Columns: [sequenceNames, alignedSequences]\n",
      "Index: []\n",
      "Empty DataFrame\n",
      "Columns: [sequenceNames, alignedSequences]\n",
      "Index: []\n",
      "Empty DataFrame\n",
      "Columns: [sequenceNames, alignedSequences]\n",
      "Index: []\n",
      "Empty DataFrame\n",
      "Columns: [sequenceNames, alignedSequences]\n",
      "Index: []\n",
      "Empty DataFrame\n",
      "Columns: [sequenceNames, alignedSequences]\n",
      "Index: []\n",
      "Empty DataFrame\n",
      "Columns: [sequenceNames, alignedSequences]\n",
      "Index: []\n",
      "Empty DataFrame\n",
      "Columns: [sequenceNames, alignedSequences]\n",
      "Index: []\n"
     ]
    },
    {
     "data": {
      "text/plain": [
       "'Are there any missing values captured in the DataFrame?'"
      ]
     },
     "execution_count": 8,
     "metadata": {},
     "output_type": "execute_result"
    }
   ],
   "source": [
    "print(alignment1.loc[alignment1['alignedSequences']=='(missing)'])\n",
    "print(alignment2.loc[alignment2['alignedSequences']=='(missing)'])\n",
    "print(alignment3.loc[alignment3['alignedSequences']=='(missing)'])\n",
    "\n",
    "print(alignment4.loc[alignment4['alignedSequences']=='(missing)'])\n",
    "print(alignment5.loc[alignment5['alignedSequences']=='(missing)'])\n",
    "print(alignment6.loc[alignment6['alignedSequences']=='(missing)'])\n",
    "\n",
    "print(alignment7.loc[alignment7['alignedSequences']=='(missing)'])\n",
    "print(alignment8.loc[alignment8['alignedSequences']=='(missing)'])\n",
    "print(alignment9.loc[alignment9['alignedSequences']=='(missing)'])\n",
    "\n",
    "\"\"\"Are there any missing values captured in the DataFrame?\"\"\""
   ]
  },
  {
   "cell_type": "code",
   "execution_count": 9,
   "metadata": {},
   "outputs": [
    {
     "name": "stdout",
     "output_type": "stream",
     "text": [
      "0\n",
      "0\n",
      "0\n",
      "0\n",
      "0\n",
      "0\n",
      "0\n",
      "0\n",
      "0\n"
     ]
    },
    {
     "data": {
      "text/plain": [
       "'Are there any null values?'"
      ]
     },
     "execution_count": 9,
     "metadata": {},
     "output_type": "execute_result"
    }
   ],
   "source": [
    "print(alignment1['alignedSequences'].isnull().sum())\n",
    "print(alignment2['alignedSequences'].isnull().sum())\n",
    "print(alignment3['alignedSequences'].isnull().sum())\n",
    "\n",
    "print(alignment4['alignedSequences'].isnull().sum())\n",
    "print(alignment5['alignedSequences'].isnull().sum())\n",
    "print(alignment6['alignedSequences'].isnull().sum())\n",
    "\n",
    "print(alignment7['alignedSequences'].isnull().sum())\n",
    "print(alignment8['alignedSequences'].isnull().sum())\n",
    "print(alignment9['alignedSequences'].isnull().sum())\n",
    "\n",
    "\"\"\"Are there any null values?\"\"\""
   ]
  },
  {
   "cell_type": "code",
   "execution_count": 10,
   "metadata": {},
   "outputs": [
    {
     "name": "stdout",
     "output_type": "stream",
     "text": [
      "sequenceNames       object\n",
      "alignedSequences    object\n",
      "dtype: object \n",
      "\n",
      " sequenceNames       object\n",
      "alignedSequences    object\n",
      "dtype: object \n",
      "\n",
      " sequenceNames       object\n",
      "alignedSequences    object\n",
      "dtype: object\n",
      "sequenceNames       object\n",
      "alignedSequences    object\n",
      "dtype: object \n",
      "\n",
      " sequenceNames       object\n",
      "alignedSequences    object\n",
      "dtype: object \n",
      "\n",
      " sequenceNames       object\n",
      "alignedSequences    object\n",
      "dtype: object\n",
      "sequenceNames       object\n",
      "alignedSequences    object\n",
      "dtype: object \n",
      "\n",
      " sequenceNames       object\n",
      "alignedSequences    object\n",
      "dtype: object \n",
      "\n",
      " sequenceNames       object\n",
      "alignedSequences    object\n",
      "dtype: object\n"
     ]
    },
    {
     "data": {
      "text/plain": [
       "'Alignment types should be objects'"
      ]
     },
     "execution_count": 10,
     "metadata": {},
     "output_type": "execute_result"
    }
   ],
   "source": [
    "print(alignment1.dtypes,'\\n\\n',alignment2.dtypes,'\\n\\n',alignment3.dtypes)\n",
    "print(alignment4.dtypes,'\\n\\n',alignment5.dtypes,'\\n\\n',alignment6.dtypes)\n",
    "print(alignment7.dtypes,'\\n\\n',alignment8.dtypes,'\\n\\n',alignment9.dtypes)\n",
    "\n",
    "\"\"\"Alignment types should be objects\"\"\""
   ]
  },
  {
   "cell_type": "code",
   "execution_count": 11,
   "metadata": {},
   "outputs": [
    {
     "name": "stdout",
     "output_type": "stream",
     "text": [
      "(1575, 2) (1884, 2) (1506, 2)\n",
      "(69083, 2) (74254, 2) (10495, 2)\n",
      "(22819, 2) (24026, 2) (3371, 2)\n"
     ]
    }
   ],
   "source": [
    "print(alignment1.shape,alignment2.shape,alignment3.shape)\n",
    "print(alignment4.shape,alignment5.shape,alignment6.shape)\n",
    "print(alignment7.shape,alignment8.shape,alignment9.shape)"
   ]
  },
  {
   "cell_type": "markdown",
   "metadata": {},
   "source": [
    "### Detecting unique sequences"
   ]
  },
  {
   "cell_type": "code",
   "execution_count": 12,
   "metadata": {},
   "outputs": [],
   "source": [
    "def uniqueSequences(file):\n",
    "    name = []\n",
    "    seq = []\n",
    "    percentage = []\n",
    "    with open(file, 'r') as file:\n",
    "        for line in file:\n",
    "            values = line.split(' ')\n",
    "            name.append(values[0])\n",
    "            seq.append(values[1])\n",
    "    s = np.array(seq)\n",
    "    u, counts = np.unique(s, return_counts = True)\n",
    "    return u, len(counts),len(seq),len(counts)*100/len(seq)"
   ]
  },
  {
   "cell_type": "code",
   "execution_count": 13,
   "metadata": {},
   "outputs": [],
   "source": [
    "s1t1_uniques, s1t1_UniqueCounts, s1t1_TotalSeqs, s1t1_UniqueFreq = uniqueSequences('DATA1/B16-4-R1_MapGeneious.phy')\n",
    "s1t2_uniques, s1t2_UniqueCounts, s1t2_TotalSeqs, s1t2_UniqueFreq = uniqueSequences('DATA1/B16-8-R1_MapGeneious.phy')\n",
    "s1t3_uniques, s1t3_UniqueCounts, s1t3_TotalSeqs, s1t3_UniqueFreq = uniqueSequences('DATA1/B16-11-R1_MapGeneious.phy')\n",
    "\n",
    "s2t1_uniques, s2t1_UniqueCounts, s2t1_TotalSeqs, s2t1_UniqueFreq = uniqueSequences('DATA1/40uM-10-R2_GeneiousMap.phy')\n",
    "s2t2_uniques, s2t2_UniqueCounts, s2t2_TotalSeqs, s2t2_UniqueFreq = uniqueSequences('DATA1/40uM-30-R2_GeneiousMap.phy')\n",
    "s2t3_uniques, s2t3_UniqueCounts, s2t3_TotalSeqs, s2t3_UniqueFreq = uniqueSequences('DATA1/40uM-50-R2_GeneiousMap.phy')\n",
    "\n",
    "s3t1_uniques, s3t1_UniqueCounts, s3t1_TotalSeqs, s3t1_UniqueFreq = uniqueSequences('DATA1/80uM-10-R2_GeneiousMap.phy')\n",
    "s3t2_uniques, s3t2_UniqueCounts, s3t2_TotalSeqs, s3t2_UniqueFreq = uniqueSequences('DATA1/80uM-30-R2_GeneiousMap.phy')\n",
    "s3t3_uniques, s3t3_UniqueCounts, s3t3_TotalSeqs, s3t3_UniqueFreq = uniqueSequences('DATA1/80uM-50-R2_GeneiousMap.phy')"
   ]
  },
  {
   "cell_type": "code",
   "execution_count": 14,
   "metadata": {},
   "outputs": [
    {
     "name": "stdout",
     "output_type": "stream",
     "text": [
      "<class 'numpy.ndarray'>\n"
     ]
    }
   ],
   "source": [
    "print(type(s3t3_uniques))"
   ]
  },
  {
   "cell_type": "code",
   "execution_count": 15,
   "metadata": {},
   "outputs": [
    {
     "name": "stdout",
     "output_type": "stream",
     "text": [
      "270 527 410\n",
      "6529 7238 1794\n",
      "2375 2568 669\n"
     ]
    }
   ],
   "source": [
    "print(s1t1_UniqueCounts,s1t2_UniqueCounts,s1t3_UniqueCounts)\n",
    "print(s2t1_UniqueCounts,s2t2_UniqueCounts,s2t3_UniqueCounts)\n",
    "print(s3t1_UniqueCounts,s3t2_UniqueCounts,s3t3_UniqueCounts)"
   ]
  },
  {
   "cell_type": "code",
   "execution_count": 35,
   "metadata": {},
   "outputs": [
    {
     "data": {
      "text/plain": [
       "36.19104123405518"
      ]
     },
     "execution_count": 35,
     "metadata": {},
     "output_type": "execute_result"
    }
   ],
   "source": [
    "s3t3_count,s3t3_unique,s3t3_top,s3t3_freq=alignment9.alignedSequences.describe()\n",
    "s3t3_freq*100/s3t3_count"
   ]
  },
  {
   "cell_type": "code",
   "execution_count": 44,
   "metadata": {},
   "outputs": [
    {
     "ename": "SyntaxError",
     "evalue": "'return' outside function (<ipython-input-44-d1524f859089>, line 3)",
     "output_type": "error",
     "traceback": [
      "\u001b[0;36m  File \u001b[0;32m\"<ipython-input-44-d1524f859089>\"\u001b[0;36m, line \u001b[0;32m3\u001b[0m\n\u001b[0;31m    return freq*100/count\u001b[0m\n\u001b[0m    ^\u001b[0m\n\u001b[0;31mSyntaxError\u001b[0m\u001b[0;31m:\u001b[0m 'return' outside function\n"
     ]
    }
   ],
   "source": [
    "alignments=[alignment1,alignment2,alignment3,alignment4,alignment5,alignment6,alignment7,alignment8,alignment9]\n",
    "for alignment in alignments:\n",
    "    return freq*100/count"
   ]
  },
  {
   "cell_type": "code",
   "execution_count": 17,
   "metadata": {},
   "outputs": [
    {
     "name": "stdout",
     "output_type": "stream",
     "text": [
      "1576 1885 1507\n",
      "69084 74255 10496\n",
      "22820 24027 3372\n"
     ]
    }
   ],
   "source": [
    "print(s1t1_TotalSeqs,s1t2_TotalSeqs,s1t3_TotalSeqs)\n",
    "print(s2t1_TotalSeqs,s2t2_TotalSeqs,s2t3_TotalSeqs)\n",
    "print(s3t1_TotalSeqs,s3t2_TotalSeqs,s3t3_TotalSeqs)"
   ]
  },
  {
   "cell_type": "code",
   "execution_count": 18,
   "metadata": {},
   "outputs": [
    {
     "name": "stdout",
     "output_type": "stream",
     "text": [
      "17.131979695431472 27.957559681697614 27.2063702720637\n",
      "9.450813502402871 9.747491751397213 17.0922256097561\n",
      "10.407537248028046 10.68797602696966 19.839857651245552\n"
     ]
    }
   ],
   "source": [
    "print(s1t1_UniqueFreq,s1t2_UniqueFreq,s1t3_UniqueFreq)\n",
    "print(s2t1_UniqueFreq,s2t2_UniqueFreq,s2t3_UniqueFreq)\n",
    "print(s3t1_UniqueFreq,s3t2_UniqueFreq,s3t3_UniqueFreq)"
   ]
  },
  {
   "cell_type": "code",
   "execution_count": 19,
   "metadata": {},
   "outputs": [],
   "source": [
    "# plt.barplot(unique_s1)\n",
    "# plt.barplot(unique_s2)\n",
    "# plt.barplot(unique_s3)"
   ]
  },
  {
   "cell_type": "markdown",
   "metadata": {},
   "source": [
    "### Sequence profile (GC, AT, Base content):"
   ]
  },
  {
   "cell_type": "code",
   "execution_count": 20,
   "metadata": {},
   "outputs": [],
   "source": [
    "def uniqueSequences(file):\n",
    "    name = []\n",
    "    seq = []\n",
    "    percentage = []\n",
    "    with open(file, 'r') as file:\n",
    "        for line in file:\n",
    "            values = line.split(' ')\n",
    "            name.append(values[0])\n",
    "            seq.append(values[1])\n",
    "    s = np.array(seq)\n",
    "    u, counts = np.unique(s, return_counts = True)\n",
    "    return u, len(counts),len(seq),len(counts)*100/len(seq)"
   ]
  },
  {
   "cell_type": "code",
   "execution_count": 21,
   "metadata": {},
   "outputs": [],
   "source": [
    "def GC_AT_content(file):\n",
    "    name = []\n",
    "    seq = []\n",
    "    with open(file, 'r') as file:\n",
    "        for line in file:\n",
    "            seq.append(line.split(' ')[1])\n",
    "    u = np.unique(np.array(seq))        \n",
    "    G = np.char.count(u, 'G')\n",
    "    C = np.char.count(u, 'C')\n",
    "    A = np.char.count(u, 'A')\n",
    "    T = np.char.count(u, 'T')\n",
    "    GC = G + C\n",
    "    AT = A + T\n",
    "    baseProfile = pd.DataFrame(np.vstack((G, C, A, T, GC, AT)), index=['G','C','A','T','GC','AT'])\n",
    "    baseProfile['Mean'] = baseProfile.mean(axis=1)\n",
    "    baseProfile['Percent'] = baseProfile['Mean'] * 100 / (baseProfile.iloc[-2,-1] + baseProfile.iloc[-1,-1])\n",
    "    return baseProfile"
   ]
  },
  {
   "cell_type": "code",
   "execution_count": 22,
   "metadata": {},
   "outputs": [],
   "source": [
    "GC_AT_s1t1 = GC_AT_content('DATA1/B16-4-R1_MapGeneious.phy')\n",
    "GC_AT_s1t2 = GC_AT_content('DATA1/B16-8-R1_MapGeneious.phy')\n",
    "GC_AT_s1t3 = GC_AT_content('DATA1/B16-11-R1_MapGeneious.phy')\n",
    "GC_AT_s2t1 = GC_AT_content('DATA1/40uM-10-R2_GeneiousMap.phy')\n",
    "GC_AT_s2t2 = GC_AT_content('DATA1/40uM-30-R2_GeneiousMap.phy')\n",
    "GC_AT_s2t3 = GC_AT_content('DATA1/40uM-50-R2_GeneiousMap.phy')\n",
    "GC_AT_s3t1 = GC_AT_content('DATA1/80uM-10-R2_GeneiousMap.phy')\n",
    "GC_AT_s3t2 = GC_AT_content('DATA1/80uM-30-R2_GeneiousMap.phy')\n",
    "GC_AT_s3t3 = GC_AT_content('DATA1/80uM-50-R2_GeneiousMap.phy')"
   ]
  },
  {
   "cell_type": "code",
   "execution_count": 23,
   "metadata": {},
   "outputs": [
    {
     "data": {
      "text/html": [
       "<div>\n",
       "<style scoped>\n",
       "    .dataframe tbody tr th:only-of-type {\n",
       "        vertical-align: middle;\n",
       "    }\n",
       "\n",
       "    .dataframe tbody tr th {\n",
       "        vertical-align: top;\n",
       "    }\n",
       "\n",
       "    .dataframe thead th {\n",
       "        text-align: right;\n",
       "    }\n",
       "</style>\n",
       "<table border=\"1\" class=\"dataframe\">\n",
       "  <thead>\n",
       "    <tr style=\"text-align: right;\">\n",
       "      <th></th>\n",
       "      <th>0</th>\n",
       "      <th>1</th>\n",
       "      <th>2</th>\n",
       "      <th>3</th>\n",
       "      <th>4</th>\n",
       "      <th>5</th>\n",
       "      <th>6</th>\n",
       "      <th>7</th>\n",
       "      <th>8</th>\n",
       "      <th>9</th>\n",
       "      <th>...</th>\n",
       "      <th>661</th>\n",
       "      <th>662</th>\n",
       "      <th>663</th>\n",
       "      <th>664</th>\n",
       "      <th>665</th>\n",
       "      <th>666</th>\n",
       "      <th>667</th>\n",
       "      <th>668</th>\n",
       "      <th>Mean</th>\n",
       "      <th>Percent</th>\n",
       "    </tr>\n",
       "  </thead>\n",
       "  <tbody>\n",
       "    <tr>\n",
       "      <td>G</td>\n",
       "      <td>0</td>\n",
       "      <td>39</td>\n",
       "      <td>36</td>\n",
       "      <td>38</td>\n",
       "      <td>38</td>\n",
       "      <td>37</td>\n",
       "      <td>45</td>\n",
       "      <td>35</td>\n",
       "      <td>35</td>\n",
       "      <td>35</td>\n",
       "      <td>...</td>\n",
       "      <td>37</td>\n",
       "      <td>42</td>\n",
       "      <td>41</td>\n",
       "      <td>27</td>\n",
       "      <td>29</td>\n",
       "      <td>34</td>\n",
       "      <td>39</td>\n",
       "      <td>37</td>\n",
       "      <td>35.644245</td>\n",
       "      <td>23.543234</td>\n",
       "    </tr>\n",
       "    <tr>\n",
       "      <td>C</td>\n",
       "      <td>0</td>\n",
       "      <td>32</td>\n",
       "      <td>29</td>\n",
       "      <td>33</td>\n",
       "      <td>39</td>\n",
       "      <td>33</td>\n",
       "      <td>24</td>\n",
       "      <td>33</td>\n",
       "      <td>34</td>\n",
       "      <td>33</td>\n",
       "      <td>...</td>\n",
       "      <td>32</td>\n",
       "      <td>23</td>\n",
       "      <td>35</td>\n",
       "      <td>37</td>\n",
       "      <td>36</td>\n",
       "      <td>35</td>\n",
       "      <td>33</td>\n",
       "      <td>31</td>\n",
       "      <td>33.288490</td>\n",
       "      <td>21.987244</td>\n",
       "    </tr>\n",
       "    <tr>\n",
       "      <td>A</td>\n",
       "      <td>0</td>\n",
       "      <td>32</td>\n",
       "      <td>32</td>\n",
       "      <td>31</td>\n",
       "      <td>26</td>\n",
       "      <td>30</td>\n",
       "      <td>33</td>\n",
       "      <td>31</td>\n",
       "      <td>31</td>\n",
       "      <td>30</td>\n",
       "      <td>...</td>\n",
       "      <td>32</td>\n",
       "      <td>35</td>\n",
       "      <td>33</td>\n",
       "      <td>23</td>\n",
       "      <td>26</td>\n",
       "      <td>27</td>\n",
       "      <td>29</td>\n",
       "      <td>34</td>\n",
       "      <td>29.702541</td>\n",
       "      <td>19.618703</td>\n",
       "    </tr>\n",
       "    <tr>\n",
       "      <td>T</td>\n",
       "      <td>0</td>\n",
       "      <td>51</td>\n",
       "      <td>54</td>\n",
       "      <td>49</td>\n",
       "      <td>49</td>\n",
       "      <td>52</td>\n",
       "      <td>49</td>\n",
       "      <td>52</td>\n",
       "      <td>51</td>\n",
       "      <td>53</td>\n",
       "      <td>...</td>\n",
       "      <td>51</td>\n",
       "      <td>52</td>\n",
       "      <td>43</td>\n",
       "      <td>64</td>\n",
       "      <td>61</td>\n",
       "      <td>55</td>\n",
       "      <td>51</td>\n",
       "      <td>49</td>\n",
       "      <td>52.763827</td>\n",
       "      <td>34.850818</td>\n",
       "    </tr>\n",
       "    <tr>\n",
       "      <td>GC</td>\n",
       "      <td>0</td>\n",
       "      <td>71</td>\n",
       "      <td>65</td>\n",
       "      <td>71</td>\n",
       "      <td>77</td>\n",
       "      <td>70</td>\n",
       "      <td>69</td>\n",
       "      <td>68</td>\n",
       "      <td>69</td>\n",
       "      <td>68</td>\n",
       "      <td>...</td>\n",
       "      <td>69</td>\n",
       "      <td>65</td>\n",
       "      <td>76</td>\n",
       "      <td>64</td>\n",
       "      <td>65</td>\n",
       "      <td>69</td>\n",
       "      <td>72</td>\n",
       "      <td>68</td>\n",
       "      <td>68.932735</td>\n",
       "      <td>45.530478</td>\n",
       "    </tr>\n",
       "    <tr>\n",
       "      <td>AT</td>\n",
       "      <td>0</td>\n",
       "      <td>83</td>\n",
       "      <td>86</td>\n",
       "      <td>80</td>\n",
       "      <td>75</td>\n",
       "      <td>82</td>\n",
       "      <td>82</td>\n",
       "      <td>83</td>\n",
       "      <td>82</td>\n",
       "      <td>83</td>\n",
       "      <td>...</td>\n",
       "      <td>83</td>\n",
       "      <td>87</td>\n",
       "      <td>76</td>\n",
       "      <td>87</td>\n",
       "      <td>87</td>\n",
       "      <td>82</td>\n",
       "      <td>80</td>\n",
       "      <td>83</td>\n",
       "      <td>82.466368</td>\n",
       "      <td>54.469522</td>\n",
       "    </tr>\n",
       "  </tbody>\n",
       "</table>\n",
       "<p>6 rows × 671 columns</p>\n",
       "</div>"
      ],
      "text/plain": [
       "    0   1   2   3   4   5   6   7   8   9  ...  661  662  663  664  665  666  \\\n",
       "G   0  39  36  38  38  37  45  35  35  35  ...   37   42   41   27   29   34   \n",
       "C   0  32  29  33  39  33  24  33  34  33  ...   32   23   35   37   36   35   \n",
       "A   0  32  32  31  26  30  33  31  31  30  ...   32   35   33   23   26   27   \n",
       "T   0  51  54  49  49  52  49  52  51  53  ...   51   52   43   64   61   55   \n",
       "GC  0  71  65  71  77  70  69  68  69  68  ...   69   65   76   64   65   69   \n",
       "AT  0  83  86  80  75  82  82  83  82  83  ...   83   87   76   87   87   82   \n",
       "\n",
       "    667  668       Mean    Percent  \n",
       "G    39   37  35.644245  23.543234  \n",
       "C    33   31  33.288490  21.987244  \n",
       "A    29   34  29.702541  19.618703  \n",
       "T    51   49  52.763827  34.850818  \n",
       "GC   72   68  68.932735  45.530478  \n",
       "AT   80   83  82.466368  54.469522  \n",
       "\n",
       "[6 rows x 671 columns]"
      ]
     },
     "execution_count": 23,
     "metadata": {},
     "output_type": "execute_result"
    }
   ],
   "source": [
    "GC_AT_s3t3"
   ]
  },
  {
   "cell_type": "code",
   "execution_count": 57,
   "metadata": {},
   "outputs": [
    {
     "name": "stdout",
     "output_type": "stream",
     "text": [
      "<class 'pandas.core.frame.DataFrame'>\n"
     ]
    }
   ],
   "source": [
    "print(type(GC_AT_s3t3))"
   ]
  },
  {
   "cell_type": "code",
   "execution_count": 59,
   "metadata": {},
   "outputs": [],
   "source": [
    "#GC_AT_s1t3.to_csv('GC_AT_s1t3.csv', index = True)"
   ]
  },
  {
   "cell_type": "code",
   "execution_count": 60,
   "metadata": {},
   "outputs": [],
   "source": [
    "GC_content_s1 = [GC_AT_s1t1.iloc[-2,-1], GC_AT_s1t2.iloc[-2,-1], GC_AT_s1t3.iloc[-2,-1]]\n",
    "GC_content_s2 = [GC_AT_s2t1.iloc[-2,-1], GC_AT_s2t2.iloc[-2,-1], GC_AT_s2t3.iloc[-2,-1]]\n",
    "GC_content_s3 = [GC_AT_s3t1.iloc[-2,-1], GC_AT_s3t2.iloc[-2,-1], GC_AT_s3t3.iloc[-2,-1]]\n",
    "\n",
    "AT_content_s1 = [GC_AT_s1t1.iloc[-1,-1], GC_AT_s1t2.iloc[-1,-1], GC_AT_s1t3.iloc[-1,-1]]\n",
    "AT_content_s2 = [GC_AT_s2t1.iloc[-1,-1], GC_AT_s2t2.iloc[-1,-1], GC_AT_s2t3.iloc[-1,-1]]\n",
    "AT_content_s3 = [GC_AT_s3t1.iloc[-1,-1], GC_AT_s3t2.iloc[-1,-1], GC_AT_s3t3.iloc[-1,-1]]"
   ]
  },
  {
   "cell_type": "code",
   "execution_count": 54,
   "metadata": {},
   "outputs": [],
   "source": [
    "GC_content = (GC_content_s1, GC_content_s2, GC_content_s3)\n",
    "AT_content = (AT_content_s1, AT_content_s2, AT_content_s3)"
   ]
  },
  {
   "cell_type": "code",
   "execution_count": 62,
   "metadata": {},
   "outputs": [
    {
     "data": {
      "text/plain": [
       "[44.9685544097893, 45.045558397086005, 45.609142285276974]"
      ]
     },
     "execution_count": 62,
     "metadata": {},
     "output_type": "execute_result"
    }
   ],
   "source": [
    "GC_content_s2"
   ]
  },
  {
   "cell_type": "code",
   "execution_count": 55,
   "metadata": {},
   "outputs": [
    {
     "data": {
      "text/plain": [
       "([44.334156418844586, 40.512591045815, 40.70689682909957],\n",
       " [44.9685544097893, 45.045558397086005, 45.609142285276974],\n",
       " [44.91248780704088, 44.94025435125062, 45.53047805224809])"
      ]
     },
     "execution_count": 55,
     "metadata": {},
     "output_type": "execute_result"
    }
   ],
   "source": [
    "GC_content"
   ]
  },
  {
   "cell_type": "code",
   "execution_count": 23,
   "metadata": {},
   "outputs": [
    {
     "data": {
      "text/plain": [
       "([55.66584358115542, 59.48740895418501, 59.293103170900444],\n",
       " [55.031445590210694, 54.954441602914, 54.39085771472302],\n",
       " [55.08751219295912, 55.05974564874938, 54.469521947751915])"
      ]
     },
     "execution_count": 23,
     "metadata": {},
     "output_type": "execute_result"
    }
   ],
   "source": [
    "AT_content"
   ]
  },
  {
   "cell_type": "code",
   "execution_count": 24,
   "metadata": {},
   "outputs": [
    {
     "data": {
      "text/plain": [
       "<matplotlib.legend.Legend at 0x1a2125bf50>"
      ]
     },
     "execution_count": 24,
     "metadata": {},
     "output_type": "execute_result"
    },
    {
     "data": {
      "image/png": "[encoded data removed]",
      "text/plain": [
       "<Figure size 432x288 with 1 Axes>"
      ]
     },
     "metadata": {
      "needs_background": "light"
     },
     "output_type": "display_data"
    }
   ],
   "source": [
    "labels = ['Sample 1', 'Sample 2', 'Sample 3']\n",
    "fig, ax = plt.subplots()\n",
    "\n",
    "s1_bar_list = [ax.bar([0,1,2], GC_content_s1, align='edge',width= 0.1, label = 'GC',color='#0e15e3'),\n",
    "               ax.bar([0,1,2], AT_content_s1, align='edge',width= 0.1, bottom = GC_content_s1,label = 'AT',color='#fc9803')]\n",
    "\n",
    "s2_bar_list = [ax.bar([0,1,2], GC_content_s2, align='edge',width= -0.2, label = 'GC',color='#7174eb'),\n",
    "               ax.bar([0,1,2], AT_content_s2, align='edge',width= -0.2, bottom = GC_content_s1,label = 'AT',color='#db890d')]\n",
    "\n",
    "s3_bar_list = [ax.bar([0,1,2], GC_content_s3, align='edge',width= -0.1, label = 'GC',color='#484a99'),\n",
    "               ax.bar([0,1,2], AT_content_s3, align='edge',width= -0.1, bottom = GC_content_s1,label = 'AT',color='#f7ad3b')]\n",
    "\n",
    "plt.xlabel(labels)\n",
    "plt.ylabel('Percentage of base types')\n",
    "plt.title('GC/AT content in each time-point of sample 3')\n",
    "ax.legend(fontsize = 'small',loc='center left',bbox_to_anchor=(1, 0.5),ncol=1,fancybox=True,shadow=True)"
   ]
  },
  {
   "cell_type": "code",
   "execution_count": 25,
   "metadata": {},
   "outputs": [
    {
     "data": {
      "text/plain": [
       "<matplotlib.legend.Legend at 0x1a20495750>"
      ]
     },
     "execution_count": 25,
     "metadata": {},
     "output_type": "execute_result"
    },
    {
     "data": {
      "image/png": "[encoded data removed]",
      "text/plain": [
       "<Figure size 432x288 with 1 Axes>"
      ]
     },
     "metadata": {
      "needs_background": "light"
     },
     "output_type": "display_data"
    }
   ],
   "source": [
    "labels = ['Time 1', 'Time 2', 'Time 3']\n",
    "width = 0.5\n",
    "fig, ax = plt.subplots()\n",
    "ax.bar(labels, GC_content_s1, width, label = 'GC')\n",
    "ax.bar(labels, AT_content_s1, width, bottom = GC_content_s1,label = 'AT')\n",
    "ax.set_ylabel('Percentage of base types')\n",
    "ax.set_title('GC/AT content in each time-point of sample 3')\n",
    "ax.legend()\n",
    "plt.legend(fontsize = 'small')\n",
    "ax.legend(loc = 'center left', bbox_to_anchor = (1, 0.5), ncol = 1, fancybox = True, shadow = True)"
   ]
  },
  {
   "cell_type": "code",
   "execution_count": 26,
   "metadata": {},
   "outputs": [],
   "source": [
    "G = [(GC_AT_s1t1.iloc[0,-1]*100/GC_AT_s1t1.iloc[0:4,-1]), (GC_AT_s1t2.iloc[0,-1]*100/GC_AT_s1t1.iloc[0:4,-1]), (GC_AT_s1t3.iloc[0,-1]*100/GC_AT_s1t1.iloc[0:4,-1])]\n",
    "C = [(GC_AT_s1t1.iloc[1,-1]*100/GC_AT_s1t1.iloc[0:4,-1]), (GC_AT_s1t2.iloc[1,-1]*100/GC_AT_s1t1.iloc[0:4,-1]), (GC_AT_s1t3.iloc[1,-1]*100/GC_AT_s1t1.iloc[0:4,-1])]\n",
    "A = [(GC_AT_s1t1.iloc[2,-1]*100/GC_AT_s1t1.iloc[0:4,-1]), (GC_AT_s1t2.iloc[2,-1]*100/GC_AT_s1t1.iloc[0:4,-1]), (GC_AT_s1t3.iloc[2,-1]*100/GC_AT_s1t1.iloc[0:4,-1])]\n",
    "T = [(GC_AT_s1t1.iloc[3,-1]*100/GC_AT_s1t1.iloc[0:4,-1]), (GC_AT_s1t2.iloc[3,-1]*100/GC_AT_s1t1.iloc[0:4,-1]), (GC_AT_s1t3.iloc[3,-1]*100/GC_AT_s1t1.iloc[0:4,-1])]"
   ]
  },
  {
   "cell_type": "code",
   "execution_count": 27,
   "metadata": {},
   "outputs": [
    {
     "data": {
      "text/html": [
       "<div>\n",
       "<style scoped>\n",
       "    .dataframe tbody tr th:only-of-type {\n",
       "        vertical-align: middle;\n",
       "    }\n",
       "\n",
       "    .dataframe tbody tr th {\n",
       "        vertical-align: top;\n",
       "    }\n",
       "\n",
       "    .dataframe thead th {\n",
       "        text-align: right;\n",
       "    }\n",
       "</style>\n",
       "<table border=\"1\" class=\"dataframe\">\n",
       "  <thead>\n",
       "    <tr style=\"text-align: right;\">\n",
       "      <th></th>\n",
       "      <th>G</th>\n",
       "      <th>C</th>\n",
       "      <th>A</th>\n",
       "      <th>T</th>\n",
       "    </tr>\n",
       "  </thead>\n",
       "  <tbody>\n",
       "    <tr>\n",
       "      <td>Time 1</td>\n",
       "      <td>21.905484</td>\n",
       "      <td>22.428673</td>\n",
       "      <td>18.942376</td>\n",
       "      <td>36.723468</td>\n",
       "    </tr>\n",
       "    <tr>\n",
       "      <td>Time 2</td>\n",
       "      <td>19.519228</td>\n",
       "      <td>20.993363</td>\n",
       "      <td>18.821936</td>\n",
       "      <td>40.665473</td>\n",
       "    </tr>\n",
       "    <tr>\n",
       "      <td>Time 3</td>\n",
       "      <td>19.704307</td>\n",
       "      <td>21.002590</td>\n",
       "      <td>18.605512</td>\n",
       "      <td>40.687591</td>\n",
       "    </tr>\n",
       "  </tbody>\n",
       "</table>\n",
       "</div>"
      ],
      "text/plain": [
       "                G          C          A          T\n",
       "Time 1  21.905484  22.428673  18.942376  36.723468\n",
       "Time 2  19.519228  20.993363  18.821936  40.665473\n",
       "Time 3  19.704307  21.002590  18.605512  40.687591"
      ]
     },
     "execution_count": 27,
     "metadata": {},
     "output_type": "execute_result"
    }
   ],
   "source": [
    "G = [GC_AT_s1t1.iloc[0,-1], GC_AT_s1t2.iloc[0,-1], GC_AT_s1t3.iloc[0,-1]]\n",
    "C = [GC_AT_s1t1.iloc[1,-1], GC_AT_s1t2.iloc[1,-1], GC_AT_s1t3.iloc[1,-1]]\n",
    "A = [GC_AT_s1t1.iloc[2,-1], GC_AT_s1t2.iloc[2,-1], GC_AT_s1t3.iloc[2,-1]]\n",
    "T = [GC_AT_s1t1.iloc[3,-1], GC_AT_s1t2.iloc[3,-1], GC_AT_s1t3.iloc[3,-1]]\n",
    "baseContent = pd.DataFrame(list(zip(G,C,A,T)), columns = ['G','C','A','T'], index = ['Time 1', 'Time 2', 'Time 3'])\n",
    "baseContent.head(3)"
   ]
  },
  {
   "cell_type": "code",
   "execution_count": 28,
   "metadata": {},
   "outputs": [
    {
     "data": {
      "text/plain": [
       "Text(0.5, 1.0, 'Base content in each time-point')"
      ]
     },
     "execution_count": 28,
     "metadata": {},
     "output_type": "execute_result"
    },
    {
     "data": {
      "image/png": "[encoded data removed]",
      "text/plain": [
       "<Figure size 432x288 with 1 Axes>"
      ]
     },
     "metadata": {
      "needs_background": "light"
     },
     "output_type": "display_data"
    }
   ],
   "source": [
    "baseContent.diff(axis=1).fillna(baseContent).astype(baseContent.dtypes).plot.bar(stacked=True)\n",
    "plt.legend(fontsize='small', loc='center left', bbox_to_anchor=(1, 0.5),ncol=1, fancybox=True, shadow=True)\n",
    "plt.ylabel('Percentage of base types')\n",
    "plt.title('Base content in each time-point')"
   ]
  },
  {
   "cell_type": "markdown",
   "metadata": {},
   "source": [
    "### Mutation profile:"
   ]
  },
  {
   "cell_type": "markdown",
   "metadata": {},
   "source": [
    "#### Detect indel mutations:"
   ]
  },
  {
   "cell_type": "markdown",
   "metadata": {},
   "source": [
    "Mutations can be of different types. Substitutions are replacements of one letter by another. Insertions (in) refers to extra letters inserted into the sequence. Deletions (dels) happen when a letter is lost. Indels shift the sequence frame."
   ]
  },
  {
   "cell_type": "code",
   "execution_count": 29,
   "metadata": {},
   "outputs": [],
   "source": [
    "ref1='CTTTAAGGTTCA---GTGAATACTGTTGAGAACGCTGGTTCGTCACTTCCATCGCGAGCTGCCTCCCGTGCATCCGAAGATGTTCTCAAGCTCTAAGGG-CAGATTTGTCTTTT-CCTGGTCACTATAA-TGTATTCTTC------T------T------AT-AGTGAGTCGTATTAG'\n",
    "ref2='CTTTAAGGTTC-A---GTGAATACTGTTGAGAACGCTGGTTCGT-CACTTCC-ATCGCGAG-CTGCCTCC-CGTGCATCCGAAGATGTTCTCAAGCTCTAAGGGCAGATTTGTCTTTT--CCTGGT-CACTATAATGTATTCTTCT------------T---------ATA-GTGAGTC-GTATTAG-'\n",
    "ref3='CTTTAAGGTTCA---GTGAATACTGTTGAGAACGCTGGTTCGTCACT-TC--CATCGCGAGCTGCCTCCCGTGCATCCGAAGATGTTCTCAAGCTCTAAGGGCAGATTTGTCTTTT-CCTGGTCACTATAATGTATTCTTCT--------T---ATAGTGAGTCGTATTAG'\n",
    "\n",
    "ref4='CTTTAA---G-GT-TC---A---G---T---G---A---A---T---AC--T-G-TT-G-AG-A--A-CG-CTGG-TTCG-T--CA--C-T--T-C--CA-T--CGCGAG--CTG-CCTCCC-GTG-CATCC-GA-A-GA-TGTT-C-TCAAGCTCTAA-GG-G-CAGA-TTT-GTC-TT-TT--CC-TGGTCACTAT---AA-TGT-AT---------------T---------------C----------T-----TC------T--------------T------------A-T---------A-GT-G--A-G-T----C-G-T-A-TTAG'\n",
    "ref5='CTTTAAGGTTC---A---G---T---G---A---A---T-A---C--T---G-TT-G-A-GA--A-C-G-CT-GGT-T-CG-TC--AC-T---T-C-C--A-T-C-G--C-GAG-C-T-GCCTCCC-G-T-GC--A-TCC-G-A--------AGATG-TTCTCAAGCTCT-AA-GG-G-CAGA-TT-T-G-TC-TT-TT---CC-TGG-T-C------ACTATA--AT---G------------TAT---------T---------------CT------TC---------------T--------------T--------------AT---------AG-T-G-A-G-T--C-G-T-A-T-TAG'\n",
    "ref6='CTTTAAGGTTC---A---G---T---G---A---AT-AC-TG-TTGAG-AA-C-G-C-TGG-TTCGTCACTT-CC-ATC-G-CGAGCTGCCTCCC-GTG-CATCCGAAG---ATGTTC-TCAAGCTCTAAGGGC-AGATTT-GTCTTTT-CC-TGGTCACTATAATGTATTCT-TC-T-------------T------ATAGT-G-AG-TC-GT-A-TTAG'\n",
    "\n",
    "ref7='CTTTAAGGTTC-A---G---T----G---A---A---T-ACT-G-TTG-AG-AACG-CTGG-TTCGTCACT--T--CC-ATCGCGAG--CTGCCT-CCC-GTGCA-TCCGA-AGATGTTCTCAA-GCTCT-AA-GGG-CAGATTT-G-TCTT-T-T-CC-TGG-TCACT--ATAATGTA------------TTCT-----TCT------------T------AT-AG-TG-A-G--T-C-GT-A-TTAG'\n",
    "ref8='CTTTAAGGTTC---A---G---T---G---A---A-T-A-C-T---GTT-GAG-AA-CG-C-T--GGTTCGTCACT--T-CCA-T--C-GCG-AG-C-TGCCTCCCGTGCATCC-GA-AGATGTT-CTCAA-GCTC-TAAGGG-CAGATTT-GTCTT-TT--CCTG-GTC-----ACT-A-TA---------------ATGTAT---T---------------C-TT-------------C---T------------T------------AT------A-G-T-GA-G-T-C-G-T-ATTAG'\n",
    "ref9='CTTTAAGGTTCA---GT---G---AAT-A--CT---GTTGAG-AACG-CTGGTTC-GTCAC-TTCCA-TCGCG--AG-CTGCCTCCCGTGCATCCGAAGA--TGTTCTCAAGCTCTAAGGGCAGATTTGTC-TTTT-CCTGGTCACTATAATGTATTCTTCT-------T-----ATAGTGAGTCGT-ATTAG'\n"
   ]
  },
  {
   "cell_type": "code",
   "execution_count": 30,
   "metadata": {},
   "outputs": [
    {
     "name": "stdout",
     "output_type": "stream",
     "text": [
      "178 188 171\n",
      "335 365 221\n",
      "249 302 193\n"
     ]
    }
   ],
   "source": [
    "print(len(ref1),len(ref2),len(ref3))\n",
    "print(len(ref4),len(ref5),len(ref6))\n",
    "print(len(ref7),len(ref8),len(ref9))"
   ]
  },
  {
   "cell_type": "code",
   "execution_count": 31,
   "metadata": {},
   "outputs": [],
   "source": [
    "def indels(string1, string2): \n",
    "    insertions = 0\n",
    "    deletions = 0\n",
    "    length = len(string1)\n",
    "    for i in range(length):\n",
    "        if string1[i] == '-' and string2[i] != '-':\n",
    "            insertions += 1\n",
    "        elif string1[i] != '-' and string2[i] == '-':\n",
    "            deletions += 1\n",
    "    return insertions, deletions"
   ]
  },
  {
   "cell_type": "code",
   "execution_count": 32,
   "metadata": {},
   "outputs": [],
   "source": [
    "alignment1['indels'] = alignment1.alignedSequences.apply(indels, args=(ref1,))\n",
    "alignment2['indels'] = alignment2.alignedSequences.apply(indels, args=(ref2,))\n",
    "alignment3['indels'] = alignment3.alignedSequences.apply(indels, args=(ref3,))\n",
    "\n",
    "alignment4['indels'] = alignment4.alignedSequences.apply(indels, args=(ref4,))\n",
    "alignment5['indels'] = alignment5.alignedSequences.apply(indels, args=(ref5,))\n",
    "alignment6['indels'] = alignment6.alignedSequences.apply(indels, args=(ref6,))\n",
    "\n",
    "alignment7['indels'] = alignment7.alignedSequences.apply(indels, args=(ref7,))\n",
    "alignment8['indels'] = alignment8.alignedSequences.apply(indels, args=(ref8,))\n",
    "alignment9['indels'] = alignment9.alignedSequences.apply(indels, args=(ref9,))"
   ]
  },
  {
   "cell_type": "code",
   "execution_count": 33,
   "metadata": {},
   "outputs": [
    {
     "name": "stdout",
     "output_type": "stream",
     "text": [
      "[0, 7, 5, 7, 2, 4, 5, 4, 4, 4, 4, 1, 1, 1, 2, 2, 2, 2, 2, 2, 2, 2, 2, 2, 2, 2, 2, 2, 2, 2, 2, 2, 2, 2, 2, 2, 2, 2, 2, 2, 2, 2, 2, 2, 2, 2, 2, 2, 2, 2, 3, 3, 3, 3, 3, 3, 3, 3, 3, 3, 3, 3, 3, 3, 3, 3, 3, 3, 3, 3, 3, 3, 3, 3, 1, 1, 1, 1, 1, 1, 1, 1, 1, 1, 1, 1, 1, 1, 1, 1, 1, 1, 1, 1, 1, 1, 1, 1, 1, 1, 1, 2, 2, 2, 2, 2, 2, 2, 2, 2, 2, 2, 2, 2, 2, 2, 2, 2, 2, 2, 2, 2, 2, 2, 2, 2, 2, 2, 2, 2, 2, 2, 2, 2, 2, 2, 2, 2, 2, 2, 2, 2, 2, 3, 2, 2, 2, 2, 2, 2, 2, 2, 2, 2, 2, 2, 2, 2, 2, 2, 2, 2, 2, 2, 2, 2, 2, 2, 2, 2, 2, 2, 2, 2, 2, 2, 2, 2, 2, 2, 2, 2, 2, 2, 2, 2, 2, 2, 2, 2, 2, 2, 2, 2, 2, 2, 2, 2, 2, 2, 2, 2, 2, 2, 2, 2, 2, 2, 2, 2, 2, 2, 2, 2, 2, 2, 2, 2, 2, 2, 2, 2, 2, 2, 2, 2, 2, 2, 2, 2, 2, 2, 2, 2, 2, 2, 2, 2, 2, 2, 2, 2, 2, 2, 2, 2, 2, 2, 2, 2, 2, 2, 2, 2, 2, 2, 2, 2, 2, 2, 2, 2, 2, 2, 2, 2, 2, 2, 2, 2, 2, 2, 2, 2, 2, 2, 2, 2, 2, 2, 2, 2, 2, 2, 2, 2, 2, 2, 2, 2, 2, 2, 2, 2, 2, 2, 2, 2, 2, 2, 2, 2, 2, 2, 2, 2, 2, 2, 2, 2, 2, 2, 2, 3, 2, 2, 2, 2, 2, 2, 2, 2, 2, 2, 2, 2, 2, 2, 2, 2, 2, 2, 2, 2, 2, 2, 2, 2, 2, 2, 2, 2, 2, 2, 2, 2, 2, 2, 2, 2, 2, 2, 2, 2, 2, 2, 2, 2, 2, 2, 2, 2, 2, 2, 2, 2, 2, 2, 2, 2, 2, 2, 2, 2, 2, 2, 2, 2, 2, 2, 2, 2, 2, 2, 2, 2, 2, 2, 2, 2, 2, 2, 2, 2, 2, 2, 2, 2, 2, 2, 2, 2, 2, 2, 2, 2, 2, 2, 2, 2, 2, 2, 2, 2, 2, 2, 2, 2, 2, 2, 2, 2, 2, 2, 2, 2, 2, 2, 2, 2, 2, 2, 2, 2, 2, 2, 2, 2, 2, 2, 2, 2, 2, 2, 2, 2, 2, 2, 2, 2, 2, 2, 2, 2, 2, 2, 2, 2, 2, 2, 2, 2, 2, 2, 2, 2, 2, 2, 2, 2, 2, 2, 2, 2, 2, 2, 2, 2, 2, 2, 2, 2, 2, 2, 2, 2, 2, 2, 2, 2, 2, 2, 2, 2, 2, 2, 2, 2, 2, 2, 2, 2, 2, 2, 2, 2, 2, 2, 2, 2, 2, 2, 2, 2, 2, 2, 2, 2, 2, 2, 2, 2, 2, 2, 2, 2, 2, 2, 2, 2, 2, 2, 2, 2, 2, 2, 2, 2, 2, 2, 2, 2, 2, 2, 2, 2, 2, 2, 2, 2, 2, 2, 2, 2, 3, 2, 2, 2, 2, 2, 2, 2, 2, 2, 2, 2, 2, 2, 2, 2, 2, 2, 2, 2, 2, 2, 2, 2, 2, 2, 2, 2, 2, 2, 2, 2, 2, 2, 2, 2, 2, 2, 2, 2, 2, 2, 2, 2, 2, 2, 2, 2, 2, 2, 2, 2, 2, 2, 2, 2, 2, 2, 2, 2, 2, 2, 2, 2, 2, 2, 2, 2, 2, 2, 2, 2, 2, 2, 2, 2, 2, 2, 2, 2, 2, 2, 2, 2, 2, 2, 2, 2, 2, 2, 2, 2, 2, 2, 2, 2, 2, 2, 2, 2, 2, 2, 2, 2, 2, 2, 2, 2, 2, 2, 2, 2, 2, 2, 2, 2, 2, 2, 2, 2, 2, 2, 2, 2, 2, 2, 2, 2, 2, 2, 2, 2, 2, 2, 2, 2, 2, 2, 2, 2, 2, 2, 2, 2, 2, 2, 2, 2, 2, 2, 2, 2, 2, 2, 2, 2, 2, 2, 2, 2, 2, 2, 2, 2, 2, 2, 2, 2, 2, 2, 2, 2, 2, 2, 2, 2, 2, 2, 2, 2, 2, 2, 2, 2, 2, 2, 2, 2, 2, 2, 2, 2, 2, 2, 2, 2, 2, 2, 2, 2, 2, 2, 2, 2, 2, 2, 2, 2, 2, 2, 2, 2, 2, 2, 2, 2, 2, 2, 2, 2, 2, 2, 2, 2, 2, 2, 2, 2, 2, 2, 2, 2, 2, 2, 2, 2, 2, 2, 2, 2, 2, 2, 2, 2, 2, 2, 2, 2, 2, 2, 2, 2, 2, 2, 2, 2, 2, 2, 2, 2, 2, 2, 2, 2, 2, 2, 2, 2, 2, 2, 2, 2, 2, 2, 2, 2, 2, 2, 2, 2, 2, 2, 2, 2, 2, 2, 2, 2, 2, 2, 2, 2, 2, 2, 2, 2, 2, 2, 2, 2, 2, 2, 2, 2, 2, 2, 2, 2, 2, 2, 2, 2, 2, 2, 2, 2, 2, 2, 2, 2, 2, 2, 2, 2, 2, 2, 2, 2, 2, 2, 2, 2, 2, 2, 2, 2, 2, 2, 2, 2, 2, 2, 2, 2, 2, 2, 2, 2, 2, 2, 2, 2, 2, 2, 2, 2, 2, 2, 2, 2, 2, 2, 2, 2, 2, 2, 2, 2, 2, 2, 2, 2, 2, 2, 2, 2, 2, 2, 2, 2, 2, 2, 2, 2, 2, 2, 2, 2, 2, 2, 2, 2, 2, 2, 2, 2, 2, 2, 2, 2, 2, 2, 3, 2, 2, 2, 2, 2, 2, 2, 2, 2, 2, 2, 2, 2, 2, 2, 2, 2, 2, 2, 2, 2, 2, 2, 2, 2, 2, 2, 2, 2, 2, 2, 2, 2, 2, 2, 2, 2, 2, 2, 2, 2, 2, 2, 2, 2, 2, 2, 2, 2, 2, 2, 2, 2, 2, 2, 2, 2, 2, 2, 2, 2, 2, 2, 2, 2, 2, 2, 2, 2, 2, 2, 2, 2, 2, 2, 2, 2, 2, 2, 2, 2, 2, 2, 2, 2, 2, 2, 2, 2, 2, 2, 2, 2, 2, 2, 2, 2, 2, 2, 2, 2, 2, 2, 2, 2, 2, 2, 2, 2, 2, 2, 2, 2, 2, 2, 2, 2, 2, 2, 2, 2, 2, 2, 2, 2, 2, 2, 2, 2, 2, 2, 2, 2, 2, 2, 2, 2, 2, 2, 2, 2, 2, 2, 2, 2, 2, 2, 2, 2, 2, 2, 2, 2, 2, 2, 2, 2, 2, 2, 2, 2, 2, 2, 2, 2, 2, 2, 2, 2, 2, 2, 2, 2, 2, 2, 2, 2, 2, 2, 2, 2, 2, 2, 2, 2, 2, 2, 2, 2, 2, 2, 2, 2, 2, 2, 2, 2, 2, 2, 2, 2, 2, 2, 2, 2, 2, 2, 2, 2, 2, 2, 2, 2, 2, 2, 2, 2, 2, 2, 2, 2, 2, 2, 2, 2, 2, 2, 2, 2, 2, 2, 2, 2, 2, 2, 2, 2, 2, 2, 2, 2, 2, 2, 2, 2, 2, 2, 2, 2, 2, 2, 2, 2, 2, 2, 2, 2, 2, 2, 2, 2, 2, 2, 2, 2, 2, 2, 2, 2, 2, 2, 2, 2, 2, 2, 2, 2, 2, 2, 2, 2, 2, 2, 2, 2, 2, 2, 2, 2, 2, 2, 2, 2, 2, 2, 2, 2, 2, 2, 2, 2, 2, 2, 2, 2, 2, 2, 2, 2, 2, 2, 2, 2, 2, 2, 2, 2, 2, 2, 2, 2, 2, 2, 2, 2, 2, 2, 2, 2, 2, 2, 2, 2, 2, 2, 2, 2, 2, 2, 2, 2, 2, 2, 2, 2, 2, 2, 2, 2, 2, 2, 2, 2, 2, 2, 2, 2, 2, 2, 2, 2, 2, 2, 2, 2, 2, 2, 2, 2, 2, 2, 2, 2, 2, 2, 2, 2, 2, 2, 2, 2, 2, 2, 2, 2, 2, 2, 2, 2, 2, 2, 2, 2, 2, 2, 2, 2, 2, 2, 2, 2, 2, 2, 2, 2, 2, 2, 2, 2, 2, 2, 2, 2, 2, 2, 2, 2, 2, 2, 2, 2, 2, 2, 2, 2, 2, 2, 2, 2, 2, 2, 2, 2, 2, 2, 2, 2, 2, 2, 2, 2, 2, 2, 2, 2, 2, 2, 2, 2, 2, 2, 2, 2, 2, 2, 2, 2, 2, 2, 2, 2, 2, 2, 2, 2, 2, 2, 2, 2, 2, 2, 2, 2, 2, 2, 2, 2, 2, 2, 2, 2, 2, 2, 2, 2, 2, 2, 2, 2, 2, 2, 2, 2, 2, 2, 1, 1, 1, 1, 1, 1, 1, 1, 1, 1, 1, 1, 1, 1, 1, 1, 1, 1, 1, 1, 1, 1, 1, 1, 1, 1, 1, 1, 1, 1, 1, 1, 1, 1, 1, 1, 1, 1, 1, 1, 1, 1, 1, 1, 1, 1, 1, 1, 1, 1, 1, 1, 1, 1, 1, 1, 1, 1, 1, 1, 1, 1, 1, 1, 1, 1, 1, 1, 1, 1, 1, 1, 1, 1, 1, 1, 1, 1, 1, 1, 1, 1, 1, 1, 1, 1, 1, 1, 1, 1, 1, 1, 1, 1, 1, 1, 1, 1, 1, 1, 1, 1, 1, 1, 1, 1, 1, 1, 1, 1, 1, 1, 1, 1, 1, 1, 1, 1, 1, 1, 1, 1, 1, 1, 1, 1, 1, 1, 1, 1, 1, 1, 1, 1, 1, 1, 1, 1, 1, 1, 1, 1, 1, 1, 1, 1, 1, 1, 1, 1, 1, 1, 1, 1, 1, 1, 1, 1, 1, 1, 1, 1, 1, 1, 1, 1, 1, 1, 1, 1, 1, 1, 1, 1, 1, 1, 1, 1, 1, 1, 1, 1, 1, 1, 1, 1, 1, 1, 1, 1, 1, 1, 1, 1, 1, 1, 1, 1, 1, 1, 1, 1, 1, 1, 1, 1, 1, 1, 1, 1, 1, 1, 1, 1, 1, 1, 1, 1, 1, 1, 1, 1, 1, 1, 1, 1, 1, 1, 1, 1, 1, 1, 1, 1, 1, 1, 1, 1, 1, 1, 1, 1, 1, 1, 1, 1, 1, 1, 1, 1, 1, 1, 1, 1, 1, 1, 1, 1, 1, 1, 2, 1, 1, 1, 1, 1, 1, 1, 1, 1, 1, 1, 1, 1, 1, 1, 1, 1, 1, 1, 1, 1, 1, 1, 1, 1, 1, 1, 1, 1, 1, 1, 1, 1, 1, 1, 1, 1, 1, 1, 1, 1, 1, 1, 1, 1, 1, 1, 1, 1, 1, 1, 1, 1, 1, 1, 1, 1, 1, 1, 1, 1, 1, 1, 1, 1, 1, 1, 1, 1, 1, 1, 1, 1, 1, 1, 1, 1, 1, 1, 1, 1, 1, 1, 1, 1, 1, 1, 1, 1, 1, 1, 1, 1, 1, 1, 1, 1, 1, 1, 1, 1, 1, 1, 1, 1, 1, 1, 1, 1, 1, 1, 1, 1, 1, 1, 1, 1, 1, 1, 1, 1, 1, 1, 1, 1, 1, 1, 1, 1, 1, 1, 1, 1, 1, 1, 1, 1, 1, 1, 1, 1, 1, 1, 1, 1, 1, 1, 1, 1, 1, 1, 1, 1, 1, 1, 1, 1, 1, 1, 1, 1, 1, 1, 1, 1, 1, 1, 1, 1, 1, 1, 1, 1, 1, 1, 1, 1, 1, 1, 1, 1, 1, 1, 1, 1, 1, 1, 1, 1, 1, 1, 1, 1, 1, 1, 1, 1, 1, 1, 1, 1, 1, 1, 1, 1, 1, 1, 1, 1, 1, 1, 1, 1, 1, 1, 1, 1, 1, 1, 1, 1, 1, 1, 1, 1, 1, 1, 1, 1, 1, 1, 1, 1, 1, 1, 1, 1, 1, 1, 1, 1, 1, 1, 1, 1, 1, 1, 1, 1, 1, 1, 1, 1, 1, 1, 1, 1, 1, 1, 1, 1, 1, 1, 1, 1, 1, 1, 1, 1, 1, 1, 1, 1, 1, 1, 1, 1, 1, 1, 1, 1, 1, 1, 1, 1, 1, 1, 1, 1, 1, 1, 1, 1, 1, 1, 1, 1, 1, 1, 1, 1, 1, 1, 1, 1, 1, 1, 1, 1, 1, 1, 1, 1, 1, 1, 1, 1, 1, 1, 1, 1, 1, 1, 1, 1, 1, 1, 1, 1, 1, 1, 1, 1, 1, 1, 1, 1, 1, 1, 1, 1, 1, 1, 1, 1, 1, 1, 1, 1, 1, 1, 1, 1, 1, 1, 1, 1, 1, 1, 1, 1, 1, 1, 1, 1, 1, 1, 1, 1, 1, 1, 1, 1, 1, 1, 1, 1, 1, 1, 1, 1, 1, 1, 1, 1, 1, 1, 1, 1, 1, 1, 1, 1, 1, 1, 1, 1, 1, 1, 1, 1, 1, 1, 1, 1, 1, 1, 1, 1, 1, 1, 1, 1, 1, 1, 1, 1, 1, 1, 1, 1, 1, 1, 1, 1, 1, 1, 1, 1, 1, 1, 1, 1, 1, 1, 1, 1, 1, 1, 1, 1, 1, 1, 1, 1, 1, 1, 1, 1, 1, 1, 1, 1, 1, 1, 1, 1, 1, 1, 1, 1, 1, 1, 1, 1, 1, 1, 1, 1, 1, 1, 1, 1, 1, 1, 1, 1, 1, 1, 1, 1, 1, 1, 1, 1, 1, 1, 1, 1, 1, 1, 1, 1, 1, 1, 1, 1, 1, 1, 1, 1, 1, 1, 1, 1, 1, 1, 1, 1, 1, 1, 1, 1, 1, 1, 1, 1, 1, 1, 1, 1, 1, 1, 1, 1, 1, 1, 1, 1, 1, 1, 1, 1, 1, 1, 1, 1, 1, 1, 1, 1, 1, 1, 1, 1, 1, 1, 3, 1, 1, 1, 1, 1, 1, 1, 1, 1, 1, 1, 1, 1, 1, 1, 1, 1, 1, 1, 1, 1, 1, 1, 1, 1, 1, 1, 1, 1, 1, 1, 1, 1, 1, 1, 1, 1, 1, 1, 1, 1, 1, 1, 1, 1, 1, 1, 1, 1, 1, 1, 1, 1, 1, 1, 1, 1, 1, 1, 1, 1, 1, 1, 1, 1, 1, 1, 1, 1, 1, 1, 1, 1, 1, 1, 1, 1, 1, 1, 1, 1, 1, 1, 1, 1, 1, 1, 1, 1, 1, 1, 1, 1, 1, 1, 1, 1, 1, 1, 1, 1, 1, 1, 1, 1, 1, 1, 1, 1, 1, 1, 1, 1, 1, 1, 1, 1, 1, 1, 1, 1, 1, 1, 1, 1, 1, 1, 1, 1, 1, 1, 1, 1, 1, 1, 1, 1, 1, 1, 1, 1, 1, 1, 1, 1, 1, 1, 1, 1, 1, 1, 1, 1, 1, 1, 1, 1, 1, 1, 1, 1, 1, 1, 1, 1, 1, 1, 1, 1, 1, 1, 1, 1, 1, 1, 1, 1, 1, 1, 1, 1, 1, 1, 1, 1, 1, 1, 1, 1, 1, 1, 1, 1, 1, 1, 1, 1, 1, 1, 1, 1, 1, 1, 1, 1, 1, 1, 1, 1, 1, 1, 1, 1, 1, 1, 1, 1, 1, 1, 1, 1, 1, 1, 1, 1, 1, 1, 1, 1, 1, 1, 1, 1, 1, 1, 1, 1, 1, 1, 1, 1, 1, 1, 1, 1, 1, 1, 1, 1, 1, 1, 1, 1, 1, 1, 1, 1, 1, 1, 1, 1, 1, 1, 1, 1, 1, 1, 1, 1, 1, 1, 1, 1, 1, 1, 1, 1, 1, 1, 1, 1, 1, 1, 1, 1, 1, 1, 1, 1, 1, 1, 1, 1, 1, 1, 1, 1, 1, 1, 1, 1, 1, 1, 1, 1, 1, 1, 1, 1, 1, 1, 1, 1, 1, 1, 1, 1, 1, 1, 1, 1, 1, 1, 1, 1, 1, 1, 1, 1, 1, 1, 1, 1, 1, 1, 1, 1, 1, 1, 1, 1, 1, 1, 1, 1, 1, 1, 1, 1, 1, 1, 1, 1, 1, 1, 1, 1, 1, 1, 1, 1, 1, 1, 1, 1, 1, 1, 1, 1, 1, 1, 1, 1, 1, 1, 1, 1, 1, 1, 1, 1, 1, 1, 1, 1, 1, 1, 1, 1, 1, 1, 1, 1, 1, 1, 1, 1, 1, 1, 1, 1, 1, 1, 1, 1, 1, 1, 1, 1, 1, 1, 1, 1, 1, 1, 1, 1, 1, 1, 1, 1, 1, 1, 1, 1, 1, 1, 1, 1, 1, 1, 1, 1, 1, 1, 1, 1, 1, 1, 1, 1, 1, 1, 1, 1, 1, 1, 1, 1, 1, 1, 1, 1, 1, 1, 1, 1, 1, 1, 1, 1, 1, 1, 1, 1, 1, 1, 1, 1, 1, 1, 1, 1, 1, 1, 1, 1, 1, 1, 1, 1, 1, 1, 1, 1, 1, 1, 1, 1, 1, 1, 1, 1, 1, 1, 1, 1, 1, 1, 1, 1, 1, 1, 1, 1, 1, 1, 1, 1, 1, 1, 1, 1, 1, 1, 1, 1, 1, 1, 1, 1, 1, 1, 1, 1, 1, 1, 1, 1, 1, 1, 1, 1, 1, 1, 1, 1, 1, 1, 1, 1, 1, 1, 1, 1, 1, 1, 1, 1, 1, 1, 1, 1, 1, 1, 1, 1, 1, 1, 1, 1, 1, 1, 1, 1, 1, 1, 1, 1, 1, 1, 1, 1, 1, 1, 1, 1, 1, 1, 1, 1, 1, 1, 1, 1, 1, 1, 1, 1, 1, 1, 1, 1, 1, 1, 1, 1, 1, 1, 1, 1, 1, 1, 1, 1, 1, 1, 1, 1, 1, 1, 1, 1, 1, 1, 1, 1, 1, 1, 1, 1, 1, 1, 1, 1, 1, 1, 1, 1, 1, 1, 1, 1, 1, 1, 1, 1, 1, 1, 1, 1, 1, 1, 1, 1, 1, 1, 1, 1, 1, 1, 1, 1, 1, 1, 1, 1, 1, 1, 1, 1, 1, 1, 1, 1, 1, 1, 1, 1, 1, 1, 1, 1, 1, 1, 1, 1, 1, 1, 1, 1, 1, 1, 1, 1, 1, 1, 1, 1, 1, 1, 1, 1, 1, 1, 1, 1, 1, 1, 1, 1, 1, 1, 1, 1, 1, 1, 1, 1, 1, 1, 1, 1, 1, 1, 1, 1, 1, 1, 1, 1, 1, 1, 1, 1, 1, 1, 1, 1, 1, 1, 1, 1, 1, 1, 1, 1, 1, 1, 1, 1, 1, 1, 1, 1, 1, 1, 1, 1, 1, 1, 1, 1, 1, 1, 1, 1, 1, 1, 1, 1, 1, 1, 1, 1, 1, 1, 1, 1, 1, 1, 1, 1, 1, 1, 1, 1, 1, 1, 1, 1, 1, 1, 1, 1, 1, 1, 2, 1, 1, 1, 1, 1, 1, 1, 1, 1, 1, 1, 1, 1, 1, 1, 1, 1, 1, 1, 1, 1, 1, 1, 1, 1, 1, 1, 1, 1, 1, 1, 1, 1, 1, 1, 1, 1, 1, 1, 1, 1, 1, 1, 1, 1, 1, 1, 1, 1, 1, 1, 1, 1, 1, 1, 1, 1, 1, 1, 1, 1, 1, 1, 1, 1, 1, 1, 1, 1, 1, 1, 1, 1, 1, 1, 1, 1, 1, 1, 1, 1, 1, 1, 1, 1, 1, 1, 1, 1, 1, 2, 1, 1, 1, 1, 1, 1, 1, 1, 1, 1, 1, 1, 1, 1, 1, 1, 1, 1, 1, 1, 1, 1, 1, 1, 1, 1, 1, 1, 1, 1, 1, 1, 1, 1, 1, 1, 1, 1, 1, 1, 1, 1, 1, 1, 1, 1, 1, 1, 1, 1, 1, 1, 1, 1, 1, 1, 1, 1, 1, 1, 1, 1, 1, 1, 1, 1, 1, 1, 1, 1, 1, 1, 1, 1, 1, 1, 1, 1, 1, 1, 1, 1, 1, 1, 1, 1, 1, 1, 1, 1, 1, 1, 1, 1, 1, 1, 1, 1, 1, 1, 1, 1, 1, 1, 1, 1, 1, 1, 1, 1, 1, 1, 1, 1, 1, 1, 1, 1, 1, 1, 1, 1, 1, 1, 1, 1, 1, 1, 1, 1, 1, 1, 1, 1, 1, 1, 1, 1, 1, 1, 1, 1, 1, 1, 1, 1, 1, 1, 1, 1, 1, 1, 1, 1, 1, 1, 1, 1, 1, 1, 1, 1, 1, 1, 1, 1, 1, 1, 1, 1, 1, 1, 1, 1, 2, 1, 1, 1, 1, 2, 2, 1, 1, 1, 1, 1, 1, 2, 1, 1, 1, 1, 2, 2, 1, 2, 2, 2, 2, 2, 2, 2, 2, 2, 2, 2, 2, 2, 1, 2, 1, 1, 1, 1, 2, 1, 1, 1, 1, 1, 1, 1, 1, 1, 1, 1, 1, 1, 1, 1, 1]\n"
     ]
    }
   ],
   "source": [
    "print(list(alignment9['indels'].str[0]))"
   ]
  },
  {
   "cell_type": "code",
   "execution_count": 34,
   "metadata": {},
   "outputs": [
    {
     "name": "stdout",
     "output_type": "stream",
     "text": [
      "s1t1 -> insertions:  1596 , deletions:  32\n",
      "s1t2 -> insertions:  2007 , deletions:  1930\n",
      "s1t3 -> insertions:  1569 , deletions:  29\n",
      "\n",
      "s2t1 -> insertions:  70881 , deletions:  2428\n",
      "s2t2 -> insertions:  76556 , deletions:  3398\n",
      "s2t3 -> insertions:  15202 , deletions:  393\n",
      "\n",
      "s3t1 -> insertions:  23372 , deletions:  740\n",
      "s3t2 -> insertions:  24692 , deletions:  1044\n",
      "s3t3 -> insertions:  4871 , deletions:  156\n"
     ]
    }
   ],
   "source": [
    "print('s1t1 ->','insertions: ',alignment1['indels'].str[0].sum(),', deletions: ',alignment1['indels'].str[1].sum())\n",
    "print('s1t2 ->','insertions: ',alignment2['indels'].str[0].sum(),', deletions: ',alignment2['indels'].str[1].sum())\n",
    "print('s1t3 ->','insertions: ',alignment3['indels'].str[0].sum(),', deletions: ',alignment3['indels'].str[1].sum())\n",
    "print()\n",
    "print('s2t1 ->','insertions: ',alignment4['indels'].str[0].sum(),', deletions: ',alignment4['indels'].str[1].sum())\n",
    "print('s2t2 ->','insertions: ',alignment5['indels'].str[0].sum(),', deletions: ',alignment5['indels'].str[1].sum())\n",
    "print('s2t3 ->','insertions: ',alignment6['indels'].str[0].sum(),', deletions: ',alignment6['indels'].str[1].sum())\n",
    "print()\n",
    "print('s3t1 ->','insertions: ',alignment7['indels'].str[0].sum(),', deletions: ',alignment7['indels'].str[1].sum())\n",
    "print('s3t2 ->','insertions: ',alignment8['indels'].str[0].sum(),', deletions: ',alignment8['indels'].str[1].sum())\n",
    "print('s3t3 ->','insertions: ',alignment9['indels'].str[0].sum(),', deletions: ',alignment9['indels'].str[1].sum())"
   ]
  },
  {
   "cell_type": "markdown",
   "metadata": {},
   "source": [
    "#### Calculating hamming distance (nucleotide diferences compared to the reference):"
   ]
  },
  {
   "cell_type": "code",
   "execution_count": 35,
   "metadata": {},
   "outputs": [],
   "source": [
    "def hamming_distance(string1, string2): \n",
    "    distance = 0\n",
    "    length = len(string1)\n",
    "    for i in range(length):\n",
    "        if string1[i] != string2[i]:\n",
    "            distance += 1\n",
    "    return distance"
   ]
  },
  {
   "cell_type": "code",
   "execution_count": 36,
   "metadata": {},
   "outputs": [],
   "source": [
    "alignment1['hdTotal']=alignment1.alignedSequences.apply(hamming_distance, args=(ref1,))\n",
    "alignment2['hdTotal']=alignment2.alignedSequences.apply(hamming_distance, args=(ref2,))\n",
    "alignment3['hdTotal']=alignment3.alignedSequences.apply(hamming_distance, args=(ref3,))\n",
    "\n",
    "alignment4['hdTotal']=alignment4.alignedSequences.apply(hamming_distance, args=(ref4,))\n",
    "alignment5['hdTotal']=alignment5.alignedSequences.apply(hamming_distance, args=(ref5,))\n",
    "alignment6['hdTotal']=alignment6.alignedSequences.apply(hamming_distance, args=(ref6,))\n",
    "\n",
    "alignment7['hdTotal']=alignment7.alignedSequences.apply(hamming_distance, args=(ref7,))\n",
    "alignment8['hdTotal']=alignment8.alignedSequences.apply(hamming_distance, args=(ref8,))\n",
    "alignment9['hdTotal']=alignment9.alignedSequences.apply(hamming_distance, args=(ref9,))"
   ]
  },
  {
   "cell_type": "code",
   "execution_count": 37,
   "metadata": {},
   "outputs": [
    {
     "name": "stdout",
     "output_type": "stream",
     "text": [
      "[0, 46, 15, 32, 14, 23, 44, 36, 19, 22, 44, 15, 13, 15, 14, 28, 15, 15, 14, 14, 13, 16, 14, 14, 14, 15, 14, 16, 15, 14, 15, 14, 15, 14, 16, 13, 14, 14, 14, 17, 17, 14, 14, 14, 14, 14, 14, 14, 17, 17, 29, 10, 32, 13, 15, 45, 25, 26, 36, 11, 28, 18, 45, 12, 11, 14, 41, 41, 15, 11, 15, 17, 15, 15, 22, 13, 15, 15, 14, 17, 13, 16, 13, 17, 14, 13, 15, 16, 13, 13, 14, 13, 13, 16, 14, 14, 15, 17, 14, 24, 13, 14, 14, 14, 14, 14, 14, 14, 14, 14, 17, 14, 14, 14, 14, 14, 14, 14, 14, 14, 14, 16, 14, 14, 14, 14, 15, 14, 14, 15, 14, 16, 14, 14, 14, 14, 14, 16, 15, 15, 15, 17, 14, 25, 14, 14, 15, 14, 14, 14, 23, 15, 14, 14, 14, 15, 14, 14, 14, 14, 14, 14, 14, 16, 18, 14, 14, 21, 14, 14, 15, 14, 14, 36, 14, 14, 14, 43, 14, 14, 14, 15, 15, 14, 14, 14, 14, 14, 14, 14, 16, 18, 14, 14, 14, 14, 14, 14, 14, 14, 14, 14, 14, 14, 14, 28, 14, 30, 14, 14, 14, 14, 14, 23, 14, 14, 41, 15, 14, 14, 14, 15, 17, 14, 33, 14, 14, 15, 14, 14, 18, 15, 15, 14, 16, 14, 14, 14, 14, 14, 19, 14, 14, 14, 14, 15, 24, 14, 14, 14, 14, 14, 15, 14, 14, 15, 14, 14, 18, 14, 14, 14, 16, 14, 14, 14, 14, 14, 15, 14, 18, 14, 14, 14, 15, 15, 14, 14, 14, 14, 15, 14, 14, 15, 14, 14, 14, 14, 15, 14, 25, 14, 14, 14, 14, 15, 15, 20, 15, 14, 14, 14, 14, 14, 14, 16, 14, 14, 14, 14, 31, 14, 14, 41, 14, 14, 14, 14, 14, 14, 14, 14, 21, 14, 14, 14, 15, 14, 15, 14, 16, 14, 14, 14, 14, 14, 14, 14, 15, 26, 17, 21, 14, 14, 14, 16, 14, 15, 14, 15, 14, 14, 20, 14, 14, 14, 14, 15, 14, 14, 13, 14, 14, 20, 14, 14, 16, 14, 17, 14, 15, 14, 14, 14, 14, 14, 14, 17, 14, 14, 14, 14, 15, 14, 14, 14, 14, 14, 14, 14, 16, 14, 14, 14, 14, 15, 14, 14, 18, 15, 14, 15, 14, 14, 14, 14, 14, 14, 15, 14, 15, 14, 14, 16, 14, 14, 14, 14, 27, 15, 14, 14, 14, 14, 14, 14, 15, 14, 14, 14, 15, 14, 14, 14, 14, 14, 15, 14, 14, 14, 14, 14, 14, 14, 15, 14, 15, 17, 14, 15, 14, 16, 14, 14, 14, 14, 14, 15, 14, 14, 15, 14, 14, 14, 21, 16, 15, 14, 14, 14, 14, 14, 15, 14, 14, 14, 14, 14, 35, 18, 15, 14, 14, 14, 14, 14, 28, 14, 15, 14, 14, 14, 14, 15, 14, 14, 16, 14, 14, 17, 14, 14, 14, 14, 14, 14, 15, 14, 19, 14, 14, 15, 14, 14, 14, 14, 14, 14, 15, 14, 14, 14, 14, 15, 14, 14, 15, 14, 14, 14, 14, 16, 14, 15, 14, 14, 14, 14, 14, 15, 15, 14, 14, 14, 14, 14, 14, 14, 14, 14, 16, 14, 14, 14, 20, 14, 14, 14, 17, 32, 14, 14, 15, 14, 15, 14, 19, 15, 14, 13, 14, 14, 14, 14, 14, 14, 15, 14, 14, 14, 14, 17, 14, 14, 15, 14, 15, 14, 14, 14, 14, 14, 14, 14, 14, 14, 14, 14, 14, 14, 14, 14, 15, 14, 14, 14, 14, 14, 14, 14, 14, 14, 14, 15, 14, 14, 15, 14, 14, 24, 15, 14, 14, 14, 15, 14, 15, 14, 14, 14, 14, 14, 14, 14, 14, 14, 15, 14, 14, 20, 14, 15, 14, 15, 14, 14, 14, 14, 15, 28, 14, 14, 15, 14, 14, 14, 21, 28, 15, 14, 14, 14, 14, 16, 14, 14, 15, 14, 14, 14, 14, 14, 14, 14, 15, 14, 14, 14, 15, 14, 15, 16, 14, 14, 14, 14, 14, 14, 15, 15, 14, 14, 18, 16, 14, 14, 14, 14, 14, 14, 14, 14, 17, 16, 14, 14, 14, 14, 45, 14, 14, 14, 14, 14, 14, 14, 14, 14, 14, 14, 14, 14, 15, 14, 14, 14, 14, 14, 14, 14, 14, 14, 14, 14, 14, 14, 19, 14, 14, 14, 15, 14, 14, 14, 14, 14, 14, 14, 15, 14, 14, 14, 14, 14, 14, 14, 14, 14, 14, 14, 14, 14, 14, 15, 14, 14, 14, 14, 14, 14, 14, 15, 15, 14, 14, 16, 14, 14, 14, 14, 15, 14, 14, 14, 14, 14, 14, 14, 14, 14, 14, 15, 14, 14, 14, 14, 14, 14, 14, 14, 14, 14, 14, 14, 14, 14, 14, 15, 14, 15, 14, 14, 14, 14, 14, 14, 14, 14, 15, 14, 14, 15, 14, 14, 14, 14, 15, 14, 15, 15, 15, 14, 14, 15, 20, 15, 22, 20, 14, 14, 15, 14, 14, 15, 14, 14, 16, 14, 14, 14, 14, 15, 14, 14, 16, 14, 14, 14, 14, 14, 14, 17, 14, 14, 14, 14, 14, 14, 14, 14, 14, 14, 15, 14, 14, 14, 14, 14, 14, 14, 14, 14, 14, 19, 14, 14, 14, 15, 14, 23, 14, 13, 15, 14, 14, 18, 14, 16, 14, 15, 14, 14, 14, 28, 14, 15, 14, 14, 15, 23, 15, 14, 14, 14, 14, 14, 15, 14, 14, 15, 15, 14, 29, 17, 14, 14, 14, 14, 14, 14, 14, 14, 14, 14, 14, 14, 14, 14, 16, 14, 15, 14, 14, 15, 14, 14, 18, 14, 14, 14, 14, 15, 14, 14, 14, 14, 25, 14, 14, 15, 14, 16, 15, 25, 16, 14, 15, 14, 19, 14, 14, 15, 15, 14, 14, 14, 31, 14, 14, 14, 14, 14, 14, 14, 14, 14, 14, 14, 15, 14, 14, 14, 14, 14, 14, 14, 14, 14, 14, 15, 14, 15, 14, 14, 26, 15, 14, 14, 14, 14, 15, 14, 14, 14, 15, 14, 14, 14, 15, 15, 14, 14, 14, 14, 14, 14, 14, 44, 15, 31, 14, 14, 14, 15, 14, 15, 14, 14, 14, 14, 14, 14, 14, 14, 14, 14, 14, 14, 14, 15, 14, 14, 15, 14, 14, 15, 19, 14, 14, 14, 14, 14, 14, 15, 14, 14, 14, 14, 14, 15, 14, 11, 14, 32, 14, 14, 14, 14, 14, 14, 14, 14, 14, 15, 15, 14, 14, 14, 14, 19, 15, 14, 17, 15, 14, 14, 15, 14, 14, 14, 14, 14, 15, 14, 14, 14, 23, 14, 14, 14, 14, 14, 14, 14, 13, 14, 14, 14, 14, 14, 14, 16, 14, 14, 41, 14, 15, 15, 15, 41, 14, 14, 14, 14, 13, 14, 14, 14, 14, 14, 14, 15, 14, 14, 14, 14, 12, 15, 14, 14, 14, 14, 14, 15, 14, 14, 14, 15, 14, 14, 14, 14, 14, 14, 14, 14, 14, 14, 16, 14, 14, 14, 15, 14, 14, 14, 14, 14, 25, 14, 14, 14, 14, 14, 14, 15, 24, 14, 14, 14, 14, 14, 14, 15, 14, 14, 15, 14, 15, 14, 14, 16, 13, 14, 14, 16, 14, 14, 14, 14, 14, 14, 17, 16, 14, 14, 15, 15, 14, 15, 15, 14, 14, 14, 14, 14, 15, 14, 14, 14, 17, 22, 14, 14, 14, 14, 14, 14, 15, 14, 14, 14, 32, 14, 14, 17, 15, 14, 14, 14, 14, 14, 14, 14, 14, 14, 14, 14, 14, 14, 14, 14, 14, 14, 14, 14, 14, 15, 14, 14, 17, 14, 15, 14, 22, 14, 16, 14, 16, 14, 14, 15, 14, 14, 14, 14, 38, 14, 29, 14, 14, 14, 14, 44, 14, 14, 15, 14, 14, 14, 14, 14, 14, 14, 14, 14, 14, 14, 14, 14, 23, 33, 14, 14, 15, 14, 14, 14, 16, 28, 14, 14, 15, 14, 14, 14, 16, 15, 14, 21, 14, 15, 14, 14, 14, 14, 16, 14, 14, 15, 16, 14, 14, 14, 14, 15, 14, 14, 14, 14, 14, 15, 15, 15, 17, 14, 14, 14, 14, 14, 14, 15, 14, 14, 16, 16, 14, 14, 14, 14, 14, 15, 14, 14, 14, 17, 15, 14, 14, 14, 14, 13, 14, 14, 16, 14, 14, 15, 14, 14, 15, 14, 14, 14, 14, 14, 14, 14, 15, 19, 14, 14, 14, 14, 14, 22, 14, 14, 14, 14, 14, 18, 14, 14, 14, 31, 18, 14, 15, 14, 16, 15, 15, 14, 35, 22, 14, 18, 14, 14, 14, 15, 15, 22, 14, 14, 14, 14, 14, 16, 14, 14, 15, 14, 22, 14, 14, 14, 19, 14, 14, 14, 14, 13, 13, 13, 13, 13, 13, 13, 13, 13, 14, 13, 13, 13, 13, 15, 14, 16, 13, 15, 13, 14, 14, 14, 14, 17, 16, 13, 13, 14, 13, 13, 14, 14, 14, 13, 13, 13, 13, 13, 15, 13, 13, 13, 13, 13, 13, 14, 14, 17, 13, 13, 13, 13, 14, 14, 13, 14, 13, 13, 15, 13, 13, 13, 13, 13, 15, 19, 14, 13, 13, 14, 13, 16, 14, 13, 14, 14, 13, 15, 13, 14, 15, 13, 13, 14, 13, 14, 12, 14, 14, 13, 35, 16, 13, 36, 13, 14, 13, 13, 15, 13, 13, 13, 14, 14, 13, 13, 14, 13, 13, 13, 13, 15, 14, 13, 13, 13, 13, 39, 13, 17, 13, 13, 22, 13, 15, 13, 14, 13, 13, 13, 13, 14, 13, 15, 13, 13, 13, 13, 13, 13, 13, 13, 15, 16, 13, 13, 13, 14, 13, 13, 13, 13, 14, 13, 13, 13, 13, 15, 13, 13, 13, 14, 13, 13, 13, 13, 13, 15, 13, 13, 13, 13, 16, 13, 13, 13, 13, 15, 13, 13, 13, 13, 13, 14, 13, 14, 13, 13, 13, 13, 13, 13, 13, 13, 13, 15, 13, 13, 14, 13, 14, 13, 13, 13, 15, 13, 13, 17, 13, 13, 13, 14, 20, 13, 13, 13, 13, 13, 13, 13, 13, 15, 14, 14, 13, 14, 13, 13, 14, 36, 42, 13, 13, 13, 38, 13, 13, 14, 13, 13, 13, 13, 13, 13, 13, 13, 14, 13, 13, 13, 13, 13, 13, 16, 13, 14, 13, 13, 20, 15, 15, 13, 13, 13, 17, 13, 16, 15, 13, 21, 13, 13, 14, 14, 13, 13, 13, 14, 14, 13, 13, 13, 14, 15, 13, 13, 13, 13, 14, 13, 14, 13, 13, 13, 13, 14, 15, 15, 15, 13, 13, 13, 15, 13, 13, 13, 13, 20, 13, 13, 38, 13, 13, 13, 13, 15, 15, 13, 13, 13, 18, 14, 15, 13, 14, 13, 13, 13, 13, 13, 13, 25, 13, 13, 13, 13, 13, 13, 15, 13, 13, 13, 14, 13, 13, 13, 13, 13, 15, 13, 12, 13, 13, 14, 13, 14, 12, 15, 14, 13, 14, 15, 13, 13, 15, 13, 13, 13, 13, 13, 13, 13, 13, 13, 18, 13, 13, 15, 13, 13, 15, 14, 13, 13, 13, 15, 13, 13, 13, 13, 13, 13, 13, 15, 13, 13, 13, 13, 15, 14, 14, 13, 13, 13, 13, 13, 13, 13, 13, 15, 14, 17, 13, 14, 14, 13, 13, 13, 14, 13, 13, 15, 15, 14, 13, 13, 16, 13, 13, 33, 13, 13, 14, 23, 15, 13, 13, 13, 14, 13, 13, 13, 14, 13, 13, 13, 13, 13, 13, 32, 13, 15, 14, 13, 13, 15, 13, 13, 35, 13, 13, 14, 13, 14, 13, 13, 15, 13, 13, 14, 13, 13, 13, 14, 17, 13, 13, 13, 13, 15, 14, 13, 14, 12, 13, 13, 13, 13, 13, 14, 13, 13, 13, 13, 13, 18, 13, 13, 13, 13, 13, 13, 15, 13, 13, 16, 14, 14, 15, 13, 15, 13, 13, 15, 13, 13, 12, 13, 13, 13, 13, 15, 13, 13, 13, 13, 30, 13, 13, 14, 13, 13, 22, 13, 13, 13, 13, 14, 13, 13, 13, 13, 13, 13, 13, 13, 13, 13, 13, 14, 13, 13, 13, 13, 13, 13, 13, 13, 13, 13, 13, 13, 14, 13, 13, 13, 15, 14, 13, 13, 14, 13, 13, 13, 17, 13, 13, 13, 13, 13, 16, 13, 14, 13, 12, 14, 13, 13, 15, 13, 13, 16, 13, 13, 13, 14, 13, 13, 21, 15, 13, 13, 13, 15, 16, 13, 13, 13, 14, 13, 13, 15, 13, 14, 13, 26, 14, 13, 13, 13, 16, 13, 13, 13, 13, 13, 13, 13, 13, 16, 14, 15, 13, 14, 13, 13, 13, 15, 13, 44, 13, 13, 13, 13, 14, 16, 20, 15, 13, 13, 14, 16, 14, 17, 13, 13, 13, 13, 13, 13, 15, 13, 13, 13, 14, 14, 13, 13, 13, 13, 13, 14, 13, 13, 14, 13, 15, 16, 13, 16, 13, 12, 13, 13, 14, 13, 14, 15, 13, 13, 15, 13, 13, 15, 13, 13, 21, 14, 22, 17, 13, 17, 13, 13, 13, 14, 13, 15, 13, 14, 15, 16, 13, 13, 13, 14, 13, 13, 15, 13, 13, 13, 13, 13, 13, 13, 13, 13, 15, 14, 13, 13, 13, 13, 13, 13, 13, 14, 13, 13, 13, 13, 14, 15, 20, 13, 38, 13, 13, 14, 13, 13, 15, 13, 41, 13, 13, 13, 14, 13, 13, 15, 13, 13, 13, 15, 13, 13, 13, 13, 13, 13, 13, 15, 13, 24, 13, 13, 14, 13, 13, 13, 14, 14, 28, 13, 13, 13, 14, 13, 39, 13, 13, 13, 13, 13, 13, 15, 13, 13, 13, 13, 13, 13, 13, 13, 46, 13, 13, 14, 14, 13, 13, 12, 13, 13, 14, 13, 13, 13, 13, 13, 16, 13, 13, 13, 13, 13, 13, 13, 18, 13, 13, 13, 15, 13, 13, 14, 12, 15, 13, 15, 22, 16, 13, 13, 13, 13, 14, 15, 13, 13, 13, 13, 13, 15, 13, 14, 13, 13, 13, 13, 21, 13, 13, 14, 14, 13, 13, 14, 13, 14, 16, 15, 14, 13, 13, 13, 13, 15, 13, 13, 13, 14, 13, 14, 14, 13, 13, 16, 13, 13, 13, 13, 13, 13, 13, 13, 13, 14, 13, 13, 13, 13, 13, 15, 13, 13, 13, 15, 14, 13, 13, 13, 13, 14, 13, 13, 14, 13, 13, 13, 13, 13, 13, 13, 13, 13, 13, 13, 13, 16, 13, 13, 13, 13, 15, 13, 13, 13, 15, 13, 14, 13, 13, 13, 13, 14, 13, 13, 14, 13, 14, 13, 17, 14, 13, 13, 30, 14, 13, 13, 13, 14, 13, 14, 13, 19, 13, 14, 13, 45, 13, 13, 15, 15, 15, 13, 25, 13, 13, 13, 15, 13, 15, 13, 13, 13, 15, 13, 13, 32, 14, 13, 13, 13, 13, 13, 15, 13, 13, 13, 15, 13, 13, 13, 13, 13, 13, 13, 34, 20, 13, 13, 13, 13, 14, 13, 13, 13, 13, 15, 13, 33, 13, 13, 14, 13, 16, 13, 14, 13, 13, 13, 13, 14, 16, 14, 13, 15, 34, 13, 15, 13, 13, 14, 13, 13, 16, 13, 13, 13, 13, 14, 13, 13, 13, 15, 13, 13, 14, 13, 13, 13, 14, 13, 15, 13, 13, 13, 13, 13, 14, 13, 13, 14, 13, 17, 23, 13, 13, 15, 13, 13, 13, 13, 13, 14, 15, 25, 13, 13, 13, 13, 13, 14, 13, 13, 13, 13, 31, 13, 13, 13, 15, 13, 15, 13, 13, 13, 14, 13, 13, 15, 13, 13, 13, 13, 13, 13, 13, 13, 13, 13, 13, 23, 13, 13, 13, 13, 14, 13, 13, 14, 14, 13, 13, 13, 13, 13, 13, 13, 13, 15, 14, 13, 13, 13, 13, 13, 14, 14, 13, 13, 13, 13, 13, 13, 13, 13, 13, 13, 13, 13, 13, 13, 13, 13, 15, 15, 13, 13, 14, 13, 16, 13, 14, 13, 13, 13, 15, 14, 15, 12, 13, 14, 13, 13, 15, 13, 13, 15, 13, 13, 13, 13, 13, 13, 13, 14, 13, 14, 13, 14, 15, 13, 13, 14, 13, 13, 14, 13, 13, 13, 13, 13, 13, 26, 13, 13, 13, 13, 13, 13, 13, 13, 15, 13, 14, 13, 12, 18, 18, 13, 14, 13, 14, 15, 13, 13, 13, 14, 13, 13, 13, 13, 14, 13, 15, 13, 13, 13, 17, 13, 14, 13, 15, 14, 18, 13, 13, 13, 13, 14, 13, 14, 13, 14, 13, 13, 15, 14, 13, 39, 25, 13, 13, 13, 13, 16, 13, 13, 13, 13, 13, 17, 14, 13, 14, 13, 13, 25, 13, 13, 13, 13, 13, 13, 13, 13, 13, 13, 13, 14, 13, 15, 14, 13, 13, 13, 15, 13, 14, 13, 13, 13, 13, 21, 13, 13, 14, 13, 13, 14, 13, 14, 13, 13, 13, 13, 13, 13, 14, 15, 14, 14, 13, 13, 13, 13, 13, 15, 13, 13, 13, 13, 13, 13, 13, 13, 13, 13, 13, 14, 14, 15, 13, 13, 13, 12, 13, 13, 13, 13, 13, 13, 14, 13, 13, 13, 13, 14, 13, 13, 13, 13, 13, 13, 14, 16, 13, 13, 13, 13, 13, 13, 13, 15, 19, 14, 15, 13, 13, 13, 13, 15, 13, 13, 13, 13, 13, 12, 13, 13, 14, 13, 14, 13, 13, 15, 15, 13, 19, 14, 13, 13, 13, 14, 15, 13, 13, 14, 13, 14, 13, 14, 13, 19, 13, 14, 13, 15, 13, 19, 13, 15, 14, 13, 13, 13, 15, 13, 14, 14, 13, 13, 13, 13, 13, 13, 13, 14, 13, 13, 13, 14, 13, 13, 13, 15, 13, 13, 13, 13, 16, 13, 13, 13, 14, 14, 13, 15, 13, 14, 13, 16, 16, 15, 14, 13, 13, 13, 13, 13, 15, 13, 13, 13, 13, 13, 13, 14, 13, 38, 40, 18, 14, 14, 13, 13, 13, 13, 13, 13, 19, 13, 13, 14, 14, 13, 13, 14, 13, 15, 13, 15, 13, 13, 13, 13, 13, 13, 13, 15, 13, 13, 15, 13, 13, 13, 42, 13, 13, 13, 13, 13, 13, 14, 14, 13, 13, 13, 13, 13, 13, 13, 13, 13, 13, 13, 13, 14, 13, 14, 14, 13, 13, 17, 15, 15, 13, 15, 14, 14, 13, 13, 13, 15, 13, 14, 13, 15, 15, 15, 13, 13, 16, 14, 13, 13, 13, 13, 13, 13, 13, 13, 14, 13, 13, 17, 12, 13, 13, 13, 41, 13, 13, 13, 14, 45, 14, 13, 15, 25, 13, 13, 13, 13, 13, 14, 14, 13, 13, 14, 13, 13, 14, 14, 13, 13, 14, 14, 13, 14, 15, 13, 15, 13, 13, 13, 13, 13, 13, 16, 13, 13, 13, 14, 13, 13, 13, 14, 13, 14, 14, 13, 14, 13, 13, 13, 13, 13, 13, 30, 13, 15, 15, 14, 13, 14, 13, 14, 13, 13, 13, 13, 16, 14, 13, 15, 13, 13, 14, 13, 13, 14, 13, 13, 14, 14, 13, 14, 23, 13, 13, 16, 13, 13, 13, 13, 13, 13, 13, 19, 13, 14, 13, 13, 15, 13, 13, 14, 13, 13, 15, 12, 15, 13, 13, 13, 15, 13, 13, 13, 18, 13, 13, 14, 14, 16, 13, 13, 13, 14, 15, 13, 18, 15, 13, 13, 13, 13, 13, 13, 13, 17, 13, 14, 13, 13, 13, 15, 14, 13, 13, 13, 13, 17, 13, 13, 13, 15, 13, 13, 13, 13, 13, 16, 13, 13, 13, 15, 15, 13, 13, 13, 13, 13, 18, 13, 14, 16, 15, 13, 13, 13, 13, 16, 13, 13, 13, 13, 13, 13, 13, 13, 14, 16, 13, 13, 13, 13, 13, 15, 14, 13, 15, 15, 13, 13, 13, 13, 13, 13, 13, 13, 13, 21, 13, 13, 13, 13, 13, 13, 15, 16, 13, 14, 13, 13, 13, 13, 14, 13, 13, 13, 15, 14, 13, 13, 13, 13, 15, 13, 13, 13, 14, 13, 13, 13, 13, 13, 13, 13, 13, 16, 13, 13, 13, 23, 15, 15, 14, 14, 13, 13, 13, 13, 13, 14, 14, 16, 14, 20, 15, 30, 40, 15, 15, 21, 15, 15, 16, 22, 14, 16, 19, 13, 14, 11, 15, 13, 19, 11, 35, 11, 37, 11, 44, 34, 11, 15, 17, 39, 15, 40, 11, 10, 12, 12, 27, 10, 11, 45, 15, 13, 17, 40, 11, 12, 10, 29, 14, 10, 18, 19, 20]\n"
     ]
    }
   ],
   "source": [
    "## List of hamming distances for each sequence in the alignment\n",
    "# print(list(alignment1.hdTotal))\n",
    "# print(list(alignment2.hdTotal))\n",
    "# print(list(alignment3.hdTotal))\n",
    "# print(list(alignment4.hdTotal))\n",
    "# print(list(alignment5.hdTotal))\n",
    "# print(list(alignment6.hdTotal))\n",
    "# print(list(alignment7.hdTotal))\n",
    "# print(list(alignment8.hdTotal))\n",
    "print(list(alignment9.hdTotal))"
   ]
  },
  {
   "cell_type": "code",
   "execution_count": 38,
   "metadata": {},
   "outputs": [
    {
     "data": {
      "text/plain": [
       "(3371, 4)"
      ]
     },
     "execution_count": 38,
     "metadata": {},
     "output_type": "execute_result"
    }
   ],
   "source": [
    "alignment9.shape"
   ]
  },
  {
   "cell_type": "code",
   "execution_count": 39,
   "metadata": {},
   "outputs": [],
   "source": [
    "align1 = np.array(list(alignment1.hdTotal))\n",
    "align2 = np.array(list(alignment2.hdTotal))\n",
    "align3 = np.array(list(alignment3.hdTotal))\n",
    "\n",
    "align4 = np.array(list(alignment4.hdTotal))\n",
    "align5 = np.array(list(alignment5.hdTotal))\n",
    "align6 = np.array(list(alignment6.hdTotal))\n",
    "\n",
    "align7 = np.array(list(alignment7.hdTotal))\n",
    "align8 = np.array(list(alignment8.hdTotal))\n",
    "align9 = np.array(list(alignment9.hdTotal))"
   ]
  },
  {
   "cell_type": "code",
   "execution_count": 40,
   "metadata": {},
   "outputs": [
    {
     "data": {
      "text/plain": [
       "Text(0.5, 1.0, 'Frequency of Hamming Distance')"
      ]
     },
     "execution_count": 40,
     "metadata": {},
     "output_type": "execute_result"
    },
    {
     "data": {
      "image/png": "[encoded data removed]",
      "text/plain": [
       "<Figure size 432x288 with 1 Axes>"
      ]
     },
     "metadata": {
      "needs_background": "light"
     },
     "output_type": "display_data"
    }
   ],
   "source": [
    "plt.hist(align1, 'auto', histtype='bar', rwidth=10, color = \"#0937ed\", alpha=0.7)\n",
    "plt.grid(axis='y', alpha=0.75)\n",
    "plt.ylabel('Amount of sequences')\n",
    "plt.title('Frequency of Hamming Distance')"
   ]
  },
  {
   "cell_type": "code",
   "execution_count": 41,
   "metadata": {},
   "outputs": [
    {
     "data": {
      "text/plain": [
       "(0.0, 200)"
      ]
     },
     "execution_count": 41,
     "metadata": {},
     "output_type": "execute_result"
    },
    {
     "data": {
      "image/png": "[encoded data removed]",
      "text/plain": [
       "<Figure size 432x288 with 1 Axes>"
      ]
     },
     "metadata": {
      "needs_background": "light"
     },
     "output_type": "display_data"
    }
   ],
   "source": [
    "plt.hist(align1, 'auto', histtype='bar', rwidth=10, color = \"#0937ed\", alpha=0.7)\n",
    "plt.grid(axis='y', alpha=0.75)\n",
    "plt.ylabel('Amount of sequences')\n",
    "plt.title('Frequency of Hamming Distance')\n",
    "plt.ylim(ymax=200)"
   ]
  },
  {
   "cell_type": "code",
   "execution_count": 42,
   "metadata": {},
   "outputs": [],
   "source": [
    "# Total of hamming distance per alignment\n",
    "mutationsTotal1 = alignment1.hdTotal.sum()\n",
    "mutationsTotal2 = alignment2.hdTotal.sum()\n",
    "mutationsTotal3 = alignment3.hdTotal.sum()\n",
    "\n",
    "mutationsTotal4 = alignment4.hdTotal.sum()\n",
    "mutationsTotal5 = alignment5.hdTotal.sum()\n",
    "mutationsTotal6 = alignment6.hdTotal.sum()\n",
    "\n",
    "mutationsTotal7 = alignment7.hdTotal.sum()\n",
    "mutationsTotal8 = alignment8.hdTotal.sum()\n",
    "mutationsTotal9 = alignment9.hdTotal.sum()"
   ]
  },
  {
   "cell_type": "code",
   "execution_count": 43,
   "metadata": {},
   "outputs": [],
   "source": [
    "# Total mutations in each time point\n",
    "# print(mutationsTotal1,mutationsTotal2,mutationsTotal3)\n",
    "# print(mutationsTotal4,mutationsTotal5,mutationsTotal6)\n",
    "# print(mutationsTotal7,mutationsTotal8,mutationsTotal9)"
   ]
  },
  {
   "cell_type": "code",
   "execution_count": 44,
   "metadata": {},
   "outputs": [],
   "source": [
    "# print(len(alignment1),len(alignment2),len(alignment3))\n",
    "# print(len(alignment4),len(alignment5),len(alignment6))\n",
    "# print(len(alignment7),len(alignment8),len(alignment9))"
   ]
  },
  {
   "cell_type": "code",
   "execution_count": 45,
   "metadata": {},
   "outputs": [],
   "source": [
    "# print(len(ref1),len(ref2),len(ref3))\n",
    "# print(len(ref4),len(ref5),len(ref6))\n",
    "# print(len(ref7),len(ref8),len(ref9))"
   ]
  },
  {
   "cell_type": "code",
   "execution_count": 46,
   "metadata": {},
   "outputs": [],
   "source": [
    "totalPositions1=len(alignment1)*len(ref1)\n",
    "totalPositions2=len(alignment2)*len(ref2)\n",
    "totalPositions3=len(alignment3)*len(ref3)\n",
    "totalPositions4=len(alignment4)*len(ref4)\n",
    "totalPositions5=len(alignment5)*len(ref5)\n",
    "totalPositions6=len(alignment6)*len(ref6)\n",
    "totalPositions7=len(alignment7)*len(ref7)\n",
    "totalPositions8=len(alignment8)*len(ref8)\n",
    "totalPositions9=len(alignment9)*len(ref9)"
   ]
  },
  {
   "cell_type": "code",
   "execution_count": 47,
   "metadata": {},
   "outputs": [],
   "source": [
    "s1t1_HD = mutationsTotal1*100/totalPositions1\n",
    "s1t2_HD = mutationsTotal2*100/totalPositions2\n",
    "s1t3_HD = mutationsTotal3*100/totalPositions3\n",
    "s2t1_HD = mutationsTotal4*100/totalPositions4\n",
    "s2t2_HD = mutationsTotal5*100/totalPositions5\n",
    "s2t3_HD = mutationsTotal6*100/totalPositions6\n",
    "s3t1_HD = mutationsTotal7*100/totalPositions7\n",
    "s3t2_HD = mutationsTotal8*100/totalPositions8\n",
    "s3t3_HD = mutationsTotal9*100/totalPositions9"
   ]
  },
  {
   "cell_type": "code",
   "execution_count": 48,
   "metadata": {},
   "outputs": [],
   "source": [
    "profiled_HD = pd.DataFrame(np.array(([s1t1_HD,s1t2_HD,s1t3_HD],\n",
    "                                     [s2t1_HD,s2t2_HD,s2t3_HD],\n",
    "                                     [s3t1_HD,s3t2_HD,s3t3_HD])), \n",
    "                           index=('Sample1','Sample2', 'Sample3'),columns=('Time1','Time2', 'Time3'))"
   ]
  },
  {
   "cell_type": "code",
   "execution_count": 49,
   "metadata": {
    "scrolled": true
   },
   "outputs": [
    {
     "data": {
      "text/html": [
       "<div>\n",
       "<style scoped>\n",
       "    .dataframe tbody tr th:only-of-type {\n",
       "        vertical-align: middle;\n",
       "    }\n",
       "\n",
       "    .dataframe tbody tr th {\n",
       "        vertical-align: top;\n",
       "    }\n",
       "\n",
       "    .dataframe thead th {\n",
       "        text-align: right;\n",
       "    }\n",
       "</style>\n",
       "<table border=\"1\" class=\"dataframe\">\n",
       "  <thead>\n",
       "    <tr style=\"text-align: right;\">\n",
       "      <th></th>\n",
       "      <th>Time1</th>\n",
       "      <th>Time2</th>\n",
       "      <th>Time3</th>\n",
       "    </tr>\n",
       "  </thead>\n",
       "  <tbody>\n",
       "    <tr>\n",
       "      <td>Sample1</td>\n",
       "      <td>8.139112</td>\n",
       "      <td>9.515461</td>\n",
       "      <td>9.946180</td>\n",
       "    </tr>\n",
       "    <tr>\n",
       "      <td>Sample2</td>\n",
       "      <td>4.086004</td>\n",
       "      <td>3.747109</td>\n",
       "      <td>6.560331</td>\n",
       "    </tr>\n",
       "    <tr>\n",
       "      <td>Sample3</td>\n",
       "      <td>5.483171</td>\n",
       "      <td>4.521771</td>\n",
       "      <td>7.582504</td>\n",
       "    </tr>\n",
       "  </tbody>\n",
       "</table>\n",
       "</div>"
      ],
      "text/plain": [
       "            Time1     Time2     Time3\n",
       "Sample1  8.139112  9.515461  9.946180\n",
       "Sample2  4.086004  3.747109  6.560331\n",
       "Sample3  5.483171  4.521771  7.582504"
      ]
     },
     "execution_count": 49,
     "metadata": {},
     "output_type": "execute_result"
    }
   ],
   "source": [
    "profiled_HD"
   ]
  },
  {
   "cell_type": "code",
   "execution_count": 57,
   "metadata": {},
   "outputs": [
    {
     "data": {
      "text/plain": [
       "<matplotlib.legend.Legend at 0x1a24162350>"
      ]
     },
     "execution_count": 57,
     "metadata": {},
     "output_type": "execute_result"
    },
    {
     "data": {
      "image/png": "[encoded data removed]",
      "text/plain": [
       "<Figure size 432x288 with 1 Axes>"
      ]
     },
     "metadata": {
      "needs_background": "light"
     },
     "output_type": "display_data"
    }
   ],
   "source": [
    "labels = ['Sample 1', 'Sample 2', 'Sample 3']\n",
    "fig, ax = plt.subplots()\n",
    "\n",
    "sample1_list = [plt.bar([0, 1, 2], profiled_HD.Time1, label = 'Time 1',align='edge', width= 0.1),\n",
    "               plt.bar([0, 1, 2], profiled_HD.Time2, label = 'Time 2',align='edge', width= 0.1),\n",
    "               plt.bar([0, 1, 2], profiled_HD.Time3, label = 'Time 3',align='edge', width= 0.1)]\n",
    "\n",
    "sample2_list = [plt.bar([0, 1, 2], profiled_HD.Time1, label = 'Time 1',align='edge', width= -0.2),\n",
    "               plt.bar([0, 1, 2], profiled_HD.Time2, label = 'Time 2',align='edge', width= -0.2),\n",
    "               plt.bar([0, 1, 2], profiled_HD.Time3, label = 'Time 3',align='edge', width= -0.2)]\n",
    "\n",
    "sample3_list = [plt.bar([0, 1, 2], profiled_HD.Time1, label = 'Time 1',align='edge', width= -0.1),\n",
    "               plt.bar([0, 1, 2], profiled_HD.Time2, label = 'Time 2',align='edge', width= -0.1),\n",
    "               plt.bar([0, 1, 2], profiled_HD.Time3, label = 'Time 3',align='edge', width= -0.1)]\n",
    "\n",
    "plt.xlabel(labels)\n",
    "plt.ylabel('Percentage of mutations')\n",
    "plt.title('Hamming distance in each time-point and sample')\n",
    "ax.legend(fontsize = 'small',loc='center left',bbox_to_anchor=(1, 0.5),ncol=1,fancybox=True,shadow=True)\n"
   ]
  },
  {
   "cell_type": "markdown",
   "metadata": {},
   "source": [
    "#### Calculating hamming distance per segment of the sequence:"
   ]
  },
  {
   "cell_type": "markdown",
   "metadata": {},
   "source": [
    "It is interesting to see the mutational profile along the sequence because not all the nucleotides in the sequence are equally paired nor have the same structural and functional role. Here, the sequence was divided in three segments."
   ]
  },
  {
   "cell_type": "code",
   "execution_count": 195,
   "metadata": {},
   "outputs": [
    {
     "name": "stdout",
     "output_type": "stream",
     "text": [
      "178 188 171\n"
     ]
    }
   ],
   "source": [
    "print(len(ref1),len(ref2),len(ref3))"
   ]
  },
  {
   "cell_type": "code",
   "execution_count": 196,
   "metadata": {
    "scrolled": true
   },
   "outputs": [],
   "source": [
    "alignment1['seg1'] = alignment1['alignedSequences'].str[0:60]\n",
    "alignment1['seg2'] = alignment1['alignedSequences'].str[60:120]\n",
    "alignment1['seg3'] = alignment1['alignedSequences'].str[120:-1]\n",
    "alignment2['seg1'] = alignment2['alignedSequences'].str[0:60]\n",
    "alignment2['seg2'] = alignment2['alignedSequences'].str[60:120]\n",
    "alignment2['seg3'] = alignment2['alignedSequences'].str[120:-1]\n",
    "alignment3['seg1'] = alignment3['alignedSequences'].str[0:60]\n",
    "alignment3['seg2'] = alignment3['alignedSequences'].str[60:120]\n",
    "alignment3['seg3'] = alignment3['alignedSequences'].str[120:-1]"
   ]
  },
  {
   "cell_type": "code",
   "execution_count": 197,
   "metadata": {},
   "outputs": [
    {
     "name": "stdout",
     "output_type": "stream",
     "text": [
      "335 365 221\n"
     ]
    }
   ],
   "source": [
    "print(len(ref4),len(ref5),len(ref6))"
   ]
  },
  {
   "cell_type": "code",
   "execution_count": 198,
   "metadata": {},
   "outputs": [],
   "source": [
    "alignment4['seg1'] = alignment4['alignedSequences'].str[0:110]\n",
    "alignment4['seg2'] = alignment4['alignedSequences'].str[110:220]\n",
    "alignment4['seg3'] = alignment4['alignedSequences'].str[220:-1]\n",
    "alignment5['seg1'] = alignment5['alignedSequences'].str[0:120]\n",
    "alignment5['seg2'] = alignment5['alignedSequences'].str[120:240]\n",
    "alignment5['seg3'] = alignment5['alignedSequences'].str[240:-1]\n",
    "alignment6['seg1'] = alignment6['alignedSequences'].str[0:73]\n",
    "alignment6['seg2'] = alignment6['alignedSequences'].str[73:146]\n",
    "alignment6['seg3'] = alignment6['alignedSequences'].str[146:-1]"
   ]
  },
  {
   "cell_type": "code",
   "execution_count": 199,
   "metadata": {},
   "outputs": [
    {
     "name": "stdout",
     "output_type": "stream",
     "text": [
      "249 302 193\n"
     ]
    }
   ],
   "source": [
    "print(len(ref7),len(ref8),len(ref9))"
   ]
  },
  {
   "cell_type": "code",
   "execution_count": 200,
   "metadata": {},
   "outputs": [],
   "source": [
    "alignment7['seg1'] = alignment7['alignedSequences'].str[0:83]\n",
    "alignment7['seg2'] = alignment7['alignedSequences'].str[83:166]\n",
    "alignment7['seg3'] = alignment7['alignedSequences'].str[166:-1]\n",
    "alignment8['seg1'] = alignment8['alignedSequences'].str[0:100]\n",
    "alignment8['seg2'] = alignment8['alignedSequences'].str[100:200]\n",
    "alignment8['seg3'] = alignment8['alignedSequences'].str[200:-1]\n",
    "alignment9['seg1'] = alignment9['alignedSequences'].str[0:64]\n",
    "alignment9['seg2'] = alignment9['alignedSequences'].str[64:128]\n",
    "alignment9['seg3'] = alignment9['alignedSequences'].str[128:-1]"
   ]
  },
  {
   "cell_type": "code",
   "execution_count": 87,
   "metadata": {},
   "outputs": [],
   "source": [
    "ref1='CTTTAAGGTTCA---GTGAATACTGTTGAGAACGCTGGTTCGTCACTTCCATCGCGAGCTGCCTCCCGTGCATCCGAAGATGTTCTCAAGCTCTAAGGG-CAGATTTGTCTTTT-CCTGGTCACTATAA-TGTATTCTTC------T------T------AT-AGTGAGTCGTATTAG'\n",
    "ref2='CTTTAAGGTTC-A---GTGAATACTGTTGAGAACGCTGGTTCGT-CACTTCC-ATCGCGAG-CTGCCTCC-CGTGCATCCGAAGATGTTCTCAAGCTCTAAGGGCAGATTTGTCTTTT--CCTGGT-CACTATAATGTATTCTTCT------------T---------ATA-GTGAGTC-GTATTAG-'\n",
    "ref3='CTTTAAGGTTCA---GTGAATACTGTTGAGAACGCTGGTTCGTCACT-TC--CATCGCGAGCTGCCTCCCGTGCATCCGAAGATGTTCTCAAGCTCTAAGGGCAGATTTGTCTTTT-CCTGGTCACTATAATGTATTCTTCT--------T---ATAGTGAGTCGTATTAG'\n",
    "\n",
    "ref4='CTTTAA---G-GT-TC---A---G---T---G---A---A---T---AC--T-G-TT-G-AG-A--A-CG-CTGG-TTCG-T--CA--C-T--T-C--CA-T--CGCGAG--CTG-CCTCCC-GTG-CATCC-GA-A-GA-TGTT-C-TCAAGCTCTAA-GG-G-CAGA-TTT-GTC-TT-TT--CC-TGGTCACTAT---AA-TGT-AT---------------T---------------C----------T-----TC------T--------------T------------A-T---------A-GT-G--A-G-T----C-G-T-A-TTAG'\n",
    "ref5='CTTTAAGGTTC---A---G---T---G---A---A---T-A---C--T---G-TT-G-A-GA--A-C-G-CT-GGT-T-CG-TC--AC-T---T-C-C--A-T-C-G--C-GAG-C-T-GCCTCCC-G-T-GC--A-TCC-G-A--------AGATG-TTCTCAAGCTCT-AA-GG-G-CAGA-TT-T-G-TC-TT-TT---CC-TGG-T-C------ACTATA--AT---G------------TAT---------T---------------CT------TC---------------T--------------T--------------AT---------AG-T-G-A-G-T--C-G-T-A-T-TAG'\n",
    "ref6='CTTTAAGGTTC---A---G---T---G---A---AT-AC-TG-TTGAG-AA-C-G-C-TGG-TTCGTCACTT-CC-ATC-G-CGAGCTGCCTCCC-GTG-CATCCGAAG---ATGTTC-TCAAGCTCTAAGGGC-AGATTT-GTCTTTT-CC-TGGTCACTATAATGTATTCT-TC-T-------------T------ATAGT-G-AG-TC-GT-A-TTAG'\n",
    "\n",
    "ref7='CTTTAAGGTTC-A---G---T----G---A---A---T-ACT-G-TTG-AG-AACG-CTGG-TTCGTCACT--T--CC-ATCGCGAG--CTGCCT-CCC-GTGCA-TCCGA-AGATGTTCTCAA-GCTCT-AA-GGG-CAGATTT-G-TCTT-T-T-CC-TGG-TCACT--ATAATGTA------------TTCT-----TCT------------T------AT-AG-TG-A-G--T-C-GT-A-TTAG'\n",
    "ref8='CTTTAAGGTTC---A---G---T---G---A---A-T-A-C-T---GTT-GAG-AA-CG-C-T--GGTTCGTCACT--T-CCA-T--C-GCG-AG-C-TGCCTCCCGTGCATCC-GA-AGATGTT-CTCAA-GCTC-TAAGGG-CAGATTT-GTCTT-TT--CCTG-GTC-----ACT-A-TA---------------ATGTAT---T---------------C-TT-------------C---T------------T------------AT------A-G-T-GA-G-T-C-G-T-ATTAG'\n",
    "ref9='CTTTAAGGTTCA---GT---G---AAT-A--CT---GTTGAG-AACG-CTGGTTC-GTCAC-TTCCA-TCGCG--AG-CTGCCTCCCGTGCATCCGAAGA--TGTTCTCAAGCTCTAAGGGCAGATTTGTC-TTTT-CCTGGTCACTATAATGTATTCTTCT-------T-----ATAGTGAGTCGT-ATTAG'\n"
   ]
  },
  {
   "cell_type": "code",
   "execution_count": 211,
   "metadata": {},
   "outputs": [],
   "source": [
    "# Here the reference sequence of each alignment is being divided in the three segments.\n",
    "ref1_seg1 = ref1[0:60]\n",
    "ref1_seg2 = ref1[60:120]\n",
    "ref1_seg3 = ref1[120:-1]\n",
    "ref2_seg1 = ref2[0:60]\n",
    "ref2_seg2 = ref2[60:120]\n",
    "ref2_seg3 = ref2[120:-1]\n",
    "ref3_seg1 = ref3[0:60]\n",
    "ref3_seg2 = ref3[60:120]\n",
    "ref3_seg3 = ref3[120:-1]"
   ]
  },
  {
   "cell_type": "code",
   "execution_count": 212,
   "metadata": {},
   "outputs": [],
   "source": [
    "ref4_seg1 = ref4[0:110]\n",
    "ref4_seg2 = ref4[110:220]\n",
    "ref4_seg3 = ref4[220:-1]\n",
    "ref5_seg1 = ref5[0:120]\n",
    "ref5_seg2 = ref5[120:240]\n",
    "ref5_seg3 = ref5[240:-1]\n",
    "ref6_seg1 = ref6[0:73]\n",
    "ref6_seg2 = ref6[73:146]\n",
    "ref6_seg3 = ref6[146:-1]"
   ]
  },
  {
   "cell_type": "code",
   "execution_count": 213,
   "metadata": {},
   "outputs": [],
   "source": [
    "ref7_seg1 = ref7[0:83]\n",
    "ref7_seg2 = ref7[83:166]\n",
    "ref7_seg3 = ref7[166:-1]\n",
    "ref8_seg1 = ref8[0:100]\n",
    "ref8_seg2 = ref8[100:200]\n",
    "ref8_seg3 = ref8[200:-1]\n",
    "ref9_seg1 = ref9[0:64]\n",
    "ref9_seg2 = ref9[64:128]\n",
    "ref9_seg3 = ref9[128:-1]"
   ]
  },
  {
   "cell_type": "code",
   "execution_count": 214,
   "metadata": {},
   "outputs": [
    {
     "name": "stdout",
     "output_type": "stream",
     "text": [
      "60 60 57\n",
      "60 60 67\n",
      "60 60 50\n",
      "\n",
      "110 110 114\n",
      "120 120 124\n",
      "73 73 74\n",
      "\n",
      "83 83 82\n",
      "100 100 101\n",
      "64 64 64\n"
     ]
    }
   ],
   "source": [
    "print(len(ref1_seg1),len(ref1_seg2),len(ref1_seg3))\n",
    "print(len(ref2_seg1),len(ref2_seg2),len(ref2_seg3))\n",
    "print(len(ref3_seg1),len(ref3_seg2),len(ref3_seg3))\n",
    "print()\n",
    "print(len(ref4_seg1),len(ref4_seg2),len(ref4_seg3))\n",
    "print(len(ref5_seg1),len(ref5_seg2),len(ref5_seg3))\n",
    "print(len(ref6_seg1),len(ref6_seg2),len(ref6_seg3))\n",
    "print()\n",
    "print(len(ref7_seg1),len(ref7_seg2),len(ref7_seg3))\n",
    "print(len(ref8_seg1),len(ref8_seg2),len(ref8_seg3))\n",
    "print(len(ref9_seg1),len(ref9_seg2),len(ref9_seg3))"
   ]
  },
  {
   "cell_type": "code",
   "execution_count": 215,
   "metadata": {},
   "outputs": [],
   "source": [
    "splitedSeq1 = alignment1[['seg1','seg2','seg3']]\n",
    "splitedSeq2 = alignment2[['seg1','seg2','seg3']]\n",
    "splitedSeq3 = alignment3[['seg1','seg2','seg3']]\n",
    "\n",
    "splitedSeq4 = alignment4[['seg1','seg2','seg3']]\n",
    "splitedSeq5 = alignment5[['seg1','seg2','seg3']]\n",
    "splitedSeq6 = alignment6[['seg1','seg2','seg3']]\n",
    "\n",
    "splitedSeq7 = alignment7[['seg1','seg2','seg3']]\n",
    "splitedSeq8 = alignment8[['seg1','seg2','seg3']]\n",
    "splitedSeq9 = alignment9[['seg1','seg2','seg3']]"
   ]
  },
  {
   "cell_type": "code",
   "execution_count": 216,
   "metadata": {},
   "outputs": [
    {
     "name": "stdout",
     "output_type": "stream",
     "text": [
      "[64, 64, 64, 64, 64, 64, 64, 64, 64, 64, 64, 64, 64, 64, 64, 64, 64, 64, 64, 64, 64, 64, 64, 64, 64, 64, 64, 64, 64, 64, 64, 64, 64, 64, 64, 64, 64, 64, 64, 64, 64, 64, 64, 64, 64, 64, 64, 64, 64, 64, 64, 64, 64, 64, 64, 64, 64, 64, 64, 64, 64, 64, 64, 64, 64, 64, 64, 64, 64, 64, 64, 64, 64, 64, 64, 64, 64, 64, 64, 64, 64, 64, 64, 64, 64, 64, 64, 64, 64, 64, 64, 64, 64, 64, 64, 64, 64, 64, 64, 64, 64, 64, 64, 64, 64, 64, 64, 64, 64, 64, 64, 64, 64, 64, 64, 64, 64, 64, 64, 64, 64, 64, 64, 64, 64, 64, 64, 64, 64, 64, 64, 64, 64, 64, 64, 64, 64, 64, 64, 64, 64, 64, 64, 64, 64, 64, 64, 64, 64, 64, 64, 64, 64, 64, 64, 64, 64, 64, 64, 64, 64, 64, 64, 64, 64, 64, 64, 64, 64, 64, 64, 64, 64, 64, 64, 64, 64, 64, 64, 64, 64, 64, 64, 64, 64, 64, 64, 64, 64, 64, 64, 64, 64, 64, 64, 64, 64, 64, 64, 64, 64, 64, 64, 64, 64, 64, 64, 64, 64, 64, 64, 64, 64, 64, 64, 64, 64, 64, 64, 64, 64, 64, 64, 64, 64, 64, 64, 64, 64, 64, 64, 64, 64, 64, 64, 64, 64, 64, 64, 64, 64, 64, 64, 64, 64, 64, 64, 64, 64, 64, 64, 64, 64, 64, 64, 64, 64, 64, 64, 64, 64, 64, 64, 64, 64, 64, 64, 64, 64, 64, 64, 64, 64, 64, 64, 64, 64, 64, 64, 64, 64, 64, 64, 64, 64, 64, 64, 64, 64, 64, 64, 64, 64, 64, 64, 64, 64, 64, 64, 64, 64, 64, 64, 64, 64, 64, 64, 64, 64, 64, 64, 64, 64, 64, 64, 64, 64, 64, 64, 64, 64, 64, 64, 64, 64, 64, 64, 64, 64, 64, 64, 64, 64, 64, 64, 64, 64, 64, 64, 64, 64, 64, 64, 64, 64, 64, 64, 64, 64, 64, 64, 64, 64, 64, 64, 64, 64, 64, 64, 64, 64, 64, 64, 64, 64, 64, 64, 64, 64, 64, 64, 64, 64, 64, 64, 64, 64, 64, 64, 64, 64, 64, 64, 64, 64, 64, 64, 64, 64, 64, 64, 64, 64, 64, 64, 64, 64, 64, 64, 64, 64, 64, 64, 64, 64, 64, 64, 64, 64, 64, 64, 64, 64, 64, 64, 64, 64, 64, 64, 64, 64, 64, 64, 64, 64, 64, 64, 64, 64, 64, 64, 64, 64, 64, 64, 64, 64, 64, 64, 64, 64, 64, 64, 64, 64, 64, 64, 64, 64, 64, 64, 64, 64, 64, 64, 64, 64, 64, 64, 64, 64, 64, 64, 64, 64, 64, 64, 64, 64, 64, 64, 64, 64, 64, 64, 64, 64, 64, 64, 64, 64, 64, 64, 64, 64, 64, 64, 64, 64, 64, 64, 64, 64, 64, 64, 64, 64, 64, 64, 64, 64, 64, 64, 64, 64, 64, 64, 64, 64, 64, 64, 64, 64, 64, 64, 64, 64, 64, 64, 64, 64, 64, 64, 64, 64, 64, 64, 64, 64, 64, 64, 64, 64, 64, 64, 64, 64, 64, 64, 64, 64, 64, 64, 64, 64, 64, 64, 64, 64, 64, 64, 64, 64, 64, 64, 64, 64, 64, 64, 64, 64, 64, 64, 64, 64, 64, 64, 64, 64, 64, 64, 64, 64, 64, 64, 64, 64, 64, 64, 64, 64, 64, 64, 64, 64, 64, 64, 64, 64, 64, 64, 64, 64, 64, 64, 64, 64, 64, 64, 64, 64, 64, 64, 64, 64, 64, 64, 64, 64, 64, 64, 64, 64, 64, 64, 64, 64, 64, 64, 64, 64, 64, 64, 64, 64, 64, 64, 64, 64, 64, 64, 64, 64, 64, 64, 64, 64, 64, 64, 64, 64, 64, 64, 64, 64, 64, 64, 64, 64, 64, 64, 64, 64, 64, 64, 64, 64, 64, 64, 64, 64, 64, 64, 64, 64, 64, 64, 64, 64, 64, 64, 64, 64, 64, 64, 64, 64, 64, 64, 64, 64, 64, 64, 64, 64, 64, 64, 64, 64, 64, 64, 64, 64, 64, 64, 64, 64, 64, 64, 64, 64, 64, 64, 64, 64, 64, 64, 64, 64, 64, 64, 64, 64, 64, 64, 64, 64, 64, 64, 64, 64, 64, 64, 64, 64, 64, 64, 64, 64, 64, 64, 64, 64, 64, 64, 64, 64, 64, 64, 64, 64, 64, 64, 64, 64, 64, 64, 64, 64, 64, 64, 64, 64, 64, 64, 64, 64, 64, 64, 64, 64, 64, 64, 64, 64, 64, 64, 64, 64, 64, 64, 64, 64, 64, 64, 64, 64, 64, 64, 64, 64, 64, 64, 64, 64, 64, 64, 64, 64, 64, 64, 64, 64, 64, 64, 64, 64, 64, 64, 64, 64, 64, 64, 64, 64, 64, 64, 64, 64, 64, 64, 64, 64, 64, 64, 64, 64, 64, 64, 64, 64, 64, 64, 64, 64, 64, 64, 64, 64, 64, 64, 64, 64, 64, 64, 64, 64, 64, 64, 64, 64, 64, 64, 64, 64, 64, 64, 64, 64, 64, 64, 64, 64, 64, 64, 64, 64, 64, 64, 64, 64, 64, 64, 64, 64, 64, 64, 64, 64, 64, 64, 64, 64, 64, 64, 64, 64, 64, 64, 64, 64, 64, 64, 64, 64, 64, 64, 64, 64, 64, 64, 64, 64, 64, 64, 64, 64, 64, 64, 64, 64, 64, 64, 64, 64, 64, 64, 64, 64, 64, 64, 64, 64, 64, 64, 64, 64, 64, 64, 64, 64, 64, 64, 64, 64, 64, 64, 64, 64, 64, 64, 64, 64, 64, 64, 64, 64, 64, 64, 64, 64, 64, 64, 64, 64, 64, 64, 64, 64, 64, 64, 64, 64, 64, 64, 64, 64, 64, 64, 64, 64, 64, 64, 64, 64, 64, 64, 64, 64, 64, 64, 64, 64, 64, 64, 64, 64, 64, 64, 64, 64, 64, 64, 64, 64, 64, 64, 64, 64, 64, 64, 64, 64, 64, 64, 64, 64, 64, 64, 64, 64, 64, 64, 64, 64, 64, 64, 64, 64, 64, 64, 64, 64, 64, 64, 64, 64, 64, 64, 64, 64, 64, 64, 64, 64, 64, 64, 64, 64, 64, 64, 64, 64, 64, 64, 64, 64, 64, 64, 64, 64, 64, 64, 64, 64, 64, 64, 64, 64, 64, 64, 64, 64, 64, 64, 64, 64, 64, 64, 64, 64, 64, 64, 64, 64, 64, 64, 64, 64, 64, 64, 64, 64, 64, 64, 64, 64, 64, 64, 64, 64, 64, 64, 64, 64, 64, 64, 64, 64, 64, 64, 64, 64, 64, 64, 64, 64, 64, 64, 64, 64, 64, 64, 64, 64, 64, 64, 64, 64, 64, 64, 64, 64, 64, 64, 64, 64, 64, 64, 64, 64, 64, 64, 64, 64, 64, 64, 64, 64, 64, 64, 64, 64, 64, 64, 64, 64, 64, 64, 64, 64, 64, 64, 64, 64, 64, 64, 64, 64, 64, 64, 64, 64, 64, 64, 64, 64, 64, 64, 64, 64, 64, 64, 64, 64, 64, 64, 64, 64, 64, 64, 64, 64, 64, 64, 64, 64, 64, 64, 64, 64, 64, 64, 64, 64, 64, 64, 64, 64, 64, 64, 64, 64, 64, 64, 64, 64, 64, 64, 64, 64, 64, 64, 64, 64, 64, 64, 64, 64, 64, 64, 64, 64, 64, 64, 64, 64, 64, 64, 64, 64, 64, 64, 64, 64, 64, 64, 64, 64, 64, 64, 64, 64, 64, 64, 64, 64, 64, 64, 64, 64, 64, 64, 64, 64, 64, 64, 64, 64, 64, 64, 64, 64, 64, 64, 64, 64, 64, 64, 64, 64, 64, 64, 64, 64, 64, 64, 64, 64, 64, 64, 64, 64, 64, 64, 64, 64, 64, 64, 64, 64, 64, 64, 64, 64, 64, 64, 64, 64, 64, 64, 64, 64, 64, 64, 64, 64, 64, 64, 64, 64, 64, 64, 64, 64, 64, 64, 64, 64, 64, 64, 64, 64, 64, 64, 64, 64, 64, 64, 64, 64, 64, 64, 64, 64, 64, 64, 64, 64, 64, 64, 64, 64, 64, 64, 64, 64, 64, 64, 64, 64, 64, 64, 64, 64, 64, 64, 64, 64, 64, 64, 64, 64, 64, 64, 64, 64, 64, 64, 64, 64, 64, 64, 64, 64, 64, 64, 64, 64, 64, 64, 64, 64, 64, 64, 64, 64, 64, 64, 64, 64, 64, 64, 64, 64, 64, 64, 64, 64, 64, 64, 64, 64, 64, 64, 64, 64, 64, 64, 64, 64, 64, 64, 64, 64, 64, 64, 64, 64, 64, 64, 64, 64, 64, 64, 64, 64, 64, 64, 64, 64, 64, 64, 64, 64, 64, 64, 64, 64, 64, 64, 64, 64, 64, 64, 64, 64, 64, 64, 64, 64, 64, 64, 64, 64, 64, 64, 64, 64, 64, 64, 64, 64, 64, 64, 64, 64, 64, 64, 64, 64, 64, 64, 64, 64, 64, 64, 64, 64, 64, 64, 64, 64, 64, 64, 64, 64, 64, 64, 64, 64, 64, 64, 64, 64, 64, 64, 64, 64, 64, 64, 64, 64, 64, 64, 64, 64, 64, 64, 64, 64, 64, 64, 64, 64, 64, 64, 64, 64, 64, 64, 64, 64, 64, 64, 64, 64, 64, 64, 64, 64, 64, 64, 64, 64, 64, 64, 64, 64, 64, 64, 64, 64, 64, 64, 64, 64, 64, 64, 64, 64, 64, 64, 64, 64, 64, 64, 64, 64, 64, 64, 64, 64, 64, 64, 64, 64, 64, 64, 64, 64, 64, 64, 64, 64, 64, 64, 64, 64, 64, 64, 64, 64, 64, 64, 64, 64, 64, 64, 64, 64, 64, 64, 64, 64, 64, 64, 64, 64, 64, 64, 64, 64, 64, 64, 64, 64, 64, 64, 64, 64, 64, 64, 64, 64, 64, 64, 64, 64, 64, 64, 64, 64, 64, 64, 64, 64, 64, 64, 64, 64, 64, 64, 64, 64, 64, 64, 64, 64, 64, 64, 64, 64, 64, 64, 64, 64, 64, 64, 64, 64, 64, 64, 64, 64, 64, 64, 64, 64, 64, 64, 64, 64, 64, 64, 64, 64, 64, 64, 64, 64, 64, 64, 64, 64, 64, 64, 64, 64, 64, 64, 64, 64, 64, 64, 64, 64, 64, 64, 64, 64, 64, 64, 64, 64, 64, 64, 64, 64, 64, 64, 64, 64, 64, 64, 64, 64, 64, 64, 64, 64, 64, 64, 64, 64, 64, 64, 64, 64, 64, 64, 64, 64, 64, 64, 64, 64, 64, 64, 64, 64, 64, 64, 64, 64, 64, 64, 64, 64, 64, 64, 64, 64, 64, 64, 64, 64, 64, 64, 64, 64, 64, 64, 64, 64, 64, 64, 64, 64, 64, 64, 64, 64, 64, 64, 64, 64, 64, 64, 64, 64, 64, 64, 64, 64, 64, 64, 64, 64, 64, 64, 64, 64, 64, 64, 64, 64, 64, 64, 64, 64, 64, 64, 64, 64, 64, 64, 64, 64, 64, 64, 64, 64, 64, 64, 64, 64, 64, 64, 64, 64, 64, 64, 64, 64, 64, 64, 64, 64, 64, 64, 64, 64, 64, 64, 64, 64, 64, 64, 64, 64, 64, 64, 64, 64, 64, 64, 64, 64, 64, 64, 64, 64, 64, 64, 64, 64, 64, 64, 64, 64, 64, 64, 64, 64, 64, 64, 64, 64, 64, 64, 64, 64, 64, 64, 64, 64, 64, 64, 64, 64, 64, 64, 64, 64, 64, 64, 64, 64, 64, 64, 64, 64, 64, 64, 64, 64, 64, 64, 64, 64, 64, 64, 64, 64, 64, 64, 64, 64, 64, 64, 64, 64, 64, 64, 64, 64, 64, 64, 64, 64, 64, 64, 64, 64, 64, 64, 64, 64, 64, 64, 64, 64, 64, 64, 64, 64, 64, 64, 64, 64, 64, 64, 64, 64, 64, 64, 64, 64, 64, 64, 64, 64, 64, 64, 64, 64, 64, 64, 64, 64, 64, 64, 64, 64, 64, 64, 64, 64, 64, 64, 64, 64, 64, 64, 64, 64, 64, 64, 64, 64, 64, 64, 64, 64, 64, 64, 64, 64, 64, 64, 64, 64, 64, 64, 64, 64, 64, 64, 64, 64, 64, 64, 64, 64, 64, 64, 64, 64, 64, 64, 64, 64, 64, 64, 64, 64, 64, 64, 64, 64, 64, 64, 64, 64, 64, 64, 64, 64, 64, 64, 64, 64, 64, 64, 64, 64, 64, 64, 64, 64, 64, 64, 64, 64, 64, 64, 64, 64, 64, 64, 64, 64, 64, 64, 64, 64, 64, 64, 64, 64, 64, 64, 64, 64, 64, 64, 64, 64, 64, 64, 64, 64, 64, 64, 64, 64, 64, 64, 64, 64, 64, 64, 64, 64, 64, 64, 64, 64, 64, 64, 64, 64, 64, 64, 64, 64, 64, 64, 64, 64, 64, 64, 64, 64, 64, 64, 64, 64, 64, 64, 64, 64, 64, 64, 64, 64, 64, 64, 64, 64, 64, 64, 64, 64, 64, 64, 64, 64, 64, 64, 64, 64, 64, 64, 64, 64, 64, 64, 64, 64, 64, 64, 64, 64, 64, 64, 64, 64, 64, 64, 64, 64, 64, 64, 64, 64, 64, 64, 64, 64, 64, 64, 64, 64, 64, 64, 64, 64, 64, 64, 64, 64, 64, 64, 64, 64, 64, 64, 64, 64, 64, 64, 64, 64, 64, 64, 64, 64, 64, 64, 64, 64, 64, 64, 64, 64, 64, 64, 64, 64, 64, 64, 64, 64, 64, 64, 64, 64, 64, 64, 64, 64, 64, 64, 64, 64, 64, 64, 64, 64, 64, 64, 64, 64, 64, 64, 64, 64, 64, 64, 64, 64, 64, 64, 64, 64, 64, 64, 64, 64, 64, 64, 64, 64, 64, 64, 64, 64, 64, 64, 64, 64, 64, 64, 64, 64, 64, 64, 64, 64, 64, 64, 64, 64, 64, 64, 64, 64, 64, 64, 64, 64, 64, 64, 64, 64, 64, 64, 64, 64, 64, 64, 64, 64, 64, 64, 64, 64, 64, 64, 64, 64, 64, 64, 64, 64, 64, 64, 64, 64, 64, 64, 64, 64, 64, 64, 64, 64, 64, 64, 64, 64, 64, 64, 64, 64, 64, 64, 64, 64, 64, 64, 64, 64, 64, 64, 64, 64, 64, 64, 64, 64, 64, 64, 64, 64, 64, 64, 64, 64, 64, 64, 64, 64, 64, 64, 64, 64, 64, 64, 64, 64, 64, 64, 64, 64, 64, 64, 64, 64, 64, 64, 64, 64, 64, 64, 64, 64, 64, 64, 64, 64, 64, 64, 64, 64, 64, 64, 64, 64, 64, 64, 64, 64, 64, 64, 64, 64, 64, 64, 64, 64, 64, 64, 64, 64, 64, 64, 64, 64, 64, 64, 64, 64, 64, 64, 64, 64, 64, 64, 64, 64, 64, 64, 64, 64, 64, 64, 64, 64, 64, 64, 64, 64, 64, 64, 64, 64, 64, 64, 64, 64, 64, 64, 64, 64, 64, 64, 64, 64, 64, 64, 64, 64, 64, 64, 64, 64, 64, 64, 64, 64, 64, 64, 64, 64, 64, 64, 64, 64, 64, 64, 64, 64, 64, 64, 64, 64, 64, 64, 64, 64, 64, 64, 64, 64, 64, 64, 64, 64, 64, 64, 64, 64, 64, 64, 64, 64, 64, 64, 64, 64, 64, 64, 64, 64, 64, 64, 64, 64, 64, 64, 64, 64, 64, 64, 64, 64, 64, 64, 64, 64, 64, 64, 64, 64, 64, 64, 64, 64, 64, 64, 64, 64, 64, 64, 64, 64, 64, 64, 64, 64, 64, 64, 64, 64, 64, 64, 64, 64, 64, 64, 64, 64, 64, 64, 64, 64, 64, 64, 64, 64, 64, 64, 64, 64, 64, 64, 64, 64, 64, 64, 64, 64, 64, 64, 64, 64, 64, 64, 64, 64, 64, 64, 64, 64, 64, 64, 64, 64, 64, 64, 64, 64, 64, 64, 64, 64, 64, 64, 64, 64, 64, 64, 64, 64, 64, 64, 64, 64, 64, 64, 64, 64, 64, 64, 64, 64, 64, 64, 64, 64, 64, 64, 64, 64, 64, 64, 64, 64, 64, 64, 64, 64, 64, 64, 64, 64, 64, 64, 64, 64, 64, 64, 64, 64, 64, 64, 64, 64, 64, 64, 64, 64, 64, 64, 64, 64, 64, 64, 64, 64, 64, 64, 64, 64, 64, 64, 64, 64, 64, 64, 64, 64, 64, 64, 64, 64, 64, 64, 64, 64, 64, 64, 64, 64, 64, 64, 64, 64, 64, 64, 64, 64, 64, 64, 64, 64, 64, 64, 64, 64, 64, 64, 64, 64, 64, 64, 64, 64, 64, 64, 64, 64, 64, 64, 64, 64, 64, 64, 64, 64, 64, 64, 64, 64, 64, 64, 64, 64, 64, 64, 64, 64, 64, 64, 64, 64, 64, 64, 64, 64, 64, 64, 64, 64, 64, 64, 64, 64, 64, 64, 64, 64, 64, 64, 64, 64, 64, 64, 64, 64, 64, 64, 64, 64, 64, 64, 64, 64, 64, 64, 64, 64, 64, 64, 64, 64, 64, 64, 64, 64, 64, 64, 64, 64, 64, 64, 64, 64, 64, 64, 64, 64, 64, 64, 64, 64, 64, 64, 64, 64, 64, 64, 64, 64, 64, 64, 64, 64, 64, 64, 64, 64, 64, 64, 64, 64, 64, 64, 64, 64, 64, 64, 64, 64, 64, 64, 64, 64, 64, 64, 64, 64, 64, 64, 64, 64, 64, 64, 64, 64, 64, 64, 64, 64, 64, 64, 64, 64, 64, 64, 64, 64, 64, 64, 64, 64, 64, 64, 64, 64, 64, 64, 64, 64, 64, 64, 64, 64, 64, 64, 64, 64, 64, 64, 64, 64, 64, 64, 64, 64, 64, 64, 64, 64, 64, 64, 64, 64, 64, 64, 64, 64, 64, 64, 64, 64, 64, 64, 64, 64, 64, 64, 64, 64, 64, 64, 64, 64, 64, 64, 64, 64, 64, 64, 64, 64, 64, 64, 64, 64, 64, 64, 64, 64, 64, 64, 64, 64, 64, 64, 64, 64, 64, 64, 64, 64, 64, 64, 64, 64, 64, 64, 64, 64, 64, 64, 64, 64, 64, 64, 64, 64, 64, 64, 64, 64, 64, 64, 64, 64, 64, 64, 64, 64, 64, 64, 64, 64, 64, 64, 64, 64, 64, 64, 64, 64, 64, 64, 64, 64, 64, 64, 64, 64, 64, 64, 64, 64, 64, 64, 64, 64, 64, 64, 64, 64, 64, 64, 64, 64, 64, 64, 64, 64, 64, 64, 64, 64, 64, 64, 64, 64, 64, 64, 64, 64, 64, 64, 64, 64, 64, 64, 64, 64, 64, 64, 64, 64, 64, 64, 64, 64, 64, 64, 64, 64, 64, 64, 64, 64, 64, 64, 64, 64, 64, 64, 64, 64, 64, 64, 64, 64, 64, 64, 64, 64, 64, 64, 64, 64, 64, 64, 64, 64, 64, 64, 64, 64, 64, 64, 64, 64, 64, 64, 64, 64, 64, 64, 64, 64, 64, 64, 64, 64, 64, 64, 64, 64, 64, 64, 64, 64, 64, 64, 64, 64, 64, 64, 64, 64, 64, 64, 64, 64, 64, 64, 64, 64, 64, 64, 64, 64, 64, 64, 64, 64, 64, 64, 64, 64, 64, 64, 64, 64, 64, 64, 64, 64, 64, 64, 64, 64, 64, 64, 64, 64, 64, 64, 64, 64, 64, 64, 64, 64, 64, 64, 64, 64, 64, 64, 64, 64, 64, 64, 64, 64, 64, 64, 64, 64, 64, 64, 64, 64, 64, 64, 64, 64, 64, 64, 64, 64, 64, 64, 64, 64, 64, 64, 64, 64, 64, 64, 64, 64, 64, 64, 64, 64, 64, 64, 64, 64, 64, 64, 64, 64, 64, 64, 64, 64, 64, 64, 64, 64, 64, 64, 64, 64, 64, 64, 64, 64, 64, 64, 64, 64, 64, 64, 64, 64, 64, 64, 64, 64, 64, 64, 64, 64, 64, 64, 64, 64, 64, 64, 64, 64, 64, 64, 64, 64, 64, 64, 64, 64, 64, 64, 64, 64, 64, 64, 64, 64, 64, 64, 64, 64, 64, 64, 64, 64, 64, 64, 64, 64, 64, 64, 64, 64, 64, 64, 64, 64, 64, 64, 64, 64, 64, 64, 64, 64, 64, 64, 64, 64, 64, 64, 64, 64, 64, 64, 64, 64, 64, 64, 64, 64, 64, 64, 64, 64, 64, 64, 64, 64, 64, 64, 64, 64, 64, 64, 64, 64, 64, 64, 64, 64, 64, 64, 64, 64, 64, 64, 64, 64, 64, 64, 64, 64, 64, 64, 64, 64, 64, 64, 64, 64, 64, 64, 64, 64, 64, 64, 64, 64, 64, 64, 64, 64, 64, 64, 64, 64, 64, 64, 64, 64, 64, 64, 64, 64, 64, 64, 64, 64, 64, 64, 64, 64, 64, 64, 64, 64, 64, 64, 64, 64, 64, 64, 64, 64, 64, 64, 64, 64, 64, 64, 64, 64, 64, 64, 64, 64, 64, 64, 64, 64, 64, 64] [64, 64, 64, 64, 64, 64, 64, 64, 64, 64, 64, 64, 64, 64, 64, 64, 64, 64, 64, 64, 64, 64, 64, 64, 64, 64, 64, 64, 64, 64, 64, 64, 64, 64, 64, 64, 64, 64, 64, 64, 64, 64, 64, 64, 64, 64, 64, 64, 64, 64, 64, 64, 64, 64, 64, 64, 64, 64, 64, 64, 64, 64, 64, 64, 64, 64, 64, 64, 64, 64, 64, 64, 64, 64, 64, 64, 64, 64, 64, 64, 64, 64, 64, 64, 64, 64, 64, 64, 64, 64, 64, 64, 64, 64, 64, 64, 64, 64, 64, 64, 64, 64, 64, 64, 64, 64, 64, 64, 64, 64, 64, 64, 64, 64, 64, 64, 64, 64, 64, 64, 64, 64, 64, 64, 64, 64, 64, 64, 64, 64, 64, 64, 64, 64, 64, 64, 64, 64, 64, 64, 64, 64, 64, 64, 64, 64, 64, 64, 64, 64, 64, 64, 64, 64, 64, 64, 64, 64, 64, 64, 64, 64, 64, 64, 64, 64, 64, 64, 64, 64, 64, 64, 64, 64, 64, 64, 64, 64, 64, 64, 64, 64, 64, 64, 64, 64, 64, 64, 64, 64, 64, 64, 64, 64, 64, 64, 64, 64, 64, 64, 64, 64, 64, 64, 64, 64, 64, 64, 64, 64, 64, 64, 64, 64, 64, 64, 64, 64, 64, 64, 64, 64, 64, 64, 64, 64, 64, 64, 64, 64, 64, 64, 64, 64, 64, 64, 64, 64, 64, 64, 64, 64, 64, 64, 64, 64, 64, 64, 64, 64, 64, 64, 64, 64, 64, 64, 64, 64, 64, 64, 64, 64, 64, 64, 64, 64, 64, 64, 64, 64, 64, 64, 64, 64, 64, 64, 64, 64, 64, 64, 64, 64, 64, 64, 64, 64, 64, 64, 64, 64, 64, 64, 64, 64, 64, 64, 64, 64, 64, 64, 64, 64, 64, 64, 64, 64, 64, 64, 64, 64, 64, 64, 64, 64, 64, 64, 64, 64, 64, 64, 64, 64, 64, 64, 64, 64, 64, 64, 64, 64, 64, 64, 64, 64, 64, 64, 64, 64, 64, 64, 64, 64, 64, 64, 64, 64, 64, 64, 64, 64, 64, 64, 64, 64, 64, 64, 64, 64, 64, 64, 64, 64, 64, 64, 64, 64, 64, 64, 64, 64, 64, 64, 64, 64, 64, 64, 64, 64, 64, 64, 64, 64, 64, 64, 64, 64, 64, 64, 64, 64, 64, 64, 64, 64, 64, 64, 64, 64, 64, 64, 64, 64, 64, 64, 64, 64, 64, 64, 64, 64, 64, 64, 64, 64, 64, 64, 64, 64, 64, 64, 64, 64, 64, 64, 64, 64, 64, 64, 64, 64, 64, 64, 64, 64, 64, 64, 64, 64, 64, 64, 64, 64, 64, 64, 64, 64, 64, 64, 64, 64, 64, 64, 64, 64, 64, 64, 64, 64, 64, 64, 64, 64, 64, 64, 64, 64, 64, 64, 64, 64, 64, 64, 64, 64, 64, 64, 64, 64, 64, 64, 64, 64, 64, 64, 64, 64, 64, 64, 64, 64, 64, 64, 64, 64, 64, 64, 64, 64, 64, 64, 64, 64, 64, 64, 64, 64, 64, 64, 64, 64, 64, 64, 64, 64, 64, 64, 64, 64, 64, 64, 64, 64, 64, 64, 64, 64, 64, 64, 64, 64, 64, 64, 64, 64, 64, 64, 64, 64, 64, 64, 64, 64, 64, 64, 64, 64, 64, 64, 64, 64, 64, 64, 64, 64, 64, 64, 64, 64, 64, 64, 64, 64, 64, 64, 64, 64, 64, 64, 64, 64, 64, 64, 64, 64, 64, 64, 64, 64, 64, 64, 64, 64, 64, 64, 64, 64, 64, 64, 64, 64, 64, 64, 64, 64, 64, 64, 64, 64, 64, 64, 64, 64, 64, 64, 64, 64, 64, 64, 64, 64, 64, 64, 64, 64, 64, 64, 64, 64, 64, 64, 64, 64, 64, 64, 64, 64, 64, 64, 64, 64, 64, 64, 64, 64, 64, 64, 64, 64, 64, 64, 64, 64, 64, 64, 64, 64, 64, 64, 64, 64, 64, 64, 64, 64, 64, 64, 64, 64, 64, 64, 64, 64, 64, 64, 64, 64, 64, 64, 64, 64, 64, 64, 64, 64, 64, 64, 64, 64, 64, 64, 64, 64, 64, 64, 64, 64, 64, 64, 64, 64, 64, 64, 64, 64, 64, 64, 64, 64, 64, 64, 64, 64, 64, 64, 64, 64, 64, 64, 64, 64, 64, 64, 64, 64, 64, 64, 64, 64, 64, 64, 64, 64, 64, 64, 64, 64, 64, 64, 64, 64, 64, 64, 64, 64, 64, 64, 64, 64, 64, 64, 64, 64, 64, 64, 64, 64, 64, 64, 64, 64, 64, 64, 64, 64, 64, 64, 64, 64, 64, 64, 64, 64, 64, 64, 64, 64, 64, 64, 64, 64, 64, 64, 64, 64, 64, 64, 64, 64, 64, 64, 64, 64, 64, 64, 64, 64, 64, 64, 64, 64, 64, 64, 64, 64, 64, 64, 64, 64, 64, 64, 64, 64, 64, 64, 64, 64, 64, 64, 64, 64, 64, 64, 64, 64, 64, 64, 64, 64, 64, 64, 64, 64, 64, 64, 64, 64, 64, 64, 64, 64, 64, 64, 64, 64, 64, 64, 64, 64, 64, 64, 64, 64, 64, 64, 64, 64, 64, 64, 64, 64, 64, 64, 64, 64, 64, 64, 64, 64, 64, 64, 64, 64, 64, 64, 64, 64, 64, 64, 64, 64, 64, 64, 64, 64, 64, 64, 64, 64, 64, 64, 64, 64, 64, 64, 64, 64, 64, 64, 64, 64, 64, 64, 64, 64, 64, 64, 64, 64, 64, 64, 64, 64, 64, 64, 64, 64, 64, 64, 64, 64, 64, 64, 64, 64, 64, 64, 64, 64, 64, 64, 64, 64, 64, 64, 64, 64, 64, 64, 64, 64, 64, 64, 64, 64, 64, 64, 64, 64, 64, 64, 64, 64, 64, 64, 64, 64, 64, 64, 64, 64, 64, 64, 64, 64, 64, 64, 64, 64, 64, 64, 64, 64, 64, 64, 64, 64, 64, 64, 64, 64, 64, 64, 64, 64, 64, 64, 64, 64, 64, 64, 64, 64, 64, 64, 64, 64, 64, 64, 64, 64, 64, 64, 64, 64, 64, 64, 64, 64, 64, 64, 64, 64, 64, 64, 64, 64, 64, 64, 64, 64, 64, 64, 64, 64, 64, 64, 64, 64, 64, 64, 64, 64, 64, 64, 64, 64, 64, 64, 64, 64, 64, 64, 64, 64, 64, 64, 64, 64, 64, 64, 64, 64, 64, 64, 64, 64, 64, 64, 64, 64, 64, 64, 64, 64, 64, 64, 64, 64, 64, 64, 64, 64, 64, 64, 64, 64, 64, 64, 64, 64, 64, 64, 64, 64, 64, 64, 64, 64, 64, 64, 64, 64, 64, 64, 64, 64, 64, 64, 64, 64, 64, 64, 64, 64, 64, 64, 64, 64, 64, 64, 64, 64, 64, 64, 64, 64, 64, 64, 64, 64, 64, 64, 64, 64, 64, 64, 64, 64, 64, 64, 64, 64, 64, 64, 64, 64, 64, 64, 64, 64, 64, 64, 64, 64, 64, 64, 64, 64, 64, 64, 64, 64, 64, 64, 64, 64, 64, 64, 64, 64, 64, 64, 64, 64, 64, 64, 64, 64, 64, 64, 64, 64, 64, 64, 64, 64, 64, 64, 64, 64, 64, 64, 64, 64, 64, 64, 64, 64, 64, 64, 64, 64, 64, 64, 64, 64, 64, 64, 64, 64, 64, 64, 64, 64, 64, 64, 64, 64, 64, 64, 64, 64, 64, 64, 64, 64, 64, 64, 64, 64, 64, 64, 64, 64, 64, 64, 64, 64, 64, 64, 64, 64, 64, 64, 64, 64, 64, 64, 64, 64, 64, 64, 64, 64, 64, 64, 64, 64, 64, 64, 64, 64, 64, 64, 64, 64, 64, 64, 64, 64, 64, 64, 64, 64, 64, 64, 64, 64, 64, 64, 64, 64, 64, 64, 64, 64, 64, 64, 64, 64, 64, 64, 64, 64, 64, 64, 64, 64, 64, 64, 64, 64, 64, 64, 64, 64, 64, 64, 64, 64, 64, 64, 64, 64, 64, 64, 64, 64, 64, 64, 64, 64, 64, 64, 64, 64, 64, 64, 64, 64, 64, 64, 64, 64, 64, 64, 64, 64, 64, 64, 64, 64, 64, 64, 64, 64, 64, 64, 64, 64, 64, 64, 64, 64, 64, 64, 64, 64, 64, 64, 64, 64, 64, 64, 64, 64, 64, 64, 64, 64, 64, 64, 64, 64, 64, 64, 64, 64, 64, 64, 64, 64, 64, 64, 64, 64, 64, 64, 64, 64, 64, 64, 64, 64, 64, 64, 64, 64, 64, 64, 64, 64, 64, 64, 64, 64, 64, 64, 64, 64, 64, 64, 64, 64, 64, 64, 64, 64, 64, 64, 64, 64, 64, 64, 64, 64, 64, 64, 64, 64, 64, 64, 64, 64, 64, 64, 64, 64, 64, 64, 64, 64, 64, 64, 64, 64, 64, 64, 64, 64, 64, 64, 64, 64, 64, 64, 64, 64, 64, 64, 64, 64, 64, 64, 64, 64, 64, 64, 64, 64, 64, 64, 64, 64, 64, 64, 64, 64, 64, 64, 64, 64, 64, 64, 64, 64, 64, 64, 64, 64, 64, 64, 64, 64, 64, 64, 64, 64, 64, 64, 64, 64, 64, 64, 64, 64, 64, 64, 64, 64, 64, 64, 64, 64, 64, 64, 64, 64, 64, 64, 64, 64, 64, 64, 64, 64, 64, 64, 64, 64, 64, 64, 64, 64, 64, 64, 64, 64, 64, 64, 64, 64, 64, 64, 64, 64, 64, 64, 64, 64, 64, 64, 64, 64, 64, 64, 64, 64, 64, 64, 64, 64, 64, 64, 64, 64, 64, 64, 64, 64, 64, 64, 64, 64, 64, 64, 64, 64, 64, 64, 64, 64, 64, 64, 64, 64, 64, 64, 64, 64, 64, 64, 64, 64, 64, 64, 64, 64, 64, 64, 64, 64, 64, 64, 64, 64, 64, 64, 64, 64, 64, 64, 64, 64, 64, 64, 64, 64, 64, 64, 64, 64, 64, 64, 64, 64, 64, 64, 64, 64, 64, 64, 64, 64, 64, 64, 64, 64, 64, 64, 64, 64, 64, 64, 64, 64, 64, 64, 64, 64, 64, 64, 64, 64, 64, 64, 64, 64, 64, 64, 64, 64, 64, 64, 64, 64, 64, 64, 64, 64, 64, 64, 64, 64, 64, 64, 64, 64, 64, 64, 64, 64, 64, 64, 64, 64, 64, 64, 64, 64, 64, 64, 64, 64, 64, 64, 64, 64, 64, 64, 64, 64, 64, 64, 64, 64, 64, 64, 64, 64, 64, 64, 64, 64, 64, 64, 64, 64, 64, 64, 64, 64, 64, 64, 64, 64, 64, 64, 64, 64, 64, 64, 64, 64, 64, 64, 64, 64, 64, 64, 64, 64, 64, 64, 64, 64, 64, 64, 64, 64, 64, 64, 64, 64, 64, 64, 64, 64, 64, 64, 64, 64, 64, 64, 64, 64, 64, 64, 64, 64, 64, 64, 64, 64, 64, 64, 64, 64, 64, 64, 64, 64, 64, 64, 64, 64, 64, 64, 64, 64, 64, 64, 64, 64, 64, 64, 64, 64, 64, 64, 64, 64, 64, 64, 64, 64, 64, 64, 64, 64, 64, 64, 64, 64, 64, 64, 64, 64, 64, 64, 64, 64, 64, 64, 64, 64, 64, 64, 64, 64, 64, 64, 64, 64, 64, 64, 64, 64, 64, 64, 64, 64, 64, 64, 64, 64, 64, 64, 64, 64, 64, 64, 64, 64, 64, 64, 64, 64, 64, 64, 64, 64, 64, 64, 64, 64, 64, 64, 64, 64, 64, 64, 64, 64, 64, 64, 64, 64, 64, 64, 64, 64, 64, 64, 64, 64, 64, 64, 64, 64, 64, 64, 64, 64, 64, 64, 64, 64, 64, 64, 64, 64, 64, 64, 64, 64, 64, 64, 64, 64, 64, 64, 64, 64, 64, 64, 64, 64, 64, 64, 64, 64, 64, 64, 64, 64, 64, 64, 64, 64, 64, 64, 64, 64, 64, 64, 64, 64, 64, 64, 64, 64, 64, 64, 64, 64, 64, 64, 64, 64, 64, 64, 64, 64, 64, 64, 64, 64, 64, 64, 64, 64, 64, 64, 64, 64, 64, 64, 64, 64, 64, 64, 64, 64, 64, 64, 64, 64, 64, 64, 64, 64, 64, 64, 64, 64, 64, 64, 64, 64, 64, 64, 64, 64, 64, 64, 64, 64, 64, 64, 64, 64, 64, 64, 64, 64, 64, 64, 64, 64, 64, 64, 64, 64, 64, 64, 64, 64, 64, 64, 64, 64, 64, 64, 64, 64, 64, 64, 64, 64, 64, 64, 64, 64, 64, 64, 64, 64, 64, 64, 64, 64, 64, 64, 64, 64, 64, 64, 64, 64, 64, 64, 64, 64, 64, 64, 64, 64, 64, 64, 64, 64, 64, 64, 64, 64, 64, 64, 64, 64, 64, 64, 64, 64, 64, 64, 64, 64, 64, 64, 64, 64, 64, 64, 64, 64, 64, 64, 64, 64, 64, 64, 64, 64, 64, 64, 64, 64, 64, 64, 64, 64, 64, 64, 64, 64, 64, 64, 64, 64, 64, 64, 64, 64, 64, 64, 64, 64, 64, 64, 64, 64, 64, 64, 64, 64, 64, 64, 64, 64, 64, 64, 64, 64, 64, 64, 64, 64, 64, 64, 64, 64, 64, 64, 64, 64, 64, 64, 64, 64, 64, 64, 64, 64, 64, 64, 64, 64, 64, 64, 64, 64, 64, 64, 64, 64, 64, 64, 64, 64, 64, 64, 64, 64, 64, 64, 64, 64, 64, 64, 64, 64, 64, 64, 64, 64, 64, 64, 64, 64, 64, 64, 64, 64, 64, 64, 64, 64, 64, 64, 64, 64, 64, 64, 64, 64, 64, 64, 64, 64, 64, 64, 64, 64, 64, 64, 64, 64, 64, 64, 64, 64, 64, 64, 64, 64, 64, 64, 64, 64, 64, 64, 64, 64, 64, 64, 64, 64, 64, 64, 64, 64, 64, 64, 64, 64, 64, 64, 64, 64, 64, 64, 64, 64, 64, 64, 64, 64, 64, 64, 64, 64, 64, 64, 64, 64, 64, 64, 64, 64, 64, 64, 64, 64, 64, 64, 64, 64, 64, 64, 64, 64, 64, 64, 64, 64, 64, 64, 64, 64, 64, 64, 64, 64, 64, 64, 64, 64, 64, 64, 64, 64, 64, 64, 64, 64, 64, 64, 64, 64, 64, 64, 64, 64, 64, 64, 64, 64, 64, 64, 64, 64, 64, 64, 64, 64, 64, 64, 64, 64, 64, 64, 64, 64, 64, 64, 64, 64, 64, 64, 64, 64, 64, 64, 64, 64, 64, 64, 64, 64, 64, 64, 64, 64, 64, 64, 64, 64, 64, 64, 64, 64, 64, 64, 64, 64, 64, 64, 64, 64, 64, 64, 64, 64, 64, 64, 64, 64, 64, 64, 64, 64, 64, 64, 64, 64, 64, 64, 64, 64, 64, 64, 64, 64, 64, 64, 64, 64, 64, 64, 64, 64, 64, 64, 64, 64, 64, 64, 64, 64, 64, 64, 64, 64, 64, 64, 64, 64, 64, 64, 64, 64, 64, 64, 64, 64, 64, 64, 64, 64, 64, 64, 64, 64, 64, 64, 64, 64, 64, 64, 64, 64, 64, 64, 64, 64, 64, 64, 64, 64, 64, 64, 64, 64, 64, 64, 64, 64, 64, 64, 64, 64, 64, 64, 64, 64, 64, 64, 64, 64, 64, 64, 64, 64, 64, 64, 64, 64, 64, 64, 64, 64, 64, 64, 64, 64, 64, 64, 64, 64, 64, 64, 64, 64, 64, 64, 64, 64, 64, 64, 64, 64, 64, 64, 64, 64, 64, 64, 64, 64, 64, 64, 64, 64, 64, 64, 64, 64, 64, 64, 64, 64, 64, 64, 64, 64, 64, 64, 64, 64, 64, 64, 64, 64, 64, 64, 64, 64, 64, 64, 64, 64, 64, 64, 64, 64, 64, 64, 64, 64, 64, 64, 64, 64, 64, 64, 64, 64, 64, 64, 64, 64, 64, 64, 64, 64, 64, 64, 64, 64, 64, 64, 64, 64, 64, 64, 64, 64, 64, 64, 64, 64, 64, 64, 64, 64, 64, 64, 64, 64, 64, 64, 64, 64, 64, 64, 64, 64, 64, 64, 64, 64, 64, 64, 64, 64, 64, 64, 64, 64, 64, 64, 64, 64, 64, 64, 64, 64, 64, 64, 64, 64, 64, 64, 64, 64, 64, 64, 64, 64, 64, 64, 64, 64, 64, 64, 64, 64, 64, 64, 64, 64, 64, 64, 64, 64, 64, 64, 64, 64, 64, 64, 64, 64, 64, 64, 64, 64, 64, 64, 64, 64, 64, 64, 64, 64, 64, 64, 64, 64, 64, 64, 64, 64, 64, 64, 64, 64, 64, 64, 64, 64, 64, 64, 64, 64, 64, 64, 64, 64, 64, 64, 64, 64, 64, 64, 64, 64, 64, 64, 64, 64, 64, 64, 64, 64, 64, 64, 64, 64, 64, 64, 64, 64, 64, 64, 64, 64, 64, 64, 64, 64, 64, 64, 64, 64, 64, 64, 64, 64, 64, 64, 64, 64, 64, 64, 64, 64, 64, 64, 64, 64, 64, 64, 64, 64, 64, 64, 64, 64, 64, 64, 64, 64, 64, 64, 64, 64, 64, 64, 64, 64, 64, 64, 64, 64, 64, 64, 64, 64, 64, 64, 64, 64, 64, 64, 64, 64, 64, 64, 64, 64, 64, 64, 64, 64, 64, 64, 64, 64, 64, 64, 64, 64, 64, 64, 64, 64, 64, 64, 64, 64, 64, 64, 64, 64, 64, 64, 64, 64, 64, 64, 64, 64, 64, 64, 64, 64, 64, 64, 64, 64, 64, 64, 64, 64, 64, 64, 64, 64, 64, 64, 64, 64, 64, 64, 64, 64, 64, 64, 64, 64, 64, 64, 64, 64, 64, 64, 64, 64, 64, 64, 64, 64, 64, 64, 64, 64, 64, 64, 64, 64, 64, 64, 64, 64, 64, 64, 64, 64, 64, 64, 64, 64, 64, 64, 64, 64, 64, 64, 64, 64, 64, 64, 64, 64, 64, 64, 64, 64, 64, 64, 64, 64, 64, 64, 64, 64, 64, 64, 64, 64, 64, 64, 64, 64, 64, 64, 64, 64, 64, 64, 64, 64, 64, 64, 64, 64, 64, 64, 64, 64, 64, 64, 64, 64, 64, 64, 64, 64, 64, 64, 64, 64, 64, 64, 64, 64, 64, 64, 64, 64, 64, 64, 64, 64, 64, 64, 64, 64, 64, 64, 64, 64, 64, 64, 64, 64, 64, 64, 64, 64, 64, 64, 64, 64, 64, 64, 64, 64, 64, 64, 64, 64, 64, 64, 64, 64, 64, 64, 64, 64, 64, 64, 64, 64, 64, 64, 64, 64, 64, 64, 64, 64, 64, 64, 64, 64, 64, 64, 64, 64, 64, 64, 64, 64, 64, 64, 64, 64, 64, 64, 64, 64, 64, 64, 64, 64, 64, 64, 64, 64, 64, 64, 64, 64, 64, 64, 64, 64, 64, 64, 64, 64, 64, 64, 64, 64, 64, 64, 64, 64, 64, 64, 64, 64, 64, 64, 64, 64, 64, 64, 64, 64, 64, 64, 64, 64, 64, 64, 64, 64, 64, 64, 64, 64, 64, 64, 64, 64, 64, 64, 64, 64, 64, 64, 64, 64, 64, 64, 64, 64, 64, 64, 64, 64, 64, 64, 64, 64, 64, 64, 64, 64, 64, 64, 64, 64, 64, 64, 64, 64, 64, 64, 64, 64, 64, 64, 64, 64, 64, 64, 64, 64, 64, 64, 64, 64, 64, 64, 64, 64, 64, 64, 64, 64, 64, 64, 64, 64, 64, 64, 64, 64, 64, 64, 64, 64, 64, 64, 64, 64, 64, 64, 64, 64, 64, 64, 64, 64, 64, 64, 64, 64, 64, 64, 64, 64, 64, 64, 64, 64, 64, 64, 64, 64, 64, 64, 64, 64, 64, 64, 64, 64, 64, 64, 64, 64, 64, 64, 64, 64, 64, 64, 64, 64, 64, 64, 64, 64, 64, 64, 64, 64, 64, 64, 64, 64, 64, 64, 64, 64, 64, 64, 64, 64, 64, 64, 64, 64, 64, 64, 64, 64, 64, 64, 64, 64, 64, 64, 64, 64, 64, 64, 64, 64, 64, 64, 64, 64, 64, 64, 64, 64, 64, 64, 64, 64, 64, 64, 64, 64, 64, 64, 64, 64, 64, 64, 64, 64, 64, 64, 64, 64, 64, 64, 64, 64, 64, 64, 64, 64, 64, 64, 64, 64, 64, 64, 64, 64, 64, 64, 64, 64, 64, 64, 64, 64, 64, 64, 64, 64, 64, 64, 64, 64, 64, 64, 64, 64, 64, 64, 64, 64, 64, 64, 64, 64, 64, 64, 64, 64, 64, 64, 64, 64, 64, 64, 64, 64, 64, 64, 64, 64, 64, 64, 64, 64, 64, 64, 64, 64, 64, 64, 64, 64, 64, 64, 64, 64, 64, 64, 64, 64, 64, 64, 64, 64, 64, 64, 64, 64, 64, 64, 64, 64, 64, 64, 64, 64, 64, 64, 64, 64, 64, 64, 64, 64, 64, 64, 64, 64, 64, 64, 64, 64, 64, 64, 64, 64, 64, 64, 64, 64, 64, 64, 64, 64, 64, 64, 64, 64, 64, 64, 64, 64, 64, 64, 64, 64, 64] [64, 64, 64, 64, 64, 64, 64, 64, 64, 64, 64, 64, 64, 64, 64, 64, 64, 64, 64, 64, 64, 64, 64, 64, 64, 64, 64, 64, 64, 64, 64, 64, 64, 64, 64, 64, 64, 64, 64, 64, 64, 64, 64, 64, 64, 64, 64, 64, 64, 64, 64, 64, 64, 64, 64, 64, 64, 64, 64, 64, 64, 64, 64, 64, 64, 64, 64, 64, 64, 64, 64, 64, 64, 64, 64, 64, 64, 64, 64, 64, 64, 64, 64, 64, 64, 64, 64, 64, 64, 64, 64, 64, 64, 64, 64, 64, 64, 64, 64, 64, 64, 64, 64, 64, 64, 64, 64, 64, 64, 64, 64, 64, 64, 64, 64, 64, 64, 64, 64, 64, 64, 64, 64, 64, 64, 64, 64, 64, 64, 64, 64, 64, 64, 64, 64, 64, 64, 64, 64, 64, 64, 64, 64, 64, 64, 64, 64, 64, 64, 64, 64, 64, 64, 64, 64, 64, 64, 64, 64, 64, 64, 64, 64, 64, 64, 64, 64, 64, 64, 64, 64, 64, 64, 64, 64, 64, 64, 64, 64, 64, 64, 64, 64, 64, 64, 64, 64, 64, 64, 64, 64, 64, 64, 64, 64, 64, 64, 64, 64, 64, 64, 64, 64, 64, 64, 64, 64, 64, 64, 64, 64, 64, 64, 64, 64, 64, 64, 64, 64, 64, 64, 64, 64, 64, 64, 64, 64, 64, 64, 64, 64, 64, 64, 64, 64, 64, 64, 64, 64, 64, 64, 64, 64, 64, 64, 64, 64, 64, 64, 64, 64, 64, 64, 64, 64, 64, 64, 64, 64, 64, 64, 64, 64, 64, 64, 64, 64, 64, 64, 64, 64, 64, 64, 64, 64, 64, 64, 64, 64, 64, 64, 64, 64, 64, 64, 64, 64, 64, 64, 64, 64, 64, 64, 64, 64, 64, 64, 64, 64, 64, 64, 64, 64, 64, 64, 64, 64, 64, 64, 64, 64, 64, 64, 64, 64, 64, 64, 64, 64, 64, 64, 64, 64, 64, 64, 64, 64, 64, 64, 64, 64, 64, 64, 64, 64, 64, 64, 64, 64, 64, 64, 64, 64, 64, 64, 64, 64, 64, 64, 64, 64, 64, 64, 64, 64, 64, 64, 64, 64, 64, 64, 64, 64, 64, 64, 64, 64, 64, 64, 64, 64, 64, 64, 64, 64, 64, 64, 64, 64, 64, 64, 64, 64, 64, 64, 64, 64, 64, 64, 64, 64, 64, 64, 64, 64, 64, 64, 64, 64, 64, 64, 64, 64, 64, 64, 64, 64, 64, 64, 64, 64, 64, 64, 64, 64, 64, 64, 64, 64, 64, 64, 64, 64, 64, 64, 64, 64, 64, 64, 64, 64, 64, 64, 64, 64, 64, 64, 64, 64, 64, 64, 64, 64, 64, 64, 64, 64, 64, 64, 64, 64, 64, 64, 64, 64, 64, 64, 64, 64, 64, 64, 64, 64, 64, 64, 64, 64, 64, 64, 64, 64, 64, 64, 64, 64, 64, 64, 64, 64, 64, 64, 64, 64, 64, 64, 64, 64, 64, 64, 64, 64, 64, 64, 64, 64, 64, 64, 64, 64, 64, 64, 64, 64, 64, 64, 64, 64, 64, 64, 64, 64, 64, 64, 64, 64, 64, 64, 64, 64, 64, 64, 64, 64, 64, 64, 64, 64, 64, 64, 64, 64, 64, 64, 64, 64, 64, 64, 64, 64, 64, 64, 64, 64, 64, 64, 64, 64, 64, 64, 64, 64, 64, 64, 64, 64, 64, 64, 64, 64, 64, 64, 64, 64, 64, 64, 64, 64, 64, 64, 64, 64, 64, 64, 64, 64, 64, 64, 64, 64, 64, 64, 64, 64, 64, 64, 64, 64, 64, 64, 64, 64, 64, 64, 64, 64, 64, 64, 64, 64, 64, 64, 64, 64, 64, 64, 64, 64, 64, 64, 64, 64, 64, 64, 64, 64, 64, 64, 64, 64, 64, 64, 64, 64, 64, 64, 64, 64, 64, 64, 64, 64, 64, 64, 64, 64, 64, 64, 64, 64, 64, 64, 64, 64, 64, 64, 64, 64, 64, 64, 64, 64, 64, 64, 64, 64, 64, 64, 64, 64, 64, 64, 64, 64, 64, 64, 64, 64, 64, 64, 64, 64, 64, 64, 64, 64, 64, 64, 64, 64, 64, 64, 64, 64, 64, 64, 64, 64, 64, 64, 64, 64, 64, 64, 64, 64, 64, 64, 64, 64, 64, 64, 64, 64, 64, 64, 64, 64, 64, 64, 64, 64, 64, 64, 64, 64, 64, 64, 64, 64, 64, 64, 64, 64, 64, 64, 64, 64, 64, 64, 64, 64, 64, 64, 64, 64, 64, 64, 64, 64, 64, 64, 64, 64, 64, 64, 64, 64, 64, 64, 64, 64, 64, 64, 64, 64, 64, 64, 64, 64, 64, 64, 64, 64, 64, 64, 64, 64, 64, 64, 64, 64, 64, 64, 64, 64, 64, 64, 64, 64, 64, 64, 64, 64, 64, 64, 64, 64, 64, 64, 64, 64, 64, 64, 64, 64, 64, 64, 64, 64, 64, 64, 64, 64, 64, 64, 64, 64, 64, 64, 64, 64, 64, 64, 64, 64, 64, 64, 64, 64, 64, 64, 64, 64, 64, 64, 64, 64, 64, 64, 64, 64, 64, 64, 64, 64, 64, 64, 64, 64, 64, 64, 64, 64, 64, 64, 64, 64, 64, 64, 64, 64, 64, 64, 64, 64, 64, 64, 64, 64, 64, 64, 64, 64, 64, 64, 64, 64, 64, 64, 64, 64, 64, 64, 64, 64, 64, 64, 64, 64, 64, 64, 64, 64, 64, 64, 64, 64, 64, 64, 64, 64, 64, 64, 64, 64, 64, 64, 64, 64, 64, 64, 64, 64, 64, 64, 64, 64, 64, 64, 64, 64, 64, 64, 64, 64, 64, 64, 64, 64, 64, 64, 64, 64, 64, 64, 64, 64, 64, 64, 64, 64, 64, 64, 64, 64, 64, 64, 64, 64, 64, 64, 64, 64, 64, 64, 64, 64, 64, 64, 64, 64, 64, 64, 64, 64, 64, 64, 64, 64, 64, 64, 64, 64, 64, 64, 64, 64, 64, 64, 64, 64, 64, 64, 64, 64, 64, 64, 64, 64, 64, 64, 64, 64, 64, 64, 64, 64, 64, 64, 64, 64, 64, 64, 64, 64, 64, 64, 64, 64, 64, 64, 64, 64, 64, 64, 64, 64, 64, 64, 64, 64, 64, 64, 64, 64, 64, 64, 64, 64, 64, 64, 64, 64, 64, 64, 64, 64, 64, 64, 64, 64, 64, 64, 64, 64, 64, 64, 64, 64, 64, 64, 64, 64, 64, 64, 64, 64, 64, 64, 64, 64, 64, 64, 64, 64, 64, 64, 64, 64, 64, 64, 64, 64, 64, 64, 64, 64, 64, 64, 64, 64, 64, 64, 64, 64, 64, 64, 64, 64, 64, 64, 64, 64, 64, 64, 64, 64, 64, 64, 64, 64, 64, 64, 64, 64, 64, 64, 64, 64, 64, 64, 64, 64, 64, 64, 64, 64, 64, 64, 64, 64, 64, 64, 64, 64, 64, 64, 64, 64, 64, 64, 64, 64, 64, 64, 64, 64, 64, 64, 64, 64, 64, 64, 64, 64, 64, 64, 64, 64, 64, 64, 64, 64, 64, 64, 64, 64, 64, 64, 64, 64, 64, 64, 64, 64, 64, 64, 64, 64, 64, 64, 64, 64, 64, 64, 64, 64, 64, 64, 64, 64, 64, 64, 64, 64, 64, 64, 64, 64, 64, 64, 64, 64, 64, 64, 64, 64, 64, 64, 64, 64, 64, 64, 64, 64, 64, 64, 64, 64, 64, 64, 64, 64, 64, 64, 64, 64, 64, 64, 64, 64, 64, 64, 64, 64, 64, 64, 64, 64, 64, 64, 64, 64, 64, 64, 64, 64, 64, 64, 64, 64, 64, 64, 64, 64, 64, 64, 64, 64, 64, 64, 64, 64, 64, 64, 64, 64, 64, 64, 64, 64, 64, 64, 64, 64, 64, 64, 64, 64, 64, 64, 64, 64, 64, 64, 64, 64, 64, 64, 64, 64, 64, 64, 64, 64, 64, 64, 64, 64, 64, 64, 64, 64, 64, 64, 64, 64, 64, 64, 64, 64, 64, 64, 64, 64, 64, 64, 64, 64, 64, 64, 64, 64, 64, 64, 64, 64, 64, 64, 64, 64, 64, 64, 64, 64, 64, 64, 64, 64, 64, 64, 64, 64, 64, 64, 64, 64, 64, 64, 64, 64, 64, 64, 64, 64, 64, 64, 64, 64, 64, 64, 64, 64, 64, 64, 64, 64, 64, 64, 64, 64, 64, 64, 64, 64, 64, 64, 64, 64, 64, 64, 64, 64, 64, 64, 64, 64, 64, 64, 64, 64, 64, 64, 64, 64, 64, 64, 64, 64, 64, 64, 64, 64, 64, 64, 64, 64, 64, 64, 64, 64, 64, 64, 64, 64, 64, 64, 64, 64, 64, 64, 64, 64, 64, 64, 64, 64, 64, 64, 64, 64, 64, 64, 64, 64, 64, 64, 64, 64, 64, 64, 64, 64, 64, 64, 64, 64, 64, 64, 64, 64, 64, 64, 64, 64, 64, 64, 64, 64, 64, 64, 64, 64, 64, 64, 64, 64, 64, 64, 64, 64, 64, 64, 64, 64, 64, 64, 64, 64, 64, 64, 64, 64, 64, 64, 64, 64, 64, 64, 64, 64, 64, 64, 64, 64, 64, 64, 64, 64, 64, 64, 64, 64, 64, 64, 64, 64, 64, 64, 64, 64, 64, 64, 64, 64, 64, 64, 64, 64, 64, 64, 64, 64, 64, 64, 64, 64, 64, 64, 64, 64, 64, 64, 64, 64, 64, 64, 64, 64, 64, 64, 64, 64, 64, 64, 64, 64, 64, 64, 64, 64, 64, 64, 64, 64, 64, 64, 64, 64, 64, 64, 64, 64, 64, 64, 64, 64, 64, 64, 64, 64, 64, 64, 64, 64, 64, 64, 64, 64, 64, 64, 64, 64, 64, 64, 64, 64, 64, 64, 64, 64, 64, 64, 64, 64, 64, 64, 64, 64, 64, 64, 64, 64, 64, 64, 64, 64, 64, 64, 64, 64, 64, 64, 64, 64, 64, 64, 64, 64, 64, 64, 64, 64, 64, 64, 64, 64, 64, 64, 64, 64, 64, 64, 64, 64, 64, 64, 64, 64, 64, 64, 64, 64, 64, 64, 64, 64, 64, 64, 64, 64, 64, 64, 64, 64, 64, 64, 64, 64, 64, 64, 64, 64, 64, 64, 64, 64, 64, 64, 64, 64, 64, 64, 64, 64, 64, 64, 64, 64, 64, 64, 64, 64, 64, 64, 64, 64, 64, 64, 64, 64, 64, 64, 64, 64, 64, 64, 64, 64, 64, 64, 64, 64, 64, 64, 64, 64, 64, 64, 64, 64, 64, 64, 64, 64, 64, 64, 64, 64, 64, 64, 64, 64, 64, 64, 64, 64, 64, 64, 64, 64, 64, 64, 64, 64, 64, 64, 64, 64, 64, 64, 64, 64, 64, 64, 64, 64, 64, 64, 64, 64, 64, 64, 64, 64, 64, 64, 64, 64, 64, 64, 64, 64, 64, 64, 64, 64, 64, 64, 64, 64, 64, 64, 64, 64, 64, 64, 64, 64, 64, 64, 64, 64, 64, 64, 64, 64, 64, 64, 64, 64, 64, 64, 64, 64, 64, 64, 64, 64, 64, 64, 64, 64, 64, 64, 64, 64, 64, 64, 64, 64, 64, 64, 64, 64, 64, 64, 64, 64, 64, 64, 64, 64, 64, 64, 64, 64, 64, 64, 64, 64, 64, 64, 64, 64, 64, 64, 64, 64, 64, 64, 64, 64, 64, 64, 64, 64, 64, 64, 64, 64, 64, 64, 64, 64, 64, 64, 64, 64, 64, 64, 64, 64, 64, 64, 64, 64, 64, 64, 64, 64, 64, 64, 64, 64, 64, 64, 64, 64, 64, 64, 64, 64, 64, 64, 64, 64, 64, 64, 64, 64, 64, 64, 64, 64, 64, 64, 64, 64, 64, 64, 64, 64, 64, 64, 64, 64, 64, 64, 64, 64, 64, 64, 64, 64, 64, 64, 64, 64, 64, 64, 64, 64, 64, 64, 64, 64, 64, 64, 64, 64, 64, 64, 64, 64, 64, 64, 64, 64, 64, 64, 64, 64, 64, 64, 64, 64, 64, 64, 64, 64, 64, 64, 64, 64, 64, 64, 64, 64, 64, 64, 64, 64, 64, 64, 64, 64, 64, 64, 64, 64, 64, 64, 64, 64, 64, 64, 64, 64, 64, 64, 64, 64, 64, 64, 64, 64, 64, 64, 64, 64, 64, 64, 64, 64, 64, 64, 64, 64, 64, 64, 64, 64, 64, 64, 64, 64, 64, 64, 64, 64, 64, 64, 64, 64, 64, 64, 64, 64, 64, 64, 64, 64, 64, 64, 64, 64, 64, 64, 64, 64, 64, 64, 64, 64, 64, 64, 64, 64, 64, 64, 64, 64, 64, 64, 64, 64, 64, 64, 64, 64, 64, 64, 64, 64, 64, 64, 64, 64, 64, 64, 64, 64, 64, 64, 64, 64, 64, 64, 64, 64, 64, 64, 64, 64, 64, 64, 64, 64, 64, 64, 64, 64, 64, 64, 64, 64, 64, 64, 64, 64, 64, 64, 64, 64, 64, 64, 64, 64, 64, 64, 64, 64, 64, 64, 64, 64, 64, 64, 64, 64, 64, 64, 64, 64, 64, 64, 64, 64, 64, 64, 64, 64, 64, 64, 64, 64, 64, 64, 64, 64, 64, 64, 64, 64, 64, 64, 64, 64, 64, 64, 64, 64, 64, 64, 64, 64, 64, 64, 64, 64, 64, 64, 64, 64, 64, 64, 64, 64, 64, 64, 64, 64, 64, 64, 64, 64, 64, 64, 64, 64, 64, 64, 64, 64, 64, 64, 64, 64, 64, 64, 64, 64, 64, 64, 64, 64, 64, 64, 64, 64, 64, 64, 64, 64, 64, 64, 64, 64, 64, 64, 64, 64, 64, 64, 64, 64, 64, 64, 64, 64, 64, 64, 64, 64, 64, 64, 64, 64, 64, 64, 64, 64, 64, 64, 64, 64, 64, 64, 64, 64, 64, 64, 64, 64, 64, 64, 64, 64, 64, 64, 64, 64, 64, 64, 64, 64, 64, 64, 64, 64, 64, 64, 64, 64, 64, 64, 64, 64, 64, 64, 64, 64, 64, 64, 64, 64, 64, 64, 64, 64, 64, 64, 64, 64, 64, 64, 64, 64, 64, 64, 64, 64, 64, 64, 64, 64, 64, 64, 64, 64, 64, 64, 64, 64, 64, 64, 64, 64, 64, 64, 64, 64, 64, 64, 64, 64, 64, 64, 64, 64, 64, 64, 64, 64, 64, 64, 64, 64, 64, 64, 64, 64, 64, 64, 64, 64, 64, 64, 64, 64, 64, 64, 64, 64, 64, 64, 64, 64, 64, 64, 64, 64, 64, 64, 64, 64, 64, 64, 64, 64, 64, 64, 64, 64, 64, 64, 64, 64, 64, 64, 64, 64, 64, 64, 64, 64, 64, 64, 64, 64, 64, 64, 64, 64, 64, 64, 64, 64, 64, 64, 64, 64, 64, 64, 64, 64, 64, 64, 64, 64, 64, 64, 64, 64, 64, 64, 64, 64, 64, 64, 64, 64, 64, 64, 64, 64, 64, 64, 64, 64, 64, 64, 64, 64, 64, 64, 64, 64, 64, 64, 64, 64, 64, 64, 64, 64, 64, 64, 64, 64, 64, 64, 64, 64, 64, 64, 64, 64, 64, 64, 64, 64, 64, 64, 64, 64, 64, 64, 64, 64, 64, 64, 64, 64, 64, 64, 64, 64, 64, 64, 64, 64, 64, 64, 64, 64, 64, 64, 64, 64, 64, 64, 64, 64, 64, 64, 64, 64, 64, 64, 64, 64, 64, 64, 64, 64, 64, 64, 64, 64, 64, 64, 64, 64, 64, 64, 64, 64, 64, 64, 64, 64, 64, 64, 64, 64, 64, 64, 64, 64, 64, 64, 64, 64, 64, 64, 64, 64, 64, 64, 64, 64, 64, 64, 64, 64, 64, 64, 64, 64, 64, 64, 64, 64, 64, 64, 64, 64, 64, 64, 64, 64, 64, 64, 64, 64, 64, 64, 64, 64, 64, 64, 64, 64, 64, 64, 64, 64, 64, 64, 64, 64, 64, 64, 64, 64, 64, 64, 64, 64, 64, 64, 64, 64, 64, 64, 64, 64, 64, 64, 64, 64, 64, 64, 64, 64, 64, 64, 64, 64, 64, 64, 64, 64, 64, 64, 64, 64, 64, 64, 64, 64, 64, 64, 64, 64, 64, 64, 64, 64, 64, 64, 64, 64, 64, 64, 64, 64, 64, 64, 64, 64, 64, 64, 64, 64, 64, 64, 64, 64, 64, 64, 64, 64, 64, 64, 64, 64, 64, 64, 64, 64, 64, 64, 64, 64, 64, 64, 64, 64, 64, 64, 64, 64, 64, 64, 64, 64, 64, 64, 64, 64, 64, 64, 64, 64, 64, 64, 64, 64, 64, 64, 64, 64, 64, 64, 64, 64, 64, 64, 64, 64, 64, 64, 64, 64, 64, 64, 64, 64, 64, 64, 64, 64, 64, 64, 64, 64, 64, 64, 64, 64, 64, 64, 64, 64, 64, 64, 64, 64, 64, 64, 64, 64, 64, 64, 64, 64, 64, 64, 64, 64, 64, 64, 64, 64, 64, 64, 64, 64, 64, 64, 64, 64, 64, 64, 64, 64, 64, 64, 64, 64, 64, 64, 64, 64, 64, 64, 64, 64, 64, 64, 64, 64, 64, 64, 64, 64, 64, 64, 64, 64, 64, 64, 64, 64, 64, 64, 64, 64, 64, 64, 64, 64, 64, 64, 64, 64, 64, 64, 64, 64, 64, 64, 64, 64, 64, 64, 64, 64, 64, 64, 64, 64, 64, 64, 64, 64, 64, 64, 64, 64, 64, 64, 64, 64, 64, 64, 64, 64, 64, 64, 64, 64, 64, 64, 64, 64, 64, 64, 64, 64, 64, 64, 64, 64, 64, 64, 64, 64, 64, 64, 64, 64, 64, 64, 64, 64, 64, 64, 64, 64, 64, 64, 64, 64, 64, 64, 64, 64, 64, 64, 64, 64, 64, 64, 64, 64, 64, 64, 64, 64, 64, 64, 64, 64, 64, 64, 64, 64, 64, 64, 64, 64, 64, 64, 64, 64, 64, 64, 64, 64, 64, 64, 64, 64, 64, 64, 64, 64, 64, 64, 64, 64, 64, 64, 64, 64, 64, 64, 64, 64, 64, 64, 64, 64, 64, 64, 64, 64, 64, 64, 64, 64, 64, 64, 64, 64, 64, 64, 64, 64, 64, 64, 64, 64, 64, 64, 64, 64, 64, 64, 64, 64, 64, 64, 64, 64, 64, 64, 64, 64, 64, 64, 64, 64, 64, 64, 64, 64, 64, 64, 64, 64, 64, 64, 64, 64, 64, 64, 64, 64, 64, 64, 64, 64, 64, 64, 64, 64, 64, 64, 64, 64, 64, 64, 64, 64, 64, 64, 64, 64, 64, 64, 64, 64, 64, 64, 64, 64, 64, 64, 64, 64, 64, 64, 64, 64, 64, 64, 64, 64, 64, 64, 64, 64, 64, 64, 64, 64, 64, 64, 64, 64, 64, 64, 64, 64, 64, 64, 64, 64, 64, 64, 64, 64, 64, 64, 64, 64, 64, 64, 64, 64, 64, 64, 64, 64, 64, 64, 64, 64, 64, 64, 64, 64, 64, 64, 64, 64, 64, 64, 64, 64, 64, 64, 64, 64, 64, 64, 64, 64, 64, 64, 64, 64, 64, 64, 64, 64, 64, 64, 64, 64, 64, 64, 64, 64, 64, 64, 64, 64, 64, 64, 64, 64, 64, 64, 64, 64, 64, 64, 64, 64, 64, 64, 64, 64, 64, 64, 64, 64, 64, 64, 64, 64, 64, 64, 64, 64, 64, 64, 64, 64, 64, 64, 64, 64, 64, 64, 64, 64, 64, 64, 64, 64, 64, 64, 64, 64, 64, 64, 64, 64, 64, 64, 64, 64, 64, 64, 64, 64, 64, 64, 64, 64, 64, 64, 64, 64, 64, 64, 64, 64, 64, 64, 64, 64, 64, 64, 64, 64, 64, 64, 64, 64, 64, 64, 64, 64, 64, 64, 64, 64, 64, 64, 64, 64, 64, 64, 64, 64, 64, 64, 64, 64, 64, 64, 64, 64, 64, 64, 64, 64, 64, 64, 64, 64, 64, 64, 64, 64, 64, 64, 64, 64, 64, 64, 64, 64, 64, 64, 64, 64, 64, 64, 64, 64, 64, 64, 64, 64, 64, 64, 64, 64, 64, 64, 64, 64, 64, 64, 64, 64, 64, 64, 64, 64, 64, 64, 64, 64, 64, 64, 64, 64, 64, 64, 64, 64, 64, 64, 64, 64, 64, 64, 64, 64, 64, 64, 64, 64, 64, 64, 64, 64, 64, 64, 64, 64, 64, 64, 64, 64, 64, 64, 64, 64, 64, 64, 64, 64, 64, 64, 64, 64, 64, 64, 64, 64, 64, 64, 64, 64, 64, 64, 64, 64, 64, 64, 64, 64, 64, 64, 64, 64, 64, 64, 64, 64, 64, 64, 64, 64, 64, 64, 64, 64, 64, 64, 64, 64, 64, 64, 64, 64, 64, 64, 64, 64, 64, 64, 64, 64, 64, 64, 64, 64, 64, 64, 64, 64, 64, 64, 64, 64, 64, 64, 64, 64, 64, 64, 64, 64, 64, 64, 64, 64, 64, 64, 64, 64, 64, 64, 64, 64, 64, 64, 64, 64, 64, 64, 64, 64, 64, 64, 64, 64, 64, 64, 64, 64, 64, 64, 64, 64, 64, 64, 64, 64]\n"
     ]
    }
   ],
   "source": [
    "print(list(splitedSeq9.seg1.str.len()),list(splitedSeq9.seg2.str.len()),\n",
    "       list(splitedSeq9.seg3.str.len())) # 60, 60, 57\n",
    "# print(list(splitedSeq2.seg1.str.len()),list(splitedSeq2.seg2.str.len()),\n",
    "#       list(splitedSeq2.seg3.str.len())) # 60, 60, 67\n",
    "# print(list(splitedSeq3.seg1.str.len()),list(splitedSeq3.seg2.str.len()),\n",
    "#       list(splitedSeq3.seg3.str.len())) # 60, 60, 50"
   ]
  },
  {
   "cell_type": "code",
   "execution_count": 217,
   "metadata": {},
   "outputs": [
    {
     "name": "stderr",
     "output_type": "stream",
     "text": [
      "/opt/anaconda3/lib/python3.7/site-packages/ipykernel_launcher.py:3: SettingWithCopyWarning: \n",
      "A value is trying to be set on a copy of a slice from a DataFrame.\n",
      "Try using .loc[row_indexer,col_indexer] = value instead\n",
      "\n",
      "See the caveats in the documentation: http://pandas.pydata.org/pandas-docs/stable/user_guide/indexing.html#returning-a-view-versus-a-copy\n",
      "  This is separate from the ipykernel package so we can avoid doing imports until\n",
      "/opt/anaconda3/lib/python3.7/site-packages/ipykernel_launcher.py:4: SettingWithCopyWarning: \n",
      "A value is trying to be set on a copy of a slice from a DataFrame.\n",
      "Try using .loc[row_indexer,col_indexer] = value instead\n",
      "\n",
      "See the caveats in the documentation: http://pandas.pydata.org/pandas-docs/stable/user_guide/indexing.html#returning-a-view-versus-a-copy\n",
      "  after removing the cwd from sys.path.\n",
      "/opt/anaconda3/lib/python3.7/site-packages/ipykernel_launcher.py:5: SettingWithCopyWarning: \n",
      "A value is trying to be set on a copy of a slice from a DataFrame.\n",
      "Try using .loc[row_indexer,col_indexer] = value instead\n",
      "\n",
      "See the caveats in the documentation: http://pandas.pydata.org/pandas-docs/stable/user_guide/indexing.html#returning-a-view-versus-a-copy\n",
      "  \"\"\"\n",
      "/opt/anaconda3/lib/python3.7/site-packages/ipykernel_launcher.py:7: SettingWithCopyWarning: \n",
      "A value is trying to be set on a copy of a slice from a DataFrame.\n",
      "Try using .loc[row_indexer,col_indexer] = value instead\n",
      "\n",
      "See the caveats in the documentation: http://pandas.pydata.org/pandas-docs/stable/user_guide/indexing.html#returning-a-view-versus-a-copy\n",
      "  import sys\n",
      "/opt/anaconda3/lib/python3.7/site-packages/ipykernel_launcher.py:8: SettingWithCopyWarning: \n",
      "A value is trying to be set on a copy of a slice from a DataFrame.\n",
      "Try using .loc[row_indexer,col_indexer] = value instead\n",
      "\n",
      "See the caveats in the documentation: http://pandas.pydata.org/pandas-docs/stable/user_guide/indexing.html#returning-a-view-versus-a-copy\n",
      "  \n",
      "/opt/anaconda3/lib/python3.7/site-packages/ipykernel_launcher.py:9: SettingWithCopyWarning: \n",
      "A value is trying to be set on a copy of a slice from a DataFrame.\n",
      "Try using .loc[row_indexer,col_indexer] = value instead\n",
      "\n",
      "See the caveats in the documentation: http://pandas.pydata.org/pandas-docs/stable/user_guide/indexing.html#returning-a-view-versus-a-copy\n",
      "  if __name__ == '__main__':\n",
      "/opt/anaconda3/lib/python3.7/site-packages/ipykernel_launcher.py:11: SettingWithCopyWarning: \n",
      "A value is trying to be set on a copy of a slice from a DataFrame.\n",
      "Try using .loc[row_indexer,col_indexer] = value instead\n",
      "\n",
      "See the caveats in the documentation: http://pandas.pydata.org/pandas-docs/stable/user_guide/indexing.html#returning-a-view-versus-a-copy\n",
      "  # This is added back by InteractiveShellApp.init_path()\n",
      "/opt/anaconda3/lib/python3.7/site-packages/ipykernel_launcher.py:12: SettingWithCopyWarning: \n",
      "A value is trying to be set on a copy of a slice from a DataFrame.\n",
      "Try using .loc[row_indexer,col_indexer] = value instead\n",
      "\n",
      "See the caveats in the documentation: http://pandas.pydata.org/pandas-docs/stable/user_guide/indexing.html#returning-a-view-versus-a-copy\n",
      "  if sys.path[0] == '':\n",
      "/opt/anaconda3/lib/python3.7/site-packages/ipykernel_launcher.py:13: SettingWithCopyWarning: \n",
      "A value is trying to be set on a copy of a slice from a DataFrame.\n",
      "Try using .loc[row_indexer,col_indexer] = value instead\n",
      "\n",
      "See the caveats in the documentation: http://pandas.pydata.org/pandas-docs/stable/user_guide/indexing.html#returning-a-view-versus-a-copy\n",
      "  del sys.path[0]\n",
      "/opt/anaconda3/lib/python3.7/site-packages/ipykernel_launcher.py:15: SettingWithCopyWarning: \n",
      "A value is trying to be set on a copy of a slice from a DataFrame.\n",
      "Try using .loc[row_indexer,col_indexer] = value instead\n",
      "\n",
      "See the caveats in the documentation: http://pandas.pydata.org/pandas-docs/stable/user_guide/indexing.html#returning-a-view-versus-a-copy\n",
      "  from ipykernel import kernelapp as app\n",
      "/opt/anaconda3/lib/python3.7/site-packages/ipykernel_launcher.py:16: SettingWithCopyWarning: \n",
      "A value is trying to be set on a copy of a slice from a DataFrame.\n",
      "Try using .loc[row_indexer,col_indexer] = value instead\n",
      "\n",
      "See the caveats in the documentation: http://pandas.pydata.org/pandas-docs/stable/user_guide/indexing.html#returning-a-view-versus-a-copy\n",
      "  app.launch_new_instance()\n",
      "/opt/anaconda3/lib/python3.7/site-packages/ipykernel_launcher.py:17: SettingWithCopyWarning: \n",
      "A value is trying to be set on a copy of a slice from a DataFrame.\n",
      "Try using .loc[row_indexer,col_indexer] = value instead\n",
      "\n",
      "See the caveats in the documentation: http://pandas.pydata.org/pandas-docs/stable/user_guide/indexing.html#returning-a-view-versus-a-copy\n",
      "/opt/anaconda3/lib/python3.7/site-packages/ipykernel_launcher.py:19: SettingWithCopyWarning: \n",
      "A value is trying to be set on a copy of a slice from a DataFrame.\n",
      "Try using .loc[row_indexer,col_indexer] = value instead\n",
      "\n",
      "See the caveats in the documentation: http://pandas.pydata.org/pandas-docs/stable/user_guide/indexing.html#returning-a-view-versus-a-copy\n",
      "/opt/anaconda3/lib/python3.7/site-packages/ipykernel_launcher.py:20: SettingWithCopyWarning: \n",
      "A value is trying to be set on a copy of a slice from a DataFrame.\n",
      "Try using .loc[row_indexer,col_indexer] = value instead\n",
      "\n",
      "See the caveats in the documentation: http://pandas.pydata.org/pandas-docs/stable/user_guide/indexing.html#returning-a-view-versus-a-copy\n",
      "/opt/anaconda3/lib/python3.7/site-packages/ipykernel_launcher.py:21: SettingWithCopyWarning: \n",
      "A value is trying to be set on a copy of a slice from a DataFrame.\n",
      "Try using .loc[row_indexer,col_indexer] = value instead\n",
      "\n",
      "See the caveats in the documentation: http://pandas.pydata.org/pandas-docs/stable/user_guide/indexing.html#returning-a-view-versus-a-copy\n",
      "/opt/anaconda3/lib/python3.7/site-packages/ipykernel_launcher.py:23: SettingWithCopyWarning: \n",
      "A value is trying to be set on a copy of a slice from a DataFrame.\n",
      "Try using .loc[row_indexer,col_indexer] = value instead\n",
      "\n",
      "See the caveats in the documentation: http://pandas.pydata.org/pandas-docs/stable/user_guide/indexing.html#returning-a-view-versus-a-copy\n",
      "/opt/anaconda3/lib/python3.7/site-packages/ipykernel_launcher.py:24: SettingWithCopyWarning: \n",
      "A value is trying to be set on a copy of a slice from a DataFrame.\n",
      "Try using .loc[row_indexer,col_indexer] = value instead\n",
      "\n",
      "See the caveats in the documentation: http://pandas.pydata.org/pandas-docs/stable/user_guide/indexing.html#returning-a-view-versus-a-copy\n",
      "/opt/anaconda3/lib/python3.7/site-packages/ipykernel_launcher.py:25: SettingWithCopyWarning: \n",
      "A value is trying to be set on a copy of a slice from a DataFrame.\n",
      "Try using .loc[row_indexer,col_indexer] = value instead\n",
      "\n",
      "See the caveats in the documentation: http://pandas.pydata.org/pandas-docs/stable/user_guide/indexing.html#returning-a-view-versus-a-copy\n",
      "/opt/anaconda3/lib/python3.7/site-packages/ipykernel_launcher.py:27: SettingWithCopyWarning: \n",
      "A value is trying to be set on a copy of a slice from a DataFrame.\n",
      "Try using .loc[row_indexer,col_indexer] = value instead\n",
      "\n",
      "See the caveats in the documentation: http://pandas.pydata.org/pandas-docs/stable/user_guide/indexing.html#returning-a-view-versus-a-copy\n",
      "/opt/anaconda3/lib/python3.7/site-packages/ipykernel_launcher.py:28: SettingWithCopyWarning: \n",
      "A value is trying to be set on a copy of a slice from a DataFrame.\n",
      "Try using .loc[row_indexer,col_indexer] = value instead\n",
      "\n",
      "See the caveats in the documentation: http://pandas.pydata.org/pandas-docs/stable/user_guide/indexing.html#returning-a-view-versus-a-copy\n",
      "/opt/anaconda3/lib/python3.7/site-packages/ipykernel_launcher.py:29: SettingWithCopyWarning: \n",
      "A value is trying to be set on a copy of a slice from a DataFrame.\n",
      "Try using .loc[row_indexer,col_indexer] = value instead\n",
      "\n",
      "See the caveats in the documentation: http://pandas.pydata.org/pandas-docs/stable/user_guide/indexing.html#returning-a-view-versus-a-copy\n",
      "/opt/anaconda3/lib/python3.7/site-packages/ipykernel_launcher.py:31: SettingWithCopyWarning: \n",
      "A value is trying to be set on a copy of a slice from a DataFrame.\n",
      "Try using .loc[row_indexer,col_indexer] = value instead\n",
      "\n",
      "See the caveats in the documentation: http://pandas.pydata.org/pandas-docs/stable/user_guide/indexing.html#returning-a-view-versus-a-copy\n",
      "/opt/anaconda3/lib/python3.7/site-packages/ipykernel_launcher.py:32: SettingWithCopyWarning: \n",
      "A value is trying to be set on a copy of a slice from a DataFrame.\n",
      "Try using .loc[row_indexer,col_indexer] = value instead\n",
      "\n",
      "See the caveats in the documentation: http://pandas.pydata.org/pandas-docs/stable/user_guide/indexing.html#returning-a-view-versus-a-copy\n"
     ]
    },
    {
     "name": "stderr",
     "output_type": "stream",
     "text": [
      "/opt/anaconda3/lib/python3.7/site-packages/ipykernel_launcher.py:33: SettingWithCopyWarning: \n",
      "A value is trying to be set on a copy of a slice from a DataFrame.\n",
      "Try using .loc[row_indexer,col_indexer] = value instead\n",
      "\n",
      "See the caveats in the documentation: http://pandas.pydata.org/pandas-docs/stable/user_guide/indexing.html#returning-a-view-versus-a-copy\n",
      "/opt/anaconda3/lib/python3.7/site-packages/ipykernel_launcher.py:35: SettingWithCopyWarning: \n",
      "A value is trying to be set on a copy of a slice from a DataFrame.\n",
      "Try using .loc[row_indexer,col_indexer] = value instead\n",
      "\n",
      "See the caveats in the documentation: http://pandas.pydata.org/pandas-docs/stable/user_guide/indexing.html#returning-a-view-versus-a-copy\n",
      "/opt/anaconda3/lib/python3.7/site-packages/ipykernel_launcher.py:36: SettingWithCopyWarning: \n",
      "A value is trying to be set on a copy of a slice from a DataFrame.\n",
      "Try using .loc[row_indexer,col_indexer] = value instead\n",
      "\n",
      "See the caveats in the documentation: http://pandas.pydata.org/pandas-docs/stable/user_guide/indexing.html#returning-a-view-versus-a-copy\n",
      "/opt/anaconda3/lib/python3.7/site-packages/ipykernel_launcher.py:37: SettingWithCopyWarning: \n",
      "A value is trying to be set on a copy of a slice from a DataFrame.\n",
      "Try using .loc[row_indexer,col_indexer] = value instead\n",
      "\n",
      "See the caveats in the documentation: http://pandas.pydata.org/pandas-docs/stable/user_guide/indexing.html#returning-a-view-versus-a-copy\n"
     ]
    }
   ],
   "source": [
    "\"\"\"This calculates the hamming distance for each of the three segments within each alignment\"\"\"\n",
    "#alignment 1:\n",
    "splitedSeq1['hd1_seg1']=splitedSeq1.seg1.apply(hamming_distance, args=(ref1_seg1,))\n",
    "splitedSeq1['hd1_seg2']=splitedSeq1.seg2.apply(hamming_distance, args=(ref1_seg2,))\n",
    "splitedSeq1['hd1_seg3']=splitedSeq1.seg3.apply(hamming_distance, args=(ref1_seg3,))\n",
    "#alignment 2:\n",
    "splitedSeq2['hd2_seg1']=splitedSeq2.seg1.apply(hamming_distance, args=(ref2_seg1,))\n",
    "splitedSeq2['hd2_seg2']=splitedSeq2.seg2.apply(hamming_distance, args=(ref2_seg2,))\n",
    "splitedSeq2['hd2_seg3']=splitedSeq2.seg3.apply(hamming_distance, args=(ref2_seg3,))\n",
    "#alignment 3:\n",
    "splitedSeq3['hd3_seg1']=splitedSeq3.seg1.apply(hamming_distance, args=(ref3_seg1,))\n",
    "splitedSeq3['hd3_seg2']=splitedSeq3.seg2.apply(hamming_distance, args=(ref3_seg2,))\n",
    "splitedSeq3['hd3_seg3']=splitedSeq3.seg3.apply(hamming_distance, args=(ref3_seg3,))\n",
    "#alignment 4:\n",
    "splitedSeq4['hd4_seg1']=splitedSeq4.seg1.apply(hamming_distance, args=(ref4_seg1,))\n",
    "splitedSeq4['hd4_seg2']=splitedSeq4.seg2.apply(hamming_distance, args=(ref4_seg2,))\n",
    "splitedSeq4['hd4_seg3']=splitedSeq4.seg3.apply(hamming_distance, args=(ref4_seg3,))\n",
    "#alignment 5:\n",
    "splitedSeq5['hd5_seg1']=splitedSeq5.seg1.apply(hamming_distance, args=(ref5_seg1,))\n",
    "splitedSeq5['hd5_seg2']=splitedSeq5.seg2.apply(hamming_distance, args=(ref5_seg2,))\n",
    "splitedSeq5['hd5_seg3']=splitedSeq5.seg3.apply(hamming_distance, args=(ref5_seg3,))\n",
    "#alignment 6:\n",
    "splitedSeq6['hd6_seg1']=splitedSeq6.seg1.apply(hamming_distance, args=(ref6_seg1,))\n",
    "splitedSeq6['hd6_seg2']=splitedSeq6.seg2.apply(hamming_distance, args=(ref6_seg2,))\n",
    "splitedSeq6['hd6_seg3']=splitedSeq6.seg3.apply(hamming_distance, args=(ref6_seg3,))\n",
    "#alignment 7:\n",
    "splitedSeq7['hd7_seg1']=splitedSeq7.seg1.apply(hamming_distance, args=(ref7_seg1,))\n",
    "splitedSeq7['hd7_seg2']=splitedSeq7.seg2.apply(hamming_distance, args=(ref7_seg2,))\n",
    "splitedSeq7['hd7_seg3']=splitedSeq7.seg3.apply(hamming_distance, args=(ref7_seg3,))\n",
    "#alignment 8:\n",
    "splitedSeq8['hd8_seg1']=splitedSeq8.seg1.apply(hamming_distance, args=(ref8_seg1,))\n",
    "splitedSeq8['hd8_seg2']=splitedSeq8.seg2.apply(hamming_distance, args=(ref8_seg2,))\n",
    "splitedSeq8['hd8_seg3']=splitedSeq8.seg3.apply(hamming_distance, args=(ref8_seg3,))\n",
    "#alignment 9:\n",
    "splitedSeq9['hd9_seg1']=splitedSeq9.seg1.apply(hamming_distance, args=(ref9_seg1,))\n",
    "splitedSeq9['hd9_seg2']=splitedSeq9.seg2.apply(hamming_distance, args=(ref9_seg2,))\n",
    "splitedSeq9['hd9_seg3']=splitedSeq9.seg3.apply(hamming_distance, args=(ref9_seg3,))"
   ]
  },
  {
   "cell_type": "code",
   "execution_count": 231,
   "metadata": {},
   "outputs": [],
   "source": [
    "# Calculating the total (sum) HD per alignment (sampling time-point)\n",
    "splitedSeq1_HD = (splitedSeq1[['hd1_seg1','hd1_seg2','hd1_seg3']])\n",
    "hdSegTotal1 = splitedSeq1_HD.sum()\n",
    "\n",
    "splitedSeq2_HD = (splitedSeq2[['hd2_seg1','hd2_seg2','hd2_seg3']])\n",
    "hdSegTotal2 = splitedSeq2_HD.sum()\n",
    "\n",
    "splitedSeq3_HD = (splitedSeq3[['hd3_seg1','hd3_seg2','hd3_seg3']])\n",
    "hdSegTotal3 = splitedSeq3_HD.sum()\n",
    "\n",
    "splitedSeq4_HD = (splitedSeq4[['hd4_seg1','hd4_seg2','hd4_seg3']])\n",
    "hdSegTotal4 = splitedSeq4_HD.sum()\n",
    "\n",
    "splitedSeq5_HD = (splitedSeq5[['hd5_seg1','hd5_seg2','hd5_seg3']])\n",
    "hdSegTotal5 = splitedSeq5_HD.sum()\n",
    "\n",
    "splitedSeq6_HD = (splitedSeq6[['hd6_seg1','hd6_seg2','hd6_seg3']])\n",
    "hdSegTotal6 = splitedSeq6_HD.sum()\n",
    "\n",
    "splitedSeq7_HD = (splitedSeq7[['hd7_seg1','hd7_seg2','hd7_seg3']])\n",
    "hdSegTotal7 = splitedSeq7_HD.sum()\n",
    "\n",
    "splitedSeq8_HD = (splitedSeq8[['hd8_seg1','hd8_seg2','hd8_seg3']])\n",
    "hdSegTotal8 = splitedSeq8_HD.sum()\n",
    "\n",
    "splitedSeq9_HD = (splitedSeq9[['hd9_seg1','hd9_seg2','hd9_seg3']])\n",
    "hdSegTotal9 = splitedSeq9_HD.sum()"
   ]
  },
  {
   "cell_type": "code",
   "execution_count": 232,
   "metadata": {},
   "outputs": [
    {
     "name": "stdout",
     "output_type": "stream",
     "text": [
      "[19471, 2122, 1101] TotalSeq 1575\n",
      "[25188, 4222, 2410] TotalSeq 1884\n",
      "[20412, 3534, 1584] TotalSeq 1506\n",
      "\n",
      "[847491, 94189, 3665] TotalSeq 69083\n",
      "[911836, 98482, 4985] TotalSeq 74254\n",
      "[128644, 15407, 7873] TotalSeq 10495\n",
      "\n",
      "[279119, 30699, 1641] TotalSeq 22819\n",
      "[294848, 31624, 1542] TotalSeq 24026\n",
      "[41402, 5180, 2672] TotalSeq 3371\n"
     ]
    }
   ],
   "source": [
    "print(list(hdSegTotal1), 'TotalSeq',len(alignment1))\n",
    "print(list(hdSegTotal2), 'TotalSeq',len(alignment2))\n",
    "print(list(hdSegTotal3), 'TotalSeq',len(alignment3))\n",
    "print()\n",
    "print(list(hdSegTotal4), 'TotalSeq',len(alignment4))\n",
    "print(list(hdSegTotal5), 'TotalSeq',len(alignment5))\n",
    "print(list(hdSegTotal6), 'TotalSeq',len(alignment6))\n",
    "print()\n",
    "print(list(hdSegTotal7), 'TotalSeq',len(alignment7))\n",
    "print(list(hdSegTotal8), 'TotalSeq',len(alignment8))\n",
    "print(list(hdSegTotal9), 'TotalSeq',len(alignment9))"
   ]
  },
  {
   "cell_type": "code",
   "execution_count": 233,
   "metadata": {},
   "outputs": [],
   "source": [
    "hdSeg_Mean_1 = (splitedSeq1_HD.mean()).values\n",
    "hdSeg_Mean_2 = (splitedSeq2_HD.mean()).values\n",
    "hdSeg_Mean_3 = (splitedSeq3_HD.mean()).values\n",
    "\n",
    "hdSeg_Mean_4 = (splitedSeq4_HD.mean()).values\n",
    "hdSeg_Mean_5 = (splitedSeq5_HD.mean()).values\n",
    "hdSeg_Mean_6 = (splitedSeq6_HD.mean()).values\n",
    "\n",
    "hdSeg_Mean_7 = (splitedSeq7_HD.mean()).values\n",
    "hdSeg_Mean_8 = (splitedSeq8_HD.mean()).values\n",
    "hdSeg_Mean_9 = (splitedSeq9_HD.mean()).values"
   ]
  },
  {
   "cell_type": "code",
   "execution_count": 236,
   "metadata": {},
   "outputs": [
    {
     "data": {
      "text/html": [
       "<div>\n",
       "<style scoped>\n",
       "    .dataframe tbody tr th:only-of-type {\n",
       "        vertical-align: middle;\n",
       "    }\n",
       "\n",
       "    .dataframe tbody tr th {\n",
       "        vertical-align: top;\n",
       "    }\n",
       "\n",
       "    .dataframe thead th {\n",
       "        text-align: right;\n",
       "    }\n",
       "</style>\n",
       "<table border=\"1\" class=\"dataframe\">\n",
       "  <thead>\n",
       "    <tr style=\"text-align: right;\">\n",
       "      <th></th>\n",
       "      <th>Segment1</th>\n",
       "      <th>Segment2</th>\n",
       "      <th>Segment3</th>\n",
       "    </tr>\n",
       "  </thead>\n",
       "  <tbody>\n",
       "    <tr>\n",
       "      <td>t1</td>\n",
       "      <td>12.362540</td>\n",
       "      <td>1.347302</td>\n",
       "      <td>0.699048</td>\n",
       "    </tr>\n",
       "    <tr>\n",
       "      <td>t2</td>\n",
       "      <td>13.369427</td>\n",
       "      <td>2.240977</td>\n",
       "      <td>1.279193</td>\n",
       "    </tr>\n",
       "    <tr>\n",
       "      <td>t3</td>\n",
       "      <td>13.553785</td>\n",
       "      <td>2.346614</td>\n",
       "      <td>1.051793</td>\n",
       "    </tr>\n",
       "  </tbody>\n",
       "</table>\n",
       "</div>"
      ],
      "text/plain": [
       "     Segment1  Segment2  Segment3\n",
       "t1  12.362540  1.347302  0.699048\n",
       "t2  13.369427  2.240977  1.279193\n",
       "t3  13.553785  2.346614  1.051793"
      ]
     },
     "execution_count": 236,
     "metadata": {},
     "output_type": "execute_result"
    }
   ],
   "source": [
    "hd_mean_s1 = (hdSeg_Mean_1,hdSeg_Mean_2,hdSeg_Mean_3)\n",
    "seg_Mean_HD_s1 = pd.DataFrame(np.vstack(hd_mean_s1), columns=['Segment1','Segment2','Segment3'], index=['t1','t2','t3'])\n",
    "seg_Mean_HD_s1"
   ]
  },
  {
   "cell_type": "code",
   "execution_count": 237,
   "metadata": {},
   "outputs": [
    {
     "data": {
      "text/html": [
       "<div>\n",
       "<style scoped>\n",
       "    .dataframe tbody tr th:only-of-type {\n",
       "        vertical-align: middle;\n",
       "    }\n",
       "\n",
       "    .dataframe tbody tr th {\n",
       "        vertical-align: top;\n",
       "    }\n",
       "\n",
       "    .dataframe thead th {\n",
       "        text-align: right;\n",
       "    }\n",
       "</style>\n",
       "<table border=\"1\" class=\"dataframe\">\n",
       "  <thead>\n",
       "    <tr style=\"text-align: right;\">\n",
       "      <th></th>\n",
       "      <th>Segment1</th>\n",
       "      <th>Segment2</th>\n",
       "      <th>Segment3</th>\n",
       "    </tr>\n",
       "  </thead>\n",
       "  <tbody>\n",
       "    <tr>\n",
       "      <td>t1</td>\n",
       "      <td>12.267721</td>\n",
       "      <td>1.363418</td>\n",
       "      <td>0.053052</td>\n",
       "    </tr>\n",
       "    <tr>\n",
       "      <td>t2</td>\n",
       "      <td>12.279958</td>\n",
       "      <td>1.326285</td>\n",
       "      <td>0.067134</td>\n",
       "    </tr>\n",
       "    <tr>\n",
       "      <td>t3</td>\n",
       "      <td>12.257646</td>\n",
       "      <td>1.468032</td>\n",
       "      <td>0.750167</td>\n",
       "    </tr>\n",
       "  </tbody>\n",
       "</table>\n",
       "</div>"
      ],
      "text/plain": [
       "     Segment1  Segment2  Segment3\n",
       "t1  12.267721  1.363418  0.053052\n",
       "t2  12.279958  1.326285  0.067134\n",
       "t3  12.257646  1.468032  0.750167"
      ]
     },
     "execution_count": 237,
     "metadata": {},
     "output_type": "execute_result"
    }
   ],
   "source": [
    "hd_mean_s2 = (hdSeg_Mean_4,hdSeg_Mean_5,hdSeg_Mean_6)\n",
    "seg_Mean_HD_s2 = pd.DataFrame(np.vstack(hd_mean_s2), columns=['Segment1','Segment2','Segment3'], index=['t1','t2','t3'])\n",
    "seg_Mean_HD_s2 "
   ]
  },
  {
   "cell_type": "code",
   "execution_count": 238,
   "metadata": {},
   "outputs": [
    {
     "data": {
      "text/html": [
       "<div>\n",
       "<style scoped>\n",
       "    .dataframe tbody tr th:only-of-type {\n",
       "        vertical-align: middle;\n",
       "    }\n",
       "\n",
       "    .dataframe tbody tr th {\n",
       "        vertical-align: top;\n",
       "    }\n",
       "\n",
       "    .dataframe thead th {\n",
       "        text-align: right;\n",
       "    }\n",
       "</style>\n",
       "<table border=\"1\" class=\"dataframe\">\n",
       "  <thead>\n",
       "    <tr style=\"text-align: right;\">\n",
       "      <th></th>\n",
       "      <th>Segment1</th>\n",
       "      <th>Segment2</th>\n",
       "      <th>Segment3</th>\n",
       "    </tr>\n",
       "  </thead>\n",
       "  <tbody>\n",
       "    <tr>\n",
       "      <td>t1</td>\n",
       "      <td>12.231868</td>\n",
       "      <td>1.345326</td>\n",
       "      <td>0.071914</td>\n",
       "    </tr>\n",
       "    <tr>\n",
       "      <td>t2</td>\n",
       "      <td>12.272039</td>\n",
       "      <td>1.316241</td>\n",
       "      <td>0.064180</td>\n",
       "    </tr>\n",
       "    <tr>\n",
       "      <td>t3</td>\n",
       "      <td>12.281815</td>\n",
       "      <td>1.536636</td>\n",
       "      <td>0.792643</td>\n",
       "    </tr>\n",
       "  </tbody>\n",
       "</table>\n",
       "</div>"
      ],
      "text/plain": [
       "     Segment1  Segment2  Segment3\n",
       "t1  12.231868  1.345326  0.071914\n",
       "t2  12.272039  1.316241  0.064180\n",
       "t3  12.281815  1.536636  0.792643"
      ]
     },
     "execution_count": 238,
     "metadata": {},
     "output_type": "execute_result"
    }
   ],
   "source": [
    "hd_mean_s3 = (hdSeg_Mean_7,hdSeg_Mean_8,hdSeg_Mean_9)\n",
    "seg_Mean_HD_s3 = pd.DataFrame(np.vstack(hd_mean_s3), columns=['Segment1','Segment2','Segment3'], index=['t1','t2','t3'])\n",
    "seg_Mean_HD_s3 "
   ]
  },
  {
   "cell_type": "code",
   "execution_count": 239,
   "metadata": {},
   "outputs": [
    {
     "data": {
      "text/plain": [
       "<matplotlib.legend.Legend at 0x1a174987d0>"
      ]
     },
     "execution_count": 239,
     "metadata": {},
     "output_type": "execute_result"
    },
    {
     "data": {
      "image/png": "[encoded data removed]",
      "text/plain": [
       "<Figure size 432x288 with 1 Axes>"
      ]
     },
     "metadata": {},
     "output_type": "display_data"
    }
   ],
   "source": [
    "t1_HD_Mean = seg_Mean_HD_s1.iloc[0,:]\n",
    "t2_HD_Mean = seg_Mean_HD_s1.iloc[1,:]\n",
    "t3_HD_Mean = seg_Mean_HD_s1.iloc[2,:]\n",
    "\n",
    "barWidth = 0.25\n",
    "\n",
    "t1_bar_height = np.arange(len(t1_HD_Mean))\n",
    "t2_bar_height = np.arange(len(t2_HD_Mean))\n",
    "t3_bar_height = np.arange(len(t3_HD_Mean))\n",
    "\n",
    "plt.bar(t1_bar_height, t1_HD_Mean, color='#10e329', width=barWidth, edgecolor='#10e329', label='t1')\n",
    "plt.bar(t2_bar_height + 0.5*width, t2_HD_Mean, color='#1084e3', width=barWidth, edgecolor='#1084e3', label='t2')\n",
    "plt.bar(t3_bar_height + width, t3_HD_Mean, color='#fa054a', width=barWidth, edgecolor='#fa054a', label='t3')\n",
    "\n",
    "#plt.xlabel('Sample 1', 'Sample 2', 'Sample 3')\n",
    "plt.ylabel('Mean Hamming Distance')\n",
    "plt.title('Mean Hamming Distance per segment along time samples')\n",
    "plt.legend(loc='center left', bbox_to_anchor=(1, 0.5), ncol=1, fontsize='large', fancybox=True, shadow=True)"
   ]
  },
  {
   "cell_type": "markdown",
   "metadata": {},
   "source": [
    "#### Comparative analysis of mutation profile along time-points:"
   ]
  },
  {
   "cell_type": "code",
   "execution_count": 127,
   "metadata": {},
   "outputs": [
    {
     "data": {
      "text/plain": [
       "'Check time 1, time 2, time 3, segments'"
      ]
     },
     "execution_count": 127,
     "metadata": {},
     "output_type": "execute_result"
    }
   ],
   "source": [
    "\"\"\"Check time 1, time 2, time 3, segments\"\"\""
   ]
  },
  {
   "cell_type": "code",
   "execution_count": 128,
   "metadata": {},
   "outputs": [
    {
     "data": {
      "text/html": [
       "<div>\n",
       "<style scoped>\n",
       "    .dataframe tbody tr th:only-of-type {\n",
       "        vertical-align: middle;\n",
       "    }\n",
       "\n",
       "    .dataframe tbody tr th {\n",
       "        vertical-align: top;\n",
       "    }\n",
       "\n",
       "    .dataframe thead th {\n",
       "        text-align: right;\n",
       "    }\n",
       "</style>\n",
       "<table border=\"1\" class=\"dataframe\">\n",
       "  <thead>\n",
       "    <tr style=\"text-align: right;\">\n",
       "      <th></th>\n",
       "      <th>Time1</th>\n",
       "      <th>Time2</th>\n",
       "      <th>Time3</th>\n",
       "    </tr>\n",
       "  </thead>\n",
       "  <tbody>\n",
       "    <tr>\n",
       "      <td>Total sequences</td>\n",
       "      <td>1575.00</td>\n",
       "      <td>1884.00</td>\n",
       "      <td>1506.00</td>\n",
       "    </tr>\n",
       "    <tr>\n",
       "      <td>Sequence Length</td>\n",
       "      <td>178.00</td>\n",
       "      <td>188.00</td>\n",
       "      <td>171.00</td>\n",
       "    </tr>\n",
       "    <tr>\n",
       "      <td>Total positions</td>\n",
       "      <td>280350.00</td>\n",
       "      <td>354192.00</td>\n",
       "      <td>257526.00</td>\n",
       "    </tr>\n",
       "    <tr>\n",
       "      <td>Number unique sequences</td>\n",
       "      <td>269.00</td>\n",
       "      <td>526.00</td>\n",
       "      <td>409.00</td>\n",
       "    </tr>\n",
       "    <tr>\n",
       "      <td>Percentage unique sequences</td>\n",
       "      <td>17.08</td>\n",
       "      <td>27.92</td>\n",
       "      <td>27.16</td>\n",
       "    </tr>\n",
       "    <tr>\n",
       "      <td>Insertions</td>\n",
       "      <td>0.00</td>\n",
       "      <td>0.00</td>\n",
       "      <td>0.00</td>\n",
       "    </tr>\n",
       "    <tr>\n",
       "      <td>Deletions</td>\n",
       "      <td>40991.00</td>\n",
       "      <td>66017.00</td>\n",
       "      <td>28648.00</td>\n",
       "    </tr>\n",
       "    <tr>\n",
       "      <td>Percentage Deletions</td>\n",
       "      <td>14.62</td>\n",
       "      <td>18.64</td>\n",
       "      <td>11.12</td>\n",
       "    </tr>\n",
       "    <tr>\n",
       "      <td>Substitutions</td>\n",
       "      <td>22818.00</td>\n",
       "      <td>33703.00</td>\n",
       "      <td>25614.00</td>\n",
       "    </tr>\n",
       "    <tr>\n",
       "      <td>Percentage substitutions</td>\n",
       "      <td>8.14</td>\n",
       "      <td>9.52</td>\n",
       "      <td>9.95</td>\n",
       "    </tr>\n",
       "    <tr>\n",
       "      <td>Segment1 (seg1)</td>\n",
       "      <td>19471.00</td>\n",
       "      <td>25188.00</td>\n",
       "      <td>20412.00</td>\n",
       "    </tr>\n",
       "    <tr>\n",
       "      <td>Segment2 (seg2)</td>\n",
       "      <td>2122.00</td>\n",
       "      <td>4222.00</td>\n",
       "      <td>3534.00</td>\n",
       "    </tr>\n",
       "    <tr>\n",
       "      <td>Segment3 (seg3)</td>\n",
       "      <td>1101.00</td>\n",
       "      <td>2410.00</td>\n",
       "      <td>1584.00</td>\n",
       "    </tr>\n",
       "    <tr>\n",
       "      <td>Percentage Mutations seg1</td>\n",
       "      <td>20.60</td>\n",
       "      <td>26.65</td>\n",
       "      <td>22.59</td>\n",
       "    </tr>\n",
       "    <tr>\n",
       "      <td>Percentage Mutations seg2</td>\n",
       "      <td>1.88</td>\n",
       "      <td>3.73</td>\n",
       "      <td>2.80</td>\n",
       "    </tr>\n",
       "    <tr>\n",
       "      <td>Percentage Mutations seg3</td>\n",
       "      <td>1.22</td>\n",
       "      <td>2.67</td>\n",
       "      <td>2.10</td>\n",
       "    </tr>\n",
       "  </tbody>\n",
       "</table>\n",
       "</div>"
      ],
      "text/plain": [
       "                                 Time1      Time2      Time3\n",
       "Total sequences                1575.00    1884.00    1506.00\n",
       "Sequence Length                 178.00     188.00     171.00\n",
       "Total positions              280350.00  354192.00  257526.00\n",
       "Number unique sequences         269.00     526.00     409.00\n",
       "Percentage unique sequences      17.08      27.92      27.16\n",
       "Insertions                        0.00       0.00       0.00\n",
       "Deletions                     40991.00   66017.00   28648.00\n",
       "Percentage Deletions             14.62      18.64      11.12\n",
       "Substitutions                 22818.00   33703.00   25614.00\n",
       "Percentage substitutions          8.14       9.52       9.95\n",
       "Segment1 (seg1)               19471.00   25188.00   20412.00\n",
       "Segment2 (seg2)                2122.00    4222.00    3534.00\n",
       "Segment3 (seg3)                1101.00    2410.00    1584.00\n",
       "Percentage Mutations seg1        20.60      26.65      22.59\n",
       "Percentage Mutations seg2         1.88       3.73       2.80\n",
       "Percentage Mutations seg3         1.22       2.67       2.10"
      ]
     },
     "execution_count": 128,
     "metadata": {},
     "output_type": "execute_result"
    }
   ],
   "source": [
    "mutations = {'Total sequences':[1575,1884,1506],'Sequence Length':[178,188,171],'Total positions':[280350,354192,257526],\n",
    "             'Number unique sequences':[269,526,409],'Percentage unique sequences':[17.08,27.92,27.16],\n",
    "             'Insertions':[0,0,0],'Deletions':[40991,66017,28648],'Percentage Deletions':[14.62,18.64,11.12],\n",
    "             'Substitutions':[22818,33703,25614],'Percentage substitutions':[8.14,9.52,9.95],\n",
    "            'Segment1 (seg1)':[19471,25188,20412],'Segment2 (seg2)':[2122,4222,3534],'Segment3 (seg3)':[1101,2410,1584],\n",
    "             'Percentage Mutations seg1':[20.60,26.65,22.59],'Percentage Mutations seg2':[1.88,3.73,2.80],'Percentage Mutations seg3':[1.22,2.67,2.10]}\n",
    "mutationsDF = pd.DataFrame.from_dict(mutations, orient='index',columns=['Time1', 'Time2', 'Time3'])\n",
    "mutationsDF"
   ]
  },
  {
   "cell_type": "code",
   "execution_count": 240,
   "metadata": {},
   "outputs": [
    {
     "name": "stdout",
     "output_type": "stream",
     "text": [
      "17.142857142857142 27.9723991507431 27.224435590969456\n",
      "9.450950306153468 9.747623023675493 17.093854216293472\n",
      "10.407993338884262 10.688420877382836 19.845743102936815\n"
     ]
    }
   ],
   "source": [
    "print(percentageUnique_s1t1,percentageUnique_s1t2,percentageUnique_s1t3)\n",
    "print(percentageUnique_s2t1,percentageUnique_s2t2,percentageUnique_s2t3)\n",
    "print(percentageUnique_s3t1,percentageUnique_s3t2,percentageUnique_s3t3)"
   ]
  },
  {
   "cell_type": "code",
   "execution_count": 250,
   "metadata": {},
   "outputs": [
    {
     "data": {
      "image/png": "[encoded data removed]",
      "text/plain": [
       "<Figure size 1080x288 with 2 Axes>"
      ]
     },
     "metadata": {},
     "output_type": "display_data"
    }
   ],
   "source": [
    "samples = ['sample at time 1 ', ' sample at time 2 ', ' sample at time 3 ']\n",
    "percentage_TotalDistance = [8.14,9.52,9.95]\n",
    "percent_Unique = [17.14, 27.97, 27.22]\n",
    "fig, ax = plt.subplots(figsize=(15,4))\n",
    "ax.set_title('Haming distance from reference along the time')\n",
    "ax.plot(percentage_TotalDistance, color ='red', marker = 'o')\n",
    "ax.set_xlabel(samples)\n",
    "ax.set_ylabel('Percentage of mutations', color = 'red', fontsize = 12)\n",
    "ax2 = ax.twinx()\n",
    "ax2.plot(percent_Unique, color = 'blue', marker = 's')\n",
    "ax2.set_ylabel('Percentage of unique sequences', color ='blue', fontsize = 12)\n",
    "fig.subplots_adjust(wspace = 0.5)\n",
    "# help from https://stackoverflow.com/questions/6963035/pyplot-axes-labels-for-subplots\n",
    "# http://scipy-lectures.org/intro/matplotlib/auto_examples/options/plot_linestyles.html"
   ]
  },
  {
   "cell_type": "code",
   "execution_count": 243,
   "metadata": {},
   "outputs": [
    {
     "data": {
      "image/png": "[encoded data removed]",
      "text/plain": [
       "<Figure size 1080x288 with 3 Axes>"
      ]
     },
     "metadata": {},
     "output_type": "display_data"
    }
   ],
   "source": [
    "\"\"\"Adjusted to the number of sequence in each sample\"\"\"\n",
    "mutations_plot1 = mutationsDF.iloc[13:14,0:]\n",
    "mutations_plot2 = mutationsDF.iloc[14:15,0:]\n",
    "mutations_plot3 = mutationsDF.iloc[15:16,0:]\n",
    "fig = plt.figure(figsize=(15,4))\n",
    "ax0=fig.add_subplot(131)\n",
    "ax1=fig.add_subplot(132)\n",
    "ax2=fig.add_subplot(133)\n",
    "mutations_plot1.plot(ax = ax0, kind='bar')\n",
    "mutations_plot2.plot(ax = ax1, kind='bar')\n",
    "mutations_plot3.plot(ax = ax2, kind='bar')\n",
    "fig.suptitle('Fraction of mutations per segment')\n",
    "fig.text(0.095, 0.5, 'Percentage of mutations', ha='center', va='center', rotation='vertical')\n",
    "fig.subplots_adjust(wspace = 0.3)"
   ]
  },
  {
   "cell_type": "markdown",
   "metadata": {},
   "source": [
    "#### Baic statistics for the hamming distance profile across samples:"
   ]
  },
  {
   "cell_type": "code",
   "execution_count": 132,
   "metadata": {},
   "outputs": [],
   "source": [
    "stats_splitedSeq1_HD = splitedSeq1_HD.agg({'mean', 'std', 'min', 'max'})\n",
    "stats_splitedSeq2_HD = splitedSeq2_HD.agg({'mean', 'std', 'min', 'max'})\n",
    "stats_splitedSeq3_HD = splitedSeq3_HD.agg({'mean', 'std', 'min', 'max'})"
   ]
  },
  {
   "cell_type": "code",
   "execution_count": 133,
   "metadata": {},
   "outputs": [
    {
     "data": {
      "text/html": [
       "<div>\n",
       "<style scoped>\n",
       "    .dataframe tbody tr th:only-of-type {\n",
       "        vertical-align: middle;\n",
       "    }\n",
       "\n",
       "    .dataframe tbody tr th {\n",
       "        vertical-align: top;\n",
       "    }\n",
       "\n",
       "    .dataframe thead th {\n",
       "        text-align: right;\n",
       "    }\n",
       "</style>\n",
       "<table border=\"1\" class=\"dataframe\">\n",
       "  <thead>\n",
       "    <tr style=\"text-align: right;\">\n",
       "      <th></th>\n",
       "      <th>hd1_1</th>\n",
       "      <th>hd2_1</th>\n",
       "      <th>hd3_1</th>\n",
       "      <th>hd1_2</th>\n",
       "      <th>hd2_2</th>\n",
       "      <th>hd3_2</th>\n",
       "      <th>hd1_3</th>\n",
       "      <th>hd2_3</th>\n",
       "      <th>hd3_3</th>\n",
       "    </tr>\n",
       "  </thead>\n",
       "  <tbody>\n",
       "    <tr>\n",
       "      <td>mean</td>\n",
       "      <td>12.362540</td>\n",
       "      <td>13.369427</td>\n",
       "      <td>13.553785</td>\n",
       "      <td>1.347302</td>\n",
       "      <td>2.240977</td>\n",
       "      <td>2.346614</td>\n",
       "      <td>0.699048</td>\n",
       "      <td>1.279193</td>\n",
       "      <td>1.051793</td>\n",
       "    </tr>\n",
       "    <tr>\n",
       "      <td>max</td>\n",
       "      <td>29.000000</td>\n",
       "      <td>29.000000</td>\n",
       "      <td>37.000000</td>\n",
       "      <td>15.000000</td>\n",
       "      <td>21.000000</td>\n",
       "      <td>20.000000</td>\n",
       "      <td>17.000000</td>\n",
       "      <td>18.000000</td>\n",
       "      <td>15.000000</td>\n",
       "    </tr>\n",
       "    <tr>\n",
       "      <td>std</td>\n",
       "      <td>1.634288</td>\n",
       "      <td>3.420354</td>\n",
       "      <td>3.864494</td>\n",
       "      <td>1.578731</td>\n",
       "      <td>3.179411</td>\n",
       "      <td>3.415916</td>\n",
       "      <td>1.523085</td>\n",
       "      <td>2.386137</td>\n",
       "      <td>2.120923</td>\n",
       "    </tr>\n",
       "    <tr>\n",
       "      <td>min</td>\n",
       "      <td>0.000000</td>\n",
       "      <td>0.000000</td>\n",
       "      <td>0.000000</td>\n",
       "      <td>0.000000</td>\n",
       "      <td>0.000000</td>\n",
       "      <td>0.000000</td>\n",
       "      <td>0.000000</td>\n",
       "      <td>0.000000</td>\n",
       "      <td>0.000000</td>\n",
       "    </tr>\n",
       "  </tbody>\n",
       "</table>\n",
       "</div>"
      ],
      "text/plain": [
       "          hd1_1      hd2_1      hd3_1      hd1_2      hd2_2      hd3_2  \\\n",
       "mean  12.362540  13.369427  13.553785   1.347302   2.240977   2.346614   \n",
       "max   29.000000  29.000000  37.000000  15.000000  21.000000  20.000000   \n",
       "std    1.634288   3.420354   3.864494   1.578731   3.179411   3.415916   \n",
       "min    0.000000   0.000000   0.000000   0.000000   0.000000   0.000000   \n",
       "\n",
       "          hd1_3      hd2_3      hd3_3  \n",
       "mean   0.699048   1.279193   1.051793  \n",
       "max   17.000000  18.000000  15.000000  \n",
       "std    1.523085   2.386137   2.120923  \n",
       "min    0.000000   0.000000   0.000000  "
      ]
     },
     "execution_count": 133,
     "metadata": {},
     "output_type": "execute_result"
    }
   ],
   "source": [
    "stats_summary1 = pd.concat([stats_splitedSeq1_HD.hd1_1,stats_splitedSeq2_HD.hd2_1,stats_splitedSeq3_HD.hd3_1], axis=1)\n",
    "stats_summary2 = pd.concat([stats_splitedSeq1_HD.hd1_2,stats_splitedSeq2_HD.hd2_2,stats_splitedSeq3_HD.hd3_2], axis=1)\n",
    "stats_summary3 = pd.concat([stats_splitedSeq1_HD.hd1_3,stats_splitedSeq2_HD.hd2_3,stats_splitedSeq3_HD.hd3_3], axis=1)\n",
    "stats_summary = pd.concat([stats_summary1,stats_summary2,stats_summary3], axis=1)\n",
    "stats_summary"
   ]
  },
  {
   "cell_type": "code",
   "execution_count": 134,
   "metadata": {},
   "outputs": [
    {
     "data": {
      "image/png": "[encoded data removed]",
      "text/plain": [
       "<Figure size 1080x288 with 3 Axes>"
      ]
     },
     "metadata": {},
     "output_type": "display_data"
    }
   ],
   "source": [
    "stats_plot1 = stats_summary.iloc[:,0:3]\n",
    "stats_plot2 = stats_summary.iloc[:,3:6]\n",
    "stats_plot3 = stats_summary.iloc[:,6:9]\n",
    "fig = plt.figure(figsize=(15,4))\n",
    "ax0=fig.add_subplot(131)\n",
    "ax1=fig.add_subplot(132)\n",
    "ax2=fig.add_subplot(133)\n",
    "stats_plot1.boxplot(ax = ax0)\n",
    "stats_plot2.boxplot(ax = ax1)\n",
    "stats_plot3.boxplot(ax = ax2)\n",
    "fig.suptitle('Mutations Stats per segment')\n",
    "fig.text(0.512, 0.01, 'Samples in each time-point and segments of the genotype', ha='center', va='center')\n",
    "fig.text(0.095, 0.5, 'Number of mutations', ha='center', va='center', rotation='vertical')\n",
    "fig.subplots_adjust(wspace = 0.3)"
   ]
  },
  {
   "cell_type": "markdown",
   "metadata": {},
   "source": [
    "### Conclusions"
   ]
  },
  {
   "cell_type": "markdown",
   "metadata": {},
   "source": [
    "The total number of mutations had increased along the evolutionary time. However, the rate of mutation accumulation is more steep during the first part of the evolution and then it slows down. It is possible to see that the mutations do not accumulate equally along the sequence. The mean number of mutations accumulated in the first segment (about 13) is approximately ten times more than the other two segments (about 1.6). This differential accumulation of mutations is expected because the end of the sequence is not paired and thus it is more free to mutated. There is no pressure for complementary mutations to occur. Here we are analysis the DNA, which by being a reverse complement of the RNA shows most of the mutations occurring in the first segment.\n",
    "\n",
    "Noteworthy, there are sequences that accumulate a greater number of mutations than the average and in similar proportions along the length. This is a cautionary measure of the quality of the data. It is worth to revise the processed perform upstream in the curating pipeline to make sure than there are no errors from the preparation procedure."
   ]
  },
  {
   "cell_type": "code",
   "execution_count": null,
   "metadata": {},
   "outputs": [],
   "source": []
  },
  {
   "cell_type": "code",
   "execution_count": null,
   "metadata": {},
   "outputs": [],
   "source": []
  }
 ],
 "metadata": {
  "kernelspec": {
   "display_name": "Python 3",
   "language": "python",
   "name": "python3"
  },
  "language_info": {
   "codemirror_mode": {
    "name": "ipython",
    "version": 3
   },
   "file_extension": ".py",
   "mimetype": "text/x-python",
   "name": "python",
   "nbconvert_exporter": "python",
   "pygments_lexer": "ipython3",
   "version": "3.7.4"
  }
 },
 "nbformat": 4,
 "nbformat_minor": 2
}
