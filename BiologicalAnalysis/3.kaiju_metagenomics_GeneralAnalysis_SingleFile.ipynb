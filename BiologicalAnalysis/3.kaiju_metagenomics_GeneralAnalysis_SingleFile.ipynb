{
 "cells": [
  {
   "cell_type": "code",
   "execution_count": 4,
   "metadata": {
    "collapsed": true
   },
   "outputs": [],
   "source": [
    "import matplotlib.pyplot as plt\n",
    "import pandas as pd\n",
    "import numpy as np\n",
    "import csv\n",
    "import seaborn as sb\n",
    "import os\n",
    "import string\n",
    "%matplotlib inline"
   ]
  },
  {
   "cell_type": "markdown",
   "metadata": {},
   "source": [
    "#### Abundace of major taxonomical groups"
   ]
  },
  {
   "cell_type": "code",
   "execution_count": 5,
   "metadata": {
    "scrolled": true
   },
   "outputs": [
    {
     "data": {
      "text/html": [
       "<div>\n",
       "<style scoped>\n",
       "    .dataframe tbody tr th:only-of-type {\n",
       "        vertical-align: middle;\n",
       "    }\n",
       "\n",
       "    .dataframe tbody tr th {\n",
       "        vertical-align: top;\n",
       "    }\n",
       "\n",
       "    .dataframe thead th {\n",
       "        text-align: right;\n",
       "    }\n",
       "</style>\n",
       "<table border=\"1\" class=\"dataframe\">\n",
       "  <thead>\n",
       "    <tr style=\"text-align: right;\">\n",
       "      <th></th>\n",
       "      <th>a</th>\n",
       "      <th>b</th>\n",
       "      <th>c</th>\n",
       "      <th>d</th>\n",
       "      <th>e</th>\n",
       "      <th>f</th>\n",
       "      <th>g</th>\n",
       "      <th>h</th>\n",
       "      <th>i</th>\n",
       "      <th>j</th>\n",
       "      <th>...</th>\n",
       "      <th>m</th>\n",
       "      <th>n</th>\n",
       "      <th>o</th>\n",
       "      <th>p</th>\n",
       "      <th>q</th>\n",
       "      <th>r</th>\n",
       "      <th>s</th>\n",
       "      <th>t</th>\n",
       "      <th>u</th>\n",
       "      <th>v</th>\n",
       "    </tr>\n",
       "  </thead>\n",
       "  <tbody>\n",
       "    <tr>\n",
       "      <th>0</th>\n",
       "      <td>77315</td>\n",
       "      <td>root</td>\n",
       "      <td>cellular organisms</td>\n",
       "      <td>Bacteria</td>\n",
       "      <td>Acidobacteria</td>\n",
       "      <td>Solibacteres</td>\n",
       "      <td>Solibacterales</td>\n",
       "      <td>Solibacteraceae</td>\n",
       "      <td>Candidatus Solibacter</td>\n",
       "      <td>Candidatus Solibacter usitatus</td>\n",
       "      <td>...</td>\n",
       "      <td>NaN</td>\n",
       "      <td>NaN</td>\n",
       "      <td>NaN</td>\n",
       "      <td>NaN</td>\n",
       "      <td>NaN</td>\n",
       "      <td>NaN</td>\n",
       "      <td>NaN</td>\n",
       "      <td>NaN</td>\n",
       "      <td>NaN</td>\n",
       "      <td>NaN</td>\n",
       "    </tr>\n",
       "    <tr>\n",
       "      <th>1</th>\n",
       "      <td>51168</td>\n",
       "      <td>root</td>\n",
       "      <td>cellular organisms</td>\n",
       "      <td>Bacteria</td>\n",
       "      <td>PVC group</td>\n",
       "      <td>Verrucomicrobia</td>\n",
       "      <td>Verrucomicrobiae</td>\n",
       "      <td>Verrucomicrobiales</td>\n",
       "      <td>Verrucomicrobia subdivision 3</td>\n",
       "      <td>Pedosphaera</td>\n",
       "      <td>...</td>\n",
       "      <td>NaN</td>\n",
       "      <td>NaN</td>\n",
       "      <td>NaN</td>\n",
       "      <td>NaN</td>\n",
       "      <td>NaN</td>\n",
       "      <td>NaN</td>\n",
       "      <td>NaN</td>\n",
       "      <td>NaN</td>\n",
       "      <td>NaN</td>\n",
       "      <td>NaN</td>\n",
       "    </tr>\n",
       "    <tr>\n",
       "      <th>2</th>\n",
       "      <td>38786</td>\n",
       "      <td>root</td>\n",
       "      <td>cellular organisms</td>\n",
       "      <td>Bacteria</td>\n",
       "      <td>Acidobacteria</td>\n",
       "      <td>Acidobacteriia</td>\n",
       "      <td>Acidobacteriales</td>\n",
       "      <td>Acidobacteriaceae</td>\n",
       "      <td>unclassified Acidobacteriaceae</td>\n",
       "      <td>Acidobacteriaceae bacterium URHE0068</td>\n",
       "      <td>...</td>\n",
       "      <td>NaN</td>\n",
       "      <td>NaN</td>\n",
       "      <td>NaN</td>\n",
       "      <td>NaN</td>\n",
       "      <td>NaN</td>\n",
       "      <td>NaN</td>\n",
       "      <td>NaN</td>\n",
       "      <td>NaN</td>\n",
       "      <td>NaN</td>\n",
       "      <td>NaN</td>\n",
       "    </tr>\n",
       "  </tbody>\n",
       "</table>\n",
       "<p>3 rows × 22 columns</p>\n",
       "</div>"
      ],
      "text/plain": [
       "       a     b                   c         d              e                f  \\\n",
       "0  77315  root  cellular organisms  Bacteria  Acidobacteria     Solibacteres   \n",
       "1  51168  root  cellular organisms  Bacteria      PVC group  Verrucomicrobia   \n",
       "2  38786  root  cellular organisms  Bacteria  Acidobacteria   Acidobacteriia   \n",
       "\n",
       "                  g                   h                               i  \\\n",
       "0    Solibacterales     Solibacteraceae           Candidatus Solibacter   \n",
       "1  Verrucomicrobiae  Verrucomicrobiales   Verrucomicrobia subdivision 3   \n",
       "2  Acidobacteriales   Acidobacteriaceae  unclassified Acidobacteriaceae   \n",
       "\n",
       "                                      j  ...    m    n    o    p    q    r  \\\n",
       "0        Candidatus Solibacter usitatus  ...  NaN  NaN  NaN  NaN  NaN  NaN   \n",
       "1                           Pedosphaera  ...  NaN  NaN  NaN  NaN  NaN  NaN   \n",
       "2  Acidobacteriaceae bacterium URHE0068  ...  NaN  NaN  NaN  NaN  NaN  NaN   \n",
       "\n",
       "     s    t    u    v  \n",
       "0  NaN  NaN  NaN  NaN  \n",
       "1  NaN  NaN  NaN  NaN  \n",
       "2  NaN  NaN  NaN  NaN  \n",
       "\n",
       "[3 rows x 22 columns]"
      ]
     },
     "execution_count": 5,
     "metadata": {},
     "output_type": "execute_result"
    }
   ],
   "source": [
    "# Load the new dataframe and verify it\n",
    "df = pd.read_csv('../4.Dataframe_AllColumn/C6_megahit_taxon.csv')\n",
    "df.head(3)"
   ]
  },
  {
   "cell_type": "code",
   "execution_count": 6,
   "metadata": {},
   "outputs": [
    {
     "data": {
      "text/plain": [
       "(20644, 22)"
      ]
     },
     "execution_count": 6,
     "metadata": {},
     "output_type": "execute_result"
    }
   ],
   "source": [
    "df.shape"
   ]
  },
  {
   "cell_type": "markdown",
   "metadata": {},
   "source": [
    "#### List the content of the columns"
   ]
  },
  {
   "cell_type": "code",
   "execution_count": 9,
   "metadata": {},
   "outputs": [
    {
     "name": "stdout",
     "output_type": "stream",
     "text": [
      "Content of columns: \n",
      " b:  ['root', 'Unclassified'] \n",
      " c:  ['cellular organisms', 'Viruses', nan] \n",
      " d:  ['Bacteria', 'Archaea', nan, 'environmental samples', 'Eukaryota', 'dsDNA viruses, no RNA stage', 'unclassified bacterial viruses', 'unclassified viruses', 'Retro-transcribing viruses', 'unclassified virophages', 'ssRNA viruses', 'ssDNA viruses', 'dsRNA viruses'] \n",
      "\n",
      " e:  ['Acidobacteria', 'PVC group', nan, 'Euryarchaeota', 'environmental samples', 'Proteobacteria', 'FCB group', 'unclassified Bacteria', 'Terrabacteria group', 'Elusimicrobia', 'Nitrospirae', 'Spirochaetes', 'DPANN group', 'TACK group', 'Nitrospinae/Tectomicrobia group', 'Calditrichaeota', 'uncultured Mediterranean phage uvMED', 'Asgard group', 'Balneolaeota', 'Synergistetes', 'Alveolata', 'unclassified Archaea', 'Thermodesulfobacteria', 'Deferribacteres', 'Aquificae', 'Thermotogae', 'Cryptophyta', 'Amoebozoa', 'Dictyoglomi', 'Chrysiogenetes', 'Heterolobosea', 'Haptophyceae', 'Caudovirales', 'Viridiplantae', 'Fusobacteria', 'Rhodophyta', 'Parabasalia', 'Stramenopiles', 'Opisthokonta', 'Rhizaria', 'uncultured Mediterranean phage', 'Caldiserica', 'Apusozoa', 'Euglenozoa', 'unclassified dsDNA viruses', 'uncultured marine virus', 'uncultured virus', 'Stenotrophomonas phage vB_SmaS-DLP_6', 'Virus Rctr41k', 'Mimiviridae', 'Fornicata', 'Pacmanvirus A23', 'Phycodnaviridae', 'Virus Rctr16k', 'unclassified dsDNA phages', 'Faustovirus', 'Synechococcus phage S-CAM7', 'Sphingobium phage S21', 'Serratia phage BF', 'Freshwater phage uvFW-CGR-AMD-COM-C455', 'Freshwater phage uvFW-CGR-AMD-COM-C429', 'uncultured phage MedDCM-OCT-S09-C7', 'Iridoviridae', 'Retroviridae', 'Jakobida', 'Glaucocystophyceae', 'Mollivirus sibericum', 'Synechococcus phage S-EIVl', 'Aeribacillus phage AP45', 'uncultured phage MedDCM-OCT-S04-C650', 'uncultured Mediterranean phage uvDeep-CGR2-KM19-C37', 'uncultured Mediterranean phage uvDeep-CGR2-AD10-C281', 'uncultured Mediterranean phage uvDeep-CGR0-KM15-C219', 'Organic Lake virophage', 'Hepadnaviridae', 'unclassified eukaryotes', 'Oxymonadida', 'Malawimonadidae', 'Centroheliozoa', 'Virus Rctr85', 'Virus Rctr71', 'Virus Rctr197k', 'Kaumoebavirus', 'Insectomime virus', 'Faustovirus ST1', 'Yellowstone Lake virophage 5', 'Vibrio phage vB_VmeM-32', 'Vibrio phage vB_VhaS-tm', 'Tenacibaculum phage pT24', 'Shewanella phage SppYZU01', 'Salmonella phage LPST10', 'Pectobacterium phage CBB', 'Lactobacillus phage EV3', 'Gordonia phage GMA2', 'Escherichia phage vB_Ecos_CEB_EC3a', 'Erythrobacter phage vB_EliS_R6L', 'Campylobacter phage PC5', 'Aeromonas phage phiARM81ld', 'Aeromonas phage phiA8-29', 'Acinetobacter phage vB_AbaM_ME3', 'ssRNA positive-strand viruses, no DNA stage', 'Microviridae', 'Circoviridae', 'uncultured phage MedDCM-OCT-S08-C233', 'uncultured phage MedDCM-OCT-S05-C113', 'uncultured Mediterranean phage uvDeep1-CGR2-KM23-C896', 'uncultured Mediterranean phage uvDeep-CGR2-AD3-C76', 'uncultured Mediterranean phage uvDeep-CGR1-KM17-C101', 'uncultured Mediterranean phage uvDeep-CGR0-KM14-C182', 'Pyrobaculum genetic element 1', 'Partitiviridae', 'Tectiviridae', 'Poxviridae', 'Polydnaviridae', 'Marseilleviridae', 'Ligamenvirales', 'Herpesvirales', 'Guttaviridae', 'Asfarviridae', 'Adenoviridae', 'Caulimoviridae']\n"
     ]
    }
   ],
   "source": [
    "print('Content of columns:','\\n','b: ',list(df['b'].unique()),'\\n','c: ',list(df['c'].unique()),'\\n',\n",
    "      'd: ',list(df['d'].unique()),'\\n''\\n','e: ',list(df['e'].unique()))"
   ]
  },
  {
   "cell_type": "markdown",
   "metadata": {},
   "source": [
    "#### Calculating Abundances"
   ]
  },
  {
   "cell_type": "code",
   "execution_count": 10,
   "metadata": {},
   "outputs": [
    {
     "data": {
      "text/plain": [
       "745622"
      ]
     },
     "execution_count": 10,
     "metadata": {},
     "output_type": "execute_result"
    }
   ],
   "source": [
    "unclassified = df.loc[df['b'].str.contains('Unclassified', regex=True)]\n",
    "unclass_Ab = unclassified['a'].sum()\n",
    "unclass_Ab"
   ]
  },
  {
   "cell_type": "code",
   "execution_count": 11,
   "metadata": {},
   "outputs": [
    {
     "data": {
      "text/plain": [
       "1391206"
      ]
     },
     "execution_count": 11,
     "metadata": {},
     "output_type": "execute_result"
    }
   ],
   "source": [
    "classified = df.loc[df['b'].str.contains('root', regex=True)]\n",
    "class_Ab = classified['a'].sum()\n",
    "class_Ab"
   ]
  },
  {
   "cell_type": "code",
   "execution_count": 13,
   "metadata": {},
   "outputs": [
    {
     "data": {
      "text/plain": [
       "1389913"
      ]
     },
     "execution_count": 13,
     "metadata": {},
     "output_type": "execute_result"
    }
   ],
   "source": [
    "cellOrg = df.loc[df['c'].str.contains('cellular', na=False)]\n",
    "cellOrg_Ab = cellOrg['a'].sum()\n",
    "cellOrg_Ab"
   ]
  },
  {
   "cell_type": "code",
   "execution_count": 14,
   "metadata": {},
   "outputs": [
    {
     "data": {
      "text/plain": [
       "1184"
      ]
     },
     "execution_count": 14,
     "metadata": {},
     "output_type": "execute_result"
    }
   ],
   "source": [
    "virus = df.loc[df['c'].str.contains('Viruses', na=False)]\n",
    "virus_Ab = virus['a'].sum()\n",
    "virus_Ab"
   ]
  },
  {
   "cell_type": "code",
   "execution_count": 24,
   "metadata": {},
   "outputs": [
    {
     "data": {
      "text/plain": [
       "1345011"
      ]
     },
     "execution_count": 24,
     "metadata": {},
     "output_type": "execute_result"
    }
   ],
   "source": [
    "bacteria = df.loc[df['d'].str.contains('Bacteria', na=False)]\n",
    "bact_Ab = bacteria['a'].sum()\n",
    "bact_Ab"
   ]
  },
  {
   "cell_type": "code",
   "execution_count": 25,
   "metadata": {},
   "outputs": [
    {
     "data": {
      "text/plain": [
       "38027"
      ]
     },
     "execution_count": 25,
     "metadata": {},
     "output_type": "execute_result"
    }
   ],
   "source": [
    "archaea = df.loc[df['d'].str.contains('Archaea', na=False)]\n",
    "arch_Ab = archaea['a'].sum()\n",
    "arch_Ab"
   ]
  },
  {
   "cell_type": "code",
   "execution_count": 26,
   "metadata": {},
   "outputs": [
    {
     "data": {
      "text/plain": [
       "5817"
      ]
     },
     "execution_count": 26,
     "metadata": {},
     "output_type": "execute_result"
    }
   ],
   "source": [
    "eukarya = df.loc[df['d'].str.contains('Eukaryota', na=False)]\n",
    "euka_Ab = eukarya['a'].sum()\n",
    "euka_Ab"
   ]
  },
  {
   "cell_type": "code",
   "execution_count": 27,
   "metadata": {},
   "outputs": [
    {
     "data": {
      "text/plain": [
       "285"
      ]
     },
     "execution_count": 27,
     "metadata": {},
     "output_type": "execute_result"
    }
   ],
   "source": [
    "environmSample = df.loc[df['d'].str.contains('environmental samples', na=False)]  # Not visualized in Kona graph\n",
    "envSam_Ab = environmSample['a'].sum()\n",
    "envSam_Ab"
   ]
  },
  {
   "cell_type": "code",
   "execution_count": 28,
   "metadata": {},
   "outputs": [
    {
     "data": {
      "text/plain": [
       "37"
      ]
     },
     "execution_count": 28,
     "metadata": {},
     "output_type": "execute_result"
    }
   ],
   "source": [
    "unclassVirus = df.loc[df['d'].str.contains('unclassified viruses', na=False)]\n",
    "unclassVirus_Ab = unclassVirus['a'].sum()\n",
    "unclassVirus_Ab"
   ]
  },
  {
   "cell_type": "code",
   "execution_count": 29,
   "metadata": {},
   "outputs": [
    {
     "data": {
      "text/plain": [
       "61253"
      ]
     },
     "execution_count": 29,
     "metadata": {},
     "output_type": "execute_result"
    }
   ],
   "source": [
    "unclassBact = df.loc[df['e'].str.contains('unclassified Bacteria', na=False)]\n",
    "unclassBact_Ab = unclassBact['a'].sum()\n",
    "unclassBact_Ab"
   ]
  },
  {
   "cell_type": "code",
   "execution_count": 30,
   "metadata": {},
   "outputs": [
    {
     "data": {
      "text/plain": [
       "741"
      ]
     },
     "execution_count": 30,
     "metadata": {},
     "output_type": "execute_result"
    }
   ],
   "source": [
    "unclassArchaea = df.loc[df['e'].str.contains('unclassified Archaea', na=False)]\n",
    "unclassArchaea_Ab = unclassArchaea['a'].sum()\n",
    "unclassArchaea_Ab"
   ]
  },
  {
   "cell_type": "code",
   "execution_count": 31,
   "metadata": {},
   "outputs": [
    {
     "data": {
      "text/plain": [
       "1"
      ]
     },
     "execution_count": 31,
     "metadata": {},
     "output_type": "execute_result"
    }
   ],
   "source": [
    "unclassEukaryotes = df.loc[df['e'].str.contains('unclassified eukaryotes', na=False)]\n",
    "unclassEukaryotes_Ab = unclassEukaryotes['a'].sum()\n",
    "unclassEukaryotes_Ab"
   ]
  },
  {
   "cell_type": "code",
   "execution_count": 32,
   "metadata": {},
   "outputs": [
    {
     "data": {
      "text/plain": [
       "358488"
      ]
     },
     "execution_count": 32,
     "metadata": {},
     "output_type": "execute_result"
    }
   ],
   "source": [
    "acidoBact = df.loc[df['e'].str.contains('Acidobacteria', na=False)]\n",
    "acBac_Ab = acidoBact['a'].sum()\n",
    "acBac_Ab"
   ]
  },
  {
   "cell_type": "code",
   "execution_count": 33,
   "metadata": {},
   "outputs": [
    {
     "data": {
      "text/plain": [
       "382001"
      ]
     },
     "execution_count": 33,
     "metadata": {},
     "output_type": "execute_result"
    }
   ],
   "source": [
    "proteoBact = df.loc[df['e'].str.contains('Proteobacteria', na=False)]\n",
    "protBac_Ab = proteoBact['a'].sum()\n",
    "protBac_Ab"
   ]
  },
  {
   "cell_type": "code",
   "execution_count": 34,
   "metadata": {},
   "outputs": [
    {
     "data": {
      "text/plain": [
       "192824"
      ]
     },
     "execution_count": 34,
     "metadata": {},
     "output_type": "execute_result"
    }
   ],
   "source": [
    "terraBac = df.loc[df['e'].str.contains('Terrabacteria group', na=False)]\n",
    "terraBac_Ab = terraBac['a'].sum()\n",
    "terraBac_Ab"
   ]
  },
  {
   "cell_type": "code",
   "execution_count": 35,
   "metadata": {},
   "outputs": [
    {
     "data": {
      "text/plain": [
       "31041"
      ]
     },
     "execution_count": 35,
     "metadata": {},
     "output_type": "execute_result"
    }
   ],
   "source": [
    "euryArchaeota = df.loc[df['e'].str.contains('Euryarchaeota', na=False)]\n",
    "euryArchaeota_Ab = euryArchaeota['a'].sum()\n",
    "euryArchaeota_Ab"
   ]
  },
  {
   "cell_type": "code",
   "execution_count": 39,
   "metadata": {},
   "outputs": [
    {
     "data": {
      "text/plain": [
       "12245"
      ]
     },
     "execution_count": 39,
     "metadata": {},
     "output_type": "execute_result"
    }
   ],
   "source": [
    "spirochaetes = df.loc[df['e'].str.contains('Spirochaetes', na=False)]\n",
    "spirochaetes_Ab = spirochaetes['a'].sum()\n",
    "spirochaetes_Ab"
   ]
  },
  {
   "cell_type": "code",
   "execution_count": 40,
   "metadata": {},
   "outputs": [
    {
     "data": {
      "text/plain": [
       "704"
      ]
     },
     "execution_count": 40,
     "metadata": {},
     "output_type": "execute_result"
    }
   ],
   "source": [
    "alveolata = df.loc[df['e'].str.contains('Alveolata', na=False)]\n",
    "alveolata_Ab = alveolata['a'].sum()\n",
    "alveolata_Ab"
   ]
  },
  {
   "cell_type": "code",
   "execution_count": 41,
   "metadata": {},
   "outputs": [
    {
     "data": {
      "text/plain": [
       "78"
      ]
     },
     "execution_count": 41,
     "metadata": {},
     "output_type": "execute_result"
    }
   ],
   "source": [
    "rhizaria = df.loc[df['e'].str.contains('Rhizaria', na=False)]\n",
    "rhizaria_Ab = rhizaria['a'].sum()\n",
    "rhizaria_Ab"
   ]
  },
  {
   "cell_type": "code",
   "execution_count": 43,
   "metadata": {},
   "outputs": [
    {
     "data": {
      "text/plain": [
       "3289"
      ]
     },
     "execution_count": 43,
     "metadata": {},
     "output_type": "execute_result"
    }
   ],
   "source": [
    "opisthokonta = df.loc[df['e'].str.contains('Opisthokonta', na=False)]\n",
    "opisthokonta_Ab = opisthokonta['a'].sum()\n",
    "opisthokonta_Ab   "
   ]
  },
  {
   "cell_type": "code",
   "execution_count": 44,
   "metadata": {},
   "outputs": [
    {
     "data": {
      "text/plain": [
       "126"
      ]
     },
     "execution_count": 44,
     "metadata": {},
     "output_type": "execute_result"
    }
   ],
   "source": [
    "euglenozoa = df.loc[df['e'].str.contains('Euglenozoa', na=False)]\n",
    "euglenozoa_Ab = euglenozoa['a'].sum()\n",
    "euglenozoa_Ab"
   ]
  },
  {
   "cell_type": "code",
   "execution_count": 45,
   "metadata": {
    "collapsed": true
   },
   "outputs": [],
   "source": [
    "## Calculating percentages\n",
    "\n",
    "total = unclass_Ab+class_Ab\n",
    "unclass = unclass_Ab*100/total\n",
    "clas = class_Ab*100/total\n",
    "cellOrg = cellOrg_Ab*100/total\n",
    "virus = virus_Ab*100/total\n",
    "bact = bact_Ab*100/total\n",
    "arch = arch_Ab*100/total\n",
    "euka = euka_Ab*100/total\n",
    "envSamples = envSam_Ab*100/total\n",
    "unclassVirus = unclassVirus_Ab*100/total\n",
    "unclassBact = unclassBact_Ab*100/total\n",
    "unclassArch = unclassArchaea_Ab*100/total\n",
    "unclassEuka = unclassEukaryotes_Ab*100/total\n",
    "acidoBact = acBac_Ab*100/total\n",
    "proteoBact = protBac_Ab*100/total\n",
    "terraBact = terraBac_Ab*100/total\n",
    "euryarchaeota = euryArchaeota_Ab*100/total\n",
    "spirochaetes = spirochaetes_Ab*100/total\n",
    "alveolata = alveolata_Ab*100/total\n",
    "rhizaria = rhizaria_Ab*100/total\n",
    "opisthokonta = opisthokonta_Ab*100/total\n",
    "euglenozoa = euglenozoa_Ab*100/total"
   ]
  },
  {
   "cell_type": "code",
   "execution_count": 46,
   "metadata": {},
   "outputs": [
    {
     "data": {
      "text/plain": [
       "2136828"
      ]
     },
     "execution_count": 46,
     "metadata": {},
     "output_type": "execute_result"
    }
   ],
   "source": [
    "total"
   ]
  },
  {
   "cell_type": "markdown",
   "metadata": {},
   "source": [
    "#### Summarizing previous data and plotting"
   ]
  },
  {
   "cell_type": "code",
   "execution_count": 47,
   "metadata": {},
   "outputs": [
    {
     "data": {
      "text/plain": [
       "'Change the dictionary column name to correspond to the file being used'"
      ]
     },
     "execution_count": 47,
     "metadata": {},
     "output_type": "execute_result"
    }
   ],
   "source": [
    "\"\"\"Change the dictionary column name to correspond to the file being used\"\"\""
   ]
  },
  {
   "cell_type": "code",
   "execution_count": 48,
   "metadata": {
    "collapsed": true
   },
   "outputs": [],
   "source": [
    "majorTax = {'Taxonomy':['Unclassified','Classified','Cellular Organisms','Viruses','Bacteria','Archaea','Eukaryotes','Environmental Samples','Unclassified Viruses','Unclassified Bacteria','Unclassified Archaea','Unclassified Eukaryotes','Acidobacteria','Proteobacteria','Terrabacteria','Euryarchaeota','Spirochaetes','Alveolata','Rhizaria','Opistokhonta','Euglenozoa'],\n",
    "            'Abundance':[unclass_Ab,class_Ab,cellOrg_Ab,virus_Ab,bact_Ab,arch_Ab,euka_Ab,envSam_Ab,unclassVirus_Ab,unclassBact_Ab,unclassArchaea_Ab,unclassEukaryotes_Ab,acBac_Ab,protBac_Ab,terraBac_Ab,euryArchaeota_Ab,spirochaetes_Ab,alveolata_Ab,rhizaria_Ab,opisthokonta_Ab,euglenozoa_Ab],\n",
    "            'Abundance_perc':[unclass,clas,cellOrg,virus,bact,arch,euka,envSamples,unclassVirus,unclassBact,unclassArch,unclassEuka,acidoBact,proteoBact,terraBact,euryarchaeota,spirochaetes,alveolata,rhizaria,opisthokonta,euglenozoa]}"
   ]
  },
  {
   "cell_type": "code",
   "execution_count": 49,
   "metadata": {},
   "outputs": [
    {
     "data": {
      "text/plain": [
       "'This dataframe values were compared with the reported by Kona (using kaiju input) and they coincide'"
      ]
     },
     "execution_count": 49,
     "metadata": {},
     "output_type": "execute_result"
    }
   ],
   "source": [
    "majorTax_df = pd.DataFrame.from_dict(majorTax)\n",
    "\"\"\"This dataframe values were compared with the reported by Kona (using kaiju input) and they coincide\"\"\""
   ]
  },
  {
   "cell_type": "markdown",
   "metadata": {},
   "source": [
    "### Save the created dataframe into a new file"
   ]
  },
  {
   "cell_type": "code",
   "execution_count": 30,
   "metadata": {
    "collapsed": true
   },
   "outputs": [],
   "source": [
    "# Change the file NAME FIRST and run all the processes again, make sure to change file names when pertinent."
   ]
  },
  {
   "cell_type": "code",
   "execution_count": 35,
   "metadata": {
    "collapsed": true
   },
   "outputs": [],
   "source": [
    "\"\"\"CHANGE THE FILE NAME\"\"\"\n",
    "majorTax_df.to_csv('../6.GeneralAnalysis/C6_megahit_taxon_Abundance.csv',index = False)"
   ]
  },
  {
   "cell_type": "code",
   "execution_count": 50,
   "metadata": {},
   "outputs": [
    {
     "data": {
      "text/html": [
       "<div>\n",
       "<style scoped>\n",
       "    .dataframe tbody tr th:only-of-type {\n",
       "        vertical-align: middle;\n",
       "    }\n",
       "\n",
       "    .dataframe tbody tr th {\n",
       "        vertical-align: top;\n",
       "    }\n",
       "\n",
       "    .dataframe thead th {\n",
       "        text-align: right;\n",
       "    }\n",
       "</style>\n",
       "<table border=\"1\" class=\"dataframe\">\n",
       "  <thead>\n",
       "    <tr style=\"text-align: right;\">\n",
       "      <th></th>\n",
       "      <th>Taxonomy</th>\n",
       "      <th>C6-megahit</th>\n",
       "      <th>C6-megahit_perc</th>\n",
       "    </tr>\n",
       "  </thead>\n",
       "  <tbody>\n",
       "    <tr>\n",
       "      <th>0</th>\n",
       "      <td>Unclassified</td>\n",
       "      <td>745622</td>\n",
       "      <td>34.893871</td>\n",
       "    </tr>\n",
       "    <tr>\n",
       "      <th>1</th>\n",
       "      <td>Classified</td>\n",
       "      <td>1391206</td>\n",
       "      <td>65.106129</td>\n",
       "    </tr>\n",
       "    <tr>\n",
       "      <th>2</th>\n",
       "      <td>Cellular Organisms</td>\n",
       "      <td>1389913</td>\n",
       "      <td>65.045619</td>\n",
       "    </tr>\n",
       "  </tbody>\n",
       "</table>\n",
       "</div>"
      ],
      "text/plain": [
       "             Taxonomy  C6-megahit  C6-megahit_perc\n",
       "0        Unclassified      745622        34.893871\n",
       "1          Classified     1391206        65.106129\n",
       "2  Cellular Organisms     1389913        65.045619"
      ]
     },
     "execution_count": 50,
     "metadata": {},
     "output_type": "execute_result"
    }
   ],
   "source": [
    "# Load the dataframe\n",
    "df1 = pd.read_csv('../6.GeneralAnalysis/C6_megahit_taxon_Abundance.csv')\n",
    "df1.head(3)"
   ]
  },
  {
   "cell_type": "markdown",
   "metadata": {
    "collapsed": true
   },
   "source": [
    "### Plotting the organized data"
   ]
  },
  {
   "cell_type": "code",
   "execution_count": 38,
   "metadata": {},
   "outputs": [
    {
     "data": {
      "text/html": [
       "<div>\n",
       "<style scoped>\n",
       "    .dataframe tbody tr th:only-of-type {\n",
       "        vertical-align: middle;\n",
       "    }\n",
       "\n",
       "    .dataframe tbody tr th {\n",
       "        vertical-align: top;\n",
       "    }\n",
       "\n",
       "    .dataframe thead th {\n",
       "        text-align: right;\n",
       "    }\n",
       "</style>\n",
       "<table border=\"1\" class=\"dataframe\">\n",
       "  <thead>\n",
       "    <tr style=\"text-align: right;\">\n",
       "      <th></th>\n",
       "      <th>Taxonomy</th>\n",
       "      <th>Abundance</th>\n",
       "      <th>Abundance_perc</th>\n",
       "    </tr>\n",
       "  </thead>\n",
       "  <tbody>\n",
       "    <tr>\n",
       "      <th>1</th>\n",
       "      <td>Classified</td>\n",
       "      <td>1391206</td>\n",
       "      <td>65.106129</td>\n",
       "    </tr>\n",
       "    <tr>\n",
       "      <th>2</th>\n",
       "      <td>Cellular Organisms</td>\n",
       "      <td>1389913</td>\n",
       "      <td>65.045619</td>\n",
       "    </tr>\n",
       "    <tr>\n",
       "      <th>4</th>\n",
       "      <td>Bacteria</td>\n",
       "      <td>1345011</td>\n",
       "      <td>62.944280</td>\n",
       "    </tr>\n",
       "    <tr>\n",
       "      <th>0</th>\n",
       "      <td>Unclassified</td>\n",
       "      <td>745622</td>\n",
       "      <td>34.893871</td>\n",
       "    </tr>\n",
       "    <tr>\n",
       "      <th>13</th>\n",
       "      <td>Proteobacteria</td>\n",
       "      <td>382001</td>\n",
       "      <td>17.877012</td>\n",
       "    </tr>\n",
       "    <tr>\n",
       "      <th>12</th>\n",
       "      <td>Acidobacteria</td>\n",
       "      <td>358488</td>\n",
       "      <td>16.776643</td>\n",
       "    </tr>\n",
       "    <tr>\n",
       "      <th>14</th>\n",
       "      <td>Terrabacteria</td>\n",
       "      <td>192824</td>\n",
       "      <td>9.023843</td>\n",
       "    </tr>\n",
       "    <tr>\n",
       "      <th>9</th>\n",
       "      <td>Unclassified Bacteria</td>\n",
       "      <td>61253</td>\n",
       "      <td>2.866539</td>\n",
       "    </tr>\n",
       "    <tr>\n",
       "      <th>5</th>\n",
       "      <td>Archaea</td>\n",
       "      <td>38027</td>\n",
       "      <td>1.779600</td>\n",
       "    </tr>\n",
       "    <tr>\n",
       "      <th>15</th>\n",
       "      <td>Euryarchaeota</td>\n",
       "      <td>31041</td>\n",
       "      <td>1.452667</td>\n",
       "    </tr>\n",
       "    <tr>\n",
       "      <th>16</th>\n",
       "      <td>Spirochaetes</td>\n",
       "      <td>12245</td>\n",
       "      <td>0.573046</td>\n",
       "    </tr>\n",
       "    <tr>\n",
       "      <th>6</th>\n",
       "      <td>Eukaryotes</td>\n",
       "      <td>5817</td>\n",
       "      <td>0.272226</td>\n",
       "    </tr>\n",
       "    <tr>\n",
       "      <th>19</th>\n",
       "      <td>Opistokhonta</td>\n",
       "      <td>3289</td>\n",
       "      <td>0.153920</td>\n",
       "    </tr>\n",
       "    <tr>\n",
       "      <th>3</th>\n",
       "      <td>Viruses</td>\n",
       "      <td>1184</td>\n",
       "      <td>0.055409</td>\n",
       "    </tr>\n",
       "    <tr>\n",
       "      <th>10</th>\n",
       "      <td>Unclassified Archaea</td>\n",
       "      <td>741</td>\n",
       "      <td>0.034678</td>\n",
       "    </tr>\n",
       "    <tr>\n",
       "      <th>17</th>\n",
       "      <td>Alveolata</td>\n",
       "      <td>704</td>\n",
       "      <td>0.032946</td>\n",
       "    </tr>\n",
       "    <tr>\n",
       "      <th>7</th>\n",
       "      <td>Environmental Samples</td>\n",
       "      <td>285</td>\n",
       "      <td>0.013338</td>\n",
       "    </tr>\n",
       "    <tr>\n",
       "      <th>20</th>\n",
       "      <td>Euglenozoa</td>\n",
       "      <td>126</td>\n",
       "      <td>0.005897</td>\n",
       "    </tr>\n",
       "    <tr>\n",
       "      <th>18</th>\n",
       "      <td>Rhizaria</td>\n",
       "      <td>78</td>\n",
       "      <td>0.003650</td>\n",
       "    </tr>\n",
       "    <tr>\n",
       "      <th>8</th>\n",
       "      <td>Unclassified Viruses</td>\n",
       "      <td>37</td>\n",
       "      <td>0.001732</td>\n",
       "    </tr>\n",
       "    <tr>\n",
       "      <th>11</th>\n",
       "      <td>Unclassified Eukaryotes</td>\n",
       "      <td>1</td>\n",
       "      <td>0.000047</td>\n",
       "    </tr>\n",
       "  </tbody>\n",
       "</table>\n",
       "</div>"
      ],
      "text/plain": [
       "                   Taxonomy  Abundance  Abundance_perc\n",
       "1                Classified    1391206       65.106129\n",
       "2        Cellular Organisms    1389913       65.045619\n",
       "4                  Bacteria    1345011       62.944280\n",
       "0              Unclassified     745622       34.893871\n",
       "13           Proteobacteria     382001       17.877012\n",
       "12            Acidobacteria     358488       16.776643\n",
       "14            Terrabacteria     192824        9.023843\n",
       "9     Unclassified Bacteria      61253        2.866539\n",
       "5                   Archaea      38027        1.779600\n",
       "15            Euryarchaeota      31041        1.452667\n",
       "16             Spirochaetes      12245        0.573046\n",
       "6                Eukaryotes       5817        0.272226\n",
       "19             Opistokhonta       3289        0.153920\n",
       "3                   Viruses       1184        0.055409\n",
       "10     Unclassified Archaea        741        0.034678\n",
       "17                Alveolata        704        0.032946\n",
       "7     Environmental Samples        285        0.013338\n",
       "20               Euglenozoa        126        0.005897\n",
       "18                 Rhizaria         78        0.003650\n",
       "8      Unclassified Viruses         37        0.001732\n",
       "11  Unclassified Eukaryotes          1        0.000047"
      ]
     },
     "execution_count": 38,
     "metadata": {},
     "output_type": "execute_result"
    }
   ],
   "source": [
    "df1 = df1.sort_values('Abundance_perc', ascending = False)\n",
    "df1"
   ]
  },
  {
   "cell_type": "code",
   "execution_count": 39,
   "metadata": {},
   "outputs": [
    {
     "data": {
      "text/plain": [
       "Text(0, 0.5, 'Major Taxonomic Groups')"
      ]
     },
     "execution_count": 39,
     "metadata": {},
     "output_type": "execute_result"
    },
    {
     "data": {
      "image/png": "[encoded data removed]",
      "text/plain": [
       "<Figure size 576x288 with 1 Axes>"
      ]
     },
     "metadata": {},
     "output_type": "display_data"
    }
   ],
   "source": [
    "plt.figure(figsize=(8, 4))\n",
    "plt.barh(df1.Taxonomy, df1.Abundance_perc, label='Taxa Abundance',color='orange')\n",
    "plt.title(\"Abundance of Major Taxonomic Groups in the Sample\")\n",
    "plt.legend()\n",
    "plt.xlabel(\"Percentage of Abundance\")\n",
    "plt.ylabel(\"Major Taxonomic Groups\")"
   ]
  },
  {
   "cell_type": "code",
   "execution_count": 40,
   "metadata": {},
   "outputs": [
    {
     "data": {
      "image/png": "[encoded data removed]",
      "text/plain": [
       "<Figure size 576x288 with 1 Axes>"
      ]
     },
     "metadata": {},
     "output_type": "display_data"
    }
   ],
   "source": [
    "plt.figure(figsize=(8, 4)) # This allows me to change the figure size, so the data is not cramped.\n",
    "plt.barh(df1.Taxonomy, df1.Abundance_perc)\n",
    "plt.xscale('log')\n",
    "plt.ylabel('Major Taxomic Groups')\n",
    "plt.xlabel('Percentage of Abundance in Log Scale')\n",
    "plt.title('Abundance of Major Taxonomic Groups in the Sample')\n",
    "tick_val = [5,10,20,40,60]\n",
    "tick_lab = ['5','10','20','40','60']\n",
    "plt.xticks(tick_val, tick_lab)\n",
    "plt.show()"
   ]
  },
  {
   "cell_type": "code",
   "execution_count": 41,
   "metadata": {},
   "outputs": [
    {
     "data": {
      "text/plain": [
       "<AxesSubplot:xlabel='Taxonomy', ylabel='Abundance_perc'>"
      ]
     },
     "execution_count": 41,
     "metadata": {},
     "output_type": "execute_result"
    },
    {
     "data": {
      "image/png": "[encoded data removed]",
      "text/plain": [
       "<Figure size 1008x432 with 1 Axes>"
      ]
     },
     "metadata": {},
     "output_type": "display_data"
    }
   ],
   "source": [
    "plt.figure(figsize=(14, 6))\n",
    "sb.barplot(y =df1.Abundance_perc, x = df1.Taxonomy, data = df1)"
   ]
  },
  {
   "cell_type": "code",
   "execution_count": 42,
   "metadata": {},
   "outputs": [
    {
     "data": {
      "text/plain": [
       "Text(0.5, 1.0, 'Abundance of Major Taxonomic Groups in the Sample')"
      ]
     },
     "execution_count": 42,
     "metadata": {},
     "output_type": "execute_result"
    },
    {
     "data": {
      "image/png": "[encoded data removed]",
      "text/plain": [
       "<Figure size 576x576 with 1 Axes>"
      ]
     },
     "metadata": {},
     "output_type": "display_data"
    }
   ],
   "source": [
    "plt.figure(figsize=(8, 8))\n",
    "abundances = df1.Abundance_perc\n",
    "taxonomy = df1.Taxonomy\n",
    "plt.pie(abundances, labels=taxonomy, autopct='%0.0f%%', radius=1)\n",
    "plt.title(\"Abundance of Major Taxonomic Groups in the Sample\")"
   ]
  },
  {
   "cell_type": "code",
   "execution_count": null,
   "metadata": {
    "collapsed": true
   },
   "outputs": [],
   "source": []
  },
  {
   "cell_type": "code",
   "execution_count": null,
   "metadata": {
    "collapsed": true
   },
   "outputs": [],
   "source": []
  }
 ],
 "metadata": {
  "kernelspec": {
   "display_name": "Python 3",
   "language": "python",
   "name": "python3"
  },
  "language_info": {
   "codemirror_mode": {
    "name": "ipython",
    "version": 3
   },
   "file_extension": ".py",
   "mimetype": "text/x-python",
   "name": "python",
   "nbconvert_exporter": "python",
   "pygments_lexer": "ipython3",
   "version": "3.6.0"
  }
 },
 "nbformat": 4,
 "nbformat_minor": 2
}
