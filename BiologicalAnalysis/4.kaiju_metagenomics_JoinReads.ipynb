{
 "cells": [
  {
   "cell_type": "code",
   "execution_count": 1,
   "metadata": {
    "collapsed": true
   },
   "outputs": [],
   "source": [
    "import pandas as pd"
   ]
  },
  {
   "cell_type": "markdown",
   "metadata": {},
   "source": [
    "### Open and check the dataframes"
   ]
  },
  {
   "cell_type": "code",
   "execution_count": 2,
   "metadata": {
    "collapsed": true
   },
   "outputs": [],
   "source": [
    "df1 = pd.read_csv('../3.csv_raw/A3R1_kaiju.taxonpaths_copy.csv', header = None)\n",
    "df2 = pd.read_csv('../3.csv_raw/A3R2_kaiju.taxonpaths_copy.csv', header = None)"
   ]
  },
  {
   "cell_type": "code",
   "execution_count": 3,
   "metadata": {},
   "outputs": [
    {
     "data": {
      "text/html": [
       "<div>\n",
       "<style scoped>\n",
       "    .dataframe tbody tr th:only-of-type {\n",
       "        vertical-align: middle;\n",
       "    }\n",
       "\n",
       "    .dataframe tbody tr th {\n",
       "        vertical-align: top;\n",
       "    }\n",
       "\n",
       "    .dataframe thead th {\n",
       "        text-align: right;\n",
       "    }\n",
       "</style>\n",
       "<table border=\"1\" class=\"dataframe\">\n",
       "  <thead>\n",
       "    <tr style=\"text-align: right;\">\n",
       "      <th></th>\n",
       "      <th>0</th>\n",
       "    </tr>\n",
       "  </thead>\n",
       "  <tbody>\n",
       "    <tr>\n",
       "      <th>0</th>\n",
       "      <td>494478\\troot\\tcellular organisms\\tBacteria</td>\n",
       "    </tr>\n",
       "    <tr>\n",
       "      <th>1</th>\n",
       "      <td>469952\\troot\\tcellular organisms\\tBacteria\\tAc...</td>\n",
       "    </tr>\n",
       "  </tbody>\n",
       "</table>\n",
       "</div>"
      ],
      "text/plain": [
       "                                                   0\n",
       "0         494478\\troot\\tcellular organisms\\tBacteria\n",
       "1  469952\\troot\\tcellular organisms\\tBacteria\\tAc..."
      ]
     },
     "execution_count": 3,
     "metadata": {},
     "output_type": "execute_result"
    }
   ],
   "source": [
    "df1.head(2)"
   ]
  },
  {
   "cell_type": "code",
   "execution_count": 4,
   "metadata": {
    "collapsed": true
   },
   "outputs": [],
   "source": [
    "df1.columns = ['a']\n",
    "df2.columns = ['a']"
   ]
  },
  {
   "cell_type": "code",
   "execution_count": 5,
   "metadata": {},
   "outputs": [
    {
     "data": {
      "text/html": [
       "<div>\n",
       "<style scoped>\n",
       "    .dataframe tbody tr th:only-of-type {\n",
       "        vertical-align: middle;\n",
       "    }\n",
       "\n",
       "    .dataframe tbody tr th {\n",
       "        vertical-align: top;\n",
       "    }\n",
       "\n",
       "    .dataframe thead th {\n",
       "        text-align: right;\n",
       "    }\n",
       "</style>\n",
       "<table border=\"1\" class=\"dataframe\">\n",
       "  <thead>\n",
       "    <tr style=\"text-align: right;\">\n",
       "      <th></th>\n",
       "      <th>a</th>\n",
       "    </tr>\n",
       "  </thead>\n",
       "  <tbody>\n",
       "    <tr>\n",
       "      <th>0</th>\n",
       "      <td>494478\\troot\\tcellular organisms\\tBacteria</td>\n",
       "    </tr>\n",
       "    <tr>\n",
       "      <th>1</th>\n",
       "      <td>469952\\troot\\tcellular organisms\\tBacteria\\tAc...</td>\n",
       "    </tr>\n",
       "  </tbody>\n",
       "</table>\n",
       "</div>"
      ],
      "text/plain": [
       "                                                   a\n",
       "0         494478\\troot\\tcellular organisms\\tBacteria\n",
       "1  469952\\troot\\tcellular organisms\\tBacteria\\tAc..."
      ]
     },
     "execution_count": 5,
     "metadata": {},
     "output_type": "execute_result"
    }
   ],
   "source": [
    "df1.head(2)"
   ]
  },
  {
   "cell_type": "code",
   "execution_count": 6,
   "metadata": {
    "collapsed": true
   },
   "outputs": [],
   "source": [
    "df1['Taxa'] = df1['a'].str.extract('(\\D+)')\n",
    "df1['R1_Abundance'] = df1['a'].str.extract('(\\d+)')\n",
    "\n",
    "df2['Taxa'] = df2['a'].str.extract('(\\D+)')\n",
    "df2['R2_Abundance'] = df2['a'].str.extract('(\\d+)')"
   ]
  },
  {
   "cell_type": "code",
   "execution_count": 7,
   "metadata": {},
   "outputs": [
    {
     "data": {
      "text/html": [
       "<div>\n",
       "<style scoped>\n",
       "    .dataframe tbody tr th:only-of-type {\n",
       "        vertical-align: middle;\n",
       "    }\n",
       "\n",
       "    .dataframe tbody tr th {\n",
       "        vertical-align: top;\n",
       "    }\n",
       "\n",
       "    .dataframe thead th {\n",
       "        text-align: right;\n",
       "    }\n",
       "</style>\n",
       "<table border=\"1\" class=\"dataframe\">\n",
       "  <thead>\n",
       "    <tr style=\"text-align: right;\">\n",
       "      <th></th>\n",
       "      <th>Taxa</th>\n",
       "      <th>R1_Abundance</th>\n",
       "    </tr>\n",
       "  </thead>\n",
       "  <tbody>\n",
       "    <tr>\n",
       "      <th>0</th>\n",
       "      <td>\\troot\\tcellular organisms\\tBacteria</td>\n",
       "      <td>494478</td>\n",
       "    </tr>\n",
       "    <tr>\n",
       "      <th>1</th>\n",
       "      <td>\\troot\\tcellular organisms\\tBacteria\\tAcidobac...</td>\n",
       "      <td>469952</td>\n",
       "    </tr>\n",
       "  </tbody>\n",
       "</table>\n",
       "</div>"
      ],
      "text/plain": [
       "                                                Taxa R1_Abundance\n",
       "0               \\troot\\tcellular organisms\\tBacteria       494478\n",
       "1  \\troot\\tcellular organisms\\tBacteria\\tAcidobac...       469952"
      ]
     },
     "execution_count": 7,
     "metadata": {},
     "output_type": "execute_result"
    }
   ],
   "source": [
    "df1 = df1.drop(['a'], axis=1)\n",
    "df2 = df2.drop(['a'], axis=1)\n",
    "\n",
    "df1.head(2)"
   ]
  },
  {
   "cell_type": "code",
   "execution_count": 8,
   "metadata": {},
   "outputs": [
    {
     "name": "stdout",
     "output_type": "stream",
     "text": [
      "df1 shape:  (31501, 2) \n",
      " df2 shape:  (31678, 2)\n"
     ]
    }
   ],
   "source": [
    "print('df1 shape: ',df1.shape,'\\n','df2 shape: ',df2.shape)"
   ]
  },
  {
   "cell_type": "markdown",
   "metadata": {},
   "source": [
    "### Merge the dataframes and save"
   ]
  },
  {
   "cell_type": "code",
   "execution_count": 9,
   "metadata": {
    "collapsed": true
   },
   "outputs": [],
   "source": [
    "# https://pandas.pydata.org/pandas-docs/stable/user_guide/merging.html\n",
    "# https://www.geeksforgeeks.org/how-to-join-pandas-dataframes-using-merge/\n",
    "# https://stackoverflow.com/questions/43537370/pandas-join-two-dataframes-on-semi-overlapping-column"
   ]
  },
  {
   "cell_type": "code",
   "execution_count": 10,
   "metadata": {
    "collapsed": true
   },
   "outputs": [],
   "source": [
    "r1r2 = pd.merge(df1, df2, how ='outer', on ='Taxa')"
   ]
  },
  {
   "cell_type": "code",
   "execution_count": 11,
   "metadata": {},
   "outputs": [],
   "source": [
    "\"\"\"SAVE THE NEW DF, CHANGE THE FILE NAME\"\"\"\n",
    "r1r2.to_csv('../5.JoinedReads/A3r1r2_MergedOuter_TaxaOneCol.csv',index = False)"
   ]
  },
  {
   "cell_type": "markdown",
   "metadata": {
    "collapsed": true
   },
   "source": [
    "### Split the taxa column into separate columns for further processing (e.g. filtering):"
   ]
  },
  {
   "cell_type": "code",
   "execution_count": 12,
   "metadata": {},
   "outputs": [
    {
     "data": {
      "text/html": [
       "<div>\n",
       "<style scoped>\n",
       "    .dataframe tbody tr th:only-of-type {\n",
       "        vertical-align: middle;\n",
       "    }\n",
       "\n",
       "    .dataframe tbody tr th {\n",
       "        vertical-align: top;\n",
       "    }\n",
       "\n",
       "    .dataframe thead th {\n",
       "        text-align: right;\n",
       "    }\n",
       "</style>\n",
       "<table border=\"1\" class=\"dataframe\">\n",
       "  <thead>\n",
       "    <tr style=\"text-align: right;\">\n",
       "      <th></th>\n",
       "      <th>Taxa</th>\n",
       "      <th>R1_Abundance</th>\n",
       "      <th>R2_Abundance</th>\n",
       "    </tr>\n",
       "  </thead>\n",
       "  <tbody>\n",
       "    <tr>\n",
       "      <th>0</th>\n",
       "      <td>\\troot\\tcellular organisms\\tBacteria</td>\n",
       "      <td>494478.0</td>\n",
       "      <td>489467.0</td>\n",
       "    </tr>\n",
       "    <tr>\n",
       "      <th>1</th>\n",
       "      <td>\\troot\\tcellular organisms\\tBacteria\\tAcidobac...</td>\n",
       "      <td>469952.0</td>\n",
       "      <td>443018.0</td>\n",
       "    </tr>\n",
       "  </tbody>\n",
       "</table>\n",
       "</div>"
      ],
      "text/plain": [
       "                                                Taxa  R1_Abundance  \\\n",
       "0               \\troot\\tcellular organisms\\tBacteria      494478.0   \n",
       "1  \\troot\\tcellular organisms\\tBacteria\\tAcidobac...      469952.0   \n",
       "\n",
       "   R2_Abundance  \n",
       "0      489467.0  \n",
       "1      443018.0  "
      ]
     },
     "execution_count": 12,
     "metadata": {},
     "output_type": "execute_result"
    }
   ],
   "source": [
    "# Load the dataframe\n",
    "r1r2 = pd.read_csv('../5.JoinedReads/A3r1r2_MergedOuter_TaxaOneCol.csv')\n",
    "r1r2.head(2)"
   ]
  },
  {
   "cell_type": "code",
   "execution_count": 13,
   "metadata": {},
   "outputs": [
    {
     "name": "stdout",
     "output_type": "stream",
     "text": [
      "['Taxa', 'R1_Abundance', 'R2_Abundance']\n"
     ]
    }
   ],
   "source": [
    "print(r1r2.columns.values.tolist())"
   ]
  },
  {
   "cell_type": "code",
   "execution_count": 14,
   "metadata": {
    "collapsed": true
   },
   "outputs": [],
   "source": [
    "#print(list(string.ascii_lowercase))"
   ]
  },
  {
   "cell_type": "code",
   "execution_count": 15,
   "metadata": {
    "collapsed": true
   },
   "outputs": [],
   "source": [
    "cols = ['a', 'b', 'c', 'd', 'e', 'f', 'g', 'h', 'i', 'j', 'k', 'l', 'm', 'n', 'o', 'p', 'q', 'r', 's', 't', 'u', 'v']\n",
    "new_cols = r1r2.Taxa.str.split('\\t', expand = True)\n",
    "for i, j in enumerate(cols):\n",
    "    r1r2[j] = new_cols[i]\n",
    "#Check: https://stackoverflow.com/questions/43330815/how-to-breaking-up-a-string-into-columns-in-pandas"
   ]
  },
  {
   "cell_type": "code",
   "execution_count": 16,
   "metadata": {},
   "outputs": [
    {
     "data": {
      "text/html": [
       "<div>\n",
       "<style scoped>\n",
       "    .dataframe tbody tr th:only-of-type {\n",
       "        vertical-align: middle;\n",
       "    }\n",
       "\n",
       "    .dataframe tbody tr th {\n",
       "        vertical-align: top;\n",
       "    }\n",
       "\n",
       "    .dataframe thead th {\n",
       "        text-align: right;\n",
       "    }\n",
       "</style>\n",
       "<table border=\"1\" class=\"dataframe\">\n",
       "  <thead>\n",
       "    <tr style=\"text-align: right;\">\n",
       "      <th></th>\n",
       "      <th>Taxa</th>\n",
       "      <th>R1_Abundance</th>\n",
       "      <th>R2_Abundance</th>\n",
       "      <th>a</th>\n",
       "      <th>b</th>\n",
       "      <th>c</th>\n",
       "      <th>d</th>\n",
       "      <th>e</th>\n",
       "      <th>f</th>\n",
       "      <th>g</th>\n",
       "      <th>...</th>\n",
       "      <th>m</th>\n",
       "      <th>n</th>\n",
       "      <th>o</th>\n",
       "      <th>p</th>\n",
       "      <th>q</th>\n",
       "      <th>r</th>\n",
       "      <th>s</th>\n",
       "      <th>t</th>\n",
       "      <th>u</th>\n",
       "      <th>v</th>\n",
       "    </tr>\n",
       "  </thead>\n",
       "  <tbody>\n",
       "    <tr>\n",
       "      <th>0</th>\n",
       "      <td>\\troot\\tcellular organisms\\tBacteria</td>\n",
       "      <td>494478.0</td>\n",
       "      <td>489467.0</td>\n",
       "      <td></td>\n",
       "      <td>root</td>\n",
       "      <td>cellular organisms</td>\n",
       "      <td>Bacteria</td>\n",
       "      <td>None</td>\n",
       "      <td>None</td>\n",
       "      <td>None</td>\n",
       "      <td>...</td>\n",
       "      <td>None</td>\n",
       "      <td>None</td>\n",
       "      <td>None</td>\n",
       "      <td>None</td>\n",
       "      <td>None</td>\n",
       "      <td>None</td>\n",
       "      <td>None</td>\n",
       "      <td>None</td>\n",
       "      <td>None</td>\n",
       "      <td>None</td>\n",
       "    </tr>\n",
       "    <tr>\n",
       "      <th>1</th>\n",
       "      <td>\\troot\\tcellular organisms\\tBacteria\\tAcidobac...</td>\n",
       "      <td>469952.0</td>\n",
       "      <td>443018.0</td>\n",
       "      <td></td>\n",
       "      <td>root</td>\n",
       "      <td>cellular organisms</td>\n",
       "      <td>Bacteria</td>\n",
       "      <td>Acidobacteria</td>\n",
       "      <td>Solibacteres</td>\n",
       "      <td>Solibacterales</td>\n",
       "      <td>...</td>\n",
       "      <td>None</td>\n",
       "      <td>None</td>\n",
       "      <td>None</td>\n",
       "      <td>None</td>\n",
       "      <td>None</td>\n",
       "      <td>None</td>\n",
       "      <td>None</td>\n",
       "      <td>None</td>\n",
       "      <td>None</td>\n",
       "      <td>None</td>\n",
       "    </tr>\n",
       "  </tbody>\n",
       "</table>\n",
       "<p>2 rows × 25 columns</p>\n",
       "</div>"
      ],
      "text/plain": [
       "                                                Taxa  R1_Abundance  \\\n",
       "0               \\troot\\tcellular organisms\\tBacteria      494478.0   \n",
       "1  \\troot\\tcellular organisms\\tBacteria\\tAcidobac...      469952.0   \n",
       "\n",
       "   R2_Abundance a     b                   c         d              e  \\\n",
       "0      489467.0    root  cellular organisms  Bacteria           None   \n",
       "1      443018.0    root  cellular organisms  Bacteria  Acidobacteria   \n",
       "\n",
       "              f               g  ...     m     n     o     p     q     r  \\\n",
       "0          None            None  ...  None  None  None  None  None  None   \n",
       "1  Solibacteres  Solibacterales  ...  None  None  None  None  None  None   \n",
       "\n",
       "      s     t     u     v  \n",
       "0  None  None  None  None  \n",
       "1  None  None  None  None  \n",
       "\n",
       "[2 rows x 25 columns]"
      ]
     },
     "execution_count": 16,
     "metadata": {},
     "output_type": "execute_result"
    }
   ],
   "source": [
    "r1r2.head(2)"
   ]
  },
  {
   "cell_type": "code",
   "execution_count": 17,
   "metadata": {
    "collapsed": true
   },
   "outputs": [],
   "source": [
    "del r1r2['Taxa']"
   ]
  },
  {
   "cell_type": "code",
   "execution_count": 18,
   "metadata": {},
   "outputs": [
    {
     "name": "stdout",
     "output_type": "stream",
     "text": [
      "['R1_Abundance', 'R2_Abundance', 'a', 'b', 'c', 'd', 'e', 'f', 'g', 'h', 'i', 'j', 'k', 'l', 'm', 'n', 'o', 'p', 'q', 'r', 's', 't', 'u', 'v']\n"
     ]
    }
   ],
   "source": [
    "print(r1r2.columns.values.tolist())"
   ]
  },
  {
   "cell_type": "code",
   "execution_count": 19,
   "metadata": {},
   "outputs": [
    {
     "data": {
      "text/html": [
       "<div>\n",
       "<style scoped>\n",
       "    .dataframe tbody tr th:only-of-type {\n",
       "        vertical-align: middle;\n",
       "    }\n",
       "\n",
       "    .dataframe tbody tr th {\n",
       "        vertical-align: top;\n",
       "    }\n",
       "\n",
       "    .dataframe thead th {\n",
       "        text-align: right;\n",
       "    }\n",
       "</style>\n",
       "<table border=\"1\" class=\"dataframe\">\n",
       "  <thead>\n",
       "    <tr style=\"text-align: right;\">\n",
       "      <th></th>\n",
       "      <th>a</th>\n",
       "      <th>b</th>\n",
       "      <th>c</th>\n",
       "      <th>d</th>\n",
       "      <th>e</th>\n",
       "      <th>f</th>\n",
       "      <th>g</th>\n",
       "      <th>h</th>\n",
       "      <th>i</th>\n",
       "      <th>j</th>\n",
       "      <th>...</th>\n",
       "      <th>o</th>\n",
       "      <th>p</th>\n",
       "      <th>q</th>\n",
       "      <th>r</th>\n",
       "      <th>s</th>\n",
       "      <th>t</th>\n",
       "      <th>u</th>\n",
       "      <th>v</th>\n",
       "      <th>R1_Abundance</th>\n",
       "      <th>R2_Abundance</th>\n",
       "    </tr>\n",
       "  </thead>\n",
       "  <tbody>\n",
       "    <tr>\n",
       "      <th>0</th>\n",
       "      <td></td>\n",
       "      <td>root</td>\n",
       "      <td>cellular organisms</td>\n",
       "      <td>Bacteria</td>\n",
       "      <td>None</td>\n",
       "      <td>None</td>\n",
       "      <td>None</td>\n",
       "      <td>None</td>\n",
       "      <td>None</td>\n",
       "      <td>None</td>\n",
       "      <td>...</td>\n",
       "      <td>None</td>\n",
       "      <td>None</td>\n",
       "      <td>None</td>\n",
       "      <td>None</td>\n",
       "      <td>None</td>\n",
       "      <td>None</td>\n",
       "      <td>None</td>\n",
       "      <td>None</td>\n",
       "      <td>494478.0</td>\n",
       "      <td>489467.0</td>\n",
       "    </tr>\n",
       "    <tr>\n",
       "      <th>1</th>\n",
       "      <td></td>\n",
       "      <td>root</td>\n",
       "      <td>cellular organisms</td>\n",
       "      <td>Bacteria</td>\n",
       "      <td>Acidobacteria</td>\n",
       "      <td>Solibacteres</td>\n",
       "      <td>Solibacterales</td>\n",
       "      <td>Solibacteraceae</td>\n",
       "      <td>Candidatus Solibacter</td>\n",
       "      <td>Candidatus Solibacter usitatus</td>\n",
       "      <td>...</td>\n",
       "      <td>None</td>\n",
       "      <td>None</td>\n",
       "      <td>None</td>\n",
       "      <td>None</td>\n",
       "      <td>None</td>\n",
       "      <td>None</td>\n",
       "      <td>None</td>\n",
       "      <td>None</td>\n",
       "      <td>469952.0</td>\n",
       "      <td>443018.0</td>\n",
       "    </tr>\n",
       "  </tbody>\n",
       "</table>\n",
       "<p>2 rows × 24 columns</p>\n",
       "</div>"
      ],
      "text/plain": [
       "  a     b                   c         d              e             f  \\\n",
       "0    root  cellular organisms  Bacteria           None          None   \n",
       "1    root  cellular organisms  Bacteria  Acidobacteria  Solibacteres   \n",
       "\n",
       "                g                h                      i  \\\n",
       "0            None             None                   None   \n",
       "1  Solibacterales  Solibacteraceae  Candidatus Solibacter   \n",
       "\n",
       "                                j  ...     o     p     q     r     s     t  \\\n",
       "0                            None  ...  None  None  None  None  None  None   \n",
       "1  Candidatus Solibacter usitatus  ...  None  None  None  None  None  None   \n",
       "\n",
       "      u     v R1_Abundance R2_Abundance  \n",
       "0  None  None     494478.0     489467.0  \n",
       "1  None  None     469952.0     443018.0  \n",
       "\n",
       "[2 rows x 24 columns]"
      ]
     },
     "execution_count": 19,
     "metadata": {},
     "output_type": "execute_result"
    }
   ],
   "source": [
    "#Change the column order\n",
    "r1r2 = r1r2[['a', 'b', 'c', 'd', 'e', 'f', 'g', 'h', 'i', 'j', 'k', 'l', 'm', 'n', 'o', 'p', 'q', 'r', 's', 't', 'u', 'v','R1_Abundance', 'R2_Abundance']]\n",
    "r1r2.head(2)"
   ]
  },
  {
   "cell_type": "code",
   "execution_count": 20,
   "metadata": {},
   "outputs": [
    {
     "name": "stdout",
     "output_type": "stream",
     "text": [
      "[dtype('O'), dtype('O'), dtype('O'), dtype('O'), dtype('O'), dtype('O'), dtype('O'), dtype('O'), dtype('O'), dtype('O'), dtype('O'), dtype('O'), dtype('O'), dtype('O'), dtype('O'), dtype('O'), dtype('O'), dtype('O'), dtype('O'), dtype('O'), dtype('O'), dtype('O'), dtype('float64'), dtype('float64')]\n"
     ]
    }
   ],
   "source": [
    "print(list(r1r2.dtypes))"
   ]
  },
  {
   "cell_type": "code",
   "execution_count": 21,
   "metadata": {
    "collapsed": true
   },
   "outputs": [],
   "source": [
    "\"\"\"SAVE THE NEW DF, CHANGE THE FILE NAME\"\"\"\n",
    "r1r2.to_csv('../5.JoinedReads/A3r1r2_MergedOuter_TaxaMultiCol.csv',index = False)"
   ]
  },
  {
   "cell_type": "code",
   "execution_count": 23,
   "metadata": {},
   "outputs": [
    {
     "name": "stderr",
     "output_type": "stream",
     "text": [
      "/usr/local/lib/python3.6/site-packages/IPython/core/interactiveshell.py:2683: DtypeWarning: Columns (0,13,14,15,16,17,18,19,20,21) have mixed types. Specify dtype option on import or set low_memory=False.\n",
      "  interactivity=interactivity, compiler=compiler, result=result)\n"
     ]
    },
    {
     "data": {
      "text/html": [
       "<div>\n",
       "<style scoped>\n",
       "    .dataframe tbody tr th:only-of-type {\n",
       "        vertical-align: middle;\n",
       "    }\n",
       "\n",
       "    .dataframe tbody tr th {\n",
       "        vertical-align: top;\n",
       "    }\n",
       "\n",
       "    .dataframe thead th {\n",
       "        text-align: right;\n",
       "    }\n",
       "</style>\n",
       "<table border=\"1\" class=\"dataframe\">\n",
       "  <thead>\n",
       "    <tr style=\"text-align: right;\">\n",
       "      <th></th>\n",
       "      <th>a</th>\n",
       "      <th>b</th>\n",
       "      <th>c</th>\n",
       "      <th>d</th>\n",
       "      <th>e</th>\n",
       "      <th>f</th>\n",
       "      <th>g</th>\n",
       "      <th>h</th>\n",
       "      <th>i</th>\n",
       "      <th>j</th>\n",
       "      <th>...</th>\n",
       "      <th>o</th>\n",
       "      <th>p</th>\n",
       "      <th>q</th>\n",
       "      <th>r</th>\n",
       "      <th>s</th>\n",
       "      <th>t</th>\n",
       "      <th>u</th>\n",
       "      <th>v</th>\n",
       "      <th>R1_Abundance</th>\n",
       "      <th>R2_Abundance</th>\n",
       "    </tr>\n",
       "  </thead>\n",
       "  <tbody>\n",
       "    <tr>\n",
       "      <th>248800</th>\n",
       "      <td>NaN</td>\n",
       "      <td>root</td>\n",
       "      <td>Viruses</td>\n",
       "      <td>Retro-transcribing viruses</td>\n",
       "      <td>Caulimoviridae</td>\n",
       "      <td>Badnavirus</td>\n",
       "      <td>unclassified Badnavirus</td>\n",
       "      <td>NaN</td>\n",
       "      <td>NaN</td>\n",
       "      <td>NaN</td>\n",
       "      <td>...</td>\n",
       "      <td>NaN</td>\n",
       "      <td>NaN</td>\n",
       "      <td>NaN</td>\n",
       "      <td>NaN</td>\n",
       "      <td>NaN</td>\n",
       "      <td>NaN</td>\n",
       "      <td>NaN</td>\n",
       "      <td>NaN</td>\n",
       "      <td>NaN</td>\n",
       "      <td>1.0</td>\n",
       "    </tr>\n",
       "    <tr>\n",
       "      <th>248801</th>\n",
       "      <td>NaN</td>\n",
       "      <td>root</td>\n",
       "      <td>Viruses</td>\n",
       "      <td>Retro-transcribing viruses</td>\n",
       "      <td>Caulimoviridae</td>\n",
       "      <td>Badnavirus</td>\n",
       "      <td>Canna yellow mottle virus</td>\n",
       "      <td>NaN</td>\n",
       "      <td>NaN</td>\n",
       "      <td>NaN</td>\n",
       "      <td>...</td>\n",
       "      <td>NaN</td>\n",
       "      <td>NaN</td>\n",
       "      <td>NaN</td>\n",
       "      <td>NaN</td>\n",
       "      <td>NaN</td>\n",
       "      <td>NaN</td>\n",
       "      <td>NaN</td>\n",
       "      <td>NaN</td>\n",
       "      <td>NaN</td>\n",
       "      <td>1.0</td>\n",
       "    </tr>\n",
       "    <tr>\n",
       "      <th>248802</th>\n",
       "      <td>NaN</td>\n",
       "      <td>root</td>\n",
       "      <td>Viruses</td>\n",
       "      <td>Retro-transcribing viruses</td>\n",
       "      <td>Caulimoviridae</td>\n",
       "      <td>Badnavirus</td>\n",
       "      <td>Banana streak MY virus</td>\n",
       "      <td>NaN</td>\n",
       "      <td>NaN</td>\n",
       "      <td>NaN</td>\n",
       "      <td>...</td>\n",
       "      <td>NaN</td>\n",
       "      <td>NaN</td>\n",
       "      <td>NaN</td>\n",
       "      <td>NaN</td>\n",
       "      <td>NaN</td>\n",
       "      <td>NaN</td>\n",
       "      <td>NaN</td>\n",
       "      <td>NaN</td>\n",
       "      <td>NaN</td>\n",
       "      <td>1.0</td>\n",
       "    </tr>\n",
       "  </tbody>\n",
       "</table>\n",
       "<p>3 rows × 24 columns</p>\n",
       "</div>"
      ],
      "text/plain": [
       "          a     b        c                           d               e  \\\n",
       "248800  NaN  root  Viruses  Retro-transcribing viruses  Caulimoviridae   \n",
       "248801  NaN  root  Viruses  Retro-transcribing viruses  Caulimoviridae   \n",
       "248802  NaN  root  Viruses  Retro-transcribing viruses  Caulimoviridae   \n",
       "\n",
       "                 f                          g    h    i    j  ...    o    p  \\\n",
       "248800  Badnavirus    unclassified Badnavirus  NaN  NaN  NaN  ...  NaN  NaN   \n",
       "248801  Badnavirus  Canna yellow mottle virus  NaN  NaN  NaN  ...  NaN  NaN   \n",
       "248802  Badnavirus     Banana streak MY virus  NaN  NaN  NaN  ...  NaN  NaN   \n",
       "\n",
       "          q    r    s    t    u    v R1_Abundance R2_Abundance  \n",
       "248800  NaN  NaN  NaN  NaN  NaN  NaN          NaN          1.0  \n",
       "248801  NaN  NaN  NaN  NaN  NaN  NaN          NaN          1.0  \n",
       "248802  NaN  NaN  NaN  NaN  NaN  NaN          NaN          1.0  \n",
       "\n",
       "[3 rows x 24 columns]"
      ]
     },
     "execution_count": 23,
     "metadata": {},
     "output_type": "execute_result"
    }
   ],
   "source": [
    "#Load the dataframe and check it\n",
    "r1r2 = pd.read_csv('../5.JoinedReads/A3r1r2_MergedOuter_TaxaMultiCol.csv')\n",
    "r1r2.tail(3)"
   ]
  },
  {
   "cell_type": "code",
   "execution_count": null,
   "metadata": {
    "collapsed": true
   },
   "outputs": [],
   "source": []
  },
  {
   "cell_type": "code",
   "execution_count": null,
   "metadata": {
    "collapsed": true
   },
   "outputs": [],
   "source": []
  }
 ],
 "metadata": {
  "kernelspec": {
   "display_name": "Python 3",
   "language": "python",
   "name": "python3"
  },
  "language_info": {
   "codemirror_mode": {
    "name": "ipython",
    "version": 3
   },
   "file_extension": ".py",
   "mimetype": "text/x-python",
   "name": "python",
   "nbconvert_exporter": "python",
   "pygments_lexer": "ipython3",
   "version": "3.6.0"
  }
 },
 "nbformat": 4,
 "nbformat_minor": 2
}
