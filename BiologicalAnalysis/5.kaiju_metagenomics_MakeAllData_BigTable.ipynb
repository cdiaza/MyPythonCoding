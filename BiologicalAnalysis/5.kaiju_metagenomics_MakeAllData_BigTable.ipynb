{
 "cells": [
  {
   "cell_type": "code",
   "execution_count": null,
   "metadata": {
    "collapsed": true
   },
   "outputs": [],
   "source": [
    "# This notebook was made with the great help of an advance programming peer"
   ]
  },
  {
   "cell_type": "code",
   "execution_count": 66,
   "metadata": {
    "collapsed": true
   },
   "outputs": [],
   "source": [
    "import pandas as pd\n",
    "import os.path as path\n",
    "import string\n",
    "import numpy as np\n",
    "from pathlib import Path"
   ]
  },
  {
   "cell_type": "code",
   "execution_count": 70,
   "metadata": {},
   "outputs": [
    {
     "data": {
      "text/plain": [
       "'done'"
      ]
     },
     "execution_count": 70,
     "metadata": {},
     "output_type": "execute_result"
    }
   ],
   "source": [
    "# create a dataframe with all the data from all files\n",
    "\n",
    "taxColNames = list(string.ascii_lowercase)[:21]\n",
    "\n",
    "def createEmptyDataFrame(colNames):\n",
    "    cols = ['abundance', 'sampleRead']\n",
    "    cols.extend(colNames)\n",
    "    return pd.DataFrame(columns=cols)\n",
    "\n",
    "def sampleAndReadFromFilename(fn):\n",
    "    basename = path.basename(fn)\n",
    "    return [basename[0:2],basename[2:4]]\n",
    "\n",
    "def readFileIntoDataFrame(fn, df):\n",
    "    [sampleid,readid]= sampleAndReadFromFilename(fn)\n",
    "    with open(fn, 'r') as file:\n",
    "        data = []\n",
    "        for line in file.readlines():\n",
    "            [abundance, tis] = line.strip().split('\\t', 1)\n",
    "            newRow = [int(abundance), sampleid+readid]\n",
    "            newRow.extend(tis.split('\\t'))\n",
    "            data.append(newRow)\n",
    "        return df.append(pd.DataFrame(data, columns = df.columns))\n",
    "\n",
    "def readAllFilesIntoNewDataFrame(dir, colNames):\n",
    "    df = createEmptyDataFrame(colNames)\n",
    "    for fn in Path(dir).glob('*.txt'):\n",
    "        df = readFileIntoDataFrame(str(fn), df)\n",
    "    return df\n",
    "\n",
    "allData = readAllFilesIntoNewDataFrame('../2.txt_files', taxColNames)\n",
    "\n",
    "allData.sampleRead.astype('category')\n",
    "\n",
    "'done'"
   ]
  },
  {
   "cell_type": "code",
   "execution_count": 80,
   "metadata": {},
   "outputs": [
    {
     "data": {
      "text/plain": [
       "'done'"
      ]
     },
     "execution_count": 80,
     "metadata": {},
     "output_type": "execute_result"
    }
   ],
   "source": [
    "def makeTempDFs(allData):\n",
    "    allTempDFs = []\n",
    "    for eachSampleRead in sorted(allData.sampleRead.unique()):\n",
    "        tempDF = allData[allData.sampleRead == eachSampleRead].copy()\n",
    "        tempDF[eachSampleRead] = tempDF.abundance\n",
    "        del tempDF['abundance']\n",
    "        del tempDF['sampleRead']\n",
    "        allTempDFs.append(tempDF)\n",
    "    return allTempDFs\n",
    "\n",
    "def mergeTempDFs(tempDFs, colNames):\n",
    "    mergedDFs = pd.DataFrame(columns=colNames)\n",
    "    for tempDF in tempDFs:\n",
    "        mergedDFs = mergedDFs.merge(tempDF, how=\"outer\", on=colNames)\n",
    "    return mergedDFs\n",
    "\n",
    "results = mergeTempDFs(makeTempDFs(allData), taxColNames)\n",
    "\n",
    "'done'"
   ]
  },
  {
   "cell_type": "code",
   "execution_count": 84,
   "metadata": {
    "collapsed": true
   },
   "outputs": [],
   "source": [
    "results.to_csv('../7.AllDataTogether_BigTable/allDataTogether_MergedOuter.csv',index = False)"
   ]
  },
  {
   "cell_type": "code",
   "execution_count": null,
   "metadata": {
    "collapsed": true
   },
   "outputs": [],
   "source": []
  },
  {
   "cell_type": "code",
   "execution_count": null,
   "metadata": {
    "collapsed": true
   },
   "outputs": [],
   "source": []
  }
 ],
 "metadata": {
  "kernelspec": {
   "display_name": "Python 3",
   "language": "python",
   "name": "python3"
  },
  "language_info": {
   "codemirror_mode": {
    "name": "ipython",
    "version": 3
   },
   "file_extension": ".py",
   "mimetype": "text/x-python",
   "name": "python",
   "nbconvert_exporter": "python",
   "pygments_lexer": "ipython3",
   "version": "3.6.0"
  }
 },
 "nbformat": 4,
 "nbformat_minor": 2
}
