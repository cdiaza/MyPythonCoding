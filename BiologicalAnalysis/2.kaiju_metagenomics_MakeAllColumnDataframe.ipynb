{
 "cells": [
  {
   "cell_type": "code",
   "execution_count": 1,
   "metadata": {
    "collapsed": true
   },
   "outputs": [],
   "source": [
    "import pandas as pd\n",
    "import string"
   ]
  },
  {
   "cell_type": "markdown",
   "metadata": {},
   "source": [
    "#### Split the column and change the name of the new columns"
   ]
  },
  {
   "cell_type": "code",
   "execution_count": 2,
   "metadata": {
    "collapsed": true
   },
   "outputs": [],
   "source": [
    "df = pd.read_csv('../3.csv_raw/C6_megahit_kaiju.taxonpaths_copy.csv', header = None)"
   ]
  },
  {
   "cell_type": "code",
   "execution_count": 3,
   "metadata": {},
   "outputs": [
    {
     "data": {
      "text/html": [
       "<div>\n",
       "<style scoped>\n",
       "    .dataframe tbody tr th:only-of-type {\n",
       "        vertical-align: middle;\n",
       "    }\n",
       "\n",
       "    .dataframe tbody tr th {\n",
       "        vertical-align: top;\n",
       "    }\n",
       "\n",
       "    .dataframe thead th {\n",
       "        text-align: right;\n",
       "    }\n",
       "</style>\n",
       "<table border=\"1\" class=\"dataframe\">\n",
       "  <thead>\n",
       "    <tr style=\"text-align: right;\">\n",
       "      <th></th>\n",
       "      <th>0</th>\n",
       "    </tr>\n",
       "  </thead>\n",
       "  <tbody>\n",
       "    <tr>\n",
       "      <th>0</th>\n",
       "      <td>77315\\troot\\tcellular organisms\\tBacteria\\tAci...</td>\n",
       "    </tr>\n",
       "    <tr>\n",
       "      <th>1</th>\n",
       "      <td>51168\\troot\\tcellular organisms\\tBacteria\\tPVC...</td>\n",
       "    </tr>\n",
       "    <tr>\n",
       "      <th>2</th>\n",
       "      <td>38786\\troot\\tcellular organisms\\tBacteria\\tAci...</td>\n",
       "    </tr>\n",
       "  </tbody>\n",
       "</table>\n",
       "</div>"
      ],
      "text/plain": [
       "                                                   0\n",
       "0  77315\\troot\\tcellular organisms\\tBacteria\\tAci...\n",
       "1  51168\\troot\\tcellular organisms\\tBacteria\\tPVC...\n",
       "2  38786\\troot\\tcellular organisms\\tBacteria\\tAci..."
      ]
     },
     "execution_count": 3,
     "metadata": {},
     "output_type": "execute_result"
    }
   ],
   "source": [
    "df.head(3)"
   ]
  },
  {
   "cell_type": "code",
   "execution_count": 4,
   "metadata": {},
   "outputs": [
    {
     "data": {
      "text/html": [
       "<div>\n",
       "<style scoped>\n",
       "    .dataframe tbody tr th:only-of-type {\n",
       "        vertical-align: middle;\n",
       "    }\n",
       "\n",
       "    .dataframe tbody tr th {\n",
       "        vertical-align: top;\n",
       "    }\n",
       "\n",
       "    .dataframe thead th {\n",
       "        text-align: right;\n",
       "    }\n",
       "</style>\n",
       "<table border=\"1\" class=\"dataframe\">\n",
       "  <thead>\n",
       "    <tr style=\"text-align: right;\">\n",
       "      <th></th>\n",
       "      <th>0</th>\n",
       "      <th>1</th>\n",
       "      <th>2</th>\n",
       "      <th>3</th>\n",
       "      <th>4</th>\n",
       "      <th>5</th>\n",
       "      <th>6</th>\n",
       "      <th>7</th>\n",
       "      <th>8</th>\n",
       "      <th>9</th>\n",
       "      <th>...</th>\n",
       "      <th>12</th>\n",
       "      <th>13</th>\n",
       "      <th>14</th>\n",
       "      <th>15</th>\n",
       "      <th>16</th>\n",
       "      <th>17</th>\n",
       "      <th>18</th>\n",
       "      <th>19</th>\n",
       "      <th>20</th>\n",
       "      <th>21</th>\n",
       "    </tr>\n",
       "  </thead>\n",
       "  <tbody>\n",
       "    <tr>\n",
       "      <th>0</th>\n",
       "      <td>77315</td>\n",
       "      <td>root</td>\n",
       "      <td>cellular organisms</td>\n",
       "      <td>Bacteria</td>\n",
       "      <td>Acidobacteria</td>\n",
       "      <td>Solibacteres</td>\n",
       "      <td>Solibacterales</td>\n",
       "      <td>Solibacteraceae</td>\n",
       "      <td>Candidatus Solibacter</td>\n",
       "      <td>Candidatus Solibacter usitatus</td>\n",
       "      <td>...</td>\n",
       "      <td>None</td>\n",
       "      <td>None</td>\n",
       "      <td>None</td>\n",
       "      <td>None</td>\n",
       "      <td>None</td>\n",
       "      <td>None</td>\n",
       "      <td>None</td>\n",
       "      <td>None</td>\n",
       "      <td>None</td>\n",
       "      <td>None</td>\n",
       "    </tr>\n",
       "    <tr>\n",
       "      <th>1</th>\n",
       "      <td>51168</td>\n",
       "      <td>root</td>\n",
       "      <td>cellular organisms</td>\n",
       "      <td>Bacteria</td>\n",
       "      <td>PVC group</td>\n",
       "      <td>Verrucomicrobia</td>\n",
       "      <td>Verrucomicrobiae</td>\n",
       "      <td>Verrucomicrobiales</td>\n",
       "      <td>Verrucomicrobia subdivision 3</td>\n",
       "      <td>Pedosphaera</td>\n",
       "      <td>...</td>\n",
       "      <td>None</td>\n",
       "      <td>None</td>\n",
       "      <td>None</td>\n",
       "      <td>None</td>\n",
       "      <td>None</td>\n",
       "      <td>None</td>\n",
       "      <td>None</td>\n",
       "      <td>None</td>\n",
       "      <td>None</td>\n",
       "      <td>None</td>\n",
       "    </tr>\n",
       "    <tr>\n",
       "      <th>2</th>\n",
       "      <td>38786</td>\n",
       "      <td>root</td>\n",
       "      <td>cellular organisms</td>\n",
       "      <td>Bacteria</td>\n",
       "      <td>Acidobacteria</td>\n",
       "      <td>Acidobacteriia</td>\n",
       "      <td>Acidobacteriales</td>\n",
       "      <td>Acidobacteriaceae</td>\n",
       "      <td>unclassified Acidobacteriaceae</td>\n",
       "      <td>Acidobacteriaceae bacterium URHE0068</td>\n",
       "      <td>...</td>\n",
       "      <td>None</td>\n",
       "      <td>None</td>\n",
       "      <td>None</td>\n",
       "      <td>None</td>\n",
       "      <td>None</td>\n",
       "      <td>None</td>\n",
       "      <td>None</td>\n",
       "      <td>None</td>\n",
       "      <td>None</td>\n",
       "      <td>None</td>\n",
       "    </tr>\n",
       "  </tbody>\n",
       "</table>\n",
       "<p>3 rows × 22 columns</p>\n",
       "</div>"
      ],
      "text/plain": [
       "      0     1                   2         3              4                5   \\\n",
       "0  77315  root  cellular organisms  Bacteria  Acidobacteria     Solibacteres   \n",
       "1  51168  root  cellular organisms  Bacteria      PVC group  Verrucomicrobia   \n",
       "2  38786  root  cellular organisms  Bacteria  Acidobacteria   Acidobacteriia   \n",
       "\n",
       "                 6                   7                               8   \\\n",
       "0    Solibacterales     Solibacteraceae           Candidatus Solibacter   \n",
       "1  Verrucomicrobiae  Verrucomicrobiales   Verrucomicrobia subdivision 3   \n",
       "2  Acidobacteriales   Acidobacteriaceae  unclassified Acidobacteriaceae   \n",
       "\n",
       "                                     9   ...    12    13    14    15    16  \\\n",
       "0        Candidatus Solibacter usitatus  ...  None  None  None  None  None   \n",
       "1                           Pedosphaera  ...  None  None  None  None  None   \n",
       "2  Acidobacteriaceae bacterium URHE0068  ...  None  None  None  None  None   \n",
       "\n",
       "     17    18    19    20    21  \n",
       "0  None  None  None  None  None  \n",
       "1  None  None  None  None  None  \n",
       "2  None  None  None  None  None  \n",
       "\n",
       "[3 rows x 22 columns]"
      ]
     },
     "execution_count": 4,
     "metadata": {},
     "output_type": "execute_result"
    }
   ],
   "source": [
    "df = df[0].str.split('\\t', expand=True)\n",
    "df.head(3)"
   ]
  },
  {
   "cell_type": "code",
   "execution_count": 5,
   "metadata": {},
   "outputs": [
    {
     "data": {
      "text/plain": [
       "[0, 1, 2, 3, 4, 5, 6, 7, 8, 9, 10, 11, 12, 13, 14, 15, 16, 17, 18, 19, 20, 21]"
      ]
     },
     "execution_count": 5,
     "metadata": {},
     "output_type": "execute_result"
    }
   ],
   "source": [
    "labels = df.columns.values.tolist()\n",
    "labels"
   ]
  },
  {
   "cell_type": "code",
   "execution_count": 6,
   "metadata": {},
   "outputs": [
    {
     "name": "stdout",
     "output_type": "stream",
     "text": [
      "['a', 'b', 'c', 'd', 'e', 'f', 'g', 'h', 'i', 'j', 'k', 'l', 'm', 'n', 'o', 'p', 'q', 'r', 's', 't', 'u', 'v', 'w', 'x', 'y', 'z']\n"
     ]
    }
   ],
   "source": [
    "print(list(string.ascii_lowercase))"
   ]
  },
  {
   "cell_type": "code",
   "execution_count": 7,
   "metadata": {},
   "outputs": [
    {
     "data": {
      "text/html": [
       "<div>\n",
       "<style scoped>\n",
       "    .dataframe tbody tr th:only-of-type {\n",
       "        vertical-align: middle;\n",
       "    }\n",
       "\n",
       "    .dataframe tbody tr th {\n",
       "        vertical-align: top;\n",
       "    }\n",
       "\n",
       "    .dataframe thead th {\n",
       "        text-align: right;\n",
       "    }\n",
       "</style>\n",
       "<table border=\"1\" class=\"dataframe\">\n",
       "  <thead>\n",
       "    <tr style=\"text-align: right;\">\n",
       "      <th></th>\n",
       "      <th>a</th>\n",
       "      <th>b</th>\n",
       "      <th>c</th>\n",
       "      <th>d</th>\n",
       "      <th>e</th>\n",
       "      <th>f</th>\n",
       "      <th>g</th>\n",
       "      <th>h</th>\n",
       "      <th>i</th>\n",
       "      <th>j</th>\n",
       "      <th>...</th>\n",
       "      <th>m</th>\n",
       "      <th>n</th>\n",
       "      <th>o</th>\n",
       "      <th>p</th>\n",
       "      <th>q</th>\n",
       "      <th>r</th>\n",
       "      <th>s</th>\n",
       "      <th>t</th>\n",
       "      <th>u</th>\n",
       "      <th>v</th>\n",
       "    </tr>\n",
       "  </thead>\n",
       "  <tbody>\n",
       "    <tr>\n",
       "      <th>0</th>\n",
       "      <td>77315</td>\n",
       "      <td>root</td>\n",
       "      <td>cellular organisms</td>\n",
       "      <td>Bacteria</td>\n",
       "      <td>Acidobacteria</td>\n",
       "      <td>Solibacteres</td>\n",
       "      <td>Solibacterales</td>\n",
       "      <td>Solibacteraceae</td>\n",
       "      <td>Candidatus Solibacter</td>\n",
       "      <td>Candidatus Solibacter usitatus</td>\n",
       "      <td>...</td>\n",
       "      <td>None</td>\n",
       "      <td>None</td>\n",
       "      <td>None</td>\n",
       "      <td>None</td>\n",
       "      <td>None</td>\n",
       "      <td>None</td>\n",
       "      <td>None</td>\n",
       "      <td>None</td>\n",
       "      <td>None</td>\n",
       "      <td>None</td>\n",
       "    </tr>\n",
       "    <tr>\n",
       "      <th>1</th>\n",
       "      <td>51168</td>\n",
       "      <td>root</td>\n",
       "      <td>cellular organisms</td>\n",
       "      <td>Bacteria</td>\n",
       "      <td>PVC group</td>\n",
       "      <td>Verrucomicrobia</td>\n",
       "      <td>Verrucomicrobiae</td>\n",
       "      <td>Verrucomicrobiales</td>\n",
       "      <td>Verrucomicrobia subdivision 3</td>\n",
       "      <td>Pedosphaera</td>\n",
       "      <td>...</td>\n",
       "      <td>None</td>\n",
       "      <td>None</td>\n",
       "      <td>None</td>\n",
       "      <td>None</td>\n",
       "      <td>None</td>\n",
       "      <td>None</td>\n",
       "      <td>None</td>\n",
       "      <td>None</td>\n",
       "      <td>None</td>\n",
       "      <td>None</td>\n",
       "    </tr>\n",
       "    <tr>\n",
       "      <th>2</th>\n",
       "      <td>38786</td>\n",
       "      <td>root</td>\n",
       "      <td>cellular organisms</td>\n",
       "      <td>Bacteria</td>\n",
       "      <td>Acidobacteria</td>\n",
       "      <td>Acidobacteriia</td>\n",
       "      <td>Acidobacteriales</td>\n",
       "      <td>Acidobacteriaceae</td>\n",
       "      <td>unclassified Acidobacteriaceae</td>\n",
       "      <td>Acidobacteriaceae bacterium URHE0068</td>\n",
       "      <td>...</td>\n",
       "      <td>None</td>\n",
       "      <td>None</td>\n",
       "      <td>None</td>\n",
       "      <td>None</td>\n",
       "      <td>None</td>\n",
       "      <td>None</td>\n",
       "      <td>None</td>\n",
       "      <td>None</td>\n",
       "      <td>None</td>\n",
       "      <td>None</td>\n",
       "    </tr>\n",
       "  </tbody>\n",
       "</table>\n",
       "<p>3 rows × 22 columns</p>\n",
       "</div>"
      ],
      "text/plain": [
       "       a     b                   c         d              e                f  \\\n",
       "0  77315  root  cellular organisms  Bacteria  Acidobacteria     Solibacteres   \n",
       "1  51168  root  cellular organisms  Bacteria      PVC group  Verrucomicrobia   \n",
       "2  38786  root  cellular organisms  Bacteria  Acidobacteria   Acidobacteriia   \n",
       "\n",
       "                  g                   h                               i  \\\n",
       "0    Solibacterales     Solibacteraceae           Candidatus Solibacter   \n",
       "1  Verrucomicrobiae  Verrucomicrobiales   Verrucomicrobia subdivision 3   \n",
       "2  Acidobacteriales   Acidobacteriaceae  unclassified Acidobacteriaceae   \n",
       "\n",
       "                                      j  ...     m     n     o     p     q  \\\n",
       "0        Candidatus Solibacter usitatus  ...  None  None  None  None  None   \n",
       "1                           Pedosphaera  ...  None  None  None  None  None   \n",
       "2  Acidobacteriaceae bacterium URHE0068  ...  None  None  None  None  None   \n",
       "\n",
       "      r     s     t     u     v  \n",
       "0  None  None  None  None  None  \n",
       "1  None  None  None  None  None  \n",
       "2  None  None  None  None  None  \n",
       "\n",
       "[3 rows x 22 columns]"
      ]
     },
     "execution_count": 7,
     "metadata": {},
     "output_type": "execute_result"
    }
   ],
   "source": [
    "df.columns = ['a', 'b', 'c', 'd', 'e', 'f', 'g', 'h', 'i', 'j', 'k','l', 'm', 'n', 'o', 'p', 'q', 'r', 's', 't', 'u', 'v']\n",
    "df.head(3)"
   ]
  },
  {
   "cell_type": "code",
   "execution_count": 8,
   "metadata": {},
   "outputs": [
    {
     "data": {
      "text/plain": [
       "(20644, 22)"
      ]
     },
     "execution_count": 8,
     "metadata": {},
     "output_type": "execute_result"
    }
   ],
   "source": [
    "df.shape"
   ]
  },
  {
   "cell_type": "markdown",
   "metadata": {},
   "source": [
    "### Save the modified dataframe into a new csv file"
   ]
  },
  {
   "cell_type": "code",
   "execution_count": 9,
   "metadata": {},
   "outputs": [
    {
     "data": {
      "text/plain": [
       "'Save the generated dataframe into a new csv file, remember to change the file name'"
      ]
     },
     "execution_count": 9,
     "metadata": {},
     "output_type": "execute_result"
    }
   ],
   "source": [
    "\"\"\"Save the generated dataframe into a new csv file, remember to change the file name\"\"\""
   ]
  },
  {
   "cell_type": "code",
   "execution_count": 10,
   "metadata": {
    "collapsed": true
   },
   "outputs": [],
   "source": [
    "df.to_csv('../4.Dataframe_AllColumn/C6_megahit_taxon.csv', index = False)"
   ]
  },
  {
   "cell_type": "code",
   "execution_count": 11,
   "metadata": {
    "collapsed": true
   },
   "outputs": [],
   "source": [
    "# Load the new dataframe and verify it\n",
    "df = pd.read_csv('../4.Dataframe_AllColumn/C6_megahit_taxon.csv')"
   ]
  },
  {
   "cell_type": "code",
   "execution_count": 12,
   "metadata": {},
   "outputs": [
    {
     "data": {
      "text/html": [
       "<div>\n",
       "<style scoped>\n",
       "    .dataframe tbody tr th:only-of-type {\n",
       "        vertical-align: middle;\n",
       "    }\n",
       "\n",
       "    .dataframe tbody tr th {\n",
       "        vertical-align: top;\n",
       "    }\n",
       "\n",
       "    .dataframe thead th {\n",
       "        text-align: right;\n",
       "    }\n",
       "</style>\n",
       "<table border=\"1\" class=\"dataframe\">\n",
       "  <thead>\n",
       "    <tr style=\"text-align: right;\">\n",
       "      <th></th>\n",
       "      <th>a</th>\n",
       "      <th>b</th>\n",
       "      <th>c</th>\n",
       "      <th>d</th>\n",
       "      <th>e</th>\n",
       "      <th>f</th>\n",
       "      <th>g</th>\n",
       "      <th>h</th>\n",
       "      <th>i</th>\n",
       "      <th>j</th>\n",
       "      <th>...</th>\n",
       "      <th>m</th>\n",
       "      <th>n</th>\n",
       "      <th>o</th>\n",
       "      <th>p</th>\n",
       "      <th>q</th>\n",
       "      <th>r</th>\n",
       "      <th>s</th>\n",
       "      <th>t</th>\n",
       "      <th>u</th>\n",
       "      <th>v</th>\n",
       "    </tr>\n",
       "  </thead>\n",
       "  <tbody>\n",
       "    <tr>\n",
       "      <th>0</th>\n",
       "      <td>77315</td>\n",
       "      <td>root</td>\n",
       "      <td>cellular organisms</td>\n",
       "      <td>Bacteria</td>\n",
       "      <td>Acidobacteria</td>\n",
       "      <td>Solibacteres</td>\n",
       "      <td>Solibacterales</td>\n",
       "      <td>Solibacteraceae</td>\n",
       "      <td>Candidatus Solibacter</td>\n",
       "      <td>Candidatus Solibacter usitatus</td>\n",
       "      <td>...</td>\n",
       "      <td>NaN</td>\n",
       "      <td>NaN</td>\n",
       "      <td>NaN</td>\n",
       "      <td>NaN</td>\n",
       "      <td>NaN</td>\n",
       "      <td>NaN</td>\n",
       "      <td>NaN</td>\n",
       "      <td>NaN</td>\n",
       "      <td>NaN</td>\n",
       "      <td>NaN</td>\n",
       "    </tr>\n",
       "    <tr>\n",
       "      <th>1</th>\n",
       "      <td>51168</td>\n",
       "      <td>root</td>\n",
       "      <td>cellular organisms</td>\n",
       "      <td>Bacteria</td>\n",
       "      <td>PVC group</td>\n",
       "      <td>Verrucomicrobia</td>\n",
       "      <td>Verrucomicrobiae</td>\n",
       "      <td>Verrucomicrobiales</td>\n",
       "      <td>Verrucomicrobia subdivision 3</td>\n",
       "      <td>Pedosphaera</td>\n",
       "      <td>...</td>\n",
       "      <td>NaN</td>\n",
       "      <td>NaN</td>\n",
       "      <td>NaN</td>\n",
       "      <td>NaN</td>\n",
       "      <td>NaN</td>\n",
       "      <td>NaN</td>\n",
       "      <td>NaN</td>\n",
       "      <td>NaN</td>\n",
       "      <td>NaN</td>\n",
       "      <td>NaN</td>\n",
       "    </tr>\n",
       "    <tr>\n",
       "      <th>2</th>\n",
       "      <td>38786</td>\n",
       "      <td>root</td>\n",
       "      <td>cellular organisms</td>\n",
       "      <td>Bacteria</td>\n",
       "      <td>Acidobacteria</td>\n",
       "      <td>Acidobacteriia</td>\n",
       "      <td>Acidobacteriales</td>\n",
       "      <td>Acidobacteriaceae</td>\n",
       "      <td>unclassified Acidobacteriaceae</td>\n",
       "      <td>Acidobacteriaceae bacterium URHE0068</td>\n",
       "      <td>...</td>\n",
       "      <td>NaN</td>\n",
       "      <td>NaN</td>\n",
       "      <td>NaN</td>\n",
       "      <td>NaN</td>\n",
       "      <td>NaN</td>\n",
       "      <td>NaN</td>\n",
       "      <td>NaN</td>\n",
       "      <td>NaN</td>\n",
       "      <td>NaN</td>\n",
       "      <td>NaN</td>\n",
       "    </tr>\n",
       "  </tbody>\n",
       "</table>\n",
       "<p>3 rows × 22 columns</p>\n",
       "</div>"
      ],
      "text/plain": [
       "       a     b                   c         d              e                f  \\\n",
       "0  77315  root  cellular organisms  Bacteria  Acidobacteria     Solibacteres   \n",
       "1  51168  root  cellular organisms  Bacteria      PVC group  Verrucomicrobia   \n",
       "2  38786  root  cellular organisms  Bacteria  Acidobacteria   Acidobacteriia   \n",
       "\n",
       "                  g                   h                               i  \\\n",
       "0    Solibacterales     Solibacteraceae           Candidatus Solibacter   \n",
       "1  Verrucomicrobiae  Verrucomicrobiales   Verrucomicrobia subdivision 3   \n",
       "2  Acidobacteriales   Acidobacteriaceae  unclassified Acidobacteriaceae   \n",
       "\n",
       "                                      j  ...    m    n    o    p    q    r  \\\n",
       "0        Candidatus Solibacter usitatus  ...  NaN  NaN  NaN  NaN  NaN  NaN   \n",
       "1                           Pedosphaera  ...  NaN  NaN  NaN  NaN  NaN  NaN   \n",
       "2  Acidobacteriaceae bacterium URHE0068  ...  NaN  NaN  NaN  NaN  NaN  NaN   \n",
       "\n",
       "     s    t    u    v  \n",
       "0  NaN  NaN  NaN  NaN  \n",
       "1  NaN  NaN  NaN  NaN  \n",
       "2  NaN  NaN  NaN  NaN  \n",
       "\n",
       "[3 rows x 22 columns]"
      ]
     },
     "execution_count": 12,
     "metadata": {},
     "output_type": "execute_result"
    }
   ],
   "source": [
    "df.head(3)"
   ]
  },
  {
   "cell_type": "code",
   "execution_count": 13,
   "metadata": {},
   "outputs": [
    {
     "name": "stdout",
     "output_type": "stream",
     "text": [
      "[dtype('int64'), dtype('O'), dtype('O'), dtype('O'), dtype('O'), dtype('O'), dtype('O'), dtype('O'), dtype('O'), dtype('O'), dtype('O'), dtype('O'), dtype('O'), dtype('O'), dtype('O'), dtype('O'), dtype('O'), dtype('O'), dtype('O'), dtype('O'), dtype('O'), dtype('O')]\n"
     ]
    }
   ],
   "source": [
    "print(list(df.dtypes))"
   ]
  },
  {
   "cell_type": "code",
   "execution_count": null,
   "metadata": {
    "collapsed": true
   },
   "outputs": [],
   "source": []
  },
  {
   "cell_type": "code",
   "execution_count": null,
   "metadata": {
    "collapsed": true
   },
   "outputs": [],
   "source": []
  }
 ],
 "metadata": {
  "kernelspec": {
   "display_name": "Python 3",
   "language": "python",
   "name": "python3"
  },
  "language_info": {
   "codemirror_mode": {
    "name": "ipython",
    "version": 3
   },
   "file_extension": ".py",
   "mimetype": "text/x-python",
   "name": "python",
   "nbconvert_exporter": "python",
   "pygments_lexer": "ipython3",
   "version": "3.6.0"
  }
 },
 "nbformat": 4,
 "nbformat_minor": 2
}
